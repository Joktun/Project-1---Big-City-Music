{
 "cells": [
  {
   "cell_type": "markdown",
   "metadata": {},
   "source": [
    "# Рекомендация тарифов"
   ]
  },
  {
   "cell_type": "markdown",
   "metadata": {},
   "source": [
    "В вашем распоряжении данные о поведении клиентов, которые уже перешли на эти тарифы (из проекта курса «Статистический анализ данных»). Нужно построить модель для задачи классификации, которая выберет подходящий тариф. Предобработка данных не понадобится — вы её уже сделали.\n",
    "\n",
    "Постройте модель с максимально большим значением *accuracy*. Чтобы сдать проект успешно, нужно довести долю правильных ответов по крайней мере до 0.75. Проверьте *accuracy* на тестовой выборке самостоятельно."
   ]
  },
  {
   "cell_type": "markdown",
   "metadata": {},
   "source": [
    "## Откройте и изучите файл"
   ]
  },
  {
   "cell_type": "markdown",
   "metadata": {},
   "source": [
    "Добавляем нужные нам библиотеки."
   ]
  },
  {
   "cell_type": "code",
   "execution_count": 1,
   "metadata": {},
   "outputs": [],
   "source": [
    "import pandas as pd\n",
    "import numpy as np\n",
    "from sklearn.metrics import accuracy_score \n",
    "from sklearn.tree import DecisionTreeClassifier\n",
    "from sklearn.ensemble import RandomForestClassifier\n",
    "from sklearn.neighbors import KNeighborsClassifier\n",
    "from sklearn.model_selection import train_test_split\n",
    "from sklearn.metrics import mean_squared_error\n",
    "from warnings import simplefilter"
   ]
  },
  {
   "cell_type": "markdown",
   "metadata": {},
   "source": [
    "Загружаем датасет."
   ]
  },
  {
   "cell_type": "code",
   "execution_count": 2,
   "metadata": {},
   "outputs": [],
   "source": [
    "df = pd.read_csv('/datasets/users_behavior.csv')"
   ]
  },
  {
   "cell_type": "markdown",
   "metadata": {},
   "source": [
    "Получаем общую информацию о датасете. В задании сказано. что предобработка данных не понадобится, но на всякий случай проверим пропущенные значения."
   ]
  },
  {
   "cell_type": "code",
   "execution_count": 3,
   "metadata": {},
   "outputs": [
    {
     "name": "stdout",
     "output_type": "stream",
     "text": [
      "<class 'pandas.core.frame.DataFrame'>\n",
      "RangeIndex: 3214 entries, 0 to 3213\n",
      "Data columns (total 5 columns):\n",
      " #   Column    Non-Null Count  Dtype  \n",
      "---  ------    --------------  -----  \n",
      " 0   calls     3214 non-null   float64\n",
      " 1   minutes   3214 non-null   float64\n",
      " 2   messages  3214 non-null   float64\n",
      " 3   mb_used   3214 non-null   float64\n",
      " 4   is_ultra  3214 non-null   int64  \n",
      "dtypes: float64(4), int64(1)\n",
      "memory usage: 125.7 KB\n"
     ]
    }
   ],
   "source": [
    "df.info()"
   ]
  },
  {
   "cell_type": "markdown",
   "metadata": {},
   "source": [
    "Проверим на пропуски в данных"
   ]
  },
  {
   "cell_type": "code",
   "execution_count": 4,
   "metadata": {},
   "outputs": [
    {
     "data": {
      "text/plain": [
       "calls       0\n",
       "minutes     0\n",
       "messages    0\n",
       "mb_used     0\n",
       "is_ultra    0\n",
       "dtype: int64"
      ]
     },
     "execution_count": 4,
     "metadata": {},
     "output_type": "execute_result"
    }
   ],
   "source": [
    "df.isna().sum()"
   ]
  },
  {
   "cell_type": "markdown",
   "metadata": {},
   "source": [
    "Проверим на явные дубликаты"
   ]
  },
  {
   "cell_type": "code",
   "execution_count": 57,
   "metadata": {},
   "outputs": [
    {
     "data": {
      "text/plain": [
       "calls       0\n",
       "minutes     0\n",
       "messages    0\n",
       "mb_used     0\n",
       "is_ultra    0\n",
       "dtype: int64"
      ]
     },
     "execution_count": 57,
     "metadata": {},
     "output_type": "execute_result"
    }
   ],
   "source": [
    "duplicate_row = df[df.duplicated()].count()\n",
    "duplicate_row"
   ]
  },
  {
   "cell_type": "markdown",
   "metadata": {},
   "source": [
    "Посмотрим на то, как выглядят данные."
   ]
  },
  {
   "cell_type": "code",
   "execution_count": 5,
   "metadata": {},
   "outputs": [
    {
     "data": {
      "text/html": [
       "<div>\n",
       "<style scoped>\n",
       "    .dataframe tbody tr th:only-of-type {\n",
       "        vertical-align: middle;\n",
       "    }\n",
       "\n",
       "    .dataframe tbody tr th {\n",
       "        vertical-align: top;\n",
       "    }\n",
       "\n",
       "    .dataframe thead th {\n",
       "        text-align: right;\n",
       "    }\n",
       "</style>\n",
       "<table border=\"1\" class=\"dataframe\">\n",
       "  <thead>\n",
       "    <tr style=\"text-align: right;\">\n",
       "      <th></th>\n",
       "      <th>calls</th>\n",
       "      <th>minutes</th>\n",
       "      <th>messages</th>\n",
       "      <th>mb_used</th>\n",
       "      <th>is_ultra</th>\n",
       "    </tr>\n",
       "  </thead>\n",
       "  <tbody>\n",
       "    <tr>\n",
       "      <th>0</th>\n",
       "      <td>40.0</td>\n",
       "      <td>311.90</td>\n",
       "      <td>83.0</td>\n",
       "      <td>19915.42</td>\n",
       "      <td>0</td>\n",
       "    </tr>\n",
       "    <tr>\n",
       "      <th>1</th>\n",
       "      <td>85.0</td>\n",
       "      <td>516.75</td>\n",
       "      <td>56.0</td>\n",
       "      <td>22696.96</td>\n",
       "      <td>0</td>\n",
       "    </tr>\n",
       "    <tr>\n",
       "      <th>2</th>\n",
       "      <td>77.0</td>\n",
       "      <td>467.66</td>\n",
       "      <td>86.0</td>\n",
       "      <td>21060.45</td>\n",
       "      <td>0</td>\n",
       "    </tr>\n",
       "    <tr>\n",
       "      <th>3</th>\n",
       "      <td>106.0</td>\n",
       "      <td>745.53</td>\n",
       "      <td>81.0</td>\n",
       "      <td>8437.39</td>\n",
       "      <td>1</td>\n",
       "    </tr>\n",
       "    <tr>\n",
       "      <th>4</th>\n",
       "      <td>66.0</td>\n",
       "      <td>418.74</td>\n",
       "      <td>1.0</td>\n",
       "      <td>14502.75</td>\n",
       "      <td>0</td>\n",
       "    </tr>\n",
       "    <tr>\n",
       "      <th>5</th>\n",
       "      <td>58.0</td>\n",
       "      <td>344.56</td>\n",
       "      <td>21.0</td>\n",
       "      <td>15823.37</td>\n",
       "      <td>0</td>\n",
       "    </tr>\n",
       "    <tr>\n",
       "      <th>6</th>\n",
       "      <td>57.0</td>\n",
       "      <td>431.64</td>\n",
       "      <td>20.0</td>\n",
       "      <td>3738.90</td>\n",
       "      <td>1</td>\n",
       "    </tr>\n",
       "    <tr>\n",
       "      <th>7</th>\n",
       "      <td>15.0</td>\n",
       "      <td>132.40</td>\n",
       "      <td>6.0</td>\n",
       "      <td>21911.60</td>\n",
       "      <td>0</td>\n",
       "    </tr>\n",
       "    <tr>\n",
       "      <th>8</th>\n",
       "      <td>7.0</td>\n",
       "      <td>43.39</td>\n",
       "      <td>3.0</td>\n",
       "      <td>2538.67</td>\n",
       "      <td>1</td>\n",
       "    </tr>\n",
       "    <tr>\n",
       "      <th>9</th>\n",
       "      <td>90.0</td>\n",
       "      <td>665.41</td>\n",
       "      <td>38.0</td>\n",
       "      <td>17358.61</td>\n",
       "      <td>0</td>\n",
       "    </tr>\n",
       "  </tbody>\n",
       "</table>\n",
       "</div>"
      ],
      "text/plain": [
       "   calls  minutes  messages   mb_used  is_ultra\n",
       "0   40.0   311.90      83.0  19915.42         0\n",
       "1   85.0   516.75      56.0  22696.96         0\n",
       "2   77.0   467.66      86.0  21060.45         0\n",
       "3  106.0   745.53      81.0   8437.39         1\n",
       "4   66.0   418.74       1.0  14502.75         0\n",
       "5   58.0   344.56      21.0  15823.37         0\n",
       "6   57.0   431.64      20.0   3738.90         1\n",
       "7   15.0   132.40       6.0  21911.60         0\n",
       "8    7.0    43.39       3.0   2538.67         1\n",
       "9   90.0   665.41      38.0  17358.61         0"
      ]
     },
     "execution_count": 5,
     "metadata": {},
     "output_type": "execute_result"
    }
   ],
   "source": [
    "df.head(10)"
   ]
  },
  {
   "cell_type": "markdown",
   "metadata": {},
   "source": [
    "### Вывод по главе\n",
    "Данные не имеют пропусков, у всех данных - правильный тип данных. Явных дубликатов не обнаружено. Дополнительно никак улучшать качество данных не нужно - они и так сказка)"
   ]
  },
  {
   "cell_type": "markdown",
   "metadata": {},
   "source": [
    "## Разбейте данные на выборки"
   ]
  },
  {
   "cell_type": "markdown",
   "metadata": {},
   "source": [
    "Разбиваем данные на 3 выборки: обучающую, валидацию и тестовую. И проверяем сколько строк у нас в каждой."
   ]
  },
  {
   "cell_type": "code",
   "execution_count": 22,
   "metadata": {},
   "outputs": [
    {
     "name": "stdout",
     "output_type": "stream",
     "text": [
      "Кол-во строк в обучающей: 1928\n",
      "Кол-во строк в валидации: 643\n",
      "Кол-во строк в тестовой: 643\n"
     ]
    }
   ],
   "source": [
    "train, valid, test = np.split(df.sample(frac=1, random_state=12345), [int(.6*len(df)), int(.8*len(df))])\n",
    "print('Кол-во строк в обучающей:', train.shape[0])\n",
    "print('Кол-во строк в валидации:', valid.shape[0])\n",
    "print('Кол-во строк в тестовой:', test.shape[0])"
   ]
  },
  {
   "cell_type": "code",
   "execution_count": 23,
   "metadata": {},
   "outputs": [],
   "source": [
    "features_train = train.drop(['is_ultra'], axis=1)\n",
    "target_train = train['is_ultra']\n",
    "features_valid = valid.drop(['is_ultra'], axis=1)\n",
    "target_valid = valid['is_ultra']\n",
    "features_test = test.drop(['is_ultra'], axis=1)\n",
    "target_test = test['is_ultra']"
   ]
  },
  {
   "cell_type": "markdown",
   "metadata": {},
   "source": [
    "## Исследуем модель метода k-ближайших соседей, проверяем на тестовой выборке и на валидной выборке"
   ]
  },
  {
   "cell_type": "markdown",
   "metadata": {},
   "source": [
    "Написал эту строчку специально, чтобы не выскакивали FutureWarning."
   ]
  },
  {
   "cell_type": "code",
   "execution_count": 25,
   "metadata": {},
   "outputs": [],
   "source": [
    "simplefilter(action='ignore', category=FutureWarning)"
   ]
  },
  {
   "cell_type": "code",
   "execution_count": 29,
   "metadata": {},
   "outputs": [
    {
     "name": "stdout",
     "output_type": "stream",
     "text": [
      "accuracy наилучшей модели метода k-ближайших соседей на валидационной выборке: 0.7356143079315708 Кол-во соседей: 17\n"
     ]
    }
   ],
   "source": [
    "best_model = None\n",
    "best_acc = 0\n",
    "best_neighb = 0\n",
    "for neighb in range(1, 20):\n",
    "    model = KNeighborsClassifier(n_neighbors=neighb)\n",
    "    model.fit(features_train, target_train)\n",
    "    predictions_valid = model.predict(features_valid) \n",
    "    acc = accuracy_score(target_valid, predictions_valid)\n",
    "    if acc > best_acc:\n",
    "        best_model = model\n",
    "        best_neighb = neighb\n",
    "        best_acc = acc\n",
    "print('accuracy наилучшей модели метода k-ближайших соседей на валидационной выборке:', best_acc, \"Кол-во соседей:\", best_neighb)"
   ]
  },
  {
   "cell_type": "markdown",
   "metadata": {},
   "source": [
    "Теперь проверяем нашу лучшую модель на тестовой выборке"
   ]
  },
  {
   "cell_type": "code",
   "execution_count": 56,
   "metadata": {},
   "outputs": [
    {
     "name": "stdout",
     "output_type": "stream",
     "text": [
      "accuracy наилучшей модели метода k-ближайших соседей на тестовой выборке: 0.7542768273716952\n"
     ]
    }
   ],
   "source": [
    "model = KNeighborsClassifier(n_neighbors=17)\n",
    "model.fit(features_train, target_train)\n",
    "predictions_test = model.predict(features_test) \n",
    "print('accuracy наилучшей модели метода k-ближайших соседей на тестовой выборке:',accuracy_score(target_test, predictions_test))"
   ]
  },
  {
   "cell_type": "markdown",
   "metadata": {},
   "source": [
    "## Исследуем модель классификатора дерева решений, проверяем на тестовой выборке и на валидной выборке"
   ]
  },
  {
   "cell_type": "code",
   "execution_count": 31,
   "metadata": {},
   "outputs": [
    {
     "name": "stdout",
     "output_type": "stream",
     "text": [
      "accuracy наилучшей модели классификатора дерева решений на валидационной выборке: 0.7776049766718507 Глубина: 10\n"
     ]
    }
   ],
   "source": [
    "best_model = None\n",
    "best_acc = 0\n",
    "best_depth = 0\n",
    "for depth in range(1, 20):\n",
    "    model = DecisionTreeClassifier(random_state=12345,max_depth=depth)\n",
    "    model.fit(features_train, target_train)\n",
    "    predictions_valid = model.predict(features_valid) \n",
    "    acc = accuracy_score(target_valid, predictions_valid)\n",
    "    if acc > best_acc:\n",
    "        best_model = model\n",
    "        best_acc = acc\n",
    "        best_depth = depth\n",
    "print('accuracy наилучшей модели классификатора дерева решений на валидационной выборке:', best_acc, \"Глубина:\", best_depth)"
   ]
  },
  {
   "cell_type": "markdown",
   "metadata": {},
   "source": [
    "Теперь проверяем нашу лучшую модель на тестовой выборке"
   ]
  },
  {
   "cell_type": "code",
   "execution_count": 54,
   "metadata": {},
   "outputs": [
    {
     "name": "stdout",
     "output_type": "stream",
     "text": [
      "accuracy наилучшей модели классификатора дерева решений на тестовой выборке: 0.7947122861586314\n"
     ]
    }
   ],
   "source": [
    "model = DecisionTreeClassifier(random_state=12345,max_depth=10)\n",
    "model.fit(features_train, target_train)\n",
    "predictions_test = model.predict(features_test) \n",
    "print('accuracy наилучшей модели классификатора дерева решений на тестовой выборке:',accuracy_score(target_test, predictions_test))"
   ]
  },
  {
   "cell_type": "markdown",
   "metadata": {},
   "source": [
    "## Исследуем модель классификатора случайного леса, проверяем на тестовой выборке и на валидной выборке"
   ]
  },
  {
   "cell_type": "code",
   "execution_count": 39,
   "metadata": {
    "scrolled": true
   },
   "outputs": [
    {
     "name": "stdout",
     "output_type": "stream",
     "text": [
      "accuracy наилучшей модели классификатора случайного леса на тестовой выборке: 0.8040435458786936 Глубина: 17 Деревья: 70\n"
     ]
    }
   ],
   "source": [
    "best_model = None\n",
    "best_acc = 0\n",
    "best_depth = 0\n",
    "best_est = 0\n",
    "for est in range(10, 101, 10):\n",
    "    for depth in range (1, 20):\n",
    "        model = RandomForestClassifier(random_state=12345, n_estimators=est, max_depth=depth)\n",
    "        model.fit(features_train,target_train)\n",
    "        predictions_valid = model.predict(features_valid)\n",
    "        acc = accuracy_score(target_valid, predictions_valid)\n",
    "        if acc > best_acc:\n",
    "            best_model = model\n",
    "            best_acc = acc\n",
    "            best_est = est\n",
    "            best_depth = depth\n",
    "print('accuracy наилучшей модели классификатора случайного леса на тестовой выборке:', best_acc, \"Глубина:\", best_depth, 'Деревья:', best_est)"
   ]
  },
  {
   "cell_type": "markdown",
   "metadata": {},
   "source": [
    "Теперь проверяем нашу лучшую модель на тестовой выборке"
   ]
  },
  {
   "cell_type": "code",
   "execution_count": 55,
   "metadata": {},
   "outputs": [
    {
     "name": "stdout",
     "output_type": "stream",
     "text": [
      "accuracy наилучшей модели классификатора случайного леса на тестовой выборке: 0.80248833592535\n"
     ]
    }
   ],
   "source": [
    "model = RandomForestClassifier(random_state=12345, n_estimators=70, max_depth=17)\n",
    "model.fit(features_train, target_train)\n",
    "predictions_test = model.predict(features_test) \n",
    "print('accuracy наилучшей модели классификатора случайного леса на тестовой выборке:',accuracy_score(target_test, predictions_test))"
   ]
  },
  {
   "cell_type": "markdown",
   "metadata": {},
   "source": [
    "## Общий вывод"
   ]
  },
  {
   "cell_type": "markdown",
   "metadata": {},
   "source": [
    "Для того, чтобы решить какую модель мы будем использовать в конечном итоге, мы выполнили следующие шаги:\n",
    "* разделил данные на 3 выборки: обучающую, валидационную и тестовую\n",
    "* выбрал 3 модели: метод k-ближайших соседей, классификатора дерева решений, классификатора случайного леса\n",
    "* после обучения, валидации и тестовой выборки получил следующие результаты:\n",
    "* - accuracy наилучшей модели метода k-ближайших соседей на тестовой выборке: 0.7542768273716952\n",
    "* - accuracy наилучшей модели классификатора дерева решений на тестовой выборке: 0.7947122861586314\n",
    "* - accuracy наилучшей модели классификатора случайного леса на тестовой выборке: 0.80248833592535\n",
    "Из чего можно сделать вывод, что самой успешной моделью будет - модель классификатора случайного леса."
   ]
  },
  {
   "cell_type": "markdown",
   "metadata": {},
   "source": [
    "## Чек-лист готовности проекта"
   ]
  },
  {
   "cell_type": "markdown",
   "metadata": {},
   "source": [
    "Поставьте 'x' в выполненных пунктах. Далее нажмите Shift+Enter."
   ]
  },
  {
   "cell_type": "markdown",
   "metadata": {},
   "source": [
    "- [x] Jupyter Notebook открыт\n",
    "- [x] Весь код исполняется без ошибок\n",
    "- [x] Ячейки с кодом расположены в порядке исполнения\n",
    "- [x] Выполнено задание 1: данные загружены и изучены\n",
    "- [x] Выполнено задание 2: данные разбиты на три выборки\n",
    "- [x] Выполнено задание 3: проведено исследование моделей\n",
    "    - [x] Рассмотрено больше одной модели\n",
    "    - [x] Рассмотрено хотя бы 3 значения гипепараметров для какой-нибудь модели\n",
    "    - [x] Написаны выводы по результатам исследования\n",
    "- [x] Выполнено задание 3: Проведено тестирование\n",
    "- [x] Удалось достичь accuracy не меньше 0.75\n"
   ]
  }
 ],
 "metadata": {
  "ExecuteTimeLog": [
   {
    "duration": 53,
    "start_time": "2023-07-06T12:23:05.392Z"
   },
   {
    "duration": 1154,
    "start_time": "2023-07-06T12:23:10.500Z"
   },
   {
    "duration": 127,
    "start_time": "2023-07-06T12:23:11.656Z"
   },
   {
    "duration": 65,
    "start_time": "2023-07-06T12:23:11.785Z"
   },
   {
    "duration": 12,
    "start_time": "2023-07-06T12:23:18.807Z"
   },
   {
    "duration": 23,
    "start_time": "2023-07-06T12:25:19.012Z"
   },
   {
    "duration": 3,
    "start_time": "2023-07-06T12:25:27.756Z"
   },
   {
    "duration": 15,
    "start_time": "2023-07-06T12:25:31.796Z"
   },
   {
    "duration": 11,
    "start_time": "2023-07-06T12:25:36.259Z"
   },
   {
    "duration": 10,
    "start_time": "2023-07-06T12:39:38.150Z"
   },
   {
    "duration": 7,
    "start_time": "2023-07-06T12:41:38.685Z"
   },
   {
    "duration": 1299,
    "start_time": "2023-07-07T13:04:17.427Z"
   },
   {
    "duration": 139,
    "start_time": "2023-07-07T13:04:18.728Z"
   },
   {
    "duration": 14,
    "start_time": "2023-07-07T13:04:18.869Z"
   },
   {
    "duration": 90,
    "start_time": "2023-07-07T13:04:18.885Z"
   },
   {
    "duration": 71,
    "start_time": "2023-07-07T13:04:18.978Z"
   },
   {
    "duration": 108,
    "start_time": "2023-07-07T13:04:19.051Z"
   },
   {
    "duration": 92,
    "start_time": "2023-07-07T13:04:19.162Z"
   },
   {
    "duration": 0,
    "start_time": "2023-07-07T13:04:19.256Z"
   },
   {
    "duration": 0,
    "start_time": "2023-07-07T13:04:19.258Z"
   },
   {
    "duration": 0,
    "start_time": "2023-07-07T13:04:19.259Z"
   },
   {
    "duration": 5,
    "start_time": "2023-07-07T13:04:27.720Z"
   },
   {
    "duration": 63,
    "start_time": "2023-07-07T13:04:27.727Z"
   },
   {
    "duration": 147,
    "start_time": "2023-07-07T13:04:27.792Z"
   },
   {
    "duration": 187,
    "start_time": "2023-07-07T13:04:27.941Z"
   },
   {
    "duration": 165,
    "start_time": "2023-07-07T13:04:28.132Z"
   },
   {
    "duration": 144,
    "start_time": "2023-07-07T13:04:28.299Z"
   },
   {
    "duration": 23,
    "start_time": "2023-07-07T13:04:28.446Z"
   },
   {
    "duration": 28,
    "start_time": "2023-07-07T13:04:28.472Z"
   },
   {
    "duration": 119,
    "start_time": "2023-07-07T13:04:28.502Z"
   },
   {
    "duration": 20012,
    "start_time": "2023-07-07T13:04:28.624Z"
   },
   {
    "duration": 4,
    "start_time": "2023-07-07T13:27:47.385Z"
   },
   {
    "duration": 38,
    "start_time": "2023-07-07T13:27:47.392Z"
   },
   {
    "duration": 13,
    "start_time": "2023-07-07T13:27:47.431Z"
   },
   {
    "duration": 7,
    "start_time": "2023-07-07T13:27:47.447Z"
   },
   {
    "duration": 17,
    "start_time": "2023-07-07T13:27:47.456Z"
   },
   {
    "duration": 47,
    "start_time": "2023-07-07T13:27:47.475Z"
   },
   {
    "duration": 121,
    "start_time": "2023-07-07T13:27:47.524Z"
   },
   {
    "duration": 0,
    "start_time": "2023-07-07T13:27:47.646Z"
   },
   {
    "duration": 0,
    "start_time": "2023-07-07T13:27:47.648Z"
   },
   {
    "duration": 4,
    "start_time": "2023-07-07T13:27:58.294Z"
   },
   {
    "duration": 44,
    "start_time": "2023-07-07T13:27:58.301Z"
   },
   {
    "duration": 19,
    "start_time": "2023-07-07T13:27:58.347Z"
   },
   {
    "duration": 10,
    "start_time": "2023-07-07T13:27:58.368Z"
   },
   {
    "duration": 17,
    "start_time": "2023-07-07T13:27:58.381Z"
   },
   {
    "duration": 9,
    "start_time": "2023-07-07T13:27:58.399Z"
   },
   {
    "duration": 52,
    "start_time": "2023-07-07T13:27:58.411Z"
   },
   {
    "duration": 0,
    "start_time": "2023-07-07T13:27:58.465Z"
   },
   {
    "duration": 0,
    "start_time": "2023-07-07T13:27:58.468Z"
   },
   {
    "duration": 23,
    "start_time": "2023-07-07T13:28:49.061Z"
   },
   {
    "duration": 46,
    "start_time": "2023-07-07T13:28:56.688Z"
   },
   {
    "duration": 126,
    "start_time": "2023-07-07T13:29:29.861Z"
   },
   {
    "duration": 20151,
    "start_time": "2023-07-07T13:29:32.878Z"
   },
   {
    "duration": 15,
    "start_time": "2023-07-07T13:35:15.912Z"
   },
   {
    "duration": 3,
    "start_time": "2023-07-07T13:35:27.560Z"
   },
   {
    "duration": 91,
    "start_time": "2023-07-07T13:35:53.507Z"
   },
   {
    "duration": 16971,
    "start_time": "2023-07-07T13:35:59.498Z"
   },
   {
    "duration": 13,
    "start_time": "2023-07-07T13:39:19.401Z"
   },
   {
    "duration": 4,
    "start_time": "2023-07-07T13:39:22.867Z"
   },
   {
    "duration": 44,
    "start_time": "2023-07-07T13:39:22.873Z"
   },
   {
    "duration": 12,
    "start_time": "2023-07-07T13:39:22.919Z"
   },
   {
    "duration": 15,
    "start_time": "2023-07-07T13:39:22.933Z"
   },
   {
    "duration": 16,
    "start_time": "2023-07-07T13:39:22.950Z"
   },
   {
    "duration": 19,
    "start_time": "2023-07-07T13:39:22.968Z"
   },
   {
    "duration": 55,
    "start_time": "2023-07-07T13:39:22.989Z"
   },
   {
    "duration": 111,
    "start_time": "2023-07-07T13:39:23.047Z"
   },
   {
    "duration": 16693,
    "start_time": "2023-07-07T13:39:23.160Z"
   },
   {
    "duration": 16733,
    "start_time": "2023-07-07T13:41:17.287Z"
   },
   {
    "duration": 16934,
    "start_time": "2023-07-07T13:41:44.921Z"
   },
   {
    "duration": 4,
    "start_time": "2023-07-07T13:44:48.360Z"
   },
   {
    "duration": 55,
    "start_time": "2023-07-07T13:44:48.368Z"
   },
   {
    "duration": 13,
    "start_time": "2023-07-07T13:44:48.425Z"
   },
   {
    "duration": 48,
    "start_time": "2023-07-07T13:44:48.440Z"
   },
   {
    "duration": 26,
    "start_time": "2023-07-07T13:44:48.491Z"
   },
   {
    "duration": 37,
    "start_time": "2023-07-07T13:44:48.519Z"
   },
   {
    "duration": 77,
    "start_time": "2023-07-07T13:44:48.558Z"
   },
   {
    "duration": 100,
    "start_time": "2023-07-07T13:44:48.636Z"
   },
   {
    "duration": 16663,
    "start_time": "2023-07-07T13:44:48.738Z"
   },
   {
    "duration": 49,
    "start_time": "2023-07-07T13:47:02.624Z"
   },
   {
    "duration": 44,
    "start_time": "2023-07-07T13:47:07.333Z"
   },
   {
    "duration": 14,
    "start_time": "2023-07-07T13:49:04.068Z"
   },
   {
    "duration": 42,
    "start_time": "2023-07-07T13:49:17.807Z"
   },
   {
    "duration": 16,
    "start_time": "2023-07-07T13:51:18.354Z"
   },
   {
    "duration": 40,
    "start_time": "2023-07-07T13:51:22.066Z"
   },
   {
    "duration": 19,
    "start_time": "2023-07-07T13:51:45.840Z"
   },
   {
    "duration": 39,
    "start_time": "2023-07-07T13:51:50.565Z"
   },
   {
    "duration": 4,
    "start_time": "2023-07-07T13:58:23.615Z"
   },
   {
    "duration": 69,
    "start_time": "2023-07-07T13:58:23.622Z"
   },
   {
    "duration": 41,
    "start_time": "2023-07-07T13:58:23.694Z"
   },
   {
    "duration": 38,
    "start_time": "2023-07-07T13:58:23.738Z"
   },
   {
    "duration": 64,
    "start_time": "2023-07-07T13:58:23.779Z"
   },
   {
    "duration": 16,
    "start_time": "2023-07-07T13:58:23.846Z"
   },
   {
    "duration": 77,
    "start_time": "2023-07-07T13:58:23.865Z"
   },
   {
    "duration": 125,
    "start_time": "2023-07-07T13:58:23.944Z"
   },
   {
    "duration": 17382,
    "start_time": "2023-07-07T13:58:24.071Z"
   },
   {
    "duration": 316,
    "start_time": "2023-07-07T14:33:00.433Z"
   },
   {
    "duration": 19,
    "start_time": "2023-07-07T14:35:37.751Z"
   },
   {
    "duration": 287,
    "start_time": "2023-07-07T14:37:05.207Z"
   },
   {
    "duration": 305,
    "start_time": "2023-07-07T14:38:26.993Z"
   },
   {
    "duration": 312,
    "start_time": "2023-07-07T14:38:39.251Z"
   },
   {
    "duration": 293,
    "start_time": "2023-07-07T14:38:52.405Z"
   },
   {
    "duration": 352,
    "start_time": "2023-07-07T14:40:17.913Z"
   },
   {
    "duration": 386,
    "start_time": "2023-07-07T14:40:35.069Z"
   },
   {
    "duration": 3,
    "start_time": "2023-07-07T14:43:50.803Z"
   },
   {
    "duration": 38,
    "start_time": "2023-07-07T14:43:50.809Z"
   },
   {
    "duration": 15,
    "start_time": "2023-07-07T14:43:50.850Z"
   },
   {
    "duration": 26,
    "start_time": "2023-07-07T14:43:50.867Z"
   },
   {
    "duration": 39,
    "start_time": "2023-07-07T14:43:50.895Z"
   },
   {
    "duration": 31,
    "start_time": "2023-07-07T14:43:50.937Z"
   },
   {
    "duration": 40,
    "start_time": "2023-07-07T14:43:50.970Z"
   },
   {
    "duration": 259,
    "start_time": "2023-07-07T14:43:51.012Z"
   },
   {
    "duration": 106,
    "start_time": "2023-07-07T14:43:51.274Z"
   },
   {
    "duration": 18372,
    "start_time": "2023-07-07T14:43:51.382Z"
   },
   {
    "duration": 243,
    "start_time": "2023-07-07T14:45:52.415Z"
   },
   {
    "duration": 2714,
    "start_time": "2023-07-07T15:04:17.081Z"
   },
   {
    "duration": 163,
    "start_time": "2023-07-07T15:04:19.797Z"
   },
   {
    "duration": 13,
    "start_time": "2023-07-07T15:04:19.962Z"
   },
   {
    "duration": 21,
    "start_time": "2023-07-07T15:04:19.976Z"
   },
   {
    "duration": 60,
    "start_time": "2023-07-07T15:04:19.998Z"
   },
   {
    "duration": 21,
    "start_time": "2023-07-07T15:04:20.059Z"
   },
   {
    "duration": 63,
    "start_time": "2023-07-07T15:04:20.081Z"
   },
   {
    "duration": 231,
    "start_time": "2023-07-07T15:04:20.146Z"
   },
   {
    "duration": 85,
    "start_time": "2023-07-07T15:04:20.379Z"
   },
   {
    "duration": 15384,
    "start_time": "2023-07-07T15:04:20.466Z"
   },
   {
    "duration": 6,
    "start_time": "2023-07-07T15:43:42.153Z"
   },
   {
    "duration": 349,
    "start_time": "2023-07-07T15:43:49.350Z"
   },
   {
    "duration": 361,
    "start_time": "2023-07-07T15:44:36.736Z"
   },
   {
    "duration": 55,
    "start_time": "2023-07-07T15:45:27.499Z"
   },
   {
    "duration": 32,
    "start_time": "2023-07-07T15:45:31.454Z"
   },
   {
    "duration": 61,
    "start_time": "2023-07-07T15:45:36.224Z"
   },
   {
    "duration": 369,
    "start_time": "2023-07-07T15:46:00.896Z"
   },
   {
    "duration": 87,
    "start_time": "2023-07-07T20:02:14.054Z"
   },
   {
    "duration": 2175,
    "start_time": "2023-07-07T20:02:17.686Z"
   },
   {
    "duration": 135,
    "start_time": "2023-07-07T20:02:19.864Z"
   },
   {
    "duration": 18,
    "start_time": "2023-07-07T20:02:20.001Z"
   },
   {
    "duration": 38,
    "start_time": "2023-07-07T20:02:20.024Z"
   },
   {
    "duration": 28,
    "start_time": "2023-07-07T20:02:20.067Z"
   },
   {
    "duration": 36,
    "start_time": "2023-07-07T20:02:20.098Z"
   },
   {
    "duration": 16,
    "start_time": "2023-07-07T20:02:20.138Z"
   },
   {
    "duration": 396,
    "start_time": "2023-07-07T20:02:20.157Z"
   },
   {
    "duration": 128,
    "start_time": "2023-07-07T20:02:20.556Z"
   },
   {
    "duration": 0,
    "start_time": "2023-07-07T20:02:20.686Z"
   },
   {
    "duration": 160,
    "start_time": "2023-07-07T20:03:02.748Z"
   },
   {
    "duration": 21559,
    "start_time": "2023-07-07T20:03:52.845Z"
   },
   {
    "duration": 119,
    "start_time": "2023-07-07T20:05:01.459Z"
   },
   {
    "duration": 22036,
    "start_time": "2023-07-07T20:05:03.991Z"
   },
   {
    "duration": 1106,
    "start_time": "2023-07-07T23:36:56.318Z"
   },
   {
    "duration": 119,
    "start_time": "2023-07-07T23:36:57.426Z"
   },
   {
    "duration": 12,
    "start_time": "2023-07-07T23:36:57.547Z"
   },
   {
    "duration": 21,
    "start_time": "2023-07-07T23:36:57.561Z"
   },
   {
    "duration": 24,
    "start_time": "2023-07-07T23:36:57.584Z"
   },
   {
    "duration": 7,
    "start_time": "2023-07-07T23:37:00.966Z"
   },
   {
    "duration": 16,
    "start_time": "2023-07-07T23:37:05.792Z"
   },
   {
    "duration": 14,
    "start_time": "2023-07-07T23:37:13.690Z"
   },
   {
    "duration": 17,
    "start_time": "2023-07-07T23:37:17.815Z"
   },
   {
    "duration": 112,
    "start_time": "2023-07-07T23:37:27.702Z"
   },
   {
    "duration": 16,
    "start_time": "2023-07-07T23:37:30.552Z"
   },
   {
    "duration": 14,
    "start_time": "2023-07-07T23:37:52.528Z"
   },
   {
    "duration": 10,
    "start_time": "2023-07-07T23:38:03.687Z"
   },
   {
    "duration": 7,
    "start_time": "2023-07-07T23:38:18.249Z"
   },
   {
    "duration": 7,
    "start_time": "2023-07-07T23:40:24.288Z"
   },
   {
    "duration": 18,
    "start_time": "2023-07-07T23:42:32.223Z"
   },
   {
    "duration": 8,
    "start_time": "2023-07-07T23:42:40.557Z"
   },
   {
    "duration": 4,
    "start_time": "2023-07-07T23:46:31.328Z"
   },
   {
    "duration": 4,
    "start_time": "2023-07-07T23:46:36.181Z"
   },
   {
    "duration": 16,
    "start_time": "2023-07-07T23:46:44.612Z"
   },
   {
    "duration": 5,
    "start_time": "2023-07-07T23:53:37.281Z"
   },
   {
    "duration": 9,
    "start_time": "2023-07-07T23:54:27.530Z"
   },
   {
    "duration": 6,
    "start_time": "2023-07-07T23:54:29.586Z"
   },
   {
    "duration": 183,
    "start_time": "2023-07-07T23:54:48.417Z"
   },
   {
    "duration": 3,
    "start_time": "2023-07-07T23:55:08.954Z"
   },
   {
    "duration": 165,
    "start_time": "2023-07-07T23:55:10.614Z"
   },
   {
    "duration": 319,
    "start_time": "2023-07-07T23:55:22.548Z"
   },
   {
    "duration": 847,
    "start_time": "2023-07-07T23:55:27.605Z"
   },
   {
    "duration": 312,
    "start_time": "2023-07-07T23:55:33.560Z"
   },
   {
    "duration": 63,
    "start_time": "2023-07-07T23:56:12.222Z"
   },
   {
    "duration": 142,
    "start_time": "2023-07-07T23:56:20.153Z"
   },
   {
    "duration": 29324,
    "start_time": "2023-07-07T23:56:35.195Z"
   },
   {
    "duration": 22,
    "start_time": "2023-07-08T00:03:45.057Z"
   },
   {
    "duration": 21,
    "start_time": "2023-07-08T00:13:08.808Z"
   },
   {
    "duration": 76,
    "start_time": "2023-07-08T00:13:44.180Z"
   },
   {
    "duration": 20,
    "start_time": "2023-07-08T00:13:55.136Z"
   },
   {
    "duration": 9,
    "start_time": "2023-07-08T00:14:45.122Z"
   },
   {
    "duration": 8,
    "start_time": "2023-07-08T00:15:08.856Z"
   },
   {
    "duration": 29450,
    "start_time": "2023-07-08T00:16:30.624Z"
   },
   {
    "duration": 157,
    "start_time": "2023-07-08T00:17:15.489Z"
   },
   {
    "duration": 295,
    "start_time": "2023-07-08T00:18:35.508Z"
   },
   {
    "duration": 140,
    "start_time": "2023-07-08T00:20:08.169Z"
   },
   {
    "duration": 9,
    "start_time": "2023-07-08T00:21:22.997Z"
   },
   {
    "duration": 21,
    "start_time": "2023-07-08T00:21:30.295Z"
   },
   {
    "duration": 12,
    "start_time": "2023-07-08T00:22:01.787Z"
   },
   {
    "duration": 21,
    "start_time": "2023-07-08T00:22:08.604Z"
   },
   {
    "duration": 9,
    "start_time": "2023-07-08T00:22:21.916Z"
   },
   {
    "duration": 9,
    "start_time": "2023-07-08T00:22:33.285Z"
   },
   {
    "duration": 23,
    "start_time": "2023-07-08T00:25:01.964Z"
   },
   {
    "duration": 65,
    "start_time": "2023-07-08T00:25:14.448Z"
   },
   {
    "duration": 29,
    "start_time": "2023-07-08T00:25:20.983Z"
   },
   {
    "duration": 254,
    "start_time": "2023-07-08T00:27:16.435Z"
   },
   {
    "duration": 22,
    "start_time": "2023-07-08T00:27:20.665Z"
   },
   {
    "duration": 13,
    "start_time": "2023-07-08T00:27:57.209Z"
   },
   {
    "duration": 244,
    "start_time": "2023-07-08T00:28:06.845Z"
   },
   {
    "duration": 22,
    "start_time": "2023-07-08T00:28:22.263Z"
   },
   {
    "duration": 7,
    "start_time": "2023-07-08T00:36:26.619Z"
   }
  ],
  "kernelspec": {
   "display_name": "Python 3 (ipykernel)",
   "language": "python",
   "name": "python3"
  },
  "language_info": {
   "codemirror_mode": {
    "name": "ipython",
    "version": 3
   },
   "file_extension": ".py",
   "mimetype": "text/x-python",
   "name": "python",
   "nbconvert_exporter": "python",
   "pygments_lexer": "ipython3",
   "version": "3.9.5"
  },
  "toc": {
   "base_numbering": 1,
   "nav_menu": {},
   "number_sections": true,
   "sideBar": true,
   "skip_h1_title": true,
   "title_cell": "Table of Contents",
   "title_sidebar": "Contents",
   "toc_cell": false,
   "toc_position": {
    "height": "calc(100% - 180px)",
    "left": "10px",
    "top": "150px",
    "width": "376.076px"
   },
   "toc_section_display": true,
   "toc_window_display": true
  }
 },
 "nbformat": 4,
 "nbformat_minor": 2
}
