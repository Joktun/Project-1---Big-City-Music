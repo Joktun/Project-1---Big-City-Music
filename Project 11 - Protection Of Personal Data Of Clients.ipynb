{
 "cells": [
  {
   "cell_type": "markdown",
   "metadata": {
    "toc": true
   },
   "source": [
    "<h1>Содержание<span class=\"tocSkip\"></span></h1>\n",
    "<div class=\"toc\"><ul class=\"toc-item\"><li><span><a href=\"#Загрузка-данных\" data-toc-modified-id=\"Загрузка-данных-1\"><span class=\"toc-item-num\">1&nbsp;&nbsp;</span>Загрузка данных</a></span><ul class=\"toc-item\"><li><span><a href=\"#Вывод-по-главе\" data-toc-modified-id=\"Вывод-по-главе-1.1\"><span class=\"toc-item-num\">1.1&nbsp;&nbsp;</span>Вывод по главе</a></span></li></ul></li><li><span><a href=\"#Умножение-матриц\" data-toc-modified-id=\"Умножение-матриц-2\"><span class=\"toc-item-num\">2&nbsp;&nbsp;</span>Умножение матриц</a></span><ul class=\"toc-item\"><li><span><a href=\"#Вывод-по-главе\" data-toc-modified-id=\"Вывод-по-главе-2.1\"><span class=\"toc-item-num\">2.1&nbsp;&nbsp;</span>Вывод по главе</a></span></li></ul></li><li><span><a href=\"#Алгоритм-преобразования\" data-toc-modified-id=\"Алгоритм-преобразования-3\"><span class=\"toc-item-num\">3&nbsp;&nbsp;</span>Алгоритм преобразования</a></span></li><li><span><a href=\"#Проверка-алгоритма\" data-toc-modified-id=\"Проверка-алгоритма-4\"><span class=\"toc-item-num\">4&nbsp;&nbsp;</span>Проверка алгоритма</a></span></li><li><span><a href=\"#Общий-вывод\" data-toc-modified-id=\"Общий-вывод-5\"><span class=\"toc-item-num\">5&nbsp;&nbsp;</span>Общий вывод</a></span></li><li><span><a href=\"#Чек-лист-проекта\" data-toc-modified-id=\"Чек-лист-проекта-6\"><span class=\"toc-item-num\">6&nbsp;&nbsp;</span>Чек-лист проекта</a></span></li></ul></div>"
   ]
  },
  {
   "cell_type": "markdown",
   "metadata": {},
   "source": [
    "# Защита персональных данных клиентов"
   ]
  },
  {
   "cell_type": "markdown",
   "metadata": {},
   "source": [
    "Вам нужно защитить данные клиентов страховой компании «Хоть потоп». Разработайте такой метод преобразования данных, чтобы по ним было сложно восстановить персональную информацию. Обоснуйте корректность его работы.\n",
    "\n",
    "Нужно защитить данные, чтобы при преобразовании качество моделей машинного обучения не ухудшилось. Подбирать наилучшую модель не требуется."
   ]
  },
  {
   "cell_type": "markdown",
   "metadata": {},
   "source": [
    "## Загрузка данных"
   ]
  },
  {
   "cell_type": "code",
   "execution_count": 1,
   "metadata": {},
   "outputs": [],
   "source": [
    "import os\n",
    "import pandas as pd\n",
    "import numpy as np\n",
    "from sklearn.model_selection import train_test_split\n",
    "from sklearn.metrics import mean_squared_error\n",
    "from sklearn.metrics import accuracy_score\n",
    "from sklearn.linear_model import LinearRegression\n",
    "from sklearn.metrics import r2_score\n",
    "RND_ST = 12345"
   ]
  },
  {
   "cell_type": "code",
   "execution_count": 2,
   "metadata": {},
   "outputs": [],
   "source": [
    "pth = '/datasets/insurance.csv'\n",
    "if os.path.exists(pth):\n",
    "    df = pd.read_csv(pth)\n",
    "else:\n",
    "    print('Путь не таков')"
   ]
  },
  {
   "cell_type": "markdown",
   "metadata": {},
   "source": [
    "Создаем функцию для получения общих сведений о датасете"
   ]
  },
  {
   "cell_type": "code",
   "execution_count": 3,
   "metadata": {},
   "outputs": [],
   "source": [
    "def info_func(df):\n",
    "    print('Общая информация')\n",
    "    print('')\n",
    "    print(df.info())\n",
    "    print('')\n",
    "    print(df.describe())\n",
    "    print('')\n",
    "    for column in df.columns:\n",
    "        print('Уникальные значения столбца', column)\n",
    "        print('')\n",
    "        print(df[column].unique())\n",
    "        print('')     \n",
    "    print('Кол-во строк дубликатов')\n",
    "    print('')\n",
    "    print(df[df.duplicated()].count().sort_values(ascending=False))\n",
    "    print('')\n",
    "    print('Кол-во пропущенных значений')\n",
    "    print('')\n",
    "    print(df.isna().sum().sort_values(ascending=False))\n",
    "    print('')\n",
    "    print('Процент пропущенных значений')\n",
    "    print('')\n",
    "    print((df.isna().sum()/len(df)*100).sort_values(ascending=False))"
   ]
  },
  {
   "cell_type": "code",
   "execution_count": 4,
   "metadata": {},
   "outputs": [
    {
     "name": "stdout",
     "output_type": "stream",
     "text": [
      "Общая информация\n",
      "\n",
      "<class 'pandas.core.frame.DataFrame'>\n",
      "RangeIndex: 5000 entries, 0 to 4999\n",
      "Data columns (total 5 columns):\n",
      " #   Column             Non-Null Count  Dtype  \n",
      "---  ------             --------------  -----  \n",
      " 0   Пол                5000 non-null   int64  \n",
      " 1   Возраст            5000 non-null   float64\n",
      " 2   Зарплата           5000 non-null   float64\n",
      " 3   Члены семьи        5000 non-null   int64  \n",
      " 4   Страховые выплаты  5000 non-null   int64  \n",
      "dtypes: float64(2), int64(3)\n",
      "memory usage: 195.4 KB\n",
      "None\n",
      "\n",
      "               Пол      Возраст      Зарплата  Члены семьи  Страховые выплаты\n",
      "count  5000.000000  5000.000000   5000.000000  5000.000000        5000.000000\n",
      "mean      0.499000    30.952800  39916.360000     1.194200           0.148000\n",
      "std       0.500049     8.440807   9900.083569     1.091387           0.463183\n",
      "min       0.000000    18.000000   5300.000000     0.000000           0.000000\n",
      "25%       0.000000    24.000000  33300.000000     0.000000           0.000000\n",
      "50%       0.000000    30.000000  40200.000000     1.000000           0.000000\n",
      "75%       1.000000    37.000000  46600.000000     2.000000           0.000000\n",
      "max       1.000000    65.000000  79000.000000     6.000000           5.000000\n",
      "\n",
      "Уникальные значения столбца Пол\n",
      "\n",
      "[1 0]\n",
      "\n",
      "Уникальные значения столбца Возраст\n",
      "\n",
      "[41. 46. 29. 21. 28. 43. 39. 25. 36. 32. 38. 23. 40. 34. 26. 42. 27. 33.\n",
      " 47. 30. 19. 31. 22. 20. 24. 18. 37. 48. 45. 44. 52. 49. 35. 56. 65. 55.\n",
      " 57. 54. 50. 53. 51. 58. 59. 60. 61. 62.]\n",
      "\n",
      "Уникальные значения столбца Зарплата\n",
      "\n",
      "[49600. 38000. 21000. 41700. 26100. 41000. 39700. 38600. 49700. 51700.\n",
      " 36600. 29300. 39500. 55000. 43700. 23300. 48900. 33200. 36900. 43500.\n",
      " 36100. 26600. 48700. 40400. 38400. 34600. 34800. 36800. 42200. 46300.\n",
      " 30300. 51000. 28100. 64800. 30400. 45300. 38300. 49500. 19400. 40200.\n",
      " 31700. 69200. 33100. 31600. 34500. 38700. 39600. 42400. 34900. 30500.\n",
      " 24200. 49900. 14300. 47000. 44800. 43800. 42700. 35400. 57200. 29600.\n",
      " 37400. 48100. 33700. 61800. 39400. 15600. 52600. 37600. 52500. 32700.\n",
      " 51600. 60900. 41800. 47400. 26500. 45900. 35700. 34300. 26700. 25700.\n",
      " 33300. 31100. 31500. 42100. 37300. 42500. 27300. 46800. 33500. 44300.\n",
      " 41600. 53900. 40100. 44600. 45000. 32000. 38200. 33000. 38500. 51800.\n",
      " 33800. 46400. 43200. 31800. 50200. 35100. 30700. 45800. 49300. 42800.\n",
      " 33600. 50300. 34000. 36400. 44900. 43600. 54600. 52800. 29700. 39000.\n",
      " 44100. 31900. 37700. 35200. 43100. 51300. 47500. 40800. 26800. 64900.\n",
      " 35900. 31200. 39900. 43300. 33900. 40700. 44700. 53400. 30600. 56000.\n",
      " 35600. 55200. 40600. 48300. 50800. 41200. 44200. 44400. 40500. 39800.\n",
      " 16600. 48400. 25100. 23100. 32100. 31000. 42900. 46700. 26000. 55900.\n",
      " 52000. 41500. 49400. 60300. 45600. 49000. 37500. 21900. 45100. 47900.\n",
      " 54300. 32400. 41300. 44500. 23200. 37900. 48000. 52100. 45700. 29900.\n",
      " 42600. 45200. 36000. 46500. 23800. 30200. 24400. 32800. 29000. 43400.\n",
      " 51500. 61700. 45400. 50700. 36200. 41900. 27900. 47200. 48800. 55100.\n",
      " 48200. 35500. 35000. 43900. 40000. 22000. 40300. 36300. 49800. 25600.\n",
      " 42300. 54900. 25500. 32900. 36700. 38900. 24700. 28800. 22900. 47300.\n",
      " 14500. 28700. 44000. 34100. 53000. 59300. 28500. 47100. 41400. 58900.\n",
      " 17500. 54200. 43000. 29800. 20000. 13800. 27500. 67700. 28000. 37100.\n",
      "  8900. 14600. 56200. 38800. 27700. 50500. 58400. 34700. 34400. 49100.\n",
      " 50900. 28200. 61500. 32500. 25900.  9800. 28300. 41100. 62000. 32600.\n",
      " 37200. 53800. 24000. 53600. 54800. 59600. 20200. 21700. 29200. 38100.\n",
      " 20700. 32300. 21200. 62100. 54000. 24500. 51900. 47800. 56100. 55300.\n",
      " 58100. 28900. 39100. 58000. 27200. 24600. 30100. 57100. 60100. 22200.\n",
      " 47700. 24900. 37800. 52700. 34200. 18700. 42000. 26300. 22600. 30900.\n",
      " 35800. 30800. 51100. 53300. 46200. 24100. 54700. 51200. 62300. 51400.\n",
      " 40900. 23400. 35300. 55800. 33400. 21300. 30000. 56700. 46900.  5300.\n",
      " 39200. 57500. 31300. 53700. 21600. 50000. 36500. 16400. 15900. 65100.\n",
      " 59900. 63200. 26200. 61200. 48500. 32200. 29100. 50100. 22700. 28600.\n",
      " 23500. 23700. 19600. 17800. 50600. 57900. 22500. 22100. 58300. 64100.\n",
      " 25000. 60400. 59100. 37000. 62400. 29500. 25800. 25400. 26900. 21500.\n",
      " 52200. 46600. 57300. 46100. 19300. 18900. 31400. 28400. 29400. 17600.\n",
      " 13900. 52400. 11300. 46000. 60500. 58700. 58200. 24800. 63700. 60600.\n",
      " 20400. 26400. 55600. 57000. 45500. 48600. 57600. 52900. 62800. 17000.\n",
      " 56500. 52300. 18400. 63300. 12900. 27000. 55700. 39300. 27800. 18300.\n",
      " 56300. 59800. 24300. 14400. 13400. 17900. 47600. 54500. 54400. 23900.\n",
      " 13000. 19900. 55400. 22800. 61000. 57400. 23000. 20500. 53200. 18100.\n",
      " 25300. 59500. 18200. 50400. 21100. 20900. 27400. 17300. 60700. 70600.\n",
      " 17700. 19700. 49200. 63100. 59200. 14700. 53100. 21800. 68000. 16500.\n",
      " 71400. 10000. 55500. 54100. 56400. 20600. 66300. 18800. 11000. 66100.\n",
      " 27100. 57800. 53500. 19200. 58500. 64000. 63600. 23600. 25200. 19100.\n",
      " 18600. 57700. 62700. 56600. 21400. 58800. 68400. 17100. 13300. 68500.\n",
      " 56900. 64400. 27600. 67200. 16200. 58600. 62200. 16000. 79000. 22300.\n",
      " 11200. 71600. 61300. 70500. 67100. 59000. 13500. 16700. 15700. 60000.\n",
      " 17400. 63400. 61900. 65200. 62600. 14100. 20100. 63800. 15100. 70000.\n",
      " 60200. 20300. 65900. 15200. 63500. 13200. 68900. 12200.  6000. 74800.\n",
      " 59700. 10800. 19000. 10600. 69400. 15000. 75200. 62500. 16300. 20800.\n",
      "  7400. 65300. 61400. 56800.]\n",
      "\n",
      "Уникальные значения столбца Члены семьи\n",
      "\n",
      "[1 0 2 4 3 5 6]\n",
      "\n",
      "Уникальные значения столбца Страховые выплаты\n",
      "\n",
      "[0 1 2 3 5 4]\n",
      "\n",
      "Кол-во строк дубликатов\n",
      "\n",
      "Пол                  153\n",
      "Возраст              153\n",
      "Зарплата             153\n",
      "Члены семьи          153\n",
      "Страховые выплаты    153\n",
      "dtype: int64\n",
      "\n",
      "Кол-во пропущенных значений\n",
      "\n",
      "Пол                  0\n",
      "Возраст              0\n",
      "Зарплата             0\n",
      "Члены семьи          0\n",
      "Страховые выплаты    0\n",
      "dtype: int64\n",
      "\n",
      "Процент пропущенных значений\n",
      "\n",
      "Пол                  0.0\n",
      "Возраст              0.0\n",
      "Зарплата             0.0\n",
      "Члены семьи          0.0\n",
      "Страховые выплаты    0.0\n",
      "dtype: float64\n"
     ]
    }
   ],
   "source": [
    "info_func(df)"
   ]
  },
  {
   "cell_type": "markdown",
   "metadata": {},
   "source": [
    "Убираем дубликаты и приводим типы данных к нужному"
   ]
  },
  {
   "cell_type": "code",
   "execution_count": 5,
   "metadata": {},
   "outputs": [],
   "source": [
    "df = df.drop_duplicates()"
   ]
  },
  {
   "cell_type": "code",
   "execution_count": 6,
   "metadata": {},
   "outputs": [],
   "source": [
    "for column in df.columns:\n",
    "    df[column] = pd.to_numeric(df[column], downcast='integer')   "
   ]
  },
  {
   "cell_type": "markdown",
   "metadata": {},
   "source": [
    "Смотри на результат изменений"
   ]
  },
  {
   "cell_type": "code",
   "execution_count": 7,
   "metadata": {},
   "outputs": [
    {
     "name": "stdout",
     "output_type": "stream",
     "text": [
      "Общая информация\n",
      "\n",
      "<class 'pandas.core.frame.DataFrame'>\n",
      "Int64Index: 4847 entries, 0 to 4999\n",
      "Data columns (total 5 columns):\n",
      " #   Column             Non-Null Count  Dtype  \n",
      "---  ------             --------------  -----  \n",
      " 0   Пол                4847 non-null   int8   \n",
      " 1   Возраст            4847 non-null   int8   \n",
      " 2   Зарплата           4847 non-null   float64\n",
      " 3   Члены семьи        4847 non-null   int8   \n",
      " 4   Страховые выплаты  4847 non-null   int8   \n",
      "dtypes: float64(1), int8(4)\n",
      "memory usage: 94.7 KB\n",
      "None\n",
      "\n",
      "               Пол      Возраст      Зарплата  Члены семьи  Страховые выплаты\n",
      "count  4847.000000  4847.000000   4847.000000  4847.000000        4847.000000\n",
      "mean      0.498453    31.023932  39895.811842     1.203425           0.152259\n",
      "std       0.500049     8.487995   9972.953985     1.098664           0.468934\n",
      "min       0.000000    18.000000   5300.000000     0.000000           0.000000\n",
      "25%       0.000000    24.000000  33200.000000     0.000000           0.000000\n",
      "50%       0.000000    30.000000  40200.000000     1.000000           0.000000\n",
      "75%       1.000000    37.000000  46600.000000     2.000000           0.000000\n",
      "max       1.000000    65.000000  79000.000000     6.000000           5.000000\n",
      "\n",
      "Уникальные значения столбца Пол\n",
      "\n",
      "[1 0]\n",
      "\n",
      "Уникальные значения столбца Возраст\n",
      "\n",
      "[41 46 29 21 28 43 39 25 36 32 38 23 40 34 26 42 27 33 47 30 19 31 22 20\n",
      " 24 18 37 48 45 44 52 49 35 56 65 55 57 54 50 53 51 58 59 60 61 62]\n",
      "\n",
      "Уникальные значения столбца Зарплата\n",
      "\n",
      "[49600. 38000. 21000. 41700. 26100. 41000. 39700. 38600. 49700. 51700.\n",
      " 36600. 29300. 39500. 55000. 43700. 23300. 48900. 33200. 36900. 43500.\n",
      " 36100. 26600. 48700. 40400. 38400. 34600. 34800. 36800. 42200. 46300.\n",
      " 30300. 51000. 28100. 64800. 30400. 45300. 38300. 49500. 19400. 40200.\n",
      " 31700. 69200. 33100. 31600. 34500. 38700. 39600. 42400. 34900. 30500.\n",
      " 24200. 49900. 14300. 47000. 44800. 43800. 42700. 35400. 57200. 29600.\n",
      " 37400. 48100. 33700. 61800. 39400. 15600. 52600. 37600. 52500. 32700.\n",
      " 51600. 60900. 41800. 47400. 26500. 45900. 35700. 34300. 26700. 25700.\n",
      " 33300. 31100. 31500. 42100. 37300. 42500. 27300. 46800. 33500. 44300.\n",
      " 41600. 53900. 40100. 44600. 45000. 32000. 38200. 33000. 38500. 51800.\n",
      " 33800. 46400. 43200. 31800. 50200. 35100. 30700. 45800. 49300. 42800.\n",
      " 33600. 50300. 34000. 36400. 44900. 43600. 54600. 52800. 29700. 39000.\n",
      " 44100. 31900. 37700. 35200. 43100. 51300. 47500. 40800. 26800. 64900.\n",
      " 35900. 31200. 39900. 43300. 33900. 40700. 44700. 53400. 30600. 56000.\n",
      " 35600. 55200. 40600. 48300. 50800. 41200. 44200. 44400. 40500. 39800.\n",
      " 16600. 48400. 25100. 23100. 32100. 31000. 42900. 46700. 26000. 55900.\n",
      " 52000. 41500. 49400. 60300. 45600. 49000. 37500. 21900. 45100. 47900.\n",
      " 54300. 32400. 41300. 44500. 23200. 37900. 48000. 52100. 45700. 29900.\n",
      " 42600. 45200. 36000. 46500. 23800. 30200. 24400. 32800. 29000. 43400.\n",
      " 51500. 61700. 45400. 50700. 36200. 41900. 27900. 47200. 48800. 55100.\n",
      " 48200. 35500. 35000. 43900. 40000. 22000. 40300. 36300. 49800. 25600.\n",
      " 42300. 54900. 25500. 32900. 36700. 38900. 24700. 28800. 22900. 47300.\n",
      " 14500. 28700. 44000. 34100. 53000. 59300. 28500. 47100. 41400. 58900.\n",
      " 17500. 54200. 43000. 29800. 20000. 13800. 27500. 67700. 28000. 37100.\n",
      "  8900. 14600. 56200. 38800. 27700. 50500. 58400. 34700. 34400. 49100.\n",
      " 50900. 28200. 61500. 32500. 25900.  9800. 28300. 41100. 62000. 32600.\n",
      " 37200. 53800. 24000. 53600. 54800. 59600. 20200. 21700. 29200. 38100.\n",
      " 20700. 32300. 21200. 62100. 54000. 24500. 51900. 47800. 56100. 55300.\n",
      " 58100. 28900. 39100. 58000. 27200. 24600. 30100. 57100. 60100. 22200.\n",
      " 47700. 24900. 37800. 52700. 34200. 18700. 42000. 26300. 22600. 30900.\n",
      " 35800. 30800. 51100. 53300. 46200. 24100. 54700. 51200. 62300. 51400.\n",
      " 40900. 23400. 35300. 55800. 33400. 21300. 30000. 56700. 46900.  5300.\n",
      " 39200. 57500. 31300. 53700. 21600. 50000. 36500. 16400. 15900. 65100.\n",
      " 59900. 63200. 26200. 61200. 48500. 32200. 29100. 50100. 22700. 28600.\n",
      " 23500. 23700. 19600. 17800. 50600. 57900. 22500. 22100. 58300. 64100.\n",
      " 25000. 60400. 59100. 37000. 62400. 29500. 25800. 25400. 26900. 21500.\n",
      " 52200. 46600. 57300. 46100. 19300. 18900. 31400. 28400. 29400. 17600.\n",
      " 13900. 52400. 11300. 46000. 60500. 58700. 58200. 24800. 63700. 60600.\n",
      " 20400. 26400. 55600. 57000. 45500. 48600. 57600. 52900. 62800. 17000.\n",
      " 56500. 52300. 18400. 63300. 12900. 27000. 55700. 39300. 27800. 18300.\n",
      " 56300. 59800. 24300. 14400. 13400. 17900. 47600. 54500. 54400. 23900.\n",
      " 13000. 19900. 55400. 22800. 61000. 57400. 23000. 20500. 53200. 18100.\n",
      " 25300. 59500. 18200. 50400. 21100. 20900. 27400. 17300. 60700. 70600.\n",
      " 17700. 19700. 49200. 63100. 59200. 14700. 53100. 21800. 68000. 16500.\n",
      " 71400. 10000. 55500. 54100. 56400. 20600. 66300. 18800. 11000. 66100.\n",
      " 27100. 57800. 53500. 19200. 58500. 64000. 63600. 23600. 25200. 19100.\n",
      " 18600. 57700. 62700. 56600. 21400. 58800. 68400. 17100. 13300. 68500.\n",
      " 56900. 64400. 27600. 67200. 16200. 58600. 62200. 16000. 79000. 22300.\n",
      " 11200. 71600. 61300. 70500. 67100. 59000. 13500. 16700. 15700. 60000.\n",
      " 17400. 63400. 61900. 65200. 62600. 14100. 20100. 63800. 15100. 70000.\n",
      " 60200. 20300. 65900. 15200. 63500. 13200. 68900. 12200.  6000. 74800.\n",
      " 59700. 10800. 19000. 10600. 69400. 15000. 75200. 62500. 16300. 20800.\n",
      "  7400. 65300. 61400. 56800.]\n",
      "\n",
      "Уникальные значения столбца Члены семьи\n",
      "\n",
      "[1 0 2 4 3 5 6]\n",
      "\n",
      "Уникальные значения столбца Страховые выплаты\n",
      "\n",
      "[0 1 2 3 5 4]\n",
      "\n",
      "Кол-во строк дубликатов\n",
      "\n",
      "Пол                  0\n",
      "Возраст              0\n",
      "Зарплата             0\n",
      "Члены семьи          0\n",
      "Страховые выплаты    0\n",
      "dtype: int64\n",
      "\n",
      "Кол-во пропущенных значений\n",
      "\n",
      "Пол                  0\n",
      "Возраст              0\n",
      "Зарплата             0\n",
      "Члены семьи          0\n",
      "Страховые выплаты    0\n",
      "dtype: int64\n",
      "\n",
      "Процент пропущенных значений\n",
      "\n",
      "Пол                  0.0\n",
      "Возраст              0.0\n",
      "Зарплата             0.0\n",
      "Члены семьи          0.0\n",
      "Страховые выплаты    0.0\n",
      "dtype: float64\n"
     ]
    }
   ],
   "source": [
    "info_func(df)"
   ]
  },
  {
   "cell_type": "markdown",
   "metadata": {},
   "source": [
    "### Вывод по главе\n",
    "* Данные загружены\n",
    "* Получена сводная информация по всем данным\n",
    "* Обработаны дубликаты \n",
    "* Обработаны типа данных столбцов"
   ]
  },
  {
   "cell_type": "code",
   "execution_count": 8,
   "metadata": {},
   "outputs": [
    {
     "data": {
      "text/plain": [
       "(4847, 5)"
      ]
     },
     "execution_count": 8,
     "metadata": {},
     "output_type": "execute_result"
    }
   ],
   "source": [
    "df.shape"
   ]
  },
  {
   "cell_type": "markdown",
   "metadata": {},
   "source": [
    "## Умножение матриц"
   ]
  },
  {
   "cell_type": "markdown",
   "metadata": {},
   "source": [
    "В этом задании вы можете записывать формулы в *Jupyter Notebook.*\n",
    "\n",
    "Чтобы записать формулу внутри текста, окружите её символами доллара \\\\$; если снаружи —  двойными символами \\\\$\\\\$. Эти формулы записываются на языке вёрстки *LaTeX.* \n",
    "\n",
    "Для примера мы записали формулы линейной регрессии. Можете их скопировать и отредактировать, чтобы решить задачу.\n",
    "\n",
    "Работать в *LaTeX* необязательно."
   ]
  },
  {
   "cell_type": "markdown",
   "metadata": {},
   "source": [
    "Обозначения:\n",
    "\n",
    "- $X$ — матрица признаков (нулевой столбец состоит из единиц)\n",
    "\n",
    "- $y$ — вектор целевого признака\n",
    "\n",
    "- $P$ — матрица, на которую умножаются признаки\n",
    "\n",
    "- $w$ — вектор весов линейной регрессии (нулевой элемент равен сдвигу)"
   ]
  },
  {
   "cell_type": "markdown",
   "metadata": {},
   "source": [
    "Предсказания:\n",
    "\n",
    "$$\n",
    "a = Xw\n",
    "$$\n",
    "\n",
    "Задача обучения:\n",
    "\n",
    "$$\n",
    "w = \\arg\\min_w MSE(Xw, y)\n",
    "$$\n",
    "\n",
    "Формула обучения:\n",
    "\n",
    "$$\n",
    "w = (X^T X)^{-1} X^T y\n",
    "$$"
   ]
  },
  {
   "attachments": {
    "image.png": {
     "image/png": "[encoded data removed]"
    }
   },
   "cell_type": "markdown",
   "metadata": {},
   "source": [
    "Проверим вычисляет ли LinearRegression из sklearn.linear_model по формуле: ![image.png](attachment:image.png)"
   ]
  },
  {
   "cell_type": "code",
   "execution_count": 9,
   "metadata": {},
   "outputs": [],
   "source": [
    "features = df.drop('Страховые выплаты',axis=1)\n",
    "target = df['Страховые выплаты']"
   ]
  },
  {
   "cell_type": "code",
   "execution_count": 10,
   "metadata": {},
   "outputs": [
    {
     "data": {
      "text/plain": [
       "array([ 9.46018141e-03,  3.61640081e-02, -1.38991363e-07, -1.42517371e-02])"
      ]
     },
     "metadata": {},
     "output_type": "display_data"
    },
    {
     "data": {
      "text/plain": [
       "array([ 9.46018141e-03,  3.61640081e-02, -1.38991363e-07, -1.42517371e-02])"
      ]
     },
     "execution_count": 10,
     "metadata": {},
     "output_type": "execute_result"
    }
   ],
   "source": [
    "X = np.concatenate((np.ones((features.shape[0], 1)), features), axis=1)\n",
    "y = target\n",
    "w = np.linalg.inv(X.T @ X) @ X.T @ y\n",
    "display(w[1:])\n",
    "model = LinearRegression()\n",
    "model.fit(features, target)\n",
    "model.coef_"
   ]
  },
  {
   "cell_type": "markdown",
   "metadata": {},
   "source": [
    "Коэфициенты регрессии полностью совпадают. Следовательно LinearRegression из sklearn.linear_model вычисляет по формуле."
   ]
  },
  {
   "attachments": {
    "photo_2023-09-06_15-44-45.jpg": {
     "image/jpeg": "[encoded data removed]"
    }
   },
   "cell_type": "markdown",
   "metadata": {},
   "source": [
    "**Вопрос:** Признаки умножают на обратимую матрицу. Изменится ли качество линейной регрессии?\n",
    "\n",
    "**Ответ:** Не изменится.\n",
    "\n",
    "**Обоснование:** Как видно из вычислений ниже - значение предсказания \n",
    " не меняется (a_1 = a), следовательно не меняется и качество линейной регрессии. \n",
    "![photo_2023-09-06_15-44-45.jpg](attachment:photo_2023-09-06_15-44-45.jpg)"
   ]
  },
  {
   "cell_type": "markdown",
   "metadata": {},
   "source": [
    "Параметры линейной регрессии в преобразованной задаче будут связаны с параметрами линейной регрессии в исходной задаче следующим образом: wp = P^(-1)w. <br />\n",
    "argmin𝑤𝑀𝑆𝐸(𝑋𝑃𝑤𝑝,𝑦) сводится к argmin𝑤𝑀𝑆𝐸(𝑋𝑤,𝑦) путем подстановки вместо wp  -  P^(-1)w. Следовательно P и P^-1 у нас сокращается и получается argmin𝑤𝑀𝑆𝐸(𝑋𝑤,𝑦). Следовательно если задачи обучения у нас равнозначны, то и качество линейной регресси не пострадает (?)."
   ]
  },
  {
   "cell_type": "markdown",
   "metadata": {},
   "source": [
    "### Вывод по главе\n",
    "* Проверено, что LinearRegression из sklearn.linear_model вычисляет по формуле\n",
    "* Проверено, что при умножении признаков на обратимую матрицу - не меняется качество линейной регрессии"
   ]
  },
  {
   "cell_type": "markdown",
   "metadata": {},
   "source": [
    "## Алгоритм преобразования"
   ]
  },
  {
   "cell_type": "markdown",
   "metadata": {},
   "source": [
    "**Алгоритм**\n",
    "\n",
    "Для защиты информации на этапе поиска коэффициентов регрессии и предсказаний регрессии будем умножать матрицу признаков на обратимую матрицу, которая будет генерироваться рандомно.\n",
    "\n",
    "Этапы алгоритма:\n",
    "* 1) Создаём рандомную матрицу R\n",
    "* 2) Проверяем её на обратимость\n",
    "* 3) Создаём новую матрицу данных N (исходные данные умножаем на рандомную матрицу)\n",
    "* 4) Ищем метрики качества R2-score и MSE на исходных данных и на преобразованных\n"
   ]
  },
  {
   "cell_type": "markdown",
   "metadata": {},
   "source": [
    "**Обоснование**\n",
    "\n",
    "Если мы перемножим исходные данные на обратимую матрицу, то результатом предсказания будет произведение нашей изменённой таблицы с признаками на вектор, который был получен из той же таблицы с изменёнными данными увеличенную на столько же, на сколько и признаки тренировочных данных."
   ]
  },
  {
   "cell_type": "markdown",
   "metadata": {},
   "source": [
    "## Проверка алгоритма"
   ]
  },
  {
   "cell_type": "markdown",
   "metadata": {},
   "source": [
    "Создаём рандомную матрицу R"
   ]
  },
  {
   "cell_type": "code",
   "execution_count": 11,
   "metadata": {},
   "outputs": [],
   "source": [
    "def get_rand_matrix():\n",
    "    det = 0\n",
    "    while det == 0:\n",
    "        matrix = np.random.normal(size=(df.shape[1] - 1, df.shape[1] - 1))\n",
    "        det = np.linalg.det(matrix)\n",
    "    return matrix"
   ]
  },
  {
   "cell_type": "code",
   "execution_count": 12,
   "metadata": {},
   "outputs": [],
   "source": [
    "R = get_rand_matrix()"
   ]
  },
  {
   "cell_type": "markdown",
   "metadata": {},
   "source": [
    "Проверяем её на обратимость"
   ]
  },
  {
   "cell_type": "code",
   "execution_count": 13,
   "metadata": {},
   "outputs": [
    {
     "data": {
      "text/plain": [
       "array([[ 1.12816954, -0.54078483,  0.42340062, -1.0417587 ],\n",
       "       [-0.18477763,  0.82477613, -0.44164292,  0.88236603],\n",
       "       [ 0.31829798,  0.19165484,  0.05972482, -0.92071659],\n",
       "       [ 1.26955482, -1.03892132,  1.46181819, -1.04126424]])"
      ]
     },
     "execution_count": 13,
     "metadata": {},
     "output_type": "execute_result"
    }
   ],
   "source": [
    "np.linalg.inv(R)"
   ]
  },
  {
   "cell_type": "markdown",
   "metadata": {},
   "source": [
    "Создаём новую матрицу данных N"
   ]
  },
  {
   "cell_type": "code",
   "execution_count": 14,
   "metadata": {},
   "outputs": [],
   "source": [
    "features_train, features_test, target_train, target_test = train_test_split(\n",
    "    features, target, test_size = 0.25, random_state = RND_ST)"
   ]
  },
  {
   "cell_type": "code",
   "execution_count": 15,
   "metadata": {},
   "outputs": [
    {
     "data": {
      "text/html": [
       "<div>\n",
       "<style scoped>\n",
       "    .dataframe tbody tr th:only-of-type {\n",
       "        vertical-align: middle;\n",
       "    }\n",
       "\n",
       "    .dataframe tbody tr th {\n",
       "        vertical-align: top;\n",
       "    }\n",
       "\n",
       "    .dataframe thead th {\n",
       "        text-align: right;\n",
       "    }\n",
       "</style>\n",
       "<table border=\"1\" class=\"dataframe\">\n",
       "  <thead>\n",
       "    <tr style=\"text-align: right;\">\n",
       "      <th></th>\n",
       "      <th>Пол</th>\n",
       "      <th>Возраст</th>\n",
       "      <th>Зарплата</th>\n",
       "      <th>Члены семьи</th>\n",
       "    </tr>\n",
       "  </thead>\n",
       "  <tbody>\n",
       "    <tr>\n",
       "      <th>4599</th>\n",
       "      <td>-80770.505738</td>\n",
       "      <td>20836.548647</td>\n",
       "      <td>37340.542088</td>\n",
       "      <td>65446.195380</td>\n",
       "    </tr>\n",
       "    <tr>\n",
       "      <th>3882</th>\n",
       "      <td>-75146.265806</td>\n",
       "      <td>19396.498515</td>\n",
       "      <td>34752.511818</td>\n",
       "      <td>60888.361172</td>\n",
       "    </tr>\n",
       "    <tr>\n",
       "      <th>4705</th>\n",
       "      <td>-41503.677716</td>\n",
       "      <td>10714.965098</td>\n",
       "      <td>19196.414855</td>\n",
       "      <td>33628.237134</td>\n",
       "    </tr>\n",
       "    <tr>\n",
       "      <th>1400</th>\n",
       "      <td>-57522.373215</td>\n",
       "      <td>14861.384041</td>\n",
       "      <td>26619.596605</td>\n",
       "      <td>46605.373442</td>\n",
       "    </tr>\n",
       "    <tr>\n",
       "      <th>728</th>\n",
       "      <td>-48182.656045</td>\n",
       "      <td>12449.511399</td>\n",
       "      <td>22297.186932</td>\n",
       "      <td>39038.445208</td>\n",
       "    </tr>\n",
       "  </tbody>\n",
       "</table>\n",
       "</div>"
      ],
      "text/plain": [
       "               Пол       Возраст      Зарплата   Члены семьи\n",
       "4599 -80770.505738  20836.548647  37340.542088  65446.195380\n",
       "3882 -75146.265806  19396.498515  34752.511818  60888.361172\n",
       "4705 -41503.677716  10714.965098  19196.414855  33628.237134\n",
       "1400 -57522.373215  14861.384041  26619.596605  46605.373442\n",
       "728  -48182.656045  12449.511399  22297.186932  39038.445208"
      ]
     },
     "execution_count": 15,
     "metadata": {},
     "output_type": "execute_result"
    }
   ],
   "source": [
    "N = features_train.dot(R)\n",
    "N.columns = features_train.columns\n",
    "N.head()"
   ]
  },
  {
   "cell_type": "code",
   "execution_count": 16,
   "metadata": {},
   "outputs": [
    {
     "data": {
      "text/html": [
       "<div>\n",
       "<style scoped>\n",
       "    .dataframe tbody tr th:only-of-type {\n",
       "        vertical-align: middle;\n",
       "    }\n",
       "\n",
       "    .dataframe tbody tr th {\n",
       "        vertical-align: top;\n",
       "    }\n",
       "\n",
       "    .dataframe thead th {\n",
       "        text-align: right;\n",
       "    }\n",
       "</style>\n",
       "<table border=\"1\" class=\"dataframe\">\n",
       "  <thead>\n",
       "    <tr style=\"text-align: right;\">\n",
       "      <th></th>\n",
       "      <th>Пол</th>\n",
       "      <th>Возраст</th>\n",
       "      <th>Зарплата</th>\n",
       "      <th>Члены семьи</th>\n",
       "    </tr>\n",
       "  </thead>\n",
       "  <tbody>\n",
       "    <tr>\n",
       "      <th>1335</th>\n",
       "      <td>-69949.868499</td>\n",
       "      <td>18044.225803</td>\n",
       "      <td>32338.502948</td>\n",
       "      <td>56679.080370</td>\n",
       "    </tr>\n",
       "    <tr>\n",
       "      <th>3875</th>\n",
       "      <td>-97663.484744</td>\n",
       "      <td>25192.652082</td>\n",
       "      <td>45150.647274</td>\n",
       "      <td>79134.547980</td>\n",
       "    </tr>\n",
       "    <tr>\n",
       "      <th>166</th>\n",
       "      <td>-50250.488205</td>\n",
       "      <td>12978.113331</td>\n",
       "      <td>23245.109068</td>\n",
       "      <td>40716.054809</td>\n",
       "    </tr>\n",
       "    <tr>\n",
       "      <th>3003</th>\n",
       "      <td>-28623.746958</td>\n",
       "      <td>7409.643586</td>\n",
       "      <td>13259.183685</td>\n",
       "      <td>23190.179586</td>\n",
       "    </tr>\n",
       "    <tr>\n",
       "      <th>424</th>\n",
       "      <td>-40778.432703</td>\n",
       "      <td>10547.412019</td>\n",
       "      <td>18881.235772</td>\n",
       "      <td>33038.393741</td>\n",
       "    </tr>\n",
       "  </tbody>\n",
       "</table>\n",
       "</div>"
      ],
      "text/plain": [
       "               Пол       Возраст      Зарплата   Члены семьи\n",
       "1335 -69949.868499  18044.225803  32338.502948  56679.080370\n",
       "3875 -97663.484744  25192.652082  45150.647274  79134.547980\n",
       "166  -50250.488205  12978.113331  23245.109068  40716.054809\n",
       "3003 -28623.746958   7409.643586  13259.183685  23190.179586\n",
       "424  -40778.432703  10547.412019  18881.235772  33038.393741"
      ]
     },
     "execution_count": 16,
     "metadata": {},
     "output_type": "execute_result"
    }
   ],
   "source": [
    "N_t = features_test.dot(R)\n",
    "N_t.columns = features_test.columns\n",
    "N_t.head()"
   ]
  },
  {
   "cell_type": "code",
   "execution_count": 17,
   "metadata": {},
   "outputs": [],
   "source": [
    "X = np.concatenate((np.ones((N.shape[0], 1)), N), axis=1)"
   ]
  },
  {
   "cell_type": "code",
   "execution_count": 18,
   "metadata": {},
   "outputs": [
    {
     "data": {
      "text/html": [
       "<div>\n",
       "<style scoped>\n",
       "    .dataframe tbody tr th:only-of-type {\n",
       "        vertical-align: middle;\n",
       "    }\n",
       "\n",
       "    .dataframe tbody tr th {\n",
       "        vertical-align: top;\n",
       "    }\n",
       "\n",
       "    .dataframe thead th {\n",
       "        text-align: right;\n",
       "    }\n",
       "</style>\n",
       "<table border=\"1\" class=\"dataframe\">\n",
       "  <thead>\n",
       "    <tr style=\"text-align: right;\">\n",
       "      <th></th>\n",
       "      <th>0</th>\n",
       "      <th>1</th>\n",
       "      <th>2</th>\n",
       "      <th>3</th>\n",
       "      <th>4</th>\n",
       "    </tr>\n",
       "  </thead>\n",
       "  <tbody>\n",
       "    <tr>\n",
       "      <th>0</th>\n",
       "      <td>1.0</td>\n",
       "      <td>-80770.505738</td>\n",
       "      <td>20836.548647</td>\n",
       "      <td>37340.542088</td>\n",
       "      <td>65446.195380</td>\n",
       "    </tr>\n",
       "    <tr>\n",
       "      <th>1</th>\n",
       "      <td>1.0</td>\n",
       "      <td>-75146.265806</td>\n",
       "      <td>19396.498515</td>\n",
       "      <td>34752.511818</td>\n",
       "      <td>60888.361172</td>\n",
       "    </tr>\n",
       "    <tr>\n",
       "      <th>2</th>\n",
       "      <td>1.0</td>\n",
       "      <td>-41503.677716</td>\n",
       "      <td>10714.965098</td>\n",
       "      <td>19196.414855</td>\n",
       "      <td>33628.237134</td>\n",
       "    </tr>\n",
       "    <tr>\n",
       "      <th>3</th>\n",
       "      <td>1.0</td>\n",
       "      <td>-57522.373215</td>\n",
       "      <td>14861.384041</td>\n",
       "      <td>26619.596605</td>\n",
       "      <td>46605.373442</td>\n",
       "    </tr>\n",
       "    <tr>\n",
       "      <th>4</th>\n",
       "      <td>1.0</td>\n",
       "      <td>-48182.656045</td>\n",
       "      <td>12449.511399</td>\n",
       "      <td>22297.186932</td>\n",
       "      <td>39038.445208</td>\n",
       "    </tr>\n",
       "  </tbody>\n",
       "</table>\n",
       "</div>"
      ],
      "text/plain": [
       "     0             1             2             3             4\n",
       "0  1.0 -80770.505738  20836.548647  37340.542088  65446.195380\n",
       "1  1.0 -75146.265806  19396.498515  34752.511818  60888.361172\n",
       "2  1.0 -41503.677716  10714.965098  19196.414855  33628.237134\n",
       "3  1.0 -57522.373215  14861.384041  26619.596605  46605.373442\n",
       "4  1.0 -48182.656045  12449.511399  22297.186932  39038.445208"
      ]
     },
     "execution_count": 18,
     "metadata": {},
     "output_type": "execute_result"
    }
   ],
   "source": [
    "pd.DataFrame(X).head()"
   ]
  },
  {
   "cell_type": "markdown",
   "metadata": {},
   "source": [
    "Ищем метрики качества R2-score и MSE на исходных данных и на преобразованных"
   ]
  },
  {
   "cell_type": "code",
   "execution_count": 19,
   "metadata": {},
   "outputs": [],
   "source": [
    "y = target_train\n",
    "w = np.linalg.inv(X.T @ X) @ X.T @ y"
   ]
  },
  {
   "cell_type": "code",
   "execution_count": 20,
   "metadata": {},
   "outputs": [],
   "source": [
    "a = N_t.dot(w[1:]) + w[0]"
   ]
  },
  {
   "cell_type": "code",
   "execution_count": 21,
   "metadata": {},
   "outputs": [
    {
     "name": "stdout",
     "output_type": "stream",
     "text": [
      "R2_score Линейной регрессии неизменённой матрицы: 0.42307727492147584\n",
      "MSE Линейной регрессии неизменённой матрицы: 0.11955009374099854\n"
     ]
    }
   ],
   "source": [
    "model_1 = LinearRegression()\n",
    "model_1.fit(features_train,target_train)\n",
    "predictions = model_1.predict(features_test)\n",
    "\n",
    "R2_score_1 = r2_score(target_test, predictions)\n",
    "MSE_1 = mean_squared_error(predictions,target_test)\n",
    "\n",
    "print(\"R2_score Линейной регрессии неизменённой матрицы:\", R2_score_1)\n",
    "print(\"MSE Линейной регрессии неизменённой матрицы:\", MSE_1)"
   ]
  },
  {
   "cell_type": "code",
   "execution_count": 22,
   "metadata": {},
   "outputs": [
    {
     "name": "stdout",
     "output_type": "stream",
     "text": [
      "R2_score Линейной регрессии изменённой матрицы: 0.4230772610673702\n",
      "MSE Линейной регрессии изменённой матрицы: 0.11955009661185031\n"
     ]
    }
   ],
   "source": [
    "R2_score_2 =  r2_score(target_test, a)\n",
    "MSE_2 = mean_squared_error(a, target_test)\n",
    "print(\"R2_score Линейной регрессии изменённой матрицы:\",R2_score_2)\n",
    "print(\"MSE Линейной регрессии изменённой матрицы:\", MSE_2)"
   ]
  },
  {
   "cell_type": "markdown",
   "metadata": {},
   "source": [
    "Как мы можем видеть, R2_score и MSE идентичны на 7 знаков после запятой, что можно считать тем результатом, которого мы хотели достигнуть. "
   ]
  },
  {
   "cell_type": "markdown",
   "metadata": {},
   "source": [
    "## Общий вывод\n",
    "Мы защитили персональные данные клиентов страховой компании при этом не потеряв качество моделей обучения. Был разработан алгоритм, где исходные данные перемножались на рандомную обратимую матрицу R и получалась новая матрица N. Так же мы произвели обработку изначальных данных - удалив строки дубликаты и приведя данные к нужному типу данных."
   ]
  },
  {
   "cell_type": "markdown",
   "metadata": {},
   "source": [
    "## Чек-лист проекта"
   ]
  },
  {
   "cell_type": "markdown",
   "metadata": {},
   "source": [
    "Поставьте 'x' в выполненных пунктах. Далее нажмите Shift+Enter."
   ]
  },
  {
   "cell_type": "markdown",
   "metadata": {},
   "source": [
    "- [x]  Jupyter Notebook открыт\n",
    "- [x]  Весь код выполняется без ошибок\n",
    "- [x]  Ячейки с кодом расположены в порядке исполнения\n",
    "- [x]  Выполнен шаг 1: данные загружены\n",
    "- [x]  Выполнен шаг 2: получен ответ на вопрос об умножении матриц\n",
    "    - [x]  Указан правильный вариант ответа\n",
    "    - [x]  Вариант обоснован\n",
    "- [x]  Выполнен шаг 3: предложен алгоритм преобразования\n",
    "    - [x]  Алгоритм описан\n",
    "    - [x]  Алгоритм обоснован\n",
    "- [x]  Выполнен шаг 4: алгоритм проверен\n",
    "    - [x]  Алгоритм реализован\n",
    "    - [x]  Проведено сравнение качества моделей до и после преобразования"
   ]
  }
 ],
 "metadata": {
  "ExecuteTimeLog": [
   {
    "duration": 1327,
    "start_time": "2023-09-06T10:58:39.945Z"
   },
   {
    "duration": 6,
    "start_time": "2023-09-06T10:59:32.002Z"
   },
   {
    "duration": 96,
    "start_time": "2023-09-06T10:59:40.409Z"
   },
   {
    "duration": 7,
    "start_time": "2023-09-06T10:59:41.290Z"
   },
   {
    "duration": 104,
    "start_time": "2023-09-06T11:00:03.720Z"
   },
   {
    "duration": 42,
    "start_time": "2023-09-06T11:00:16.789Z"
   },
   {
    "duration": 5,
    "start_time": "2023-09-06T11:01:54.092Z"
   },
   {
    "duration": 36,
    "start_time": "2023-09-06T11:02:00.923Z"
   },
   {
    "duration": 5,
    "start_time": "2023-09-06T11:04:08.618Z"
   },
   {
    "duration": 37,
    "start_time": "2023-09-06T11:04:15.434Z"
   },
   {
    "duration": 17,
    "start_time": "2023-09-06T11:04:32.880Z"
   },
   {
    "duration": 11,
    "start_time": "2023-09-06T11:04:51.261Z"
   },
   {
    "duration": 3,
    "start_time": "2023-09-06T11:04:55.467Z"
   },
   {
    "duration": 13,
    "start_time": "2023-09-06T11:04:55.891Z"
   },
   {
    "duration": 6,
    "start_time": "2023-09-06T11:05:41.180Z"
   },
   {
    "duration": 44,
    "start_time": "2023-09-06T11:05:54.865Z"
   },
   {
    "duration": 17,
    "start_time": "2023-09-06T11:07:25.438Z"
   },
   {
    "duration": 1224,
    "start_time": "2023-09-06T11:08:36.820Z"
   },
   {
    "duration": 42,
    "start_time": "2023-09-06T11:08:38.046Z"
   },
   {
    "duration": 6,
    "start_time": "2023-09-06T11:08:38.769Z"
   },
   {
    "duration": 57,
    "start_time": "2023-09-06T11:08:40.569Z"
   },
   {
    "duration": 45,
    "start_time": "2023-09-06T11:09:15.867Z"
   },
   {
    "duration": 6,
    "start_time": "2023-09-06T11:09:52.769Z"
   },
   {
    "duration": 1138,
    "start_time": "2023-09-06T11:10:00.692Z"
   },
   {
    "duration": 32,
    "start_time": "2023-09-06T11:10:01.832Z"
   },
   {
    "duration": 104,
    "start_time": "2023-09-06T11:10:01.866Z"
   },
   {
    "duration": 55,
    "start_time": "2023-09-06T11:10:02.682Z"
   },
   {
    "duration": 6,
    "start_time": "2023-09-06T11:10:11.312Z"
   },
   {
    "duration": 48,
    "start_time": "2023-09-06T11:10:13.644Z"
   },
   {
    "duration": 5,
    "start_time": "2023-09-06T12:15:05.708Z"
   },
   {
    "duration": 20,
    "start_time": "2023-09-06T12:15:06.189Z"
   },
   {
    "duration": 4,
    "start_time": "2023-09-06T13:23:14.272Z"
   },
   {
    "duration": 6,
    "start_time": "2023-09-06T13:23:19.880Z"
   },
   {
    "duration": 4,
    "start_time": "2023-09-06T13:24:37.801Z"
   },
   {
    "duration": 5,
    "start_time": "2023-09-06T13:26:19.922Z"
   },
   {
    "duration": 122,
    "start_time": "2023-09-06T13:27:57.960Z"
   },
   {
    "duration": 5,
    "start_time": "2023-09-06T13:27:58.233Z"
   },
   {
    "duration": 12,
    "start_time": "2023-09-06T13:27:58.821Z"
   },
   {
    "duration": 6,
    "start_time": "2023-09-06T13:28:02.704Z"
   },
   {
    "duration": 6,
    "start_time": "2023-09-06T13:28:04.339Z"
   },
   {
    "duration": 10,
    "start_time": "2023-09-06T13:28:04.603Z"
   },
   {
    "duration": 12,
    "start_time": "2023-09-06T13:28:22.377Z"
   },
   {
    "duration": 11,
    "start_time": "2023-09-06T13:29:19.126Z"
   },
   {
    "duration": 11,
    "start_time": "2023-09-06T13:30:03.074Z"
   },
   {
    "duration": 11,
    "start_time": "2023-09-06T13:30:03.710Z"
   },
   {
    "duration": 3,
    "start_time": "2023-09-06T13:30:08.534Z"
   },
   {
    "duration": 11,
    "start_time": "2023-09-06T13:32:44.706Z"
   },
   {
    "duration": 10,
    "start_time": "2023-09-06T13:32:45.478Z"
   },
   {
    "duration": 4,
    "start_time": "2023-09-06T13:32:54.840Z"
   },
   {
    "duration": 4,
    "start_time": "2023-09-06T13:32:55.744Z"
   },
   {
    "duration": 9,
    "start_time": "2023-09-06T13:33:10.212Z"
   },
   {
    "duration": 10,
    "start_time": "2023-09-06T13:33:41.681Z"
   },
   {
    "duration": 10,
    "start_time": "2023-09-06T13:35:54.150Z"
   },
   {
    "duration": 11,
    "start_time": "2023-09-06T13:36:09.127Z"
   },
   {
    "duration": 3,
    "start_time": "2023-09-06T13:37:17.599Z"
   },
   {
    "duration": 1240,
    "start_time": "2023-09-06T13:37:28.476Z"
   },
   {
    "duration": 31,
    "start_time": "2023-09-06T13:37:29.718Z"
   },
   {
    "duration": 6,
    "start_time": "2023-09-06T13:37:29.750Z"
   },
   {
    "duration": 55,
    "start_time": "2023-09-06T13:37:29.758Z"
   },
   {
    "duration": 6,
    "start_time": "2023-09-06T13:37:29.815Z"
   },
   {
    "duration": 53,
    "start_time": "2023-09-06T13:37:29.822Z"
   },
   {
    "duration": 4,
    "start_time": "2023-09-06T13:37:29.877Z"
   },
   {
    "duration": 84,
    "start_time": "2023-09-06T13:37:29.883Z"
   },
   {
    "duration": 92,
    "start_time": "2023-09-06T13:37:29.969Z"
   },
   {
    "duration": 47,
    "start_time": "2023-09-06T13:37:30.062Z"
   },
   {
    "duration": 48,
    "start_time": "2023-09-06T13:37:30.111Z"
   },
   {
    "duration": 104,
    "start_time": "2023-09-06T13:37:30.161Z"
   },
   {
    "duration": 47,
    "start_time": "2023-09-06T13:37:30.267Z"
   },
   {
    "duration": 57,
    "start_time": "2023-09-06T13:37:30.317Z"
   },
   {
    "duration": 87,
    "start_time": "2023-09-06T13:37:30.376Z"
   },
   {
    "duration": 69,
    "start_time": "2023-09-06T13:37:30.465Z"
   },
   {
    "duration": 137,
    "start_time": "2023-09-06T13:37:30.537Z"
   },
   {
    "duration": 45,
    "start_time": "2023-09-06T13:37:30.677Z"
   },
   {
    "duration": 181,
    "start_time": "2023-09-06T13:37:30.724Z"
   },
   {
    "duration": 1114,
    "start_time": "2023-09-07T08:36:14.401Z"
   },
   {
    "duration": 99,
    "start_time": "2023-09-07T08:36:15.517Z"
   },
   {
    "duration": 6,
    "start_time": "2023-09-07T08:36:15.617Z"
   },
   {
    "duration": 68,
    "start_time": "2023-09-07T08:36:15.624Z"
   },
   {
    "duration": 5,
    "start_time": "2023-09-07T08:36:15.694Z"
   },
   {
    "duration": 52,
    "start_time": "2023-09-07T08:36:15.700Z"
   },
   {
    "duration": 4,
    "start_time": "2023-09-07T08:36:15.753Z"
   },
   {
    "duration": 111,
    "start_time": "2023-09-07T08:36:15.758Z"
   },
   {
    "duration": 7,
    "start_time": "2023-09-07T08:36:15.872Z"
   },
   {
    "duration": 90,
    "start_time": "2023-09-07T08:36:15.881Z"
   },
   {
    "duration": 93,
    "start_time": "2023-09-07T08:36:15.976Z"
   },
   {
    "duration": 13,
    "start_time": "2023-09-07T08:36:16.071Z"
   },
   {
    "duration": 97,
    "start_time": "2023-09-07T08:36:16.086Z"
   },
   {
    "duration": 8,
    "start_time": "2023-09-07T08:36:16.186Z"
   },
   {
    "duration": 15,
    "start_time": "2023-09-07T08:36:16.196Z"
   },
   {
    "duration": 8,
    "start_time": "2023-09-07T08:36:16.213Z"
   },
   {
    "duration": 48,
    "start_time": "2023-09-07T08:36:16.223Z"
   },
   {
    "duration": 94,
    "start_time": "2023-09-07T08:36:16.273Z"
   },
   {
    "duration": 130,
    "start_time": "2023-09-07T08:36:16.369Z"
   },
   {
    "duration": 20,
    "start_time": "2023-09-07T08:46:06.157Z"
   },
   {
    "duration": 11,
    "start_time": "2023-09-07T08:46:23.334Z"
   },
   {
    "duration": 6,
    "start_time": "2023-09-07T08:46:27.135Z"
   },
   {
    "duration": 11,
    "start_time": "2023-09-07T08:46:28.564Z"
   },
   {
    "duration": 6,
    "start_time": "2023-09-07T08:57:17.435Z"
   },
   {
    "duration": 46,
    "start_time": "2023-09-07T08:57:21.245Z"
   },
   {
    "duration": 6,
    "start_time": "2023-09-07T08:58:07.076Z"
   },
   {
    "duration": 42,
    "start_time": "2023-09-07T08:58:08.626Z"
   },
   {
    "duration": 13,
    "start_time": "2023-09-07T09:00:47.315Z"
   },
   {
    "duration": 6,
    "start_time": "2023-09-07T09:00:47.788Z"
   },
   {
    "duration": 11,
    "start_time": "2023-09-07T09:00:51.175Z"
   },
   {
    "duration": 11,
    "start_time": "2023-09-07T09:01:34.971Z"
   },
   {
    "duration": 6,
    "start_time": "2023-09-07T09:01:35.191Z"
   },
   {
    "duration": 10,
    "start_time": "2023-09-07T09:11:37.525Z"
   },
   {
    "duration": 5,
    "start_time": "2023-09-07T09:11:37.841Z"
   },
   {
    "duration": 1285,
    "start_time": "2023-09-07T09:56:52.327Z"
   },
   {
    "duration": 30,
    "start_time": "2023-09-07T09:56:53.614Z"
   },
   {
    "duration": 6,
    "start_time": "2023-09-07T09:56:53.646Z"
   },
   {
    "duration": 52,
    "start_time": "2023-09-07T09:56:53.654Z"
   },
   {
    "duration": 5,
    "start_time": "2023-09-07T09:56:53.707Z"
   },
   {
    "duration": 9,
    "start_time": "2023-09-07T09:56:53.714Z"
   },
   {
    "duration": 73,
    "start_time": "2023-09-07T09:56:53.726Z"
   },
   {
    "duration": 4,
    "start_time": "2023-09-07T09:56:53.801Z"
   },
   {
    "duration": 161,
    "start_time": "2023-09-07T09:56:53.806Z"
   },
   {
    "duration": 6,
    "start_time": "2023-09-07T09:56:53.971Z"
   },
   {
    "duration": 12,
    "start_time": "2023-09-07T09:56:53.979Z"
   },
   {
    "duration": 6,
    "start_time": "2023-09-07T09:56:53.994Z"
   },
   {
    "duration": 102,
    "start_time": "2023-09-07T09:56:54.069Z"
   },
   {
    "duration": 14,
    "start_time": "2023-09-07T09:56:54.174Z"
   },
   {
    "duration": 5,
    "start_time": "2023-09-07T09:56:54.190Z"
   },
   {
    "duration": 18,
    "start_time": "2023-09-07T09:56:54.197Z"
   },
   {
    "duration": 6,
    "start_time": "2023-09-07T09:56:54.217Z"
   },
   {
    "duration": 54,
    "start_time": "2023-09-07T09:56:54.225Z"
   },
   {
    "duration": 99,
    "start_time": "2023-09-07T09:56:54.281Z"
   },
   {
    "duration": 33,
    "start_time": "2023-09-07T09:56:54.382Z"
   },
   {
    "duration": 1258,
    "start_time": "2023-09-07T10:03:24.974Z"
   },
   {
    "duration": 30,
    "start_time": "2023-09-07T10:03:26.234Z"
   },
   {
    "duration": 5,
    "start_time": "2023-09-07T10:03:26.267Z"
   },
   {
    "duration": 65,
    "start_time": "2023-09-07T10:03:26.274Z"
   },
   {
    "duration": 6,
    "start_time": "2023-09-07T10:03:26.341Z"
   },
   {
    "duration": 18,
    "start_time": "2023-09-07T10:03:26.349Z"
   },
   {
    "duration": 61,
    "start_time": "2023-09-07T10:03:26.369Z"
   },
   {
    "duration": 4,
    "start_time": "2023-09-07T10:03:26.432Z"
   },
   {
    "duration": 132,
    "start_time": "2023-09-07T10:03:26.438Z"
   },
   {
    "duration": 5,
    "start_time": "2023-09-07T10:03:26.573Z"
   },
   {
    "duration": 16,
    "start_time": "2023-09-07T10:03:26.581Z"
   },
   {
    "duration": 74,
    "start_time": "2023-09-07T10:03:26.599Z"
   },
   {
    "duration": 106,
    "start_time": "2023-09-07T10:03:26.675Z"
   },
   {
    "duration": 13,
    "start_time": "2023-09-07T10:03:26.784Z"
   },
   {
    "duration": 14,
    "start_time": "2023-09-07T10:03:26.799Z"
   },
   {
    "duration": 27,
    "start_time": "2023-09-07T10:03:26.815Z"
   },
   {
    "duration": 9,
    "start_time": "2023-09-07T10:03:26.844Z"
   },
   {
    "duration": 11,
    "start_time": "2023-09-07T10:03:26.868Z"
   },
   {
    "duration": 101,
    "start_time": "2023-09-07T10:03:26.882Z"
   },
   {
    "duration": 7,
    "start_time": "2023-09-07T10:03:26.985Z"
   },
   {
    "duration": 1220,
    "start_time": "2023-09-07T10:04:26.028Z"
   },
   {
    "duration": 30,
    "start_time": "2023-09-07T10:04:27.251Z"
   },
   {
    "duration": 6,
    "start_time": "2023-09-07T10:04:27.283Z"
   },
   {
    "duration": 76,
    "start_time": "2023-09-07T10:04:27.291Z"
   },
   {
    "duration": 5,
    "start_time": "2023-09-07T10:04:27.370Z"
   },
   {
    "duration": 14,
    "start_time": "2023-09-07T10:04:27.377Z"
   },
   {
    "duration": 60,
    "start_time": "2023-09-07T10:04:27.394Z"
   },
   {
    "duration": 11,
    "start_time": "2023-09-07T10:04:27.457Z"
   },
   {
    "duration": 103,
    "start_time": "2023-09-07T10:04:27.470Z"
   },
   {
    "duration": 91,
    "start_time": "2023-09-07T10:04:27.576Z"
   },
   {
    "duration": 5,
    "start_time": "2023-09-07T10:04:27.669Z"
   },
   {
    "duration": 94,
    "start_time": "2023-09-07T10:04:27.676Z"
   },
   {
    "duration": 103,
    "start_time": "2023-09-07T10:04:27.772Z"
   },
   {
    "duration": 28,
    "start_time": "2023-09-07T10:04:27.878Z"
   },
   {
    "duration": 25,
    "start_time": "2023-09-07T10:04:27.908Z"
   },
   {
    "duration": 43,
    "start_time": "2023-09-07T10:04:27.935Z"
   },
   {
    "duration": 35,
    "start_time": "2023-09-07T10:04:27.980Z"
   },
   {
    "duration": 68,
    "start_time": "2023-09-07T10:04:28.018Z"
   },
   {
    "duration": 17,
    "start_time": "2023-09-07T10:04:28.167Z"
   },
   {
    "duration": 8,
    "start_time": "2023-09-07T10:04:28.187Z"
   },
   {
    "duration": 1187,
    "start_time": "2023-09-07T10:06:21.028Z"
   },
   {
    "duration": 30,
    "start_time": "2023-09-07T10:06:22.217Z"
   },
   {
    "duration": 5,
    "start_time": "2023-09-07T10:06:22.249Z"
   },
   {
    "duration": 57,
    "start_time": "2023-09-07T10:06:22.256Z"
   },
   {
    "duration": 5,
    "start_time": "2023-09-07T10:06:22.315Z"
   },
   {
    "duration": 37,
    "start_time": "2023-09-07T10:06:22.322Z"
   },
   {
    "duration": 50,
    "start_time": "2023-09-07T10:06:22.361Z"
   },
   {
    "duration": 5,
    "start_time": "2023-09-07T10:06:22.413Z"
   },
   {
    "duration": 58,
    "start_time": "2023-09-07T10:06:22.420Z"
   },
   {
    "duration": 87,
    "start_time": "2023-09-07T10:06:22.480Z"
   },
   {
    "duration": 6,
    "start_time": "2023-09-07T10:06:22.570Z"
   },
   {
    "duration": 91,
    "start_time": "2023-09-07T10:06:22.579Z"
   },
   {
    "duration": 97,
    "start_time": "2023-09-07T10:06:22.674Z"
   },
   {
    "duration": 27,
    "start_time": "2023-09-07T10:06:22.775Z"
   },
   {
    "duration": 15,
    "start_time": "2023-09-07T10:06:22.805Z"
   },
   {
    "duration": 42,
    "start_time": "2023-09-07T10:06:22.822Z"
   },
   {
    "duration": 12,
    "start_time": "2023-09-07T10:06:22.866Z"
   },
   {
    "duration": 87,
    "start_time": "2023-09-07T10:06:22.880Z"
   },
   {
    "duration": 98,
    "start_time": "2023-09-07T10:06:22.970Z"
   },
   {
    "duration": 7,
    "start_time": "2023-09-07T10:06:23.070Z"
   },
   {
    "duration": 44,
    "start_time": "2023-09-07T10:19:08.357Z"
   },
   {
    "duration": 7,
    "start_time": "2023-09-07T10:19:10.641Z"
   },
   {
    "duration": 3163,
    "start_time": "2023-09-07T10:19:28.283Z"
   },
   {
    "duration": 100,
    "start_time": "2023-09-07T10:19:31.448Z"
   },
   {
    "duration": 12,
    "start_time": "2023-09-07T10:19:31.556Z"
   },
   {
    "duration": 51,
    "start_time": "2023-09-07T10:19:31.576Z"
   },
   {
    "duration": 5,
    "start_time": "2023-09-07T10:19:31.629Z"
   },
   {
    "duration": 31,
    "start_time": "2023-09-07T10:19:31.635Z"
   },
   {
    "duration": 46,
    "start_time": "2023-09-07T10:19:31.668Z"
   },
   {
    "duration": 3,
    "start_time": "2023-09-07T10:19:31.716Z"
   },
   {
    "duration": 51,
    "start_time": "2023-09-07T10:19:31.721Z"
   },
   {
    "duration": 84,
    "start_time": "2023-09-07T10:19:31.775Z"
   },
   {
    "duration": 14,
    "start_time": "2023-09-07T10:19:31.861Z"
   },
   {
    "duration": 75,
    "start_time": "2023-09-07T10:19:31.880Z"
   },
   {
    "duration": 101,
    "start_time": "2023-09-07T10:19:31.957Z"
   },
   {
    "duration": 27,
    "start_time": "2023-09-07T10:19:32.060Z"
   },
   {
    "duration": 46,
    "start_time": "2023-09-07T10:19:32.089Z"
   },
   {
    "duration": 49,
    "start_time": "2023-09-07T10:19:32.137Z"
   },
   {
    "duration": 22,
    "start_time": "2023-09-07T10:19:32.188Z"
   },
   {
    "duration": 44,
    "start_time": "2023-09-07T10:19:32.212Z"
   },
   {
    "duration": 114,
    "start_time": "2023-09-07T10:19:32.258Z"
   },
   {
    "duration": 6,
    "start_time": "2023-09-07T10:19:32.377Z"
   },
   {
    "duration": 8,
    "start_time": "2023-09-07T10:19:53.566Z"
   },
   {
    "duration": 6,
    "start_time": "2023-09-07T10:20:03.467Z"
   },
   {
    "duration": 1223,
    "start_time": "2023-09-07T15:07:40.046Z"
   },
   {
    "duration": 98,
    "start_time": "2023-09-07T15:07:41.271Z"
   },
   {
    "duration": 6,
    "start_time": "2023-09-07T15:07:41.371Z"
   },
   {
    "duration": 60,
    "start_time": "2023-09-07T15:07:41.378Z"
   },
   {
    "duration": 5,
    "start_time": "2023-09-07T15:07:41.441Z"
   },
   {
    "duration": 22,
    "start_time": "2023-09-07T15:07:41.447Z"
   },
   {
    "duration": 50,
    "start_time": "2023-09-07T15:07:41.471Z"
   },
   {
    "duration": 4,
    "start_time": "2023-09-07T15:07:41.524Z"
   },
   {
    "duration": 133,
    "start_time": "2023-09-07T15:07:41.530Z"
   },
   {
    "duration": 6,
    "start_time": "2023-09-07T15:07:41.665Z"
   },
   {
    "duration": 202,
    "start_time": "2023-09-07T15:07:41.674Z"
   },
   {
    "duration": 0,
    "start_time": "2023-09-07T15:07:41.878Z"
   },
   {
    "duration": 0,
    "start_time": "2023-09-07T15:07:41.879Z"
   },
   {
    "duration": 0,
    "start_time": "2023-09-07T15:07:41.880Z"
   },
   {
    "duration": 0,
    "start_time": "2023-09-07T15:07:41.881Z"
   },
   {
    "duration": 0,
    "start_time": "2023-09-07T15:07:41.882Z"
   },
   {
    "duration": 0,
    "start_time": "2023-09-07T15:07:41.883Z"
   },
   {
    "duration": 0,
    "start_time": "2023-09-07T15:07:41.884Z"
   },
   {
    "duration": 0,
    "start_time": "2023-09-07T15:07:41.885Z"
   },
   {
    "duration": 0,
    "start_time": "2023-09-07T15:07:41.886Z"
   },
   {
    "duration": 0,
    "start_time": "2023-09-07T15:07:41.887Z"
   },
   {
    "duration": 4,
    "start_time": "2023-09-07T15:07:57.226Z"
   },
   {
    "duration": 3,
    "start_time": "2023-09-07T15:07:58.159Z"
   },
   {
    "duration": 6,
    "start_time": "2023-09-07T15:08:01.220Z"
   },
   {
    "duration": 4,
    "start_time": "2023-09-07T15:08:09.997Z"
   },
   {
    "duration": 7,
    "start_time": "2023-09-07T15:08:10.857Z"
   },
   {
    "duration": 6,
    "start_time": "2023-09-07T15:08:11.505Z"
   },
   {
    "duration": 4,
    "start_time": "2023-09-07T15:08:16.291Z"
   },
   {
    "duration": 11,
    "start_time": "2023-09-07T15:08:16.585Z"
   },
   {
    "duration": 13,
    "start_time": "2023-09-07T15:08:16.819Z"
   },
   {
    "duration": 10,
    "start_time": "2023-09-07T15:08:17.001Z"
   },
   {
    "duration": 13,
    "start_time": "2023-09-07T15:08:17.170Z"
   },
   {
    "duration": 477,
    "start_time": "2023-09-07T15:08:17.672Z"
   },
   {
    "duration": 0,
    "start_time": "2023-09-07T15:08:18.151Z"
   },
   {
    "duration": 0,
    "start_time": "2023-09-07T15:08:18.152Z"
   },
   {
    "duration": 10,
    "start_time": "2023-09-07T15:08:18.237Z"
   },
   {
    "duration": 5,
    "start_time": "2023-09-07T15:08:44.970Z"
   },
   {
    "duration": 11,
    "start_time": "2023-09-07T15:08:45.699Z"
   },
   {
    "duration": 4,
    "start_time": "2023-09-07T15:09:31.936Z"
   },
   {
    "duration": 3,
    "start_time": "2023-09-07T15:09:32.388Z"
   },
   {
    "duration": 6,
    "start_time": "2023-09-07T15:09:33.211Z"
   },
   {
    "duration": 7,
    "start_time": "2023-09-07T15:09:35.782Z"
   },
   {
    "duration": 13,
    "start_time": "2023-09-07T15:09:36.197Z"
   },
   {
    "duration": 11,
    "start_time": "2023-09-07T15:09:37.322Z"
   },
   {
    "duration": 3,
    "start_time": "2023-09-07T15:09:37.799Z"
   },
   {
    "duration": 12,
    "start_time": "2023-09-07T15:09:38.081Z"
   },
   {
    "duration": 4,
    "start_time": "2023-09-07T15:09:38.445Z"
   },
   {
    "duration": 4,
    "start_time": "2023-09-07T15:09:38.618Z"
   },
   {
    "duration": 17,
    "start_time": "2023-09-07T15:09:38.794Z"
   },
   {
    "duration": 8,
    "start_time": "2023-09-07T15:09:38.946Z"
   },
   {
    "duration": 4,
    "start_time": "2023-09-07T15:10:05.947Z"
   },
   {
    "duration": 9,
    "start_time": "2023-09-07T15:10:12.029Z"
   },
   {
    "duration": 4,
    "start_time": "2023-09-07T15:10:14.513Z"
   },
   {
    "duration": 3,
    "start_time": "2023-09-07T15:11:00.116Z"
   },
   {
    "duration": 3,
    "start_time": "2023-09-07T15:11:00.390Z"
   },
   {
    "duration": 8,
    "start_time": "2023-09-07T15:11:00.997Z"
   },
   {
    "duration": 6,
    "start_time": "2023-09-07T15:11:02.648Z"
   },
   {
    "duration": 11,
    "start_time": "2023-09-07T15:11:03.430Z"
   },
   {
    "duration": 4,
    "start_time": "2023-09-07T15:11:31.345Z"
   },
   {
    "duration": 1432,
    "start_time": "2023-09-07T15:11:52.741Z"
   },
   {
    "duration": 31,
    "start_time": "2023-09-07T15:11:54.175Z"
   },
   {
    "duration": 6,
    "start_time": "2023-09-07T15:11:54.208Z"
   },
   {
    "duration": 65,
    "start_time": "2023-09-07T15:11:54.217Z"
   },
   {
    "duration": 5,
    "start_time": "2023-09-07T15:11:54.285Z"
   },
   {
    "duration": 11,
    "start_time": "2023-09-07T15:11:54.291Z"
   },
   {
    "duration": 68,
    "start_time": "2023-09-07T15:11:54.304Z"
   },
   {
    "duration": 9,
    "start_time": "2023-09-07T15:11:54.374Z"
   },
   {
    "duration": 7,
    "start_time": "2023-09-07T15:11:54.384Z"
   },
   {
    "duration": 75,
    "start_time": "2023-09-07T15:11:54.392Z"
   },
   {
    "duration": 4,
    "start_time": "2023-09-07T15:11:54.470Z"
   },
   {
    "duration": 95,
    "start_time": "2023-09-07T15:11:54.476Z"
   },
   {
    "duration": 36,
    "start_time": "2023-09-07T15:11:54.574Z"
   },
   {
    "duration": 55,
    "start_time": "2023-09-07T15:11:54.614Z"
   },
   {
    "duration": 96,
    "start_time": "2023-09-07T15:11:54.672Z"
   },
   {
    "duration": 26,
    "start_time": "2023-09-07T15:11:54.769Z"
   },
   {
    "duration": 7,
    "start_time": "2023-09-07T15:11:54.797Z"
   },
   {
    "duration": 14,
    "start_time": "2023-09-07T15:11:54.805Z"
   },
   {
    "duration": 35,
    "start_time": "2023-09-07T15:11:54.822Z"
   },
   {
    "duration": 6,
    "start_time": "2023-09-07T15:11:54.859Z"
   },
   {
    "duration": 98,
    "start_time": "2023-09-07T15:11:54.867Z"
   },
   {
    "duration": 14,
    "start_time": "2023-09-07T15:11:54.967Z"
   },
   {
    "duration": 1169,
    "start_time": "2023-09-07T15:12:50.172Z"
   },
   {
    "duration": 40,
    "start_time": "2023-09-07T15:12:51.343Z"
   },
   {
    "duration": 6,
    "start_time": "2023-09-07T15:12:51.385Z"
   },
   {
    "duration": 53,
    "start_time": "2023-09-07T15:12:51.393Z"
   },
   {
    "duration": 5,
    "start_time": "2023-09-07T15:12:51.449Z"
   },
   {
    "duration": 16,
    "start_time": "2023-09-07T15:12:51.460Z"
   },
   {
    "duration": 77,
    "start_time": "2023-09-07T15:12:51.478Z"
   },
   {
    "duration": 10,
    "start_time": "2023-09-07T15:12:51.564Z"
   },
   {
    "duration": 23,
    "start_time": "2023-09-07T15:12:51.576Z"
   },
   {
    "duration": 59,
    "start_time": "2023-09-07T15:12:51.601Z"
   },
   {
    "duration": 4,
    "start_time": "2023-09-07T15:12:51.662Z"
   },
   {
    "duration": 102,
    "start_time": "2023-09-07T15:12:51.668Z"
   },
   {
    "duration": 19,
    "start_time": "2023-09-07T15:12:51.772Z"
   },
   {
    "duration": 5,
    "start_time": "2023-09-07T15:12:51.794Z"
   },
   {
    "duration": 71,
    "start_time": "2023-09-07T15:12:51.801Z"
   },
   {
    "duration": 95,
    "start_time": "2023-09-07T15:12:51.876Z"
   },
   {
    "duration": 13,
    "start_time": "2023-09-07T15:12:51.973Z"
   },
   {
    "duration": 23,
    "start_time": "2023-09-07T15:12:51.988Z"
   },
   {
    "duration": 8,
    "start_time": "2023-09-07T15:12:52.012Z"
   },
   {
    "duration": 54,
    "start_time": "2023-09-07T15:12:52.022Z"
   },
   {
    "duration": 20,
    "start_time": "2023-09-07T15:12:52.157Z"
   },
   {
    "duration": 11,
    "start_time": "2023-09-07T15:12:52.179Z"
   },
   {
    "duration": 1171,
    "start_time": "2023-09-07T15:14:48.703Z"
   },
   {
    "duration": 31,
    "start_time": "2023-09-07T15:14:49.876Z"
   },
   {
    "duration": 5,
    "start_time": "2023-09-07T15:14:49.909Z"
   },
   {
    "duration": 67,
    "start_time": "2023-09-07T15:14:49.916Z"
   },
   {
    "duration": 5,
    "start_time": "2023-09-07T15:14:49.985Z"
   },
   {
    "duration": 39,
    "start_time": "2023-09-07T15:14:49.992Z"
   },
   {
    "duration": 72,
    "start_time": "2023-09-07T15:14:50.033Z"
   },
   {
    "duration": 36,
    "start_time": "2023-09-07T15:14:50.107Z"
   },
   {
    "duration": 11,
    "start_time": "2023-09-07T15:14:50.145Z"
   },
   {
    "duration": 53,
    "start_time": "2023-09-07T15:14:50.157Z"
   },
   {
    "duration": 51,
    "start_time": "2023-09-07T15:14:50.213Z"
   },
   {
    "duration": 12,
    "start_time": "2023-09-07T15:14:50.266Z"
   },
   {
    "duration": 22,
    "start_time": "2023-09-07T15:14:50.356Z"
   },
   {
    "duration": 84,
    "start_time": "2023-09-07T15:14:50.383Z"
   },
   {
    "duration": 96,
    "start_time": "2023-09-07T15:14:50.473Z"
   },
   {
    "duration": 13,
    "start_time": "2023-09-07T15:14:50.570Z"
   },
   {
    "duration": 26,
    "start_time": "2023-09-07T15:14:50.585Z"
   },
   {
    "duration": 34,
    "start_time": "2023-09-07T15:14:50.613Z"
   },
   {
    "duration": 31,
    "start_time": "2023-09-07T15:14:50.649Z"
   },
   {
    "duration": 79,
    "start_time": "2023-09-07T15:14:50.682Z"
   },
   {
    "duration": 93,
    "start_time": "2023-09-07T15:14:50.767Z"
   },
   {
    "duration": 6,
    "start_time": "2023-09-07T15:14:50.867Z"
   }
  ],
  "kernelspec": {
   "display_name": "Python 3 (ipykernel)",
   "language": "python",
   "name": "python3"
  },
  "language_info": {
   "codemirror_mode": {
    "name": "ipython",
    "version": 3
   },
   "file_extension": ".py",
   "mimetype": "text/x-python",
   "name": "python",
   "nbconvert_exporter": "python",
   "pygments_lexer": "ipython3",
   "version": "3.9.5"
  },
  "toc": {
   "base_numbering": 1,
   "nav_menu": {},
   "number_sections": true,
   "sideBar": true,
   "skip_h1_title": true,
   "title_cell": "Содержание",
   "title_sidebar": "Contents",
   "toc_cell": true,
   "toc_position": {
    "height": "calc(100% - 180px)",
    "left": "10px",
    "top": "150px",
    "width": "371px"
   },
   "toc_section_display": true,
   "toc_window_display": false
  }
 },
 "nbformat": 4,
 "nbformat_minor": 2
}
