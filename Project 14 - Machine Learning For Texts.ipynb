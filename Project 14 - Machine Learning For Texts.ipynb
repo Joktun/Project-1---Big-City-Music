{
 "cells": [
  {
   "cell_type": "markdown",
   "metadata": {
    "toc": true
   },
   "source": [
    "<h1>Содержание<span class=\"tocSkip\"></span></h1>\n",
    "<div class=\"toc\"><ul class=\"toc-item\"><li><span><a href=\"#Подготовка\" data-toc-modified-id=\"Подготовка-1\"><span class=\"toc-item-num\">1&nbsp;&nbsp;</span>Подготовка</a></span></li><li><span><a href=\"#Обучение\" data-toc-modified-id=\"Обучение-2\"><span class=\"toc-item-num\">2&nbsp;&nbsp;</span>Обучение</a></span></li><li><span><a href=\"#Выводы\" data-toc-modified-id=\"Выводы-3\"><span class=\"toc-item-num\">3&nbsp;&nbsp;</span>Выводы</a></span></li><li><span><a href=\"#Чек-лист-проверки\" data-toc-modified-id=\"Чек-лист-проверки-4\"><span class=\"toc-item-num\">4&nbsp;&nbsp;</span>Чек-лист проверки</a></span></li></ul></div>"
   ]
  },
  {
   "cell_type": "markdown",
   "metadata": {},
   "source": [
    "# Проект для «Викишоп»"
   ]
  },
  {
   "cell_type": "markdown",
   "metadata": {},
   "source": [
    "Интернет-магазин «Викишоп» запускает новый сервис. Теперь пользователи могут редактировать и дополнять описания товаров, как в вики-сообществах. То есть клиенты предлагают свои правки и комментируют изменения других. Магазину нужен инструмент, который будет искать токсичные комментарии и отправлять их на модерацию. \n",
    "\n",
    "Обучите модель классифицировать комментарии на позитивные и негативные. В вашем распоряжении набор данных с разметкой о токсичности правок.\n",
    "\n",
    "Постройте модель со значением метрики качества *F1* не меньше 0.75. \n",
    "\n",
    "**Инструкция по выполнению проекта**\n",
    "\n",
    "1. Загрузите и подготовьте данные.\n",
    "2. Обучите разные модели. \n",
    "3. Сделайте выводы.\n",
    "\n",
    "Для выполнения проекта применять *BERT* необязательно, но вы можете попробовать.\n",
    "\n",
    "**Описание данных**\n",
    "\n",
    "Данные находятся в файле `toxic_comments.csv`. Столбец *text* в нём содержит текст комментария, а *toxic* — целевой признак."
   ]
  },
  {
   "cell_type": "markdown",
   "metadata": {},
   "source": [
    "## Подготовка"
   ]
  },
  {
   "cell_type": "markdown",
   "metadata": {},
   "source": [
    "Импортируем библиотеки"
   ]
  },
  {
   "cell_type": "code",
   "execution_count": 12,
   "metadata": {},
   "outputs": [],
   "source": [
    "import os\n",
    "import numpy as np\n",
    "import pandas as pd\n",
    "import re\n",
    "import nltk\n",
    "from tqdm import tqdm\n",
    "tqdm.pandas()\n",
    "from nltk.corpus import stopwords as nltk_stopwords\n",
    "from sklearn.feature_extraction.text import TfidfVectorizer\n",
    "from sklearn.model_selection import train_test_split, cross_val_score, GridSearchCV\n",
    "from sklearn.linear_model import LogisticRegression\n",
    "from catboost import CatBoostClassifier\n",
    "from sklearn.metrics import f1_score, roc_auc_score\n",
    "RND_ST = 12345\n",
    "cv_counts = 2\n",
    "import nltk"
   ]
  },
  {
   "cell_type": "code",
   "execution_count": 13,
   "metadata": {},
   "outputs": [
    {
     "name": "stdout",
     "output_type": "stream",
     "text": [
      "Requirement already satisfied: spacy in /opt/conda/lib/python3.9/site-packages (3.2.0)\n",
      "Requirement already satisfied: requests<3.0.0,>=2.13.0 in /opt/conda/lib/python3.9/site-packages (from spacy) (2.25.1)\n",
      "Requirement already satisfied: typer<0.5.0,>=0.3.0 in /opt/conda/lib/python3.9/site-packages (from spacy) (0.4.2)\n",
      "Requirement already satisfied: cymem<2.1.0,>=2.0.2 in /opt/conda/lib/python3.9/site-packages (from spacy) (2.0.6)\n",
      "Requirement already satisfied: srsly<3.0.0,>=2.4.1 in /opt/conda/lib/python3.9/site-packages (from spacy) (2.4.4)\n",
      "Requirement already satisfied: spacy-legacy<3.1.0,>=3.0.8 in /opt/conda/lib/python3.9/site-packages (from spacy) (3.0.10)\n",
      "Requirement already satisfied: pathy>=0.3.5 in /opt/conda/lib/python3.9/site-packages (from spacy) (0.6.2)\n",
      "Requirement already satisfied: numpy>=1.15.0 in /opt/conda/lib/python3.9/site-packages (from spacy) (1.21.1)\n",
      "Requirement already satisfied: langcodes<4.0.0,>=3.2.0 in /opt/conda/lib/python3.9/site-packages (from spacy) (3.3.0)\n",
      "Requirement already satisfied: spacy-loggers<2.0.0,>=1.0.0 in /opt/conda/lib/python3.9/site-packages (from spacy) (1.0.3)\n",
      "Requirement already satisfied: murmurhash<1.1.0,>=0.28.0 in /opt/conda/lib/python3.9/site-packages (from spacy) (1.0.8)\n",
      "Requirement already satisfied: tqdm<5.0.0,>=4.38.0 in /opt/conda/lib/python3.9/site-packages (from spacy) (4.61.2)\n",
      "Requirement already satisfied: jinja2 in /opt/conda/lib/python3.9/site-packages (from spacy) (3.0.1)\n",
      "Requirement already satisfied: thinc<8.1.0,>=8.0.12 in /opt/conda/lib/python3.9/site-packages (from spacy) (8.0.17)\n",
      "Requirement already satisfied: blis<0.8.0,>=0.4.0 in /opt/conda/lib/python3.9/site-packages (from spacy) (0.7.8)\n",
      "Requirement already satisfied: wasabi<1.1.0,>=0.8.1 in /opt/conda/lib/python3.9/site-packages (from spacy) (0.10.1)\n",
      "Requirement already satisfied: packaging>=20.0 in /opt/conda/lib/python3.9/site-packages (from spacy) (21.3)\n",
      "Requirement already satisfied: setuptools in /opt/conda/lib/python3.9/site-packages (from spacy) (49.6.0.post20210108)\n",
      "Requirement already satisfied: pydantic!=1.8,!=1.8.1,<1.9.0,>=1.7.4 in /opt/conda/lib/python3.9/site-packages (from spacy) (1.8.2)\n",
      "Requirement already satisfied: catalogue<2.1.0,>=2.0.6 in /opt/conda/lib/python3.9/site-packages (from spacy) (2.0.8)\n",
      "Requirement already satisfied: preshed<3.1.0,>=3.0.2 in /opt/conda/lib/python3.9/site-packages (from spacy) (3.0.7)\n",
      "Requirement already satisfied: pyparsing!=3.0.5,>=2.0.2 in /opt/conda/lib/python3.9/site-packages (from packaging>=20.0->spacy) (2.4.7)\n",
      "Requirement already satisfied: smart-open<6.0.0,>=5.2.1 in /opt/conda/lib/python3.9/site-packages (from pathy>=0.3.5->spacy) (5.2.1)\n",
      "Requirement already satisfied: typing-extensions>=3.7.4.3 in /opt/conda/lib/python3.9/site-packages (from pydantic!=1.8,!=1.8.1,<1.9.0,>=1.7.4->spacy) (4.3.0)\n",
      "Requirement already satisfied: urllib3<1.27,>=1.21.1 in /opt/conda/lib/python3.9/site-packages (from requests<3.0.0,>=2.13.0->spacy) (1.26.6)\n",
      "Requirement already satisfied: chardet<5,>=3.0.2 in /opt/conda/lib/python3.9/site-packages (from requests<3.0.0,>=2.13.0->spacy) (4.0.0)\n",
      "Requirement already satisfied: certifi>=2017.4.17 in /opt/conda/lib/python3.9/site-packages (from requests<3.0.0,>=2.13.0->spacy) (2022.6.15)\n",
      "Requirement already satisfied: idna<3,>=2.5 in /opt/conda/lib/python3.9/site-packages (from requests<3.0.0,>=2.13.0->spacy) (2.10)\n",
      "Requirement already satisfied: click<9.0.0,>=7.1.1 in /opt/conda/lib/python3.9/site-packages (from typer<0.5.0,>=0.3.0->spacy) (8.1.3)\n",
      "Requirement already satisfied: MarkupSafe>=2.0 in /opt/conda/lib/python3.9/site-packages (from jinja2->spacy) (2.1.1)\n",
      "\u001b[38;5;3m⚠ As of spaCy v3.0, shortcuts like 'en' are deprecated. Please use the\n",
      "full pipeline package name 'en_core_web_sm' instead.\u001b[0m\n",
      "Collecting en-core-web-sm==3.2.0\n",
      "  Downloading https://github.com/explosion/spacy-models/releases/download/en_core_web_sm-3.2.0/en_core_web_sm-3.2.0-py3-none-any.whl (13.9 MB)\n",
      "\u001b[K     |████████████████████████████████| 13.9 MB 1.0 MB/s eta 0:00:01\n",
      "\u001b[?25hRequirement already satisfied: spacy<3.3.0,>=3.2.0 in /opt/conda/lib/python3.9/site-packages (from en-core-web-sm==3.2.0) (3.2.0)\n",
      "Requirement already satisfied: cymem<2.1.0,>=2.0.2 in /opt/conda/lib/python3.9/site-packages (from spacy<3.3.0,>=3.2.0->en-core-web-sm==3.2.0) (2.0.6)\n",
      "Requirement already satisfied: preshed<3.1.0,>=3.0.2 in /opt/conda/lib/python3.9/site-packages (from spacy<3.3.0,>=3.2.0->en-core-web-sm==3.2.0) (3.0.7)\n",
      "Requirement already satisfied: murmurhash<1.1.0,>=0.28.0 in /opt/conda/lib/python3.9/site-packages (from spacy<3.3.0,>=3.2.0->en-core-web-sm==3.2.0) (1.0.8)\n",
      "Requirement already satisfied: requests<3.0.0,>=2.13.0 in /opt/conda/lib/python3.9/site-packages (from spacy<3.3.0,>=3.2.0->en-core-web-sm==3.2.0) (2.25.1)\n",
      "Requirement already satisfied: pathy>=0.3.5 in /opt/conda/lib/python3.9/site-packages (from spacy<3.3.0,>=3.2.0->en-core-web-sm==3.2.0) (0.6.2)\n",
      "Requirement already satisfied: catalogue<2.1.0,>=2.0.6 in /opt/conda/lib/python3.9/site-packages (from spacy<3.3.0,>=3.2.0->en-core-web-sm==3.2.0) (2.0.8)\n",
      "Requirement already satisfied: numpy>=1.15.0 in /opt/conda/lib/python3.9/site-packages (from spacy<3.3.0,>=3.2.0->en-core-web-sm==3.2.0) (1.21.1)\n",
      "Requirement already satisfied: spacy-legacy<3.1.0,>=3.0.8 in /opt/conda/lib/python3.9/site-packages (from spacy<3.3.0,>=3.2.0->en-core-web-sm==3.2.0) (3.0.10)\n",
      "Requirement already satisfied: wasabi<1.1.0,>=0.8.1 in /opt/conda/lib/python3.9/site-packages (from spacy<3.3.0,>=3.2.0->en-core-web-sm==3.2.0) (0.10.1)\n",
      "Requirement already satisfied: typer<0.5.0,>=0.3.0 in /opt/conda/lib/python3.9/site-packages (from spacy<3.3.0,>=3.2.0->en-core-web-sm==3.2.0) (0.4.2)\n",
      "Requirement already satisfied: pydantic!=1.8,!=1.8.1,<1.9.0,>=1.7.4 in /opt/conda/lib/python3.9/site-packages (from spacy<3.3.0,>=3.2.0->en-core-web-sm==3.2.0) (1.8.2)\n",
      "Requirement already satisfied: blis<0.8.0,>=0.4.0 in /opt/conda/lib/python3.9/site-packages (from spacy<3.3.0,>=3.2.0->en-core-web-sm==3.2.0) (0.7.8)\n",
      "Requirement already satisfied: packaging>=20.0 in /opt/conda/lib/python3.9/site-packages (from spacy<3.3.0,>=3.2.0->en-core-web-sm==3.2.0) (21.3)\n",
      "Requirement already satisfied: tqdm<5.0.0,>=4.38.0 in /opt/conda/lib/python3.9/site-packages (from spacy<3.3.0,>=3.2.0->en-core-web-sm==3.2.0) (4.61.2)\n",
      "Requirement already satisfied: spacy-loggers<2.0.0,>=1.0.0 in /opt/conda/lib/python3.9/site-packages (from spacy<3.3.0,>=3.2.0->en-core-web-sm==3.2.0) (1.0.3)\n",
      "Requirement already satisfied: langcodes<4.0.0,>=3.2.0 in /opt/conda/lib/python3.9/site-packages (from spacy<3.3.0,>=3.2.0->en-core-web-sm==3.2.0) (3.3.0)\n",
      "Requirement already satisfied: thinc<8.1.0,>=8.0.12 in /opt/conda/lib/python3.9/site-packages (from spacy<3.3.0,>=3.2.0->en-core-web-sm==3.2.0) (8.0.17)\n",
      "Requirement already satisfied: jinja2 in /opt/conda/lib/python3.9/site-packages (from spacy<3.3.0,>=3.2.0->en-core-web-sm==3.2.0) (3.0.1)\n",
      "Requirement already satisfied: srsly<3.0.0,>=2.4.1 in /opt/conda/lib/python3.9/site-packages (from spacy<3.3.0,>=3.2.0->en-core-web-sm==3.2.0) (2.4.4)\n",
      "Requirement already satisfied: setuptools in /opt/conda/lib/python3.9/site-packages (from spacy<3.3.0,>=3.2.0->en-core-web-sm==3.2.0) (49.6.0.post20210108)\n",
      "Requirement already satisfied: pyparsing!=3.0.5,>=2.0.2 in /opt/conda/lib/python3.9/site-packages (from packaging>=20.0->spacy<3.3.0,>=3.2.0->en-core-web-sm==3.2.0) (2.4.7)\n",
      "Requirement already satisfied: smart-open<6.0.0,>=5.2.1 in /opt/conda/lib/python3.9/site-packages (from pathy>=0.3.5->spacy<3.3.0,>=3.2.0->en-core-web-sm==3.2.0) (5.2.1)\n",
      "Requirement already satisfied: typing-extensions>=3.7.4.3 in /opt/conda/lib/python3.9/site-packages (from pydantic!=1.8,!=1.8.1,<1.9.0,>=1.7.4->spacy<3.3.0,>=3.2.0->en-core-web-sm==3.2.0) (4.3.0)\n",
      "Requirement already satisfied: chardet<5,>=3.0.2 in /opt/conda/lib/python3.9/site-packages (from requests<3.0.0,>=2.13.0->spacy<3.3.0,>=3.2.0->en-core-web-sm==3.2.0) (4.0.0)\n",
      "Requirement already satisfied: certifi>=2017.4.17 in /opt/conda/lib/python3.9/site-packages (from requests<3.0.0,>=2.13.0->spacy<3.3.0,>=3.2.0->en-core-web-sm==3.2.0) (2022.6.15)\n",
      "Requirement already satisfied: urllib3<1.27,>=1.21.1 in /opt/conda/lib/python3.9/site-packages (from requests<3.0.0,>=2.13.0->spacy<3.3.0,>=3.2.0->en-core-web-sm==3.2.0) (1.26.6)\n",
      "Requirement already satisfied: idna<3,>=2.5 in /opt/conda/lib/python3.9/site-packages (from requests<3.0.0,>=2.13.0->spacy<3.3.0,>=3.2.0->en-core-web-sm==3.2.0) (2.10)\n",
      "Requirement already satisfied: click<9.0.0,>=7.1.1 in /opt/conda/lib/python3.9/site-packages (from typer<0.5.0,>=0.3.0->spacy<3.3.0,>=3.2.0->en-core-web-sm==3.2.0) (8.1.3)\n",
      "Requirement already satisfied: MarkupSafe>=2.0 in /opt/conda/lib/python3.9/site-packages (from jinja2->spacy<3.3.0,>=3.2.0->en-core-web-sm==3.2.0) (2.1.1)\n",
      "\u001b[38;5;2m✔ Download and installation successful\u001b[0m\n",
      "You can now load the package via spacy.load('en_core_web_sm')\n"
     ]
    }
   ],
   "source": [
    "import sys\n",
    "!{sys.executable} -m pip install spacy\n",
    "!{sys.executable} -m spacy download en\n",
    "import spacy"
   ]
  },
  {
   "cell_type": "markdown",
   "metadata": {},
   "source": [
    "Грузим датасет"
   ]
  },
  {
   "cell_type": "code",
   "execution_count": 14,
   "metadata": {},
   "outputs": [],
   "source": [
    "pth = '/datasets/toxic_comments.csv'\n",
    "if os.path.exists(pth):\n",
    "    df = pd.read_csv(pth,index_col=[0])\n",
    "else:\n",
    "    print('Путь не таков')"
   ]
  },
  {
   "cell_type": "markdown",
   "metadata": {},
   "source": [
    "Выводим общую инфу по датасету"
   ]
  },
  {
   "cell_type": "code",
   "execution_count": 15,
   "metadata": {},
   "outputs": [],
   "source": [
    "def info_func(df):\n",
    "    print('Общая информация')\n",
    "    print('')\n",
    "    print(df.info())\n",
    "    print('')\n",
    "    print(df.describe())\n",
    "    print('')\n",
    "    for column in df.columns:\n",
    "        print('Уникальные значения столбца', column)\n",
    "        print('')\n",
    "        print(df[column].unique())\n",
    "        print('')\n",
    "    print('Кол-во строк дубликатов')\n",
    "    print('')\n",
    "    print(df[df.duplicated()].count().sort_values(ascending=False))\n",
    "    print('')\n",
    "    print('Кол-во пропущенных значений')\n",
    "    print('')\n",
    "    print(df.isna().sum().sort_values(ascending=False))\n",
    "    print('')\n",
    "    print('Процент пропущенных значений')\n",
    "    print('')\n",
    "    print((df.isna().sum()/len(df)*100).sort_values(ascending=False))\n",
    "    print('')\n",
    "    print(df.head(-5))"
   ]
  },
  {
   "cell_type": "code",
   "execution_count": 16,
   "metadata": {},
   "outputs": [
    {
     "name": "stdout",
     "output_type": "stream",
     "text": [
      "Общая информация\n",
      "\n",
      "<class 'pandas.core.frame.DataFrame'>\n",
      "Int64Index: 159292 entries, 0 to 159450\n",
      "Data columns (total 2 columns):\n",
      " #   Column  Non-Null Count   Dtype \n",
      "---  ------  --------------   ----- \n",
      " 0   text    159292 non-null  object\n",
      " 1   toxic   159292 non-null  int64 \n",
      "dtypes: int64(1), object(1)\n",
      "memory usage: 3.6+ MB\n",
      "None\n",
      "\n",
      "               toxic\n",
      "count  159292.000000\n",
      "mean        0.101612\n",
      "std         0.302139\n",
      "min         0.000000\n",
      "25%         0.000000\n",
      "50%         0.000000\n",
      "75%         0.000000\n",
      "max         1.000000\n",
      "\n",
      "Уникальные значения столбца text\n",
      "\n",
      "[\"Explanation\\nWhy the edits made under my username Hardcore Metallica Fan were reverted? They weren't vandalisms, just closure on some GAs after I voted at New York Dolls FAC. And please don't remove the template from the talk page since I'm retired now.89.205.38.27\"\n",
      " \"D'aww! He matches this background colour I'm seemingly stuck with. Thanks.  (talk) 21:51, January 11, 2016 (UTC)\"\n",
      " \"Hey man, I'm really not trying to edit war. It's just that this guy is constantly removing relevant information and talking to me through edits instead of my talk page. He seems to care more about the formatting than the actual info.\"\n",
      " ...\n",
      " 'Spitzer \\n\\nUmm, theres no actual article for prostitution ring.  - Crunch Captain.'\n",
      " 'And it looks like it was actually you who put on the speedy to have the first version deleted now that I look at it.'\n",
      " '\"\\nAnd ... I really don\\'t think you understand.  I came here and my idea was bad right away.  What kind of community goes \"\"you have bad ideas\"\" go away, instead of helping rewrite them.   \"']\n",
      "\n",
      "Уникальные значения столбца toxic\n",
      "\n",
      "[0 1]\n",
      "\n",
      "Кол-во строк дубликатов\n",
      "\n",
      "text     0\n",
      "toxic    0\n",
      "dtype: int64\n",
      "\n",
      "Кол-во пропущенных значений\n",
      "\n",
      "text     0\n",
      "toxic    0\n",
      "dtype: int64\n",
      "\n",
      "Процент пропущенных значений\n",
      "\n",
      "text     0.0\n",
      "toxic    0.0\n",
      "dtype: float64\n",
      "\n",
      "                                                     text  toxic\n",
      "0       Explanation\\nWhy the edits made under my usern...      0\n",
      "1       D'aww! He matches this background colour I'm s...      0\n",
      "2       Hey man, I'm really not trying to edit war. It...      0\n",
      "3       \"\\nMore\\nI can't make any real suggestions on ...      0\n",
      "4       You, sir, are my hero. Any chance you remember...      0\n",
      "...                                                   ...    ...\n",
      "159441  \"\\nNo he did not, read it again (I would have ...      0\n",
      "159442  \"\\n Auto guides and the motoring press are not...      0\n",
      "159443  \"\\nplease identify what part of BLP applies be...      0\n",
      "159444  Catalan independentism is the social movement ...      0\n",
      "159445  The numbers in parentheses are the additional ...      0\n",
      "\n",
      "[159287 rows x 2 columns]\n"
     ]
    }
   ],
   "source": [
    "info_func(df)"
   ]
  },
  {
   "cell_type": "markdown",
   "metadata": {},
   "source": [
    "Смотрим отношение токсичных комментов ко всему объему"
   ]
  },
  {
   "cell_type": "code",
   "execution_count": 17,
   "metadata": {},
   "outputs": [
    {
     "data": {
      "text/plain": [
       "0    143106\n",
       "1     16186\n",
       "Name: toxic, dtype: int64"
      ]
     },
     "metadata": {},
     "output_type": "display_data"
    },
    {
     "name": "stdout",
     "output_type": "stream",
     "text": [
      "Процент токсичности\n"
     ]
    },
    {
     "data": {
      "text/plain": [
       "8.841344371679229"
      ]
     },
     "execution_count": 17,
     "metadata": {},
     "output_type": "execute_result"
    }
   ],
   "source": [
    "display(df['toxic'].value_counts())\n",
    "ratio = df['toxic'].value_counts()[0] / df['toxic'].value_counts()[1]\n",
    "print('Процент токсичности')\n",
    "ratio"
   ]
  },
  {
   "cell_type": "markdown",
   "metadata": {},
   "source": [
    "Присутствует явный дисбаланс."
   ]
  },
  {
   "cell_type": "markdown",
   "metadata": {},
   "source": [
    "Приведем слова к начальной форме и избавим от лишних символов"
   ]
  },
  {
   "cell_type": "code",
   "execution_count": 18,
   "metadata": {},
   "outputs": [
    {
     "name": "stdout",
     "output_type": "stream",
     "text": [
      "                                                text\n",
      "0  The striped bats are hanging on their feet for...\n",
      "1      you should be ashamed of yourself went worked\n",
      "0    the stripe bat be hang on their foot for good\n",
      "1        you should be ashamed of yourself go work\n",
      "Name: text, dtype: object\n"
     ]
    }
   ],
   "source": [
    "nlp = spacy.load('en_core_web_sm', disable=['parser', 'ner'])\n",
    "\n",
    "def lemmatize(text):\n",
    "    text = text.lower()\n",
    "    doc = nlp(text)\n",
    "    lemm = \" \".join([token.lemma_ for token in doc])\n",
    "    cleared_text = re.sub(r'[^a-zA-Z]', ' ', lemm) \n",
    "    return \" \".join(cleared_text.split())\n",
    "\n",
    "sentence1 = \"The striped bats are hanging on their feet for best\"\n",
    "sentence2 = \"you should be ashamed of yourself went worked\"\n",
    "df_my = pd.DataFrame([sentence1, sentence2], columns = ['text'])\n",
    "print(df_my)\n",
    "\n",
    "\n",
    "print(df_my['text'].apply(lemmatize))"
   ]
  },
  {
   "cell_type": "code",
   "execution_count": 19,
   "metadata": {},
   "outputs": [
    {
     "name": "stderr",
     "output_type": "stream",
     "text": [
      "100%|██████████| 159292/159292 [16:09<00:00, 164.23it/s]\n"
     ]
    }
   ],
   "source": [
    "df['lemm'] = df['text'].progress_apply(lemmatize)\n",
    "\n",
    "df = df.drop(['text'], axis=1)"
   ]
  },
  {
   "cell_type": "markdown",
   "metadata": {},
   "source": [
    "Создадим признаки и цель. Тренировочную, валидационную и тестовую выборки."
   ]
  },
  {
   "cell_type": "code",
   "execution_count": 20,
   "metadata": {},
   "outputs": [],
   "source": [
    "target = df['toxic']\n",
    "features = df.drop(['toxic'], axis=1)\n",
    "\n",
    "features_train, features_valid, target_train, target_valid = train_test_split(features, target, test_size=0.5, random_state=RND_ST)\n",
    "features_valid, features_test, target_valid, target_test = train_test_split(features_valid, target_valid, test_size=0.5, random_state=RND_ST)"
   ]
  },
  {
   "cell_type": "markdown",
   "metadata": {},
   "source": [
    "Грузим стоп-слова, так как текст английский, то грузим английские"
   ]
  },
  {
   "cell_type": "code",
   "execution_count": 21,
   "metadata": {},
   "outputs": [
    {
     "name": "stderr",
     "output_type": "stream",
     "text": [
      "[nltk_data] Downloading package stopwords to /home/jovyan/nltk_data...\n",
      "[nltk_data]   Package stopwords is already up-to-date!\n"
     ]
    }
   ],
   "source": [
    "nltk.download('stopwords')\n",
    "stopwords = set(nltk_stopwords.words('english'))"
   ]
  },
  {
   "cell_type": "markdown",
   "metadata": {},
   "source": [
    "Создаем счетчик, и считаем TF-IDF для корпуса текстов. fit запускаем только на обучающей иначе тестирование будет нечестным."
   ]
  },
  {
   "cell_type": "code",
   "execution_count": 22,
   "metadata": {},
   "outputs": [
    {
     "name": "stdout",
     "output_type": "stream",
     "text": [
      "(79646, 100866)\n",
      "(39823, 100866)\n",
      "(39823, 100866)\n"
     ]
    }
   ],
   "source": [
    "count_tf_idf = TfidfVectorizer(stop_words=stopwords)\n",
    "\n",
    "features_train = count_tf_idf.fit_transform(features_train['lemm'])\n",
    "features_valid = count_tf_idf.transform(features_valid['lemm'])\n",
    "features_test = count_tf_idf.transform(features_test['lemm'])\n",
    "print(features_train.shape)\n",
    "print(features_valid.shape)\n",
    "print(features_test.shape)"
   ]
  },
  {
   "cell_type": "code",
   "execution_count": 23,
   "metadata": {},
   "outputs": [
    {
     "name": "stdout",
     "output_type": "stream",
     "text": [
      "F1 на кросс-валидации с несбалансированными классами 0.6552225989020453\n"
     ]
    }
   ],
   "source": [
    "model_LR = LogisticRegression()\n",
    "train_f1 = cross_val_score(model_LR, features_train, target_train, cv=cv_counts, scoring='f1').mean()\n",
    "print('F1 на кросс-валидации с несбалансированными классами', train_f1)"
   ]
  },
  {
   "cell_type": "markdown",
   "metadata": {},
   "source": [
    "Теперь попробуем сбалансировать уменьшением весов классов"
   ]
  },
  {
   "cell_type": "code",
   "execution_count": 24,
   "metadata": {},
   "outputs": [
    {
     "name": "stderr",
     "output_type": "stream",
     "text": [
      "/opt/conda/lib/python3.9/site-packages/sklearn/linear_model/_logistic.py:763: ConvergenceWarning: lbfgs failed to converge (status=1):\n",
      "STOP: TOTAL NO. of ITERATIONS REACHED LIMIT.\n",
      "\n",
      "Increase the number of iterations (max_iter) or scale the data as shown in:\n",
      "    https://scikit-learn.org/stable/modules/preprocessing.html\n",
      "Please also refer to the documentation for alternative solver options:\n",
      "    https://scikit-learn.org/stable/modules/linear_model.html#logistic-regression\n",
      "  n_iter_i = _check_optimize_result(\n"
     ]
    },
    {
     "name": "stdout",
     "output_type": "stream",
     "text": [
      "F1 на кросс-валидации с сбалансированными классами 0.7487778073326934\n"
     ]
    }
   ],
   "source": [
    "classes={0:1, 1:ratio}\n",
    "model_LR = LogisticRegression(class_weight=classes)\n",
    "train_f1_balanced = cross_val_score(model_LR, features_train, target_train, cv=cv_counts, scoring='f1').mean()\n",
    "print('F1 на кросс-валидации с сбалансированными классами', train_f1_balanced)"
   ]
  },
  {
   "cell_type": "markdown",
   "metadata": {},
   "source": [
    "Посмотрим на AUC-ROC и решим помогла балансировка или нет"
   ]
  },
  {
   "cell_type": "code",
   "execution_count": 25,
   "metadata": {},
   "outputs": [
    {
     "name": "stderr",
     "output_type": "stream",
     "text": [
      "/opt/conda/lib/python3.9/site-packages/sklearn/linear_model/_logistic.py:763: ConvergenceWarning: lbfgs failed to converge (status=1):\n",
      "STOP: TOTAL NO. of ITERATIONS REACHED LIMIT.\n",
      "\n",
      "Increase the number of iterations (max_iter) or scale the data as shown in:\n",
      "    https://scikit-learn.org/stable/modules/preprocessing.html\n",
      "Please also refer to the documentation for alternative solver options:\n",
      "    https://scikit-learn.org/stable/modules/linear_model.html#logistic-regression\n",
      "  n_iter_i = _check_optimize_result(\n",
      "/opt/conda/lib/python3.9/site-packages/sklearn/linear_model/_logistic.py:763: ConvergenceWarning: lbfgs failed to converge (status=1):\n",
      "STOP: TOTAL NO. of ITERATIONS REACHED LIMIT.\n",
      "\n",
      "Increase the number of iterations (max_iter) or scale the data as shown in:\n",
      "    https://scikit-learn.org/stable/modules/preprocessing.html\n",
      "Please also refer to the documentation for alternative solver options:\n",
      "    https://scikit-learn.org/stable/modules/linear_model.html#logistic-regression\n",
      "  n_iter_i = _check_optimize_result(\n"
     ]
    }
   ],
   "source": [
    "model_LR = LogisticRegression()\n",
    "model_LR.fit(features_train, target_train)\n",
    "probabilities_valid = model_LR.predict_proba(features_valid)\n",
    "probabilities_one_valid = probabilities_valid[:, 1]\n",
    "roc_auc = roc_auc_score(target_valid, probabilities_one_valid)\n",
    "valid_f1 = f1_score(target_valid, model_LR.predict(features_valid))\n",
    "\n",
    "\n",
    "model_LR = LogisticRegression(class_weight=classes)\n",
    "model_LR.fit(features_train, target_train)\n",
    "probabilities_valid = model_LR.predict_proba(features_valid)\n",
    "probabilities_one_valid = probabilities_valid[:, 1]\n",
    "roc_auc_balanced = roc_auc_score(target_valid, probabilities_one_valid)\n",
    "valid_f1_balanced = f1_score(target_valid, model_LR.predict(features_valid))"
   ]
  },
  {
   "cell_type": "code",
   "execution_count": 26,
   "metadata": {},
   "outputs": [
    {
     "name": "stdout",
     "output_type": "stream",
     "text": [
      "F1 на валидации с несбалансированными классами: 0.7228658536585366\n",
      "F1 на валидации с сбалансированными классами: 0.74738714698688\n",
      "ROC-AUC на валидации с несбалансированными классами: 0.9675866481852536\n",
      "ROC-AUC на валидации с сбалансированными классами: 0.9696374098159376\n"
     ]
    }
   ],
   "source": [
    "print('F1 на валидации с несбалансированными классами:', valid_f1)\n",
    "print('F1 на валидации с сбалансированными классами:', valid_f1_balanced)\n",
    "print('ROC-AUC на валидации с несбалансированными классами:', roc_auc)\n",
    "print('ROC-AUC на валидации с сбалансированными классами:', roc_auc_balanced)"
   ]
  },
  {
   "cell_type": "markdown",
   "metadata": {},
   "source": [
    "Очень хорошие показатели ROC-AUC на сбалансированных и несбалансированных данных. Балансировка немного помогла. Далее будем применять сбалансированные."
   ]
  },
  {
   "cell_type": "markdown",
   "metadata": {},
   "source": [
    "## Обучение"
   ]
  },
  {
   "cell_type": "markdown",
   "metadata": {},
   "source": [
    "С помощью GridSearchCV подберем параметры для LogisticRegression"
   ]
  },
  {
   "cell_type": "code",
   "execution_count": 27,
   "metadata": {},
   "outputs": [
    {
     "name": "stdout",
     "output_type": "stream",
     "text": [
      "Лучшие параметры:\n",
      "\n",
      "{'C': 10, 'class_weight': {0: 1, 1: 8.841344371679229}, 'solver': 'newton-cg'}\n",
      "CPU times: user 34.4 s, sys: 1min 11s, total: 1min 45s\n",
      "Wall time: 1min 45s\n"
     ]
    }
   ],
   "source": [
    "%%time\n",
    "\n",
    "classificator = LogisticRegression()\n",
    "hyperparams = [{'solver':['newton-cg', 'liblinear'],'C':[0.1, 1, 10],'class_weight':[classes]}]\n",
    "\n",
    "grd = GridSearchCV(classificator, hyperparams, scoring='f1',cv=cv_counts)\n",
    "grd.fit(features_train, target_train)\n",
    "print(\"Лучшие параметры:\")\n",
    "print()\n",
    "LR_best_params = grd.best_params_\n",
    "print(LR_best_params)"
   ]
  },
  {
   "cell_type": "markdown",
   "metadata": {},
   "source": [
    "Обучим LogisticRegression"
   ]
  },
  {
   "cell_type": "code",
   "execution_count": 28,
   "metadata": {},
   "outputs": [
    {
     "name": "stdout",
     "output_type": "stream",
     "text": [
      "F1 на кросс-валидации 0.7579091344825816\n",
      "F1 на валидации 0.7534795942439254\n",
      "CPU times: user 19 s, sys: 32.1 s, total: 51 s\n",
      "Wall time: 51.1 s\n"
     ]
    }
   ],
   "source": [
    "%%time\n",
    "\n",
    "model_1 = LogisticRegression()\n",
    "model_1.set_params(**LR_best_params)\n",
    "model_1.fit(features_train, target_train)\n",
    "predict_1 = model_1.predict(features_valid)\n",
    "cv_f1_LR = cross_val_score(model_1,features_train, target_train, cv=cv_counts, scoring='f1').mean()\n",
    "valid_f1_LR = f1_score(target_valid, predict_1)\n",
    "print('F1 на кросс-валидации', cv_f1_LR)\n",
    "print('F1 на валидации', valid_f1_LR)"
   ]
  },
  {
   "cell_type": "markdown",
   "metadata": {},
   "source": [
    "Обучим CatBoostClassifier"
   ]
  },
  {
   "cell_type": "code",
   "execution_count": 29,
   "metadata": {},
   "outputs": [
    {
     "name": "stdout",
     "output_type": "stream",
     "text": [
      "F1 на кросс-валидации 0.7217702519055585\n",
      "F1 на валидации 0.7434661994451743\n",
      "CPU times: user 12min 24s, sys: 1min 43s, total: 14min 8s\n",
      "Wall time: 14min 11s\n"
     ]
    }
   ],
   "source": [
    "%%time\n",
    "\n",
    "model_2 = CatBoostClassifier(verbose=False, iterations=250)\n",
    "model_2.fit(features_train, target_train)\n",
    "predict_2 = model_2.predict(features_valid)\n",
    "cv_f1_CBC = cross_val_score(model_2,features_train, target_train, cv=cv_counts, scoring='f1').mean()\n",
    "valid_f1_CBC = f1_score(target_valid, predict_2)\n",
    "print('F1 на кросс-валидации', cv_f1_CBC)\n",
    "print('F1 на валидации', valid_f1_CBC)"
   ]
  },
  {
   "cell_type": "markdown",
   "metadata": {},
   "source": [
    "CatBoostClassifier возможно сможет показать себя лучше при большем кол-ве итераций, но это долго"
   ]
  },
  {
   "cell_type": "markdown",
   "metadata": {},
   "source": [
    "Выведем сводную таблицу по результатам"
   ]
  },
  {
   "cell_type": "code",
   "execution_count": 30,
   "metadata": {},
   "outputs": [
    {
     "data": {
      "text/html": [
       "<div>\n",
       "<style scoped>\n",
       "    .dataframe tbody tr th:only-of-type {\n",
       "        vertical-align: middle;\n",
       "    }\n",
       "\n",
       "    .dataframe tbody tr th {\n",
       "        vertical-align: top;\n",
       "    }\n",
       "\n",
       "    .dataframe thead th {\n",
       "        text-align: right;\n",
       "    }\n",
       "</style>\n",
       "<table border=\"1\" class=\"dataframe\">\n",
       "  <thead>\n",
       "    <tr style=\"text-align: right;\">\n",
       "      <th></th>\n",
       "      <th>F1 на кросс-валидации</th>\n",
       "      <th>F1 на валидации</th>\n",
       "      <th>Выполнение задачи</th>\n",
       "    </tr>\n",
       "  </thead>\n",
       "  <tbody>\n",
       "    <tr>\n",
       "      <th>LogisticRegression</th>\n",
       "      <td>0.757909</td>\n",
       "      <td>0.753480</td>\n",
       "      <td>True</td>\n",
       "    </tr>\n",
       "    <tr>\n",
       "      <th>CatBoostClassifier</th>\n",
       "      <td>0.721770</td>\n",
       "      <td>0.743466</td>\n",
       "      <td>False</td>\n",
       "    </tr>\n",
       "  </tbody>\n",
       "</table>\n",
       "</div>"
      ],
      "text/plain": [
       "                    F1 на кросс-валидации  F1 на валидации  Выполнение задачи\n",
       "LogisticRegression               0.757909         0.753480               True\n",
       "CatBoostClassifier               0.721770         0.743466              False"
      ]
     },
     "execution_count": 30,
     "metadata": {},
     "output_type": "execute_result"
    }
   ],
   "source": [
    "index = ['LogisticRegression','CatBoostClassifier']\n",
    "data = {'F1 на кросс-валидации':[cv_f1_LR,cv_f1_CBC],'F1 на валидации':[valid_f1_LR,valid_f1_CBC]}\n",
    "\n",
    "scores = pd.DataFrame(data=data, index=index)\n",
    "scores['Выполнение задачи'] = scores['F1 на валидации'] > 0.75\n",
    "scores"
   ]
  },
  {
   "cell_type": "markdown",
   "metadata": {},
   "source": [
    "## Выводы"
   ]
  },
  {
   "cell_type": "code",
   "execution_count": 31,
   "metadata": {},
   "outputs": [
    {
     "name": "stdout",
     "output_type": "stream",
     "text": [
      "ROC-AUC: 0.9623142793336896\n",
      "F1: 0.7598346131128176\n",
      "CPU times: user 8.46 s, sys: 17.9 s, total: 26.4 s\n",
      "Wall time: 26.4 s\n"
     ]
    }
   ],
   "source": [
    "%%time\n",
    "\n",
    "model_test = LogisticRegression()\n",
    "model_test.set_params(**LR_best_params)\n",
    "model_test.fit(features_train, target_train)\n",
    "probabilities_test = model_test.predict_proba(features_test)\n",
    "probabilities_one_test = probabilities_test[:, 1]\n",
    "predict_test = model_test.predict(features_test)\n",
    "print('ROC-AUC:', roc_auc_score(target_test, probabilities_one_test))\n",
    "print('F1:', f1_score(target_test, predict_test))"
   ]
  },
  {
   "cell_type": "markdown",
   "metadata": {},
   "source": [
    "LogisticRegression оказалась наилучшей моделью с f1_score на тестовой выборке = 0.76 и roc_auc на тестовой выборке = 0.96 , что соотвествует условию."
   ]
  },
  {
   "cell_type": "markdown",
   "metadata": {},
   "source": [
    "## Чек-лист проверки"
   ]
  },
  {
   "cell_type": "markdown",
   "metadata": {},
   "source": [
    "- [x]  Jupyter Notebook открыт\n",
    "- [x]  Весь код выполняется без ошибок\n",
    "- [x]  Ячейки с кодом расположены в порядке исполнения\n",
    "- [x]  Данные загружены и подготовлены\n",
    "- [x]  Модели обучены\n",
    "- [x]  Значение метрики *F1* не меньше 0.75\n",
    "- [x]  Выводы написаны"
   ]
  }
 ],
 "metadata": {
  "ExecuteTimeLog": [
   {
    "duration": 1743,
    "start_time": "2023-10-10T08:33:45.932Z"
   },
   {
    "duration": 2366,
    "start_time": "2023-10-10T08:33:48.611Z"
   },
   {
    "duration": 6,
    "start_time": "2023-10-10T08:34:05.013Z"
   },
   {
    "duration": 500,
    "start_time": "2023-10-10T08:34:09.802Z"
   },
   {
    "duration": 4,
    "start_time": "2023-10-10T10:22:49.563Z"
   },
   {
    "duration": 877,
    "start_time": "2023-10-10T10:22:49.992Z"
   },
   {
    "duration": 5,
    "start_time": "2023-10-10T10:22:51.105Z"
   },
   {
    "duration": 480,
    "start_time": "2023-10-10T10:22:52.345Z"
   },
   {
    "duration": 17,
    "start_time": "2023-10-10T10:38:48.516Z"
   },
   {
    "duration": 11,
    "start_time": "2023-10-10T10:55:20.983Z"
   },
   {
    "duration": 7995,
    "start_time": "2023-10-10T10:56:06.750Z"
   },
   {
    "duration": 4,
    "start_time": "2023-10-10T10:57:26.502Z"
   },
   {
    "duration": 14621,
    "start_time": "2023-10-10T11:15:10.980Z"
   },
   {
    "duration": 56073,
    "start_time": "2023-10-10T11:15:25.603Z"
   },
   {
    "duration": 50404,
    "start_time": "2023-10-10T11:18:52.952Z"
   },
   {
    "duration": 50603,
    "start_time": "2023-10-10T11:19:43.358Z"
   },
   {
    "duration": 159,
    "start_time": "2023-10-10T11:20:33.963Z"
   },
   {
    "duration": 0,
    "start_time": "2023-10-10T11:20:34.125Z"
   },
   {
    "duration": 1889,
    "start_time": "2023-10-10T11:24:25.775Z"
   },
   {
    "duration": 1113,
    "start_time": "2023-10-10T11:24:27.666Z"
   },
   {
    "duration": 5,
    "start_time": "2023-10-10T11:24:28.781Z"
   },
   {
    "duration": 585,
    "start_time": "2023-10-10T11:24:28.788Z"
   },
   {
    "duration": 12,
    "start_time": "2023-10-10T11:24:29.376Z"
   },
   {
    "duration": 8779,
    "start_time": "2023-10-10T11:24:29.390Z"
   },
   {
    "duration": 14149,
    "start_time": "2023-10-10T11:24:38.171Z"
   },
   {
    "duration": 53826,
    "start_time": "2023-10-10T11:24:52.324Z"
   },
   {
    "duration": 183,
    "start_time": "2023-10-10T11:25:46.153Z"
   },
   {
    "duration": 0,
    "start_time": "2023-10-10T11:25:46.339Z"
   },
   {
    "duration": 0,
    "start_time": "2023-10-10T11:25:46.341Z"
   },
   {
    "duration": 0,
    "start_time": "2023-10-10T11:25:46.343Z"
   },
   {
    "duration": 0,
    "start_time": "2023-10-10T11:25:46.344Z"
   },
   {
    "duration": 0,
    "start_time": "2023-10-10T11:25:46.345Z"
   },
   {
    "duration": 0,
    "start_time": "2023-10-10T11:25:46.346Z"
   },
   {
    "duration": 0,
    "start_time": "2023-10-10T11:25:46.348Z"
   },
   {
    "duration": 0,
    "start_time": "2023-10-10T11:25:46.349Z"
   },
   {
    "duration": 0,
    "start_time": "2023-10-10T11:25:46.351Z"
   },
   {
    "duration": 1,
    "start_time": "2023-10-10T11:25:46.352Z"
   },
   {
    "duration": 0,
    "start_time": "2023-10-10T11:25:46.353Z"
   },
   {
    "duration": 0,
    "start_time": "2023-10-10T11:25:46.357Z"
   },
   {
    "duration": 0,
    "start_time": "2023-10-10T11:25:46.359Z"
   },
   {
    "duration": 47679,
    "start_time": "2023-10-10T11:26:22.463Z"
   },
   {
    "duration": 45096,
    "start_time": "2023-10-10T11:27:10.144Z"
   },
   {
    "duration": 24,
    "start_time": "2023-10-10T11:27:55.248Z"
   },
   {
    "duration": 0,
    "start_time": "2023-10-10T11:27:55.331Z"
   },
   {
    "duration": 0,
    "start_time": "2023-10-10T11:27:55.333Z"
   },
   {
    "duration": 0,
    "start_time": "2023-10-10T11:27:55.335Z"
   },
   {
    "duration": 1969,
    "start_time": "2023-10-10T11:41:17.708Z"
   },
   {
    "duration": 1306,
    "start_time": "2023-10-10T11:41:19.679Z"
   },
   {
    "duration": 7,
    "start_time": "2023-10-10T11:41:20.987Z"
   },
   {
    "duration": 826,
    "start_time": "2023-10-10T11:41:20.996Z"
   },
   {
    "duration": 20,
    "start_time": "2023-10-10T11:41:21.825Z"
   },
   {
    "duration": 9737,
    "start_time": "2023-10-10T11:41:21.847Z"
   },
   {
    "duration": 15129,
    "start_time": "2023-10-10T11:41:31.586Z"
   },
   {
    "duration": 194,
    "start_time": "2023-10-10T11:41:46.718Z"
   },
   {
    "duration": 0,
    "start_time": "2023-10-10T11:41:46.914Z"
   },
   {
    "duration": 0,
    "start_time": "2023-10-10T11:41:46.916Z"
   },
   {
    "duration": 0,
    "start_time": "2023-10-10T11:41:46.929Z"
   },
   {
    "duration": 0,
    "start_time": "2023-10-10T11:41:46.930Z"
   },
   {
    "duration": 0,
    "start_time": "2023-10-10T11:41:46.931Z"
   },
   {
    "duration": 0,
    "start_time": "2023-10-10T11:41:46.935Z"
   },
   {
    "duration": 0,
    "start_time": "2023-10-10T11:41:46.936Z"
   },
   {
    "duration": 0,
    "start_time": "2023-10-10T11:41:46.937Z"
   },
   {
    "duration": 0,
    "start_time": "2023-10-10T11:41:46.939Z"
   },
   {
    "duration": 0,
    "start_time": "2023-10-10T11:41:46.940Z"
   },
   {
    "duration": 0,
    "start_time": "2023-10-10T11:41:46.942Z"
   },
   {
    "duration": 0,
    "start_time": "2023-10-10T11:41:46.943Z"
   },
   {
    "duration": 0,
    "start_time": "2023-10-10T11:41:46.945Z"
   },
   {
    "duration": 0,
    "start_time": "2023-10-10T11:41:46.947Z"
   },
   {
    "duration": 56200,
    "start_time": "2023-10-10T11:46:09.381Z"
   },
   {
    "duration": 55884,
    "start_time": "2023-10-10T11:47:05.583Z"
   },
   {
    "duration": 27,
    "start_time": "2023-10-10T11:48:01.473Z"
   },
   {
    "duration": 33,
    "start_time": "2023-10-10T11:49:17.363Z"
   },
   {
    "duration": 20,
    "start_time": "2023-10-10T11:49:21.169Z"
   },
   {
    "duration": 1519,
    "start_time": "2023-10-10T11:49:32.220Z"
   },
   {
    "duration": 19245,
    "start_time": "2023-10-10T11:49:36.694Z"
   },
   {
    "duration": 100889,
    "start_time": "2023-10-10T11:49:55.956Z"
   },
   {
    "duration": 18,
    "start_time": "2023-10-10T11:51:36.848Z"
   },
   {
    "duration": 0,
    "start_time": "2023-10-10T11:51:36.869Z"
   },
   {
    "duration": 0,
    "start_time": "2023-10-10T11:51:36.871Z"
   },
   {
    "duration": 1,
    "start_time": "2023-10-10T11:51:36.872Z"
   },
   {
    "duration": 0,
    "start_time": "2023-10-10T11:51:36.874Z"
   },
   {
    "duration": 0,
    "start_time": "2023-10-10T11:51:36.875Z"
   },
   {
    "duration": 0,
    "start_time": "2023-10-10T11:51:36.877Z"
   },
   {
    "duration": 0,
    "start_time": "2023-10-10T11:51:36.878Z"
   },
   {
    "duration": 2252,
    "start_time": "2023-10-10T11:58:43.730Z"
   },
   {
    "duration": 1414,
    "start_time": "2023-10-10T11:58:45.984Z"
   },
   {
    "duration": 6,
    "start_time": "2023-10-10T11:58:47.400Z"
   },
   {
    "duration": 603,
    "start_time": "2023-10-10T11:58:47.409Z"
   },
   {
    "duration": 21,
    "start_time": "2023-10-10T11:58:48.014Z"
   },
   {
    "duration": 9508,
    "start_time": "2023-10-10T11:58:48.037Z"
   },
   {
    "duration": 15533,
    "start_time": "2023-10-10T11:58:57.547Z"
   },
   {
    "duration": 54950,
    "start_time": "2023-10-10T11:59:13.082Z"
   },
   {
    "duration": 53987,
    "start_time": "2023-10-10T12:00:08.034Z"
   },
   {
    "duration": 0,
    "start_time": "2023-10-10T12:01:02.023Z"
   },
   {
    "duration": 0,
    "start_time": "2023-10-10T12:01:02.024Z"
   },
   {
    "duration": 0,
    "start_time": "2023-10-10T12:01:02.026Z"
   },
   {
    "duration": 0,
    "start_time": "2023-10-10T12:01:02.027Z"
   },
   {
    "duration": 0,
    "start_time": "2023-10-10T12:01:02.028Z"
   },
   {
    "duration": 0,
    "start_time": "2023-10-10T12:01:02.030Z"
   },
   {
    "duration": 0,
    "start_time": "2023-10-10T12:01:02.031Z"
   },
   {
    "duration": 0,
    "start_time": "2023-10-10T12:01:02.032Z"
   },
   {
    "duration": 0,
    "start_time": "2023-10-10T12:01:02.034Z"
   },
   {
    "duration": 0,
    "start_time": "2023-10-10T12:01:02.035Z"
   },
   {
    "duration": 0,
    "start_time": "2023-10-10T12:01:02.037Z"
   },
   {
    "duration": 0,
    "start_time": "2023-10-10T12:01:02.038Z"
   },
   {
    "duration": 52164,
    "start_time": "2023-10-10T12:25:11.075Z"
   },
   {
    "duration": 43,
    "start_time": "2023-10-10T12:26:03.242Z"
   },
   {
    "duration": 1553,
    "start_time": "2023-10-10T12:26:03.286Z"
   },
   {
    "duration": 20498,
    "start_time": "2023-10-10T12:26:04.844Z"
   },
   {
    "duration": 97206,
    "start_time": "2023-10-10T12:26:25.348Z"
   },
   {
    "duration": 14,
    "start_time": "2023-10-10T12:28:02.556Z"
   },
   {
    "duration": 286132,
    "start_time": "2023-10-10T12:28:02.572Z"
   },
   {
    "duration": 28698,
    "start_time": "2023-10-10T12:32:48.706Z"
   },
   {
    "duration": 957683,
    "start_time": "2023-10-10T12:33:17.406Z"
   },
   {
    "duration": 46493,
    "start_time": "2023-10-10T12:49:15.092Z"
   },
   {
    "duration": 1021472,
    "start_time": "2023-10-10T12:50:01.587Z"
   },
   {
    "duration": 11,
    "start_time": "2023-10-10T13:07:03.060Z"
   },
   {
    "duration": 32880,
    "start_time": "2023-10-10T13:07:03.073Z"
   },
   {
    "duration": 110053,
    "start_time": "2023-10-10T13:20:54.891Z"
   },
   {
    "duration": 11,
    "start_time": "2023-10-10T13:22:44.947Z"
   },
   {
    "duration": 7,
    "start_time": "2023-10-10T13:26:46.719Z"
   },
   {
    "duration": 5,
    "start_time": "2023-10-10T13:54:35.756Z"
   },
   {
    "duration": 4,
    "start_time": "2023-10-10T13:55:13.356Z"
   },
   {
    "duration": 12,
    "start_time": "2023-10-10T13:59:33.729Z"
   },
   {
    "duration": 1646,
    "start_time": "2023-10-10T14:00:35.987Z"
   },
   {
    "duration": 989,
    "start_time": "2023-10-10T14:00:37.635Z"
   },
   {
    "duration": 5,
    "start_time": "2023-10-10T14:00:38.626Z"
   },
   {
    "duration": 583,
    "start_time": "2023-10-10T14:00:38.632Z"
   },
   {
    "duration": 14,
    "start_time": "2023-10-10T14:00:39.224Z"
   },
   {
    "duration": 7192,
    "start_time": "2023-10-10T14:00:39.240Z"
   },
   {
    "duration": 43,
    "start_time": "2023-10-10T14:00:46.434Z"
   },
   {
    "duration": 211,
    "start_time": "2023-10-10T14:00:46.479Z"
   },
   {
    "duration": 2390,
    "start_time": "2023-10-10T14:00:46.692Z"
   },
   {
    "duration": 0,
    "start_time": "2023-10-10T14:00:49.083Z"
   },
   {
    "duration": 0,
    "start_time": "2023-10-10T14:00:49.085Z"
   },
   {
    "duration": 0,
    "start_time": "2023-10-10T14:00:49.086Z"
   },
   {
    "duration": 0,
    "start_time": "2023-10-10T14:00:49.088Z"
   },
   {
    "duration": 0,
    "start_time": "2023-10-10T14:00:49.089Z"
   },
   {
    "duration": 1,
    "start_time": "2023-10-10T14:00:49.090Z"
   },
   {
    "duration": 0,
    "start_time": "2023-10-10T14:00:49.092Z"
   },
   {
    "duration": 0,
    "start_time": "2023-10-10T14:00:49.094Z"
   },
   {
    "duration": 0,
    "start_time": "2023-10-10T14:00:49.095Z"
   },
   {
    "duration": 1827,
    "start_time": "2023-10-10T14:12:25.644Z"
   },
   {
    "duration": 0,
    "start_time": "2023-10-10T14:12:27.473Z"
   },
   {
    "duration": 0,
    "start_time": "2023-10-10T14:12:27.474Z"
   },
   {
    "duration": 0,
    "start_time": "2023-10-10T14:12:27.475Z"
   },
   {
    "duration": 0,
    "start_time": "2023-10-10T14:12:27.476Z"
   },
   {
    "duration": 0,
    "start_time": "2023-10-10T14:12:27.477Z"
   },
   {
    "duration": 0,
    "start_time": "2023-10-10T14:12:27.478Z"
   },
   {
    "duration": 0,
    "start_time": "2023-10-10T14:12:27.479Z"
   },
   {
    "duration": 0,
    "start_time": "2023-10-10T14:12:27.480Z"
   },
   {
    "duration": 0,
    "start_time": "2023-10-10T14:12:27.481Z"
   },
   {
    "duration": 11262,
    "start_time": "2023-10-10T14:12:39.952Z"
   },
   {
    "duration": 0,
    "start_time": "2023-10-10T14:12:51.216Z"
   },
   {
    "duration": 0,
    "start_time": "2023-10-10T14:12:51.217Z"
   },
   {
    "duration": 0,
    "start_time": "2023-10-10T14:12:51.218Z"
   },
   {
    "duration": 0,
    "start_time": "2023-10-10T14:12:51.219Z"
   },
   {
    "duration": 0,
    "start_time": "2023-10-10T14:12:51.220Z"
   },
   {
    "duration": 0,
    "start_time": "2023-10-10T14:12:51.221Z"
   },
   {
    "duration": 0,
    "start_time": "2023-10-10T14:12:51.222Z"
   },
   {
    "duration": 0,
    "start_time": "2023-10-10T14:12:51.224Z"
   },
   {
    "duration": 0,
    "start_time": "2023-10-10T14:12:51.225Z"
   },
   {
    "duration": 26,
    "start_time": "2023-10-10T14:16:10.458Z"
   },
   {
    "duration": 0,
    "start_time": "2023-10-10T14:16:10.486Z"
   },
   {
    "duration": 0,
    "start_time": "2023-10-10T14:16:10.487Z"
   },
   {
    "duration": 0,
    "start_time": "2023-10-10T14:16:10.488Z"
   },
   {
    "duration": 0,
    "start_time": "2023-10-10T14:16:10.489Z"
   },
   {
    "duration": 0,
    "start_time": "2023-10-10T14:16:10.490Z"
   },
   {
    "duration": 0,
    "start_time": "2023-10-10T14:16:10.491Z"
   },
   {
    "duration": 0,
    "start_time": "2023-10-10T14:16:10.492Z"
   },
   {
    "duration": 0,
    "start_time": "2023-10-10T14:16:10.493Z"
   },
   {
    "duration": 0,
    "start_time": "2023-10-10T14:16:10.494Z"
   },
   {
    "duration": 1639,
    "start_time": "2023-10-10T14:16:53.892Z"
   },
   {
    "duration": 1046,
    "start_time": "2023-10-10T14:16:55.534Z"
   },
   {
    "duration": 5,
    "start_time": "2023-10-10T14:16:56.582Z"
   },
   {
    "duration": 770,
    "start_time": "2023-10-10T14:16:56.588Z"
   },
   {
    "duration": 14,
    "start_time": "2023-10-10T14:16:57.361Z"
   },
   {
    "duration": 7250,
    "start_time": "2023-10-10T14:16:57.377Z"
   },
   {
    "duration": 42,
    "start_time": "2023-10-10T14:17:04.629Z"
   },
   {
    "duration": 394,
    "start_time": "2023-10-10T14:17:04.672Z"
   },
   {
    "duration": 11933,
    "start_time": "2023-10-10T14:17:05.068Z"
   },
   {
    "duration": 54623,
    "start_time": "2023-10-10T14:17:17.003Z"
   },
   {
    "duration": 51810,
    "start_time": "2023-10-10T14:18:11.628Z"
   },
   {
    "duration": 77219,
    "start_time": "2023-10-10T14:19:03.440Z"
   },
   {
    "duration": 4,
    "start_time": "2023-10-10T14:20:20.661Z"
   },
   {
    "duration": 306595,
    "start_time": "2023-10-10T14:20:20.667Z"
   },
   {
    "duration": 36113,
    "start_time": "2023-10-10T14:25:27.264Z"
   },
   {
    "duration": 902396,
    "start_time": "2023-10-10T14:26:03.379Z"
   },
   {
    "duration": 22,
    "start_time": "2023-10-10T14:41:05.777Z"
   },
   {
    "duration": 35750,
    "start_time": "2023-10-10T14:41:05.801Z"
   },
   {
    "duration": 1993,
    "start_time": "2023-10-10T15:08:31.323Z"
   },
   {
    "duration": 951,
    "start_time": "2023-10-10T15:08:33.319Z"
   },
   {
    "duration": 5,
    "start_time": "2023-10-10T15:08:34.272Z"
   },
   {
    "duration": 504,
    "start_time": "2023-10-10T15:08:34.279Z"
   },
   {
    "duration": 15,
    "start_time": "2023-10-10T15:08:34.785Z"
   },
   {
    "duration": 7201,
    "start_time": "2023-10-10T15:08:34.802Z"
   },
   {
    "duration": 47,
    "start_time": "2023-10-10T15:08:42.005Z"
   },
   {
    "duration": 224,
    "start_time": "2023-10-10T15:08:42.053Z"
   },
   {
    "duration": 11384,
    "start_time": "2023-10-10T15:08:42.279Z"
   },
   {
    "duration": 54675,
    "start_time": "2023-10-10T15:08:53.665Z"
   },
   {
    "duration": 52905,
    "start_time": "2023-10-10T15:09:48.342Z"
   },
   {
    "duration": 39606,
    "start_time": "2023-10-10T15:10:41.249Z"
   },
   {
    "duration": 0,
    "start_time": "2023-10-10T15:11:20.857Z"
   },
   {
    "duration": 0,
    "start_time": "2023-10-10T15:11:20.858Z"
   },
   {
    "duration": 0,
    "start_time": "2023-10-10T15:11:20.859Z"
   },
   {
    "duration": 0,
    "start_time": "2023-10-10T15:11:20.859Z"
   },
   {
    "duration": 0,
    "start_time": "2023-10-10T15:11:20.861Z"
   },
   {
    "duration": 0,
    "start_time": "2023-10-10T15:11:20.862Z"
   },
   {
    "duration": 1422,
    "start_time": "2023-10-10T15:15:05.289Z"
   },
   {
    "duration": 958,
    "start_time": "2023-10-10T15:15:06.712Z"
   },
   {
    "duration": 6,
    "start_time": "2023-10-10T15:15:07.671Z"
   },
   {
    "duration": 521,
    "start_time": "2023-10-10T15:15:07.679Z"
   },
   {
    "duration": 23,
    "start_time": "2023-10-10T15:15:08.201Z"
   },
   {
    "duration": 7045,
    "start_time": "2023-10-10T15:15:08.226Z"
   },
   {
    "duration": 51,
    "start_time": "2023-10-10T15:15:15.273Z"
   },
   {
    "duration": 135,
    "start_time": "2023-10-10T15:15:15.326Z"
   },
   {
    "duration": 11616,
    "start_time": "2023-10-10T15:15:15.462Z"
   },
   {
    "duration": 52466,
    "start_time": "2023-10-10T15:15:27.080Z"
   },
   {
    "duration": 53593,
    "start_time": "2023-10-10T15:16:19.547Z"
   },
   {
    "duration": 78802,
    "start_time": "2023-10-10T15:17:13.142Z"
   },
   {
    "duration": 4,
    "start_time": "2023-10-10T15:18:31.947Z"
   },
   {
    "duration": 167905,
    "start_time": "2023-10-10T15:18:31.953Z"
   },
   {
    "duration": 69392,
    "start_time": "2023-10-10T15:21:19.860Z"
   },
   {
    "duration": 886791,
    "start_time": "2023-10-10T15:22:29.254Z"
   },
   {
    "duration": 13,
    "start_time": "2023-10-10T15:37:16.047Z"
   },
   {
    "duration": 35225,
    "start_time": "2023-10-10T15:37:16.062Z"
   },
   {
    "duration": 1386,
    "start_time": "2023-10-10T16:09:13.133Z"
   },
   {
    "duration": 1009,
    "start_time": "2023-10-10T16:09:14.521Z"
   },
   {
    "duration": 6,
    "start_time": "2023-10-10T16:09:15.535Z"
   },
   {
    "duration": 690,
    "start_time": "2023-10-10T16:09:15.543Z"
   },
   {
    "duration": 21,
    "start_time": "2023-10-10T16:09:16.236Z"
   },
   {
    "duration": 7922,
    "start_time": "2023-10-10T16:09:16.259Z"
   },
   {
    "duration": 50,
    "start_time": "2023-10-10T16:09:24.182Z"
   },
   {
    "duration": 351,
    "start_time": "2023-10-10T16:09:24.234Z"
   },
   {
    "duration": 12162,
    "start_time": "2023-10-10T16:09:24.587Z"
   },
   {
    "duration": 59491,
    "start_time": "2023-10-10T16:09:36.751Z"
   },
   {
    "duration": 56898,
    "start_time": "2023-10-10T16:10:36.244Z"
   },
   {
    "duration": 79916,
    "start_time": "2023-10-10T16:11:33.144Z"
   },
   {
    "duration": 3,
    "start_time": "2023-10-10T16:12:53.062Z"
   },
   {
    "duration": 160594,
    "start_time": "2023-10-10T16:12:53.068Z"
   },
   {
    "duration": 65309,
    "start_time": "2023-10-10T16:15:33.665Z"
   },
   {
    "duration": 917915,
    "start_time": "2023-10-10T16:16:38.975Z"
   },
   {
    "duration": 20,
    "start_time": "2023-10-10T16:31:56.893Z"
   },
   {
    "duration": 31381,
    "start_time": "2023-10-10T16:31:56.915Z"
   },
   {
    "duration": 13056,
    "start_time": "2023-10-11T14:11:11.530Z"
   },
   {
    "duration": 1374,
    "start_time": "2023-10-11T14:16:16.918Z"
   },
   {
    "duration": 11731,
    "start_time": "2023-10-11T14:16:18.294Z"
   },
   {
    "duration": 2224,
    "start_time": "2023-10-11T14:16:30.027Z"
   },
   {
    "duration": 5,
    "start_time": "2023-10-11T14:16:32.252Z"
   },
   {
    "duration": 595,
    "start_time": "2023-10-11T14:16:32.259Z"
   },
   {
    "duration": 14,
    "start_time": "2023-10-11T14:16:32.856Z"
   },
   {
    "duration": 888,
    "start_time": "2023-10-11T14:16:32.872Z"
   },
   {
    "duration": 0,
    "start_time": "2023-10-11T14:16:33.762Z"
   },
   {
    "duration": 0,
    "start_time": "2023-10-11T14:16:33.763Z"
   },
   {
    "duration": 0,
    "start_time": "2023-10-11T14:16:33.764Z"
   },
   {
    "duration": 0,
    "start_time": "2023-10-11T14:16:33.765Z"
   },
   {
    "duration": 0,
    "start_time": "2023-10-11T14:16:33.766Z"
   },
   {
    "duration": 0,
    "start_time": "2023-10-11T14:16:33.766Z"
   },
   {
    "duration": 0,
    "start_time": "2023-10-11T14:16:33.767Z"
   },
   {
    "duration": 1,
    "start_time": "2023-10-11T14:16:33.768Z"
   },
   {
    "duration": 0,
    "start_time": "2023-10-11T14:16:33.769Z"
   },
   {
    "duration": 0,
    "start_time": "2023-10-11T14:16:33.771Z"
   },
   {
    "duration": 0,
    "start_time": "2023-10-11T14:16:33.772Z"
   },
   {
    "duration": 0,
    "start_time": "2023-10-11T14:16:33.772Z"
   },
   {
    "duration": 8,
    "start_time": "2023-10-11T14:17:16.329Z"
   },
   {
    "duration": 1316,
    "start_time": "2023-10-11T14:17:23.326Z"
   },
   {
    "duration": 847,
    "start_time": "2023-10-11T14:17:24.643Z"
   },
   {
    "duration": 5,
    "start_time": "2023-10-11T14:17:25.492Z"
   },
   {
    "duration": 571,
    "start_time": "2023-10-11T14:17:25.498Z"
   },
   {
    "duration": 14,
    "start_time": "2023-10-11T14:17:26.071Z"
   },
   {
    "duration": 872,
    "start_time": "2023-10-11T14:17:26.086Z"
   },
   {
    "duration": 0,
    "start_time": "2023-10-11T14:17:26.960Z"
   },
   {
    "duration": 0,
    "start_time": "2023-10-11T14:17:26.961Z"
   },
   {
    "duration": 0,
    "start_time": "2023-10-11T14:17:26.962Z"
   },
   {
    "duration": 0,
    "start_time": "2023-10-11T14:17:26.963Z"
   },
   {
    "duration": 0,
    "start_time": "2023-10-11T14:17:26.964Z"
   },
   {
    "duration": 0,
    "start_time": "2023-10-11T14:17:26.964Z"
   },
   {
    "duration": 0,
    "start_time": "2023-10-11T14:17:26.965Z"
   },
   {
    "duration": 0,
    "start_time": "2023-10-11T14:17:26.966Z"
   },
   {
    "duration": 0,
    "start_time": "2023-10-11T14:17:26.967Z"
   },
   {
    "duration": 0,
    "start_time": "2023-10-11T14:17:26.968Z"
   },
   {
    "duration": 0,
    "start_time": "2023-10-11T14:17:26.969Z"
   },
   {
    "duration": 0,
    "start_time": "2023-10-11T14:17:26.969Z"
   },
   {
    "duration": 1769,
    "start_time": "2023-10-11T14:18:50.194Z"
   },
   {
    "duration": 876,
    "start_time": "2023-10-11T14:18:51.965Z"
   },
   {
    "duration": 6,
    "start_time": "2023-10-11T14:18:52.842Z"
   },
   {
    "duration": 502,
    "start_time": "2023-10-11T14:18:52.849Z"
   },
   {
    "duration": 11,
    "start_time": "2023-10-11T14:18:53.353Z"
   },
   {
    "duration": 370252,
    "start_time": "2023-10-11T14:18:53.366Z"
   },
   {
    "duration": 0,
    "start_time": "2023-10-11T14:25:03.620Z"
   },
   {
    "duration": 0,
    "start_time": "2023-10-11T14:25:03.622Z"
   },
   {
    "duration": 0,
    "start_time": "2023-10-11T14:25:03.623Z"
   },
   {
    "duration": 0,
    "start_time": "2023-10-11T14:25:03.624Z"
   },
   {
    "duration": 0,
    "start_time": "2023-10-11T14:25:03.625Z"
   },
   {
    "duration": 0,
    "start_time": "2023-10-11T14:25:03.627Z"
   },
   {
    "duration": 0,
    "start_time": "2023-10-11T14:25:03.629Z"
   },
   {
    "duration": 0,
    "start_time": "2023-10-11T14:25:03.630Z"
   },
   {
    "duration": 0,
    "start_time": "2023-10-11T14:25:03.632Z"
   },
   {
    "duration": 0,
    "start_time": "2023-10-11T14:25:03.633Z"
   },
   {
    "duration": 0,
    "start_time": "2023-10-11T14:25:03.634Z"
   },
   {
    "duration": 0,
    "start_time": "2023-10-11T14:25:03.636Z"
   },
   {
    "duration": 2311,
    "start_time": "2023-10-11T14:25:34.881Z"
   },
   {
    "duration": 802,
    "start_time": "2023-10-11T14:25:37.193Z"
   },
   {
    "duration": 5,
    "start_time": "2023-10-11T14:25:37.996Z"
   },
   {
    "duration": 496,
    "start_time": "2023-10-11T14:25:38.002Z"
   },
   {
    "duration": 10,
    "start_time": "2023-10-11T14:25:38.500Z"
   },
   {
    "duration": 3557,
    "start_time": "2023-10-11T14:33:27.867Z"
   },
   {
    "duration": 804,
    "start_time": "2023-10-11T14:33:31.425Z"
   },
   {
    "duration": 10,
    "start_time": "2023-10-11T14:33:32.230Z"
   },
   {
    "duration": 540,
    "start_time": "2023-10-11T14:33:32.241Z"
   },
   {
    "duration": 15,
    "start_time": "2023-10-11T14:33:32.782Z"
   },
   {
    "duration": 85,
    "start_time": "2023-10-11T14:33:32.798Z"
   },
   {
    "duration": 0,
    "start_time": "2023-10-11T14:33:32.885Z"
   },
   {
    "duration": 0,
    "start_time": "2023-10-11T14:33:32.886Z"
   },
   {
    "duration": 0,
    "start_time": "2023-10-11T14:33:32.886Z"
   },
   {
    "duration": 0,
    "start_time": "2023-10-11T14:33:32.887Z"
   },
   {
    "duration": 0,
    "start_time": "2023-10-11T14:33:32.888Z"
   },
   {
    "duration": 0,
    "start_time": "2023-10-11T14:33:32.889Z"
   },
   {
    "duration": 0,
    "start_time": "2023-10-11T14:33:32.890Z"
   },
   {
    "duration": 0,
    "start_time": "2023-10-11T14:33:32.891Z"
   },
   {
    "duration": 0,
    "start_time": "2023-10-11T14:33:32.892Z"
   },
   {
    "duration": 0,
    "start_time": "2023-10-11T14:33:32.892Z"
   },
   {
    "duration": 0,
    "start_time": "2023-10-11T14:33:32.893Z"
   },
   {
    "duration": 0,
    "start_time": "2023-10-11T14:33:32.894Z"
   },
   {
    "duration": 0,
    "start_time": "2023-10-11T14:33:32.895Z"
   },
   {
    "duration": 528,
    "start_time": "2023-10-11T14:33:50.445Z"
   },
   {
    "duration": 3830,
    "start_time": "2023-10-11T14:35:51.512Z"
   },
   {
    "duration": 844,
    "start_time": "2023-10-11T14:35:55.344Z"
   },
   {
    "duration": 4,
    "start_time": "2023-10-11T14:35:56.190Z"
   },
   {
    "duration": 545,
    "start_time": "2023-10-11T14:35:56.196Z"
   },
   {
    "duration": 24,
    "start_time": "2023-10-11T14:35:56.744Z"
   },
   {
    "duration": 529,
    "start_time": "2023-10-11T14:35:56.770Z"
   },
   {
    "duration": 15,
    "start_time": "2023-10-11T14:35:57.300Z"
   },
   {
    "duration": 3594,
    "start_time": "2023-10-11T14:36:23.567Z"
   },
   {
    "duration": 796,
    "start_time": "2023-10-11T14:36:27.163Z"
   },
   {
    "duration": 5,
    "start_time": "2023-10-11T14:36:27.960Z"
   },
   {
    "duration": 508,
    "start_time": "2023-10-11T14:36:27.967Z"
   },
   {
    "duration": 15,
    "start_time": "2023-10-11T14:36:28.477Z"
   },
   {
    "duration": 493,
    "start_time": "2023-10-11T14:36:28.493Z"
   },
   {
    "duration": 1159,
    "start_time": "2023-10-11T14:36:28.987Z"
   },
   {
    "duration": 192773,
    "start_time": "2023-10-11T14:36:30.148Z"
   },
   {
    "duration": 0,
    "start_time": "2023-10-11T14:39:42.923Z"
   },
   {
    "duration": 0,
    "start_time": "2023-10-11T14:39:42.924Z"
   },
   {
    "duration": 0,
    "start_time": "2023-10-11T14:39:42.926Z"
   },
   {
    "duration": 0,
    "start_time": "2023-10-11T14:39:42.926Z"
   },
   {
    "duration": 0,
    "start_time": "2023-10-11T14:39:42.927Z"
   },
   {
    "duration": 0,
    "start_time": "2023-10-11T14:39:42.929Z"
   },
   {
    "duration": 0,
    "start_time": "2023-10-11T14:39:42.930Z"
   },
   {
    "duration": 1,
    "start_time": "2023-10-11T14:39:42.930Z"
   },
   {
    "duration": 0,
    "start_time": "2023-10-11T14:39:42.931Z"
   },
   {
    "duration": 0,
    "start_time": "2023-10-11T14:39:42.932Z"
   },
   {
    "duration": 0,
    "start_time": "2023-10-11T14:39:42.933Z"
   },
   {
    "duration": 0,
    "start_time": "2023-10-11T14:39:42.934Z"
   },
   {
    "duration": 3662,
    "start_time": "2023-10-11T14:40:09.779Z"
   },
   {
    "duration": 797,
    "start_time": "2023-10-11T14:40:13.443Z"
   },
   {
    "duration": 5,
    "start_time": "2023-10-11T14:40:14.241Z"
   },
   {
    "duration": 494,
    "start_time": "2023-10-11T14:40:14.247Z"
   },
   {
    "duration": 15,
    "start_time": "2023-10-11T14:40:14.743Z"
   },
   {
    "duration": 515,
    "start_time": "2023-10-11T14:41:24.138Z"
   },
   {
    "duration": 1333,
    "start_time": "2023-10-11T14:42:52.416Z"
   },
   {
    "duration": 11780,
    "start_time": "2023-10-11T14:42:53.751Z"
   },
   {
    "duration": 840,
    "start_time": "2023-10-11T14:43:05.532Z"
   },
   {
    "duration": 5,
    "start_time": "2023-10-11T14:43:06.374Z"
   },
   {
    "duration": 739,
    "start_time": "2023-10-11T14:43:06.382Z"
   },
   {
    "duration": 21,
    "start_time": "2023-10-11T14:43:07.122Z"
   },
   {
    "duration": 358,
    "start_time": "2023-10-11T14:43:14.677Z"
   },
   {
    "duration": 483,
    "start_time": "2023-10-11T14:43:35.662Z"
   },
   {
    "duration": 440,
    "start_time": "2023-10-11T14:45:01.605Z"
   },
   {
    "duration": 1265,
    "start_time": "2023-10-11T14:45:36.946Z"
   },
   {
    "duration": 11415,
    "start_time": "2023-10-11T14:45:38.213Z"
   },
   {
    "duration": 798,
    "start_time": "2023-10-11T14:45:49.630Z"
   },
   {
    "duration": 5,
    "start_time": "2023-10-11T14:45:50.429Z"
   },
   {
    "duration": 513,
    "start_time": "2023-10-11T14:45:50.439Z"
   },
   {
    "duration": 15,
    "start_time": "2023-10-11T14:45:50.953Z"
   },
   {
    "duration": 492,
    "start_time": "2023-10-11T14:45:50.969Z"
   },
   {
    "duration": 1230,
    "start_time": "2023-10-11T14:46:17.461Z"
   },
   {
    "duration": 11066,
    "start_time": "2023-10-11T14:46:18.693Z"
   },
   {
    "duration": 812,
    "start_time": "2023-10-11T14:46:29.760Z"
   },
   {
    "duration": 5,
    "start_time": "2023-10-11T14:46:30.573Z"
   },
   {
    "duration": 528,
    "start_time": "2023-10-11T14:46:30.580Z"
   },
   {
    "duration": 29,
    "start_time": "2023-10-11T14:46:31.110Z"
   },
   {
    "duration": 593,
    "start_time": "2023-10-11T14:46:31.141Z"
   },
   {
    "duration": 303,
    "start_time": "2023-10-11T14:46:31.735Z"
   },
   {
    "duration": 0,
    "start_time": "2023-10-11T14:46:32.039Z"
   },
   {
    "duration": 0,
    "start_time": "2023-10-11T14:46:32.040Z"
   },
   {
    "duration": 0,
    "start_time": "2023-10-11T14:46:32.041Z"
   },
   {
    "duration": 0,
    "start_time": "2023-10-11T14:46:32.042Z"
   },
   {
    "duration": 0,
    "start_time": "2023-10-11T14:46:32.042Z"
   },
   {
    "duration": 0,
    "start_time": "2023-10-11T14:46:32.043Z"
   },
   {
    "duration": 0,
    "start_time": "2023-10-11T14:46:32.044Z"
   },
   {
    "duration": 0,
    "start_time": "2023-10-11T14:46:32.045Z"
   },
   {
    "duration": 0,
    "start_time": "2023-10-11T14:46:32.045Z"
   },
   {
    "duration": 0,
    "start_time": "2023-10-11T14:46:32.046Z"
   },
   {
    "duration": 0,
    "start_time": "2023-10-11T14:46:32.047Z"
   },
   {
    "duration": 0,
    "start_time": "2023-10-11T14:46:32.047Z"
   },
   {
    "duration": 5,
    "start_time": "2023-10-11T14:47:00.444Z"
   },
   {
    "duration": 1239,
    "start_time": "2023-10-11T14:47:08.264Z"
   },
   {
    "duration": 10780,
    "start_time": "2023-10-11T14:47:09.505Z"
   },
   {
    "duration": 802,
    "start_time": "2023-10-11T14:47:20.287Z"
   },
   {
    "duration": 5,
    "start_time": "2023-10-11T14:47:21.090Z"
   },
   {
    "duration": 558,
    "start_time": "2023-10-11T14:47:21.097Z"
   },
   {
    "duration": 15,
    "start_time": "2023-10-11T14:47:21.656Z"
   },
   {
    "duration": 488,
    "start_time": "2023-10-11T14:47:21.672Z"
   },
   {
    "duration": 970743,
    "start_time": "2023-10-11T14:47:22.161Z"
   },
   {
    "duration": 34,
    "start_time": "2023-10-11T15:03:32.906Z"
   },
   {
    "duration": 195,
    "start_time": "2023-10-11T15:03:32.941Z"
   },
   {
    "duration": 98,
    "start_time": "2023-10-11T15:03:33.137Z"
   },
   {
    "duration": 0,
    "start_time": "2023-10-11T15:03:33.237Z"
   },
   {
    "duration": 0,
    "start_time": "2023-10-11T15:03:33.238Z"
   },
   {
    "duration": 0,
    "start_time": "2023-10-11T15:03:33.239Z"
   },
   {
    "duration": 0,
    "start_time": "2023-10-11T15:03:33.239Z"
   },
   {
    "duration": 0,
    "start_time": "2023-10-11T15:03:33.240Z"
   },
   {
    "duration": 0,
    "start_time": "2023-10-11T15:03:33.241Z"
   },
   {
    "duration": 0,
    "start_time": "2023-10-11T15:03:33.242Z"
   },
   {
    "duration": 0,
    "start_time": "2023-10-11T15:03:33.243Z"
   },
   {
    "duration": 0,
    "start_time": "2023-10-11T15:03:33.244Z"
   },
   {
    "duration": 5,
    "start_time": "2023-10-11T16:40:57.620Z"
   },
   {
    "duration": 9356,
    "start_time": "2023-10-11T16:40:57.627Z"
   },
   {
    "duration": 801,
    "start_time": "2023-10-11T16:41:06.985Z"
   },
   {
    "duration": 5,
    "start_time": "2023-10-11T16:41:07.787Z"
   },
   {
    "duration": 480,
    "start_time": "2023-10-11T16:41:07.794Z"
   },
   {
    "duration": 10,
    "start_time": "2023-10-11T16:41:08.275Z"
   },
   {
    "duration": 460,
    "start_time": "2023-10-11T16:41:08.286Z"
   },
   {
    "duration": 969975,
    "start_time": "2023-10-11T16:41:08.747Z"
   },
   {
    "duration": 50,
    "start_time": "2023-10-11T16:57:18.723Z"
   },
   {
    "duration": 160,
    "start_time": "2023-10-11T16:57:18.775Z"
   },
   {
    "duration": 5926,
    "start_time": "2023-10-11T16:57:18.936Z"
   },
   {
    "duration": 31482,
    "start_time": "2023-10-11T16:57:24.864Z"
   },
   {
    "duration": 42799,
    "start_time": "2023-10-11T16:57:56.348Z"
   },
   {
    "duration": 62311,
    "start_time": "2023-10-11T16:58:39.150Z"
   },
   {
    "duration": 3,
    "start_time": "2023-10-11T16:59:41.463Z"
   },
   {
    "duration": 105794,
    "start_time": "2023-10-11T16:59:41.468Z"
   },
   {
    "duration": 51108,
    "start_time": "2023-10-11T17:01:27.264Z"
   },
   {
    "duration": 851292,
    "start_time": "2023-10-11T17:02:18.374Z"
   },
   {
    "duration": 10,
    "start_time": "2023-10-11T17:16:29.667Z"
   },
   {
    "duration": 26410,
    "start_time": "2023-10-11T17:16:29.679Z"
   }
  ],
  "kernelspec": {
   "display_name": "Python 3 (ipykernel)",
   "language": "python",
   "name": "python3"
  },
  "language_info": {
   "codemirror_mode": {
    "name": "ipython",
    "version": 3
   },
   "file_extension": ".py",
   "mimetype": "text/x-python",
   "name": "python",
   "nbconvert_exporter": "python",
   "pygments_lexer": "ipython3",
   "version": "3.9.5"
  },
  "toc": {
   "base_numbering": 1,
   "nav_menu": {},
   "number_sections": true,
   "sideBar": true,
   "skip_h1_title": true,
   "title_cell": "Содержание",
   "title_sidebar": "Contents",
   "toc_cell": true,
   "toc_position": {
    "height": "calc(100% - 180px)",
    "left": "10px",
    "top": "150px",
    "width": "175px"
   },
   "toc_section_display": true,
   "toc_window_display": true
  }
 },
 "nbformat": 4,
 "nbformat_minor": 2
}
