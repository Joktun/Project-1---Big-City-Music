{
 "cells": [
  {
   "cell_type": "markdown",
   "id": "c879189a",
   "metadata": {},
   "source": [
    "# Проект \"Самокаты\"\n",
    "Нам предоставили данные пользователей самокатов из разных городов. Мы располагаем данными о длительности и дальности поездок каждого пользователя, о том когда были сделаны эти поездки и в каком городе, а также имени, возрасте и типе подписки пользователя. Необходимо оценить различные параметры данных. чтобы достигнуть определенных целей, поставленных перед нами. Целью этого проекта является анализ данной бизнес-модели для принятий решений о том, как его дальше развивать. Чтобы достигнуть поставленных целей мы должны будем:\n",
    "* улучшить качество предоставленных нам данных\n",
    "* по улучшенным данным провести исследовательский анализ\n",
    "* подготовить данные к проверке гипотез, которые выдвинул заказчик\n",
    "* проверить гипотезы "
   ]
  },
  {
   "cell_type": "markdown",
   "id": "1a9c195b",
   "metadata": {},
   "source": [
    "## Загрузка данных и общая информация\n",
    "Загружаем нужные нам библиотеки и датафреймы, и получаем о них информацию."
   ]
  },
  {
   "cell_type": "markdown",
   "id": "803bd3ce",
   "metadata": {},
   "source": [
    "### Загрузка данных"
   ]
  },
  {
   "cell_type": "code",
   "execution_count": 1,
   "id": "077e1263",
   "metadata": {},
   "outputs": [],
   "source": [
    "# добавляем нужные нам библиотеки\n",
    "import pandas as pd\n",
    "import matplotlib.pyplot as plt\n",
    "import numpy as np\n",
    "from scipy import stats as st"
   ]
  },
  {
   "cell_type": "code",
   "execution_count": 2,
   "id": "0e1e5faa",
   "metadata": {},
   "outputs": [],
   "source": [
    "# считываем csv-файлы и сохраняем их в датафреймы\n",
    "df_user = pd.read_csv('/datasets/users_go.csv')\n",
    "df_ride = pd.read_csv('/datasets/rides_go.csv')\n",
    "df_sub = pd.read_csv('/datasets/subscriptions_go.csv')"
   ]
  },
  {
   "cell_type": "markdown",
   "id": "0797685c",
   "metadata": {},
   "source": [
    "### Общая информация"
   ]
  },
  {
   "cell_type": "code",
   "execution_count": 3,
   "id": "a7f57729",
   "metadata": {},
   "outputs": [
    {
     "name": "stdout",
     "output_type": "stream",
     "text": [
      "Данные о пользователях\n"
     ]
    },
    {
     "data": {
      "text/html": [
       "<div>\n",
       "<style scoped>\n",
       "    .dataframe tbody tr th:only-of-type {\n",
       "        vertical-align: middle;\n",
       "    }\n",
       "\n",
       "    .dataframe tbody tr th {\n",
       "        vertical-align: top;\n",
       "    }\n",
       "\n",
       "    .dataframe thead th {\n",
       "        text-align: right;\n",
       "    }\n",
       "</style>\n",
       "<table border=\"1\" class=\"dataframe\">\n",
       "  <thead>\n",
       "    <tr style=\"text-align: right;\">\n",
       "      <th></th>\n",
       "      <th>user_id</th>\n",
       "      <th>name</th>\n",
       "      <th>age</th>\n",
       "      <th>city</th>\n",
       "      <th>subscription_type</th>\n",
       "    </tr>\n",
       "  </thead>\n",
       "  <tbody>\n",
       "    <tr>\n",
       "      <th>0</th>\n",
       "      <td>1</td>\n",
       "      <td>Кира</td>\n",
       "      <td>22</td>\n",
       "      <td>Тюмень</td>\n",
       "      <td>ultra</td>\n",
       "    </tr>\n",
       "    <tr>\n",
       "      <th>1</th>\n",
       "      <td>2</td>\n",
       "      <td>Станислав</td>\n",
       "      <td>31</td>\n",
       "      <td>Омск</td>\n",
       "      <td>ultra</td>\n",
       "    </tr>\n",
       "    <tr>\n",
       "      <th>2</th>\n",
       "      <td>3</td>\n",
       "      <td>Алексей</td>\n",
       "      <td>20</td>\n",
       "      <td>Москва</td>\n",
       "      <td>ultra</td>\n",
       "    </tr>\n",
       "    <tr>\n",
       "      <th>3</th>\n",
       "      <td>4</td>\n",
       "      <td>Константин</td>\n",
       "      <td>26</td>\n",
       "      <td>Ростов-на-Дону</td>\n",
       "      <td>ultra</td>\n",
       "    </tr>\n",
       "    <tr>\n",
       "      <th>4</th>\n",
       "      <td>5</td>\n",
       "      <td>Адель</td>\n",
       "      <td>28</td>\n",
       "      <td>Омск</td>\n",
       "      <td>ultra</td>\n",
       "    </tr>\n",
       "    <tr>\n",
       "      <th>5</th>\n",
       "      <td>6</td>\n",
       "      <td>Регина</td>\n",
       "      <td>25</td>\n",
       "      <td>Краснодар</td>\n",
       "      <td>ultra</td>\n",
       "    </tr>\n",
       "    <tr>\n",
       "      <th>6</th>\n",
       "      <td>7</td>\n",
       "      <td>Игорь</td>\n",
       "      <td>23</td>\n",
       "      <td>Омск</td>\n",
       "      <td>ultra</td>\n",
       "    </tr>\n",
       "    <tr>\n",
       "      <th>7</th>\n",
       "      <td>8</td>\n",
       "      <td>Юрий</td>\n",
       "      <td>23</td>\n",
       "      <td>Краснодар</td>\n",
       "      <td>ultra</td>\n",
       "    </tr>\n",
       "    <tr>\n",
       "      <th>8</th>\n",
       "      <td>9</td>\n",
       "      <td>Ян</td>\n",
       "      <td>21</td>\n",
       "      <td>Пятигорск</td>\n",
       "      <td>ultra</td>\n",
       "    </tr>\n",
       "    <tr>\n",
       "      <th>9</th>\n",
       "      <td>10</td>\n",
       "      <td>Валерий</td>\n",
       "      <td>18</td>\n",
       "      <td>Екатеринбург</td>\n",
       "      <td>ultra</td>\n",
       "    </tr>\n",
       "  </tbody>\n",
       "</table>\n",
       "</div>"
      ],
      "text/plain": [
       "   user_id        name  age            city subscription_type\n",
       "0        1        Кира   22          Тюмень             ultra\n",
       "1        2   Станислав   31            Омск             ultra\n",
       "2        3     Алексей   20          Москва             ultra\n",
       "3        4  Константин   26  Ростов-на-Дону             ultra\n",
       "4        5       Адель   28            Омск             ultra\n",
       "5        6      Регина   25       Краснодар             ultra\n",
       "6        7       Игорь   23            Омск             ultra\n",
       "7        8        Юрий   23       Краснодар             ultra\n",
       "8        9          Ян   21       Пятигорск             ultra\n",
       "9       10     Валерий   18    Екатеринбург             ultra"
      ]
     },
     "metadata": {},
     "output_type": "display_data"
    },
    {
     "name": "stdout",
     "output_type": "stream",
     "text": [
      "\n",
      "<class 'pandas.core.frame.DataFrame'>\n",
      "RangeIndex: 1565 entries, 0 to 1564\n",
      "Data columns (total 5 columns):\n",
      " #   Column             Non-Null Count  Dtype \n",
      "---  ------             --------------  ----- \n",
      " 0   user_id            1565 non-null   int64 \n",
      " 1   name               1565 non-null   object\n",
      " 2   age                1565 non-null   int64 \n",
      " 3   city               1565 non-null   object\n",
      " 4   subscription_type  1565 non-null   object\n",
      "dtypes: int64(2), object(3)\n",
      "memory usage: 61.3+ KB\n",
      "\n",
      "Данные о поездках\n"
     ]
    },
    {
     "data": {
      "text/html": [
       "<div>\n",
       "<style scoped>\n",
       "    .dataframe tbody tr th:only-of-type {\n",
       "        vertical-align: middle;\n",
       "    }\n",
       "\n",
       "    .dataframe tbody tr th {\n",
       "        vertical-align: top;\n",
       "    }\n",
       "\n",
       "    .dataframe thead th {\n",
       "        text-align: right;\n",
       "    }\n",
       "</style>\n",
       "<table border=\"1\" class=\"dataframe\">\n",
       "  <thead>\n",
       "    <tr style=\"text-align: right;\">\n",
       "      <th></th>\n",
       "      <th>user_id</th>\n",
       "      <th>distance</th>\n",
       "      <th>duration</th>\n",
       "      <th>date</th>\n",
       "    </tr>\n",
       "  </thead>\n",
       "  <tbody>\n",
       "    <tr>\n",
       "      <th>0</th>\n",
       "      <td>1</td>\n",
       "      <td>4409.919140</td>\n",
       "      <td>25.599769</td>\n",
       "      <td>2021-01-01</td>\n",
       "    </tr>\n",
       "    <tr>\n",
       "      <th>1</th>\n",
       "      <td>1</td>\n",
       "      <td>2617.592153</td>\n",
       "      <td>15.816871</td>\n",
       "      <td>2021-01-18</td>\n",
       "    </tr>\n",
       "    <tr>\n",
       "      <th>2</th>\n",
       "      <td>1</td>\n",
       "      <td>754.159807</td>\n",
       "      <td>6.232113</td>\n",
       "      <td>2021-04-20</td>\n",
       "    </tr>\n",
       "    <tr>\n",
       "      <th>3</th>\n",
       "      <td>1</td>\n",
       "      <td>2694.783254</td>\n",
       "      <td>18.511000</td>\n",
       "      <td>2021-08-11</td>\n",
       "    </tr>\n",
       "    <tr>\n",
       "      <th>4</th>\n",
       "      <td>1</td>\n",
       "      <td>4028.687306</td>\n",
       "      <td>26.265803</td>\n",
       "      <td>2021-08-28</td>\n",
       "    </tr>\n",
       "    <tr>\n",
       "      <th>5</th>\n",
       "      <td>1</td>\n",
       "      <td>2770.890808</td>\n",
       "      <td>16.650138</td>\n",
       "      <td>2021-10-09</td>\n",
       "    </tr>\n",
       "    <tr>\n",
       "      <th>6</th>\n",
       "      <td>1</td>\n",
       "      <td>3039.020292</td>\n",
       "      <td>14.927879</td>\n",
       "      <td>2021-10-19</td>\n",
       "    </tr>\n",
       "    <tr>\n",
       "      <th>7</th>\n",
       "      <td>1</td>\n",
       "      <td>2842.118050</td>\n",
       "      <td>23.117468</td>\n",
       "      <td>2021-11-06</td>\n",
       "    </tr>\n",
       "    <tr>\n",
       "      <th>8</th>\n",
       "      <td>1</td>\n",
       "      <td>3412.690668</td>\n",
       "      <td>15.238072</td>\n",
       "      <td>2021-11-14</td>\n",
       "    </tr>\n",
       "    <tr>\n",
       "      <th>9</th>\n",
       "      <td>1</td>\n",
       "      <td>748.690645</td>\n",
       "      <td>15.041884</td>\n",
       "      <td>2021-11-22</td>\n",
       "    </tr>\n",
       "  </tbody>\n",
       "</table>\n",
       "</div>"
      ],
      "text/plain": [
       "   user_id     distance   duration        date\n",
       "0        1  4409.919140  25.599769  2021-01-01\n",
       "1        1  2617.592153  15.816871  2021-01-18\n",
       "2        1   754.159807   6.232113  2021-04-20\n",
       "3        1  2694.783254  18.511000  2021-08-11\n",
       "4        1  4028.687306  26.265803  2021-08-28\n",
       "5        1  2770.890808  16.650138  2021-10-09\n",
       "6        1  3039.020292  14.927879  2021-10-19\n",
       "7        1  2842.118050  23.117468  2021-11-06\n",
       "8        1  3412.690668  15.238072  2021-11-14\n",
       "9        1   748.690645  15.041884  2021-11-22"
      ]
     },
     "metadata": {},
     "output_type": "display_data"
    },
    {
     "name": "stdout",
     "output_type": "stream",
     "text": [
      "\n",
      "<class 'pandas.core.frame.DataFrame'>\n",
      "RangeIndex: 18068 entries, 0 to 18067\n",
      "Data columns (total 4 columns):\n",
      " #   Column    Non-Null Count  Dtype  \n",
      "---  ------    --------------  -----  \n",
      " 0   user_id   18068 non-null  int64  \n",
      " 1   distance  18068 non-null  float64\n",
      " 2   duration  18068 non-null  float64\n",
      " 3   date      18068 non-null  object \n",
      "dtypes: float64(2), int64(1), object(1)\n",
      "memory usage: 564.8+ KB\n",
      "\n",
      "Данные о подписках\n"
     ]
    },
    {
     "data": {
      "text/html": [
       "<div>\n",
       "<style scoped>\n",
       "    .dataframe tbody tr th:only-of-type {\n",
       "        vertical-align: middle;\n",
       "    }\n",
       "\n",
       "    .dataframe tbody tr th {\n",
       "        vertical-align: top;\n",
       "    }\n",
       "\n",
       "    .dataframe thead th {\n",
       "        text-align: right;\n",
       "    }\n",
       "</style>\n",
       "<table border=\"1\" class=\"dataframe\">\n",
       "  <thead>\n",
       "    <tr style=\"text-align: right;\">\n",
       "      <th></th>\n",
       "      <th>subscription_type</th>\n",
       "      <th>minute_price</th>\n",
       "      <th>start_ride_price</th>\n",
       "      <th>subscription_fee</th>\n",
       "    </tr>\n",
       "  </thead>\n",
       "  <tbody>\n",
       "    <tr>\n",
       "      <th>0</th>\n",
       "      <td>free</td>\n",
       "      <td>8</td>\n",
       "      <td>50</td>\n",
       "      <td>0</td>\n",
       "    </tr>\n",
       "    <tr>\n",
       "      <th>1</th>\n",
       "      <td>ultra</td>\n",
       "      <td>6</td>\n",
       "      <td>0</td>\n",
       "      <td>199</td>\n",
       "    </tr>\n",
       "  </tbody>\n",
       "</table>\n",
       "</div>"
      ],
      "text/plain": [
       "  subscription_type  minute_price  start_ride_price  subscription_fee\n",
       "0              free             8                50                 0\n",
       "1             ultra             6                 0               199"
      ]
     },
     "metadata": {},
     "output_type": "display_data"
    },
    {
     "name": "stdout",
     "output_type": "stream",
     "text": [
      "\n",
      "<class 'pandas.core.frame.DataFrame'>\n",
      "RangeIndex: 2 entries, 0 to 1\n",
      "Data columns (total 4 columns):\n",
      " #   Column             Non-Null Count  Dtype \n",
      "---  ------             --------------  ----- \n",
      " 0   subscription_type  2 non-null      object\n",
      " 1   minute_price       2 non-null      int64 \n",
      " 2   start_ride_price   2 non-null      int64 \n",
      " 3   subscription_fee   2 non-null      int64 \n",
      "dtypes: int64(3), object(1)\n",
      "memory usage: 192.0+ bytes\n"
     ]
    }
   ],
   "source": [
    "# выводим первые строки и общую информацию каждого набора данных \n",
    "print('Данные о пользователях')\n",
    "display(df_user.head(10))\n",
    "print()\n",
    "df_user.info()\n",
    "print()\n",
    "print('Данные о поездках')\n",
    "display(df_ride.head(10))\n",
    "print()\n",
    "df_ride.info()\n",
    "print()\n",
    "print('Данные о подписках')\n",
    "display(df_sub)\n",
    "print()\n",
    "df_sub.info()"
   ]
  },
  {
   "cell_type": "markdown",
   "id": "aa09361d",
   "metadata": {},
   "source": [
    "### Вывод по главе\n",
    "После первичного ознакомления с данными, можно сказать, что объем данных не очень большой - меньше мегабайта, что позволяет нам его обработать без особых проблем в pandas. Все датафреймы связаны между собой по определенному параметру - что позволит их позднее объединить в один общий датафрейм. Данные предоставлены за 2021 год - нынешняя ситуация может отличаться."
   ]
  },
  {
   "cell_type": "markdown",
   "id": "92d30839",
   "metadata": {},
   "source": [
    "## Предобработка данных\n",
    "Улучшаем качество предоставленных данных:\n",
    "* ищем явные и неявные дубликаты\n",
    "* ищем пропуски в данных\n",
    "* переводим столбцы в нужный тип данных"
   ]
  },
  {
   "cell_type": "markdown",
   "id": "7b54edb4",
   "metadata": {},
   "source": [
    "### Поиск и устранение явных дубликатов"
   ]
  },
  {
   "cell_type": "code",
   "execution_count": 4,
   "id": "3745872f",
   "metadata": {},
   "outputs": [],
   "source": [
    "# поиск количества явных дубликатов в датасетах\n",
    "duplicate_row_user = df_user[df_user.duplicated ()].count()\n",
    "duplicate_row_ride = df_ride[df_ride.duplicated ()].count()\n",
    "duplicate_row_sub = df_sub[df_sub.duplicated ()].count()"
   ]
  },
  {
   "cell_type": "code",
   "execution_count": 5,
   "id": "78208d4d",
   "metadata": {},
   "outputs": [
    {
     "name": "stdout",
     "output_type": "stream",
     "text": [
      "user_id              31\n",
      "name                 31\n",
      "age                  31\n",
      "city                 31\n",
      "subscription_type    31\n",
      "dtype: int64\n",
      "\n",
      "user_id     0\n",
      "distance    0\n",
      "duration    0\n",
      "date        0\n",
      "dtype: int64\n",
      "\n",
      "subscription_type    0\n",
      "minute_price         0\n",
      "start_ride_price     0\n",
      "subscription_fee     0\n",
      "dtype: int64\n",
      "\n"
     ]
    }
   ],
   "source": [
    "# вывод явных дубликатов в датасетах\n",
    "print(duplicate_row_user)\n",
    "print()\n",
    "print(duplicate_row_ride)\n",
    "print()\n",
    "print(duplicate_row_sub)\n",
    "print()"
   ]
  },
  {
   "cell_type": "code",
   "execution_count": 6,
   "id": "c2d941d5",
   "metadata": {},
   "outputs": [],
   "source": [
    "# удаление строк дубликатов\n",
    "df_user = df_user.drop_duplicates(keep = 'first')"
   ]
  },
  {
   "cell_type": "code",
   "execution_count": 7,
   "id": "7647ed78",
   "metadata": {},
   "outputs": [
    {
     "data": {
      "text/plain": [
       "array(['Тюмень', 'Омск', 'Москва', 'Ростов-на-Дону', 'Краснодар',\n",
       "       'Пятигорск', 'Екатеринбург', 'Сочи'], dtype=object)"
      ]
     },
     "execution_count": 7,
     "metadata": {},
     "output_type": "execute_result"
    }
   ],
   "source": [
    "# поиск неявных дубликатов\n",
    "df_user['city'].unique()"
   ]
  },
  {
   "cell_type": "markdown",
   "id": "f519cbf0",
   "metadata": {},
   "source": [
    "Были найдены явные дубликаты в датафрейме df_user в количестве 31 дублирующихся строк. Дубликаты были удалены. Неявные дубликаты выявлены не были. "
   ]
  },
  {
   "cell_type": "markdown",
   "id": "9d1dcdf1",
   "metadata": {},
   "source": [
    "### Поиск пропущенных значений"
   ]
  },
  {
   "cell_type": "code",
   "execution_count": 8,
   "id": "d9d4c7ae",
   "metadata": {},
   "outputs": [
    {
     "name": "stdout",
     "output_type": "stream",
     "text": [
      "кол-во пропущенных значений по столбцам\n",
      "user_id              0\n",
      "name                 0\n",
      "age                  0\n",
      "city                 0\n",
      "subscription_type    0\n",
      "dtype: int64\n",
      "\n",
      "кол-во пропущенных значений по столбцам\n",
      "user_id     0\n",
      "distance    0\n",
      "duration    0\n",
      "date        0\n",
      "dtype: int64\n",
      "\n",
      "кол-во пропущенных значений по столбцам\n",
      "subscription_type    0\n",
      "minute_price         0\n",
      "start_ride_price     0\n",
      "subscription_fee     0\n",
      "dtype: int64\n"
     ]
    }
   ],
   "source": [
    "# поиск кол-ва пропущенных значений по столбцам\n",
    "print('кол-во пропущенных значений по столбцам')\n",
    "print(df_user.isna().sum())\n",
    "print()\n",
    "print('кол-во пропущенных значений по столбцам')\n",
    "print(df_ride.isna().sum())\n",
    "print()\n",
    "print('кол-во пропущенных значений по столбцам')\n",
    "print(df_sub.isna().sum())"
   ]
  },
  {
   "cell_type": "markdown",
   "id": "88bbfcc1",
   "metadata": {},
   "source": [
    "Пропущенных значений в датафреймах не было выявлено."
   ]
  },
  {
   "cell_type": "markdown",
   "id": "14596972",
   "metadata": {},
   "source": [
    "### Операции с датами"
   ]
  },
  {
   "cell_type": "code",
   "execution_count": 9,
   "id": "b8cd1858",
   "metadata": {},
   "outputs": [],
   "source": [
    "# приводим дату к формату datetime64\n",
    "df_ride['date'] = pd.to_datetime(df_ride['date'], format='%Y-%m-%d')\n",
    "# добавляем столбец с номером месяца\n",
    "df_ride['month'] = df_ride['date'].dt.month"
   ]
  },
  {
   "cell_type": "markdown",
   "id": "b53c4816",
   "metadata": {},
   "source": [
    "### Вывод по главе\n",
    "Мы улучшили данные удалив строки дубликаты из df_user. А также изменив тип данных у столбца с данным поездок - приведя его к формату дат."
   ]
  },
  {
   "cell_type": "markdown",
   "id": "1ee4d6d7",
   "metadata": {},
   "source": [
    "## Исследовательский анализ данных\n",
    "В данной главе мы изучим и построим гистограммы по следующим параметрам:\n",
    "* какие города встречаются чаще всего\n",
    "* соотношение пользователей с подпиской и без подписки\n",
    "* возраст пользователей\n",
    "* сколько проезжают (в метрах) за одну поездку\n",
    "* а также продолжительность этих поездок"
   ]
  },
  {
   "cell_type": "markdown",
   "id": "8de11ee2",
   "metadata": {},
   "source": [
    "### Частота встречаемости городов"
   ]
  },
  {
   "cell_type": "code",
   "execution_count": 10,
   "id": "4c3402f4",
   "metadata": {},
   "outputs": [
    {
     "name": "stdout",
     "output_type": "stream",
     "text": [
      "кол-во городов\n",
      "Пятигорск         219\n",
      "Екатеринбург      204\n",
      "Ростов-на-Дону    198\n",
      "Краснодар         193\n",
      "Сочи              189\n",
      "Омск              183\n",
      "Тюмень            180\n",
      "Москва            168\n",
      "Name: city, dtype: int64\n"
     ]
    },
    {
     "data": {
      "text/plain": [
       "Text(0.5, 0, 'Города, название')"
      ]
     },
     "execution_count": 10,
     "metadata": {},
     "output_type": "execute_result"
    },
    {
     "data": {
      "image/png": "[encoded data removed]",
      "text/plain": [
       "<Figure size 720x720 with 1 Axes>"
      ]
     },
     "metadata": {
      "needs_background": "light"
     },
     "output_type": "display_data"
    }
   ],
   "source": [
    "print('кол-во городов')\n",
    "print(df_user['city'].value_counts())\n",
    "df_user['city'].value_counts().plot(kind = 'bar', figsize = (10,10), grid = True, title = 'Сравнение частот городов', legend = True, y = 'Количество')\n",
    "plt.ylabel('Частота встречаемости городов')\n",
    "plt.xlabel('Города, название')"
   ]
  },
  {
   "cell_type": "markdown",
   "id": "18cbaaea",
   "metadata": {},
   "source": [
    "Самые большие любители самокатов в Пятигорске. Возможно это связано с тем, что это курортный город. Но почему тогда следом за ним идет Екатеринбург, а не Сочи - пока что непонятно. А на последнем месте расположилась Москва. Возможно это связано с тем, что в Москве сильно развита транспортная инфраструктура, и передвигаться легче на автобусах и метро."
   ]
  },
  {
   "cell_type": "markdown",
   "id": "075bf6dc",
   "metadata": {},
   "source": [
    "### Соотношение пользователей с подпиской и без подписки"
   ]
  },
  {
   "cell_type": "code",
   "execution_count": 11,
   "id": "021a8d17",
   "metadata": {},
   "outputs": [
    {
     "name": "stdout",
     "output_type": "stream",
     "text": [
      "кол-во платных и бесплатных подписок\n",
      "free     835\n",
      "ultra    699\n",
      "Name: subscription_type, dtype: int64\n"
     ]
    },
    {
     "data": {
      "text/plain": [
       "Text(0, 0.5, 'Тип подписки')"
      ]
     },
     "execution_count": 11,
     "metadata": {},
     "output_type": "execute_result"
    },
    {
     "data": {
      "image/png": "[encoded data removed]",
      "text/plain": [
       "<Figure size 720x720 with 1 Axes>"
      ]
     },
     "metadata": {},
     "output_type": "display_data"
    }
   ],
   "source": [
    "print('кол-во платных и бесплатных подписок')\n",
    "print(df_user['subscription_type'].value_counts())\n",
    "df_user['subscription_type'].value_counts(ascending = True).plot(kind = 'pie', figsize = (10,10), autopct='%1.0f%%', title = 'Процентное соотношение пользователей с подпиской и без')\n",
    "plt.ylabel('Тип подписки')"
   ]
  },
  {
   "cell_type": "markdown",
   "id": "2aee61b4",
   "metadata": {},
   "source": [
    "Довольно логичный результат - бесплатных пользователей больше. Думаю, что очень малая часть людей постоянно арендует самокат, чтобы покататься. Из этого следует, что людям дешевле не платить за подписку - она просто не окупится. "
   ]
  },
  {
   "cell_type": "markdown",
   "id": "23441ed8",
   "metadata": {},
   "source": [
    "### Возраст пользователей"
   ]
  },
  {
   "cell_type": "code",
   "execution_count": 12,
   "id": "d956e668",
   "metadata": {},
   "outputs": [
    {
     "name": "stdout",
     "output_type": "stream",
     "text": [
      "общие данные по возрасту\n",
      "count    1534.000000\n",
      "mean       24.903520\n",
      "std         4.572367\n",
      "min        12.000000\n",
      "25%        22.000000\n",
      "50%        25.000000\n",
      "75%        28.000000\n",
      "max        43.000000\n",
      "Name: age, dtype: float64\n"
     ]
    },
    {
     "data": {
      "text/plain": [
       "Text(0.5, 0, 'Возраст, года')"
      ]
     },
     "execution_count": 12,
     "metadata": {},
     "output_type": "execute_result"
    },
    {
     "data": {
      "image/png": "[encoded data removed]",
      "text/plain": [
       "<Figure size 720x720 with 1 Axes>"
      ]
     },
     "metadata": {
      "needs_background": "light"
     },
     "output_type": "display_data"
    }
   ],
   "source": [
    "print('общие данные по возрасту')\n",
    "print(df_user['age'].describe())\n",
    "df_user['age'].plot(kind = 'hist', grid=True, figsize=(10,10), bins = 100, title = 'Возраст пользователей', legend = True)\n",
    "plt.ylabel('Частота встречаемости возраста')\n",
    "plt.xlabel('Возраст, года')"
   ]
  },
  {
   "cell_type": "markdown",
   "id": "344bc02e",
   "metadata": {},
   "source": [
    "Средний возраст пользователей примерно от 20 до 30 лет. Для детей самокаты наверное слишком большие, а для пожилых людей крайне травмоопасные (хотя и для более молодых людей тоже). Отсюда и вполне логичный возраст пользователей."
   ]
  },
  {
   "cell_type": "markdown",
   "id": "16430597",
   "metadata": {},
   "source": [
    "### Расстояние, которое пользователь преодолел за одну поездку"
   ]
  },
  {
   "cell_type": "code",
   "execution_count": 13,
   "id": "e0821bc1",
   "metadata": {},
   "outputs": [
    {
     "name": "stdout",
     "output_type": "stream",
     "text": [
      "общие данные по расстоянию\n",
      "count    18068.000000\n",
      "mean      3070.659976\n",
      "std       1116.831209\n",
      "min          0.855683\n",
      "25%       2543.226360\n",
      "50%       3133.609994\n",
      "75%       3776.222735\n",
      "max       7211.007745\n",
      "Name: distance, dtype: float64\n"
     ]
    },
    {
     "data": {
      "text/plain": [
       "Text(0.5, 0, 'Расстояние, метры')"
      ]
     },
     "execution_count": 13,
     "metadata": {},
     "output_type": "execute_result"
    },
    {
     "data": {
      "image/png": "[encoded data removed]",
      "text/plain": [
       "<Figure size 720x720 with 1 Axes>"
      ]
     },
     "metadata": {
      "needs_background": "light"
     },
     "output_type": "display_data"
    }
   ],
   "source": [
    "print('общие данные по расстоянию')\n",
    "print(df_ride['distance'].describe())\n",
    "df_ride['distance'].plot(kind = 'hist', grid=True, figsize=(10,10), bins = 100, title = 'Расстояние которое пользователь преодолел за одну поездку', legend = True)\n",
    "plt.ylabel('Частота встречаемости расстояния')\n",
    "plt.xlabel('Расстояние, метры')"
   ]
  },
  {
   "cell_type": "markdown",
   "id": "8e094e9d",
   "metadata": {},
   "source": [
    "График имеет бимодальное распределение. Большинство людей катаются от 2 до 4,5 км на самокатах. График имеет бимодальное распределение. Но есть второй \"колокол\" в котором дальность поездок около километра и меньше. Возможно люди используют самокат, чтобы быстро куда то добраться (магазин, работа, спортзал)."
   ]
  },
  {
   "cell_type": "markdown",
   "id": "64bfa9c9",
   "metadata": {},
   "source": [
    "### Продолжительность поездок"
   ]
  },
  {
   "cell_type": "code",
   "execution_count": 14,
   "id": "fb57a793",
   "metadata": {},
   "outputs": [
    {
     "name": "stdout",
     "output_type": "stream",
     "text": [
      "общие данные по продолжительности поездок\n",
      "count    18068.000000\n",
      "mean        17.805011\n",
      "std          6.091051\n",
      "min          0.500000\n",
      "25%         13.597563\n",
      "50%         17.678395\n",
      "75%         21.724800\n",
      "max         40.823963\n",
      "Name: duration, dtype: float64\n"
     ]
    },
    {
     "data": {
      "text/plain": [
       "Text(0.5, 0, 'Время, минуты')"
      ]
     },
     "execution_count": 14,
     "metadata": {},
     "output_type": "execute_result"
    },
    {
     "data": {
      "image/png": "[encoded data removed]",
      "text/plain": [
       "<Figure size 720x720 with 1 Axes>"
      ]
     },
     "metadata": {
      "needs_background": "light"
     },
     "output_type": "display_data"
    }
   ],
   "source": [
    "print('общие данные по продолжительности поездок')\n",
    "print(df_ride['duration'].describe())\n",
    "df_ride['duration'].plot(kind = 'hist', grid=True, figsize=(10,10), bins = 100, title = 'Продолжительность поездок', legend = True)\n",
    "plt.ylabel('Частота встречаемости времени')\n",
    "plt.xlabel('Время, минуты')"
   ]
  },
  {
   "cell_type": "markdown",
   "id": "6ad27a3c",
   "metadata": {},
   "source": [
    "Средняя продолжительность поездок на самокате варьруется от 7 до 27 минут. Так же имеются непродолжительные поездки меньше 2-3 минут, которые связаны на предыдущем графике с поездками до 1 км."
   ]
  },
  {
   "cell_type": "code",
   "execution_count": 15,
   "id": "a95ea1ec",
   "metadata": {},
   "outputs": [
    {
     "data": {
      "text/html": [
       "<div>\n",
       "<style scoped>\n",
       "    .dataframe tbody tr th:only-of-type {\n",
       "        vertical-align: middle;\n",
       "    }\n",
       "\n",
       "    .dataframe tbody tr th {\n",
       "        vertical-align: top;\n",
       "    }\n",
       "\n",
       "    .dataframe thead th {\n",
       "        text-align: right;\n",
       "    }\n",
       "</style>\n",
       "<table border=\"1\" class=\"dataframe\">\n",
       "  <thead>\n",
       "    <tr style=\"text-align: right;\">\n",
       "      <th></th>\n",
       "      <th>user_id</th>\n",
       "      <th>distance</th>\n",
       "      <th>duration</th>\n",
       "      <th>date</th>\n",
       "      <th>month</th>\n",
       "    </tr>\n",
       "  </thead>\n",
       "  <tbody>\n",
       "    <tr>\n",
       "      <th>6531</th>\n",
       "      <td>701</td>\n",
       "      <td>4196.445201</td>\n",
       "      <td>0.5</td>\n",
       "      <td>2021-08-31</td>\n",
       "      <td>8</td>\n",
       "    </tr>\n",
       "    <tr>\n",
       "      <th>6570</th>\n",
       "      <td>704</td>\n",
       "      <td>4830.824371</td>\n",
       "      <td>0.5</td>\n",
       "      <td>2021-10-14</td>\n",
       "      <td>10</td>\n",
       "    </tr>\n",
       "    <tr>\n",
       "      <th>6680</th>\n",
       "      <td>712</td>\n",
       "      <td>4684.004397</td>\n",
       "      <td>0.5</td>\n",
       "      <td>2021-03-04</td>\n",
       "      <td>3</td>\n",
       "    </tr>\n",
       "    <tr>\n",
       "      <th>6695</th>\n",
       "      <td>713</td>\n",
       "      <td>5215.642710</td>\n",
       "      <td>0.5</td>\n",
       "      <td>2021-02-25</td>\n",
       "      <td>2</td>\n",
       "    </tr>\n",
       "    <tr>\n",
       "      <th>6768</th>\n",
       "      <td>718</td>\n",
       "      <td>5197.436649</td>\n",
       "      <td>0.5</td>\n",
       "      <td>2021-02-11</td>\n",
       "      <td>2</td>\n",
       "    </tr>\n",
       "    <tr>\n",
       "      <th>...</th>\n",
       "      <td>...</td>\n",
       "      <td>...</td>\n",
       "      <td>...</td>\n",
       "      <td>...</td>\n",
       "      <td>...</td>\n",
       "    </tr>\n",
       "    <tr>\n",
       "      <th>17004</th>\n",
       "      <td>1460</td>\n",
       "      <td>5531.335845</td>\n",
       "      <td>0.5</td>\n",
       "      <td>2021-01-19</td>\n",
       "      <td>1</td>\n",
       "    </tr>\n",
       "    <tr>\n",
       "      <th>17242</th>\n",
       "      <td>1477</td>\n",
       "      <td>6724.932981</td>\n",
       "      <td>0.5</td>\n",
       "      <td>2021-01-12</td>\n",
       "      <td>1</td>\n",
       "    </tr>\n",
       "    <tr>\n",
       "      <th>17314</th>\n",
       "      <td>1483</td>\n",
       "      <td>4445.481070</td>\n",
       "      <td>0.5</td>\n",
       "      <td>2021-03-06</td>\n",
       "      <td>3</td>\n",
       "    </tr>\n",
       "    <tr>\n",
       "      <th>17505</th>\n",
       "      <td>1496</td>\n",
       "      <td>5722.551787</td>\n",
       "      <td>0.5</td>\n",
       "      <td>2021-02-14</td>\n",
       "      <td>2</td>\n",
       "    </tr>\n",
       "    <tr>\n",
       "      <th>17909</th>\n",
       "      <td>1524</td>\n",
       "      <td>4103.998874</td>\n",
       "      <td>0.5</td>\n",
       "      <td>2021-06-18</td>\n",
       "      <td>6</td>\n",
       "    </tr>\n",
       "  </tbody>\n",
       "</table>\n",
       "<p>95 rows × 5 columns</p>\n",
       "</div>"
      ],
      "text/plain": [
       "       user_id     distance  duration       date  month\n",
       "6531       701  4196.445201       0.5 2021-08-31      8\n",
       "6570       704  4830.824371       0.5 2021-10-14     10\n",
       "6680       712  4684.004397       0.5 2021-03-04      3\n",
       "6695       713  5215.642710       0.5 2021-02-25      2\n",
       "6768       718  5197.436649       0.5 2021-02-11      2\n",
       "...        ...          ...       ...        ...    ...\n",
       "17004     1460  5531.335845       0.5 2021-01-19      1\n",
       "17242     1477  6724.932981       0.5 2021-01-12      1\n",
       "17314     1483  4445.481070       0.5 2021-03-06      3\n",
       "17505     1496  5722.551787       0.5 2021-02-14      2\n",
       "17909     1524  4103.998874       0.5 2021-06-18      6\n",
       "\n",
       "[95 rows x 5 columns]"
      ]
     },
     "execution_count": 15,
     "metadata": {},
     "output_type": "execute_result"
    }
   ],
   "source": [
    "# код ревьюера\n",
    "df_ride[df_ride['duration']==0.5]"
   ]
  },
  {
   "cell_type": "markdown",
   "id": "599c3fed",
   "metadata": {},
   "source": [
    "### Вывод по главе\n",
    "* пользователей без подписки больше.\n",
    "* больше всего пользователей самокатов в Пятигорске, меньше всего - в Москве.\n",
    "* средний возраст от 20 до 30 лет.\n",
    "* большая часть поездок от 2 до 4,5 км."
   ]
  },
  {
   "cell_type": "markdown",
   "id": "d35ef039",
   "metadata": {},
   "source": [
    "## Объединение и создание новых датафреймов\n",
    "Для того, чтобы проверить интересующие нас гипотезы нам потребуется подготовить датафреймы:\n",
    "* объединить все три датафрейма один\n",
    "* на основе общего датафрейма создать два новых - с бесплатной и платной подписками\n",
    "* визуализировать данные по двум новым датафреймам"
   ]
  },
  {
   "cell_type": "markdown",
   "id": "32f85492",
   "metadata": {},
   "source": [
    "### Объединение датафреймов"
   ]
  },
  {
   "cell_type": "code",
   "execution_count": 16,
   "id": "b024ddbf",
   "metadata": {},
   "outputs": [],
   "source": [
    "# последовательно соединяем датафреймы\n",
    "df_temp = df_user.merge(df_ride, on = 'user_id', how = 'left')\n",
    "df_all = df_temp.merge(df_sub, on = 'subscription_type', how = 'left')"
   ]
  },
  {
   "cell_type": "code",
   "execution_count": 17,
   "id": "9b87aae1",
   "metadata": {},
   "outputs": [
    {
     "data": {
      "text/html": [
       "<div>\n",
       "<style scoped>\n",
       "    .dataframe tbody tr th:only-of-type {\n",
       "        vertical-align: middle;\n",
       "    }\n",
       "\n",
       "    .dataframe tbody tr th {\n",
       "        vertical-align: top;\n",
       "    }\n",
       "\n",
       "    .dataframe thead th {\n",
       "        text-align: right;\n",
       "    }\n",
       "</style>\n",
       "<table border=\"1\" class=\"dataframe\">\n",
       "  <thead>\n",
       "    <tr style=\"text-align: right;\">\n",
       "      <th></th>\n",
       "      <th>user_id</th>\n",
       "      <th>name</th>\n",
       "      <th>age</th>\n",
       "      <th>city</th>\n",
       "      <th>subscription_type</th>\n",
       "      <th>distance</th>\n",
       "      <th>duration</th>\n",
       "      <th>date</th>\n",
       "      <th>month</th>\n",
       "      <th>minute_price</th>\n",
       "      <th>start_ride_price</th>\n",
       "      <th>subscription_fee</th>\n",
       "    </tr>\n",
       "  </thead>\n",
       "  <tbody>\n",
       "    <tr>\n",
       "      <th>0</th>\n",
       "      <td>1</td>\n",
       "      <td>Кира</td>\n",
       "      <td>22</td>\n",
       "      <td>Тюмень</td>\n",
       "      <td>ultra</td>\n",
       "      <td>4409.919140</td>\n",
       "      <td>25.599769</td>\n",
       "      <td>2021-01-01</td>\n",
       "      <td>1</td>\n",
       "      <td>6</td>\n",
       "      <td>0</td>\n",
       "      <td>199</td>\n",
       "    </tr>\n",
       "    <tr>\n",
       "      <th>1</th>\n",
       "      <td>1</td>\n",
       "      <td>Кира</td>\n",
       "      <td>22</td>\n",
       "      <td>Тюмень</td>\n",
       "      <td>ultra</td>\n",
       "      <td>2617.592153</td>\n",
       "      <td>15.816871</td>\n",
       "      <td>2021-01-18</td>\n",
       "      <td>1</td>\n",
       "      <td>6</td>\n",
       "      <td>0</td>\n",
       "      <td>199</td>\n",
       "    </tr>\n",
       "    <tr>\n",
       "      <th>2</th>\n",
       "      <td>1</td>\n",
       "      <td>Кира</td>\n",
       "      <td>22</td>\n",
       "      <td>Тюмень</td>\n",
       "      <td>ultra</td>\n",
       "      <td>754.159807</td>\n",
       "      <td>6.232113</td>\n",
       "      <td>2021-04-20</td>\n",
       "      <td>4</td>\n",
       "      <td>6</td>\n",
       "      <td>0</td>\n",
       "      <td>199</td>\n",
       "    </tr>\n",
       "    <tr>\n",
       "      <th>3</th>\n",
       "      <td>1</td>\n",
       "      <td>Кира</td>\n",
       "      <td>22</td>\n",
       "      <td>Тюмень</td>\n",
       "      <td>ultra</td>\n",
       "      <td>2694.783254</td>\n",
       "      <td>18.511000</td>\n",
       "      <td>2021-08-11</td>\n",
       "      <td>8</td>\n",
       "      <td>6</td>\n",
       "      <td>0</td>\n",
       "      <td>199</td>\n",
       "    </tr>\n",
       "    <tr>\n",
       "      <th>4</th>\n",
       "      <td>1</td>\n",
       "      <td>Кира</td>\n",
       "      <td>22</td>\n",
       "      <td>Тюмень</td>\n",
       "      <td>ultra</td>\n",
       "      <td>4028.687306</td>\n",
       "      <td>26.265803</td>\n",
       "      <td>2021-08-28</td>\n",
       "      <td>8</td>\n",
       "      <td>6</td>\n",
       "      <td>0</td>\n",
       "      <td>199</td>\n",
       "    </tr>\n",
       "    <tr>\n",
       "      <th>5</th>\n",
       "      <td>1</td>\n",
       "      <td>Кира</td>\n",
       "      <td>22</td>\n",
       "      <td>Тюмень</td>\n",
       "      <td>ultra</td>\n",
       "      <td>2770.890808</td>\n",
       "      <td>16.650138</td>\n",
       "      <td>2021-10-09</td>\n",
       "      <td>10</td>\n",
       "      <td>6</td>\n",
       "      <td>0</td>\n",
       "      <td>199</td>\n",
       "    </tr>\n",
       "    <tr>\n",
       "      <th>6</th>\n",
       "      <td>1</td>\n",
       "      <td>Кира</td>\n",
       "      <td>22</td>\n",
       "      <td>Тюмень</td>\n",
       "      <td>ultra</td>\n",
       "      <td>3039.020292</td>\n",
       "      <td>14.927879</td>\n",
       "      <td>2021-10-19</td>\n",
       "      <td>10</td>\n",
       "      <td>6</td>\n",
       "      <td>0</td>\n",
       "      <td>199</td>\n",
       "    </tr>\n",
       "    <tr>\n",
       "      <th>7</th>\n",
       "      <td>1</td>\n",
       "      <td>Кира</td>\n",
       "      <td>22</td>\n",
       "      <td>Тюмень</td>\n",
       "      <td>ultra</td>\n",
       "      <td>2842.118050</td>\n",
       "      <td>23.117468</td>\n",
       "      <td>2021-11-06</td>\n",
       "      <td>11</td>\n",
       "      <td>6</td>\n",
       "      <td>0</td>\n",
       "      <td>199</td>\n",
       "    </tr>\n",
       "    <tr>\n",
       "      <th>8</th>\n",
       "      <td>1</td>\n",
       "      <td>Кира</td>\n",
       "      <td>22</td>\n",
       "      <td>Тюмень</td>\n",
       "      <td>ultra</td>\n",
       "      <td>3412.690668</td>\n",
       "      <td>15.238072</td>\n",
       "      <td>2021-11-14</td>\n",
       "      <td>11</td>\n",
       "      <td>6</td>\n",
       "      <td>0</td>\n",
       "      <td>199</td>\n",
       "    </tr>\n",
       "    <tr>\n",
       "      <th>9</th>\n",
       "      <td>1</td>\n",
       "      <td>Кира</td>\n",
       "      <td>22</td>\n",
       "      <td>Тюмень</td>\n",
       "      <td>ultra</td>\n",
       "      <td>748.690645</td>\n",
       "      <td>15.041884</td>\n",
       "      <td>2021-11-22</td>\n",
       "      <td>11</td>\n",
       "      <td>6</td>\n",
       "      <td>0</td>\n",
       "      <td>199</td>\n",
       "    </tr>\n",
       "  </tbody>\n",
       "</table>\n",
       "</div>"
      ],
      "text/plain": [
       "   user_id  name  age    city subscription_type     distance   duration  \\\n",
       "0        1  Кира   22  Тюмень             ultra  4409.919140  25.599769   \n",
       "1        1  Кира   22  Тюмень             ultra  2617.592153  15.816871   \n",
       "2        1  Кира   22  Тюмень             ultra   754.159807   6.232113   \n",
       "3        1  Кира   22  Тюмень             ultra  2694.783254  18.511000   \n",
       "4        1  Кира   22  Тюмень             ultra  4028.687306  26.265803   \n",
       "5        1  Кира   22  Тюмень             ultra  2770.890808  16.650138   \n",
       "6        1  Кира   22  Тюмень             ultra  3039.020292  14.927879   \n",
       "7        1  Кира   22  Тюмень             ultra  2842.118050  23.117468   \n",
       "8        1  Кира   22  Тюмень             ultra  3412.690668  15.238072   \n",
       "9        1  Кира   22  Тюмень             ultra   748.690645  15.041884   \n",
       "\n",
       "        date  month  minute_price  start_ride_price  subscription_fee  \n",
       "0 2021-01-01      1             6                 0               199  \n",
       "1 2021-01-18      1             6                 0               199  \n",
       "2 2021-04-20      4             6                 0               199  \n",
       "3 2021-08-11      8             6                 0               199  \n",
       "4 2021-08-28      8             6                 0               199  \n",
       "5 2021-10-09     10             6                 0               199  \n",
       "6 2021-10-19     10             6                 0               199  \n",
       "7 2021-11-06     11             6                 0               199  \n",
       "8 2021-11-14     11             6                 0               199  \n",
       "9 2021-11-22     11             6                 0               199  "
      ]
     },
     "execution_count": 17,
     "metadata": {},
     "output_type": "execute_result"
    }
   ],
   "source": [
    "# выведем первые строки нового датафрейма\n",
    "df_all.head(10)"
   ]
  },
  {
   "cell_type": "code",
   "execution_count": 18,
   "id": "e7392b8f",
   "metadata": {},
   "outputs": [
    {
     "name": "stdout",
     "output_type": "stream",
     "text": [
      "<class 'pandas.core.frame.DataFrame'>\n",
      "Int64Index: 18068 entries, 0 to 18067\n",
      "Data columns (total 12 columns):\n",
      " #   Column             Non-Null Count  Dtype         \n",
      "---  ------             --------------  -----         \n",
      " 0   user_id            18068 non-null  int64         \n",
      " 1   name               18068 non-null  object        \n",
      " 2   age                18068 non-null  int64         \n",
      " 3   city               18068 non-null  object        \n",
      " 4   subscription_type  18068 non-null  object        \n",
      " 5   distance           18068 non-null  float64       \n",
      " 6   duration           18068 non-null  float64       \n",
      " 7   date               18068 non-null  datetime64[ns]\n",
      " 8   month              18068 non-null  int64         \n",
      " 9   minute_price       18068 non-null  int64         \n",
      " 10  start_ride_price   18068 non-null  int64         \n",
      " 11  subscription_fee   18068 non-null  int64         \n",
      "dtypes: datetime64[ns](1), float64(2), int64(6), object(3)\n",
      "memory usage: 1.8+ MB\n"
     ]
    }
   ],
   "source": [
    "# проверим, что мы не потеряли строки при объеденении\n",
    "df_all.info()\n",
    "# до объединения в датафрейме df_ride было 18068 записей - после объединения осталось такое же кол-во записей\n",
    "# следовательно мы ничего не потеряли"
   ]
  },
  {
   "cell_type": "markdown",
   "id": "14da05cb",
   "metadata": {},
   "source": [
    "### Создание новых датафреймов"
   ]
  },
  {
   "cell_type": "code",
   "execution_count": 19,
   "id": "51a72849",
   "metadata": {},
   "outputs": [],
   "source": [
    "# создаем новые датафреймы без и с подпиской\n",
    "df_no_sub = df_all[df_all['subscription_type'] == 'free']\n",
    "df_yes_sub = df_all[df_all['subscription_type'] == 'ultra']"
   ]
  },
  {
   "cell_type": "markdown",
   "id": "8f7f3216",
   "metadata": {},
   "source": [
    "### Визуализация новых датафреймов"
   ]
  },
  {
   "cell_type": "code",
   "execution_count": 20,
   "id": "903ae743",
   "metadata": {},
   "outputs": [
    {
     "data": {
      "text/plain": [
       "Text(0.5, 0, 'Расстояние, метры')"
      ]
     },
     "execution_count": 20,
     "metadata": {},
     "output_type": "execute_result"
    },
    {
     "data": {
      "image/png": "[encoded data removed]",
      "text/plain": [
       "<Figure size 720x720 with 1 Axes>"
      ]
     },
     "metadata": {
      "needs_background": "light"
     },
     "output_type": "display_data"
    }
   ],
   "source": [
    "# визуализируем информацию о расстоянии поездок для пользователей обеих категорий\n",
    "df_no_sub['distance'].plot(kind = 'hist', grid=True, figsize=(10,10), bins = 100, title = 'Расстояние поездок', legend = True)\n",
    "df_yes_sub['distance'].plot(kind = 'hist', grid=True, figsize=(10,10), bins = 100, legend = True)\n",
    "plt.legend(['дистанция поездок людей без подписки', 'дистанция поездок людей с подпиской'])\n",
    "plt.ylabel('Частота встречаемости расстояния')\n",
    "plt.xlabel('Расстояние, метры')"
   ]
  },
  {
   "cell_type": "code",
   "execution_count": 21,
   "id": "5f093224",
   "metadata": {},
   "outputs": [
    {
     "data": {
      "text/plain": [
       "Text(0.5, 0, 'Время, минуты')"
      ]
     },
     "execution_count": 21,
     "metadata": {},
     "output_type": "execute_result"
    },
    {
     "data": {
      "image/png": "[encoded data removed]",
      "text/plain": [
       "<Figure size 720x720 with 1 Axes>"
      ]
     },
     "metadata": {
      "needs_background": "light"
     },
     "output_type": "display_data"
    }
   ],
   "source": [
    "# визуализируем информацию о времени поездок для пользователей обеих категорий\n",
    "df_no_sub['duration'].plot(kind = 'hist', grid=True, figsize=(10,10), bins = 100, title = 'Длительность поездок', legend = True)\n",
    "df_yes_sub['duration'].plot(kind = 'hist', grid=True, figsize=(10,10), bins = 100, legend = True)\n",
    "plt.legend(['время поездок людей без подписки', 'время поездок людей с подпиской'])\n",
    "plt.ylabel('Частота встречаемости времени')\n",
    "plt.xlabel('Время, минуты')"
   ]
  },
  {
   "cell_type": "markdown",
   "id": "fd13a29a",
   "metadata": {},
   "source": [
    "Возможно, что люди без подписки дольше и дальше катаются на самокатах. Исходя из этого следует проверить интересующие нас гипотезы."
   ]
  },
  {
   "cell_type": "markdown",
   "id": "6e0828e9",
   "metadata": {},
   "source": [
    "### Вывод по главе\n",
    "* объеденили все три датафрейма в один\n",
    "* создали два отдельных датафрейма с пользователями без и с подпиской\n",
    "* визуализировали данные по этим двум датафреймам"
   ]
  },
  {
   "cell_type": "markdown",
   "id": "14deb622",
   "metadata": {},
   "source": [
    "## Подсчёт выручки\n",
    "Дополнительно к предыдущей главе - дополним датафреймы новым столбцом с помесячной выручкой для каждого пользователя."
   ]
  },
  {
   "cell_type": "markdown",
   "id": "d28eebc0",
   "metadata": {},
   "source": [
    "### Округляем и переводим значения в новый тип данных"
   ]
  },
  {
   "cell_type": "code",
   "execution_count": 22,
   "id": "9c1d97b2",
   "metadata": {},
   "outputs": [],
   "source": [
    "# округляем значения\n",
    "df_all['duration'] = np.ceil(df_all['duration'])\n",
    "# переводим значения в новый тип данных\n",
    "df_all['duration'] = pd.to_numeric(df_all['duration'], downcast = 'integer')"
   ]
  },
  {
   "cell_type": "markdown",
   "id": "327fec30",
   "metadata": {},
   "source": [
    "### Находим суммарное расстояние, количество поездок и суммарное время для каждого пользователя за каждый месяц"
   ]
  },
  {
   "cell_type": "code",
   "execution_count": 23,
   "id": "d8251d2c",
   "metadata": {},
   "outputs": [],
   "source": [
    "# строим таблицу с суммарным расстоянием, количеством поездок и суммарным временем для каждого пользователя за каждый месяц\n",
    "df_all_by_user = df_all.groupby(['user_id', 'month'])[['duration', 'distance', 'month']].agg({'duration': 'sum', 'distance': 'sum', 'month': 'count'})"
   ]
  },
  {
   "cell_type": "code",
   "execution_count": 24,
   "id": "508ad465",
   "metadata": {},
   "outputs": [],
   "source": [
    "# переименовываем столбцы и применяем reset_index чтобы столбцы по которым группировали не стали индексами и мы могли проводить над ними операции\n",
    "df_all_by_user.rename(columns = {'duration': 'total_duration', 'distance': 'total_distance', 'month': 'total_rides'}, inplace = True)\n",
    "df_all_by_user = df_all_by_user.reset_index()"
   ]
  },
  {
   "cell_type": "code",
   "execution_count": 25,
   "id": "b99fa97e",
   "metadata": {},
   "outputs": [],
   "source": [
    "# добавляем тип подписки в датафрейм. цены подписок и поездок\n",
    "df_all_by_user = pd.merge(df_all_by_user, df_user[['user_id', 'subscription_type']], on='user_id', how='left')\n",
    "df_all_by_user = pd.merge(df_all_by_user, df_sub, on='subscription_type', how='left')"
   ]
  },
  {
   "cell_type": "markdown",
   "id": "4d027074",
   "metadata": {},
   "source": [
    "В total_duration были float значения - видимо в этом столбце были NaN значения после группировки, они в свои очередь имеют тип float.\n",
    "Дополнительно переводим total_duration в тип данных int:"
   ]
  },
  {
   "cell_type": "raw",
   "id": "1a4cac4f",
   "metadata": {},
   "source": [
    "df_all_by_user['total_duration'] = df_all_by_user['total_duration'].astype('int')"
   ]
  },
  {
   "cell_type": "markdown",
   "id": "092f9bda",
   "metadata": {},
   "source": [
    "### Добавляем столбец с помесячной выручкой, которую принёс каждый пользователь"
   ]
  },
  {
   "cell_type": "code",
   "execution_count": 26,
   "id": "a3235faf",
   "metadata": {
    "scrolled": false
   },
   "outputs": [
    {
     "data": {
      "text/html": [
       "<div>\n",
       "<style scoped>\n",
       "    .dataframe tbody tr th:only-of-type {\n",
       "        vertical-align: middle;\n",
       "    }\n",
       "\n",
       "    .dataframe tbody tr th {\n",
       "        vertical-align: top;\n",
       "    }\n",
       "\n",
       "    .dataframe thead th {\n",
       "        text-align: right;\n",
       "    }\n",
       "</style>\n",
       "<table border=\"1\" class=\"dataframe\">\n",
       "  <thead>\n",
       "    <tr style=\"text-align: right;\">\n",
       "      <th></th>\n",
       "      <th>user_id</th>\n",
       "      <th>month</th>\n",
       "      <th>total_duration</th>\n",
       "      <th>total_distance</th>\n",
       "      <th>total_rides</th>\n",
       "      <th>subscription_type</th>\n",
       "      <th>minute_price</th>\n",
       "      <th>start_ride_price</th>\n",
       "      <th>subscription_fee</th>\n",
       "      <th>month_profit</th>\n",
       "    </tr>\n",
       "  </thead>\n",
       "  <tbody>\n",
       "    <tr>\n",
       "      <th>0</th>\n",
       "      <td>1</td>\n",
       "      <td>1</td>\n",
       "      <td>42.0</td>\n",
       "      <td>7027.511294</td>\n",
       "      <td>2</td>\n",
       "      <td>ultra</td>\n",
       "      <td>6</td>\n",
       "      <td>0</td>\n",
       "      <td>199</td>\n",
       "      <td>451.0</td>\n",
       "    </tr>\n",
       "    <tr>\n",
       "      <th>1</th>\n",
       "      <td>1</td>\n",
       "      <td>4</td>\n",
       "      <td>7.0</td>\n",
       "      <td>754.159807</td>\n",
       "      <td>1</td>\n",
       "      <td>ultra</td>\n",
       "      <td>6</td>\n",
       "      <td>0</td>\n",
       "      <td>199</td>\n",
       "      <td>241.0</td>\n",
       "    </tr>\n",
       "    <tr>\n",
       "      <th>2</th>\n",
       "      <td>1</td>\n",
       "      <td>8</td>\n",
       "      <td>46.0</td>\n",
       "      <td>6723.470560</td>\n",
       "      <td>2</td>\n",
       "      <td>ultra</td>\n",
       "      <td>6</td>\n",
       "      <td>0</td>\n",
       "      <td>199</td>\n",
       "      <td>475.0</td>\n",
       "    </tr>\n",
       "    <tr>\n",
       "      <th>3</th>\n",
       "      <td>1</td>\n",
       "      <td>10</td>\n",
       "      <td>32.0</td>\n",
       "      <td>5809.911100</td>\n",
       "      <td>2</td>\n",
       "      <td>ultra</td>\n",
       "      <td>6</td>\n",
       "      <td>0</td>\n",
       "      <td>199</td>\n",
       "      <td>391.0</td>\n",
       "    </tr>\n",
       "    <tr>\n",
       "      <th>4</th>\n",
       "      <td>1</td>\n",
       "      <td>11</td>\n",
       "      <td>56.0</td>\n",
       "      <td>7003.499363</td>\n",
       "      <td>3</td>\n",
       "      <td>ultra</td>\n",
       "      <td>6</td>\n",
       "      <td>0</td>\n",
       "      <td>199</td>\n",
       "      <td>535.0</td>\n",
       "    </tr>\n",
       "    <tr>\n",
       "      <th>...</th>\n",
       "      <td>...</td>\n",
       "      <td>...</td>\n",
       "      <td>...</td>\n",
       "      <td>...</td>\n",
       "      <td>...</td>\n",
       "      <td>...</td>\n",
       "      <td>...</td>\n",
       "      <td>...</td>\n",
       "      <td>...</td>\n",
       "      <td>...</td>\n",
       "    </tr>\n",
       "    <tr>\n",
       "      <th>11326</th>\n",
       "      <td>1534</td>\n",
       "      <td>6</td>\n",
       "      <td>26.0</td>\n",
       "      <td>3409.468534</td>\n",
       "      <td>2</td>\n",
       "      <td>free</td>\n",
       "      <td>8</td>\n",
       "      <td>50</td>\n",
       "      <td>0</td>\n",
       "      <td>308.0</td>\n",
       "    </tr>\n",
       "    <tr>\n",
       "      <th>11327</th>\n",
       "      <td>1534</td>\n",
       "      <td>8</td>\n",
       "      <td>48.0</td>\n",
       "      <td>7622.453034</td>\n",
       "      <td>2</td>\n",
       "      <td>free</td>\n",
       "      <td>8</td>\n",
       "      <td>50</td>\n",
       "      <td>0</td>\n",
       "      <td>484.0</td>\n",
       "    </tr>\n",
       "    <tr>\n",
       "      <th>11328</th>\n",
       "      <td>1534</td>\n",
       "      <td>9</td>\n",
       "      <td>23.0</td>\n",
       "      <td>4928.173852</td>\n",
       "      <td>1</td>\n",
       "      <td>free</td>\n",
       "      <td>8</td>\n",
       "      <td>50</td>\n",
       "      <td>0</td>\n",
       "      <td>234.0</td>\n",
       "    </tr>\n",
       "    <tr>\n",
       "      <th>11329</th>\n",
       "      <td>1534</td>\n",
       "      <td>11</td>\n",
       "      <td>78.0</td>\n",
       "      <td>13350.015305</td>\n",
       "      <td>4</td>\n",
       "      <td>free</td>\n",
       "      <td>8</td>\n",
       "      <td>50</td>\n",
       "      <td>0</td>\n",
       "      <td>824.0</td>\n",
       "    </tr>\n",
       "    <tr>\n",
       "      <th>11330</th>\n",
       "      <td>1534</td>\n",
       "      <td>12</td>\n",
       "      <td>16.0</td>\n",
       "      <td>2371.711192</td>\n",
       "      <td>1</td>\n",
       "      <td>free</td>\n",
       "      <td>8</td>\n",
       "      <td>50</td>\n",
       "      <td>0</td>\n",
       "      <td>178.0</td>\n",
       "    </tr>\n",
       "  </tbody>\n",
       "</table>\n",
       "<p>11331 rows × 10 columns</p>\n",
       "</div>"
      ],
      "text/plain": [
       "       user_id  month  total_duration  total_distance  total_rides  \\\n",
       "0            1      1            42.0     7027.511294            2   \n",
       "1            1      4             7.0      754.159807            1   \n",
       "2            1      8            46.0     6723.470560            2   \n",
       "3            1     10            32.0     5809.911100            2   \n",
       "4            1     11            56.0     7003.499363            3   \n",
       "...        ...    ...             ...             ...          ...   \n",
       "11326     1534      6            26.0     3409.468534            2   \n",
       "11327     1534      8            48.0     7622.453034            2   \n",
       "11328     1534      9            23.0     4928.173852            1   \n",
       "11329     1534     11            78.0    13350.015305            4   \n",
       "11330     1534     12            16.0     2371.711192            1   \n",
       "\n",
       "      subscription_type  minute_price  start_ride_price  subscription_fee  \\\n",
       "0                 ultra             6                 0               199   \n",
       "1                 ultra             6                 0               199   \n",
       "2                 ultra             6                 0               199   \n",
       "3                 ultra             6                 0               199   \n",
       "4                 ultra             6                 0               199   \n",
       "...                 ...           ...               ...               ...   \n",
       "11326              free             8                50                 0   \n",
       "11327              free             8                50                 0   \n",
       "11328              free             8                50                 0   \n",
       "11329              free             8                50                 0   \n",
       "11330              free             8                50                 0   \n",
       "\n",
       "       month_profit  \n",
       "0             451.0  \n",
       "1             241.0  \n",
       "2             475.0  \n",
       "3             391.0  \n",
       "4             535.0  \n",
       "...             ...  \n",
       "11326         308.0  \n",
       "11327         484.0  \n",
       "11328         234.0  \n",
       "11329         824.0  \n",
       "11330         178.0  \n",
       "\n",
       "[11331 rows x 10 columns]"
      ]
     },
     "execution_count": 26,
     "metadata": {},
     "output_type": "execute_result"
    }
   ],
   "source": [
    "# объявляем функцию для подсчета ежемесячной выручки для каждого пользователя\n",
    "def month_profit_func (row):\n",
    "    return row['minute_price'] * row['total_duration'] + row['subscription_fee'] + row['start_ride_price'] * row['total_rides']\n",
    "# применяем функцию к датафрейму\n",
    "df_all_by_user['month_profit'] = df_all_by_user.apply(month_profit_func, axis=1)\n",
    "# смотрим что все получилось\n",
    "df_all_by_user"
   ]
  },
  {
   "cell_type": "markdown",
   "id": "6e2c4af0",
   "metadata": {},
   "source": [
    "### Вывод по главе\n",
    "Была посчитана помесячная выручка для каждого пользователя. Это поможет нам в проверке одной из гипотез."
   ]
  },
  {
   "cell_type": "markdown",
   "id": "c2c84828",
   "metadata": {},
   "source": [
    "## Проверка гипотез\n",
    "Заключительная глава нашего проекта в которой мы производим проверку гипотез:\n",
    "* Тратят ли пользователи с подпиской больше времени на поездки?\n",
    "* Можно ли сказать, что расстояние, которое проезжают пользователи с подпиской за одну поездку, не превышает 3130 метров?\n",
    "* Помесячная выручка от пользователей с подпиской по месяцам выше, чем выручка от пользователей без подписки?\n",
    "А также ответ на проверочный вопрос:\n",
    "* Какой тест понадобится для проверки гипотезы на основе предоставленной ситуации?"
   ]
  },
  {
   "cell_type": "markdown",
   "id": "4aa18214",
   "metadata": {},
   "source": [
    "### Тратят ли пользователи с подпиской больше времени на поездки?"
   ]
  },
  {
   "cell_type": "markdown",
   "id": "4320fbdd",
   "metadata": {},
   "source": [
    "Сформулируем нулевую и альтернативную теории:\n",
    "* H0 - пользователи с подпиской тратят столько же времени на поездки, сколько и пользователи без подписки\n",
    "* H1 - пользователи с подпиской тратят больше времени на поездки"
   ]
  },
  {
   "cell_type": "code",
   "execution_count": 27,
   "id": "2a8fe9ed",
   "metadata": {},
   "outputs": [
    {
     "name": "stdout",
     "output_type": "stream",
     "text": [
      "p-значение: 1.2804098316645618e-34\n",
      "Отвергаем нулевую гипотезу\n",
      "\n",
      "Среднее значение продолжительности поездки пользователей с подпиской\n",
      "\n",
      "18.54198516280583\n",
      "\n",
      "Среднее значение продолжительности поездки пользователей без подписки\n"
     ]
    },
    {
     "data": {
      "text/plain": [
       "17.39090929866399"
      ]
     },
     "execution_count": 27,
     "metadata": {},
     "output_type": "execute_result"
    }
   ],
   "source": [
    "# время на поездки у пользователей с подпиской\n",
    "sub = df_yes_sub['duration']\n",
    "# время на поездки у пользователей без подписки\n",
    "unsub = df_no_sub['duration']\n",
    "# уровень статистической значимости\n",
    "alpha = 0.05\n",
    "\n",
    "results = st.ttest_ind(sub, unsub, alternative='greater')\n",
    "\n",
    "print('p-значение:', results.pvalue)\n",
    "\n",
    "if (results.pvalue < alpha):\n",
    "    print('Отвергаем нулевую гипотезу')\n",
    "else:\n",
    "    print('Не отвергаем нулевую гипотезу')\n",
    "    print()\n",
    "print()\n",
    "print('Среднее значение продолжительности поездки пользователей с подпиской')\n",
    "print()\n",
    "print(sub.mean())\n",
    "print()\n",
    "print('Среднее значение продолжительности поездки пользователей без подписки')\n",
    "unsub.mean()"
   ]
  },
  {
   "cell_type": "markdown",
   "id": "68fbb470",
   "metadata": {},
   "source": [
    "Судя по результатам можно предположить, что люди с подпиской тратят больше времени на поездки, чем люди без подписки."
   ]
  },
  {
   "cell_type": "markdown",
   "id": "87d06dc9",
   "metadata": {},
   "source": [
    "### Можно ли сказать, что расстояние, которое проезжают пользователи с подпиской за одну поездку, не превышает 3130 метров?"
   ]
  },
  {
   "cell_type": "markdown",
   "id": "c3c7d7ef",
   "metadata": {},
   "source": [
    "Сформулируем нулевую и альтернативную теории:\n",
    "* H0 - пользователи с подпиской проезжают 3130 метров за одну поездку\n",
    "* H1 - пользователи с подпиской проезжают расстояние за одну поездку, превышающее 3130 метров"
   ]
  },
  {
   "cell_type": "code",
   "execution_count": 28,
   "id": "f432a591",
   "metadata": {},
   "outputs": [
    {
     "name": "stdout",
     "output_type": "stream",
     "text": [
      "p-значение: 0.9195368847849785\n",
      "Не отвергаем нулевую гипотезу\n",
      "\n",
      "Среднее значение дальности поездки пользователей с подпиской\n",
      "\n",
      "3115.4453880370247\n"
     ]
    }
   ],
   "source": [
    "# дистанции поездок у пользователей с подпиской\n",
    "sub_dist = df_yes_sub['distance']\n",
    "\n",
    "# заданное нам расстояние\n",
    "control_dist = 3130\n",
    "\n",
    "# уровень статистической значимости\n",
    "alpha = 0.05\n",
    "\n",
    "results = st.ttest_1samp(sub_dist, control_dist, alternative='greater')\n",
    "\n",
    "print('p-значение:', results.pvalue)\n",
    "\n",
    "if (results.pvalue < alpha):\n",
    "    print('Отвергаем нулевую гипотезу')\n",
    "else:\n",
    "    print('Не отвергаем нулевую гипотезу')\n",
    "    print()\n",
    "print('Среднее значение дальности поездки пользователей с подпиской')\n",
    "print()\n",
    "print(sub_dist.mean())"
   ]
  },
  {
   "cell_type": "markdown",
   "id": "26fd2693",
   "metadata": {},
   "source": [
    "Судя по результатам можно предположить, среднее расстояние, которое проезжают пользователи с подпиской не имеет статистически значимых отличий от заданного расстояния в 3130 метров, следовательно чрезмерного износа самокатов не будет."
   ]
  },
  {
   "cell_type": "markdown",
   "id": "90f48639",
   "metadata": {},
   "source": [
    "### Помесячная выручка от пользователей с подпиской по месяцам выше, чем выручка от пользователей без подписки?"
   ]
  },
  {
   "cell_type": "markdown",
   "id": "b855db53",
   "metadata": {},
   "source": [
    "Сформулируем нулевую и альтернативную теории:\n",
    "* H0 - помесячная выручка от пользователей с подпиской такая же как у пользователей без подписки\n",
    "* H1 - помесячная выручка от пользователей с подпиской выше, чем у пользователей без подписки"
   ]
  },
  {
   "cell_type": "code",
   "execution_count": 29,
   "id": "37edfb5c",
   "metadata": {
    "scrolled": true
   },
   "outputs": [
    {
     "name": "stdout",
     "output_type": "stream",
     "text": [
      "p-значение: 1.8850394384715216e-31\n",
      "Отвергаем нулевую гипотезу\n",
      "\n",
      "Среднее значение выручки пользователей с подпиской\n",
      "\n",
      "362.7921906022502\n",
      "\n",
      "Среднее значение выручки пользователей без подписки\n"
     ]
    },
    {
     "data": {
      "text/plain": [
       "328.6413651073845"
      ]
     },
     "execution_count": 29,
     "metadata": {},
     "output_type": "execute_result"
    }
   ],
   "source": [
    "# месячный доход от подписчиков\n",
    "sub_month = df_all_by_user[df_all_by_user['subscription_type'] == 'ultra']['month_profit']\n",
    "# месячный доход от пользователей без подписки\n",
    "unsub_month = df_all_by_user[df_all_by_user['subscription_type'] == 'free']['month_profit']\n",
    "# уровень статистической значимости\n",
    "alpha = 0.05\n",
    "\n",
    "results = st.ttest_ind(sub_month, unsub_month, alternative='greater')\n",
    "\n",
    "print('p-значение:', results.pvalue)\n",
    "\n",
    "if (results.pvalue < alpha):\n",
    "    print('Отвергаем нулевую гипотезу')\n",
    "else:\n",
    "    print('Не отвергаем нулевую гипотезу')\n",
    "print()\n",
    "print('Среднее значение выручки пользователей с подпиской')\n",
    "print()\n",
    "print(sub_month.mean())\n",
    "print()\n",
    "print('Среднее значение выручки пользователей без подписки')\n",
    "unsub_month.mean()"
   ]
  },
  {
   "cell_type": "markdown",
   "id": "f61c8d69",
   "metadata": {},
   "source": [
    "Судя по результатам можно предположить, что люди с подпиской действительно приносят больше дохода, чем люди без подписки."
   ]
  },
  {
   "cell_type": "markdown",
   "id": "18419066",
   "metadata": {},
   "source": [
    "### Какой тест понадобится для проверки гипотезы на основе предоставленной ситуации?"
   ]
  },
  {
   "cell_type": "markdown",
   "id": "ad47449c",
   "metadata": {},
   "source": [
    "Представьте такую ситуацию: техническая команда сервиса обновила сервера, с которыми взаимодействует мобильное приложение. Она надеется, что из-за этого количество обращений в техподдержку значимо снизилось. Некоторый файл содержит для каждого пользователя данные о количестве обращений до обновления и после него. Какой тест вам понадобился бы для проверки этой гипотезы?"
   ]
  },
  {
   "cell_type": "markdown",
   "id": "a9edde31",
   "metadata": {},
   "source": [
    "Данный тип гипотез - это гипотеза о равенстве средних для зависимых (парных) выборок. Метод python, который мы применим, выглядит следующим образом: scipy.stats.ttest_rel()."
   ]
  },
  {
   "cell_type": "markdown",
   "id": "3d32dc5b",
   "metadata": {},
   "source": [
    "## Общий вывод"
   ]
  },
  {
   "cell_type": "markdown",
   "id": "f2deb2c8",
   "metadata": {},
   "source": [
    "### Предобработка данных\n",
    "Качество данных возросло, благодаря:\n",
    "* Устранению явных дубликатов - были удалены 31 строки дубликаты\n",
    "* Тип данных был изменен там, где это было необходимо в столбце date в df_ride\n",
    "В целом предоставленные данные были довольно хорошо составлены и не имели критических недочетов.\n",
    "\n",
    "### Исследовательский анализ данных \n",
    "Исследовательский анализ данных был произведен в полном объеме и включал в себя:\n",
    "* анализ частоты встречаемости городов, который показал, что в Пятигорске больше всего пользователей самокатов, а в Москве меньше всего\n",
    "* анализ соотношения пользователей с подпиской и без подписки,который показал, что доля людей без подписки выше и составляет 54%\n",
    "* анализ возраста пользователей, который показал, что средний возраст пользователей варьируется от 20 до 30 лет\n",
    "* анализ расстояния, которое пользователь преодолел за одну поездку показал, что в среднем пользователи преодолевают расстояние от 2 до 4,5 км.\n",
    "* анализ продолжительности поездок показал, что пользователи в среднем катаются от 7 до 27 минут.\n",
    "\n",
    "### Исследование запросов заказчика\n",
    "Задачи выполнены в полном объеме и были получены следующие результаты:\n",
    "* люди с подпиской тратят больше времени на поездки, чем люди без подписки\n",
    "* среднее расстояние, которое проезжают пользователи с подпиской не имеет статистически значимых отличий от заданного расстояния в 3130 метров, следовательно чрезмерного износа самокатов не будет\n",
    "* люди с подпиской действительно приносят больше дохода, чем люди без подписки\n",
    "\n",
    "### Итог\n",
    "Работа была произведена в полном объеме, все поставленные цели и задачи были выполнены."
   ]
  }
 ],
 "metadata": {
  "ExecuteTimeLog": [
   {
    "duration": 45,
    "start_time": "2023-06-07T23:57:04.765Z"
   },
   {
    "duration": 373,
    "start_time": "2023-06-07T23:57:13.727Z"
   },
   {
    "duration": 201,
    "start_time": "2023-06-07T23:57:15.951Z"
   },
   {
    "duration": 80,
    "start_time": "2023-06-07T23:57:22.055Z"
   },
   {
    "duration": 73,
    "start_time": "2023-06-07T23:57:26.496Z"
   },
   {
    "duration": 71,
    "start_time": "2023-06-07T23:57:31.810Z"
   },
   {
    "duration": 73,
    "start_time": "2023-06-07T23:58:58.227Z"
   },
   {
    "duration": 80,
    "start_time": "2023-06-08T00:00:09.950Z"
   },
   {
    "duration": 73,
    "start_time": "2023-06-08T00:00:24.729Z"
   },
   {
    "duration": 98,
    "start_time": "2023-06-08T00:01:30.046Z"
   },
   {
    "duration": 97,
    "start_time": "2023-06-08T00:03:58.864Z"
   },
   {
    "duration": 31,
    "start_time": "2023-06-08T00:05:26.827Z"
   },
   {
    "duration": 390,
    "start_time": "2023-06-08T10:27:34.986Z"
   },
   {
    "duration": 310,
    "start_time": "2023-06-08T10:27:35.378Z"
   },
   {
    "duration": 57,
    "start_time": "2023-06-08T10:27:35.689Z"
   },
   {
    "duration": 8,
    "start_time": "2023-06-08T10:30:10.967Z"
   },
   {
    "duration": 3,
    "start_time": "2023-06-08T10:30:15.785Z"
   },
   {
    "duration": 87,
    "start_time": "2023-06-08T10:30:15.790Z"
   },
   {
    "duration": 11,
    "start_time": "2023-06-08T10:30:15.879Z"
   },
   {
    "duration": 20,
    "start_time": "2023-06-08T10:30:49.724Z"
   },
   {
    "duration": 78,
    "start_time": "2023-06-08T16:28:26.736Z"
   },
   {
    "duration": 402,
    "start_time": "2023-06-08T16:28:46.336Z"
   },
   {
    "duration": 357,
    "start_time": "2023-06-08T16:28:46.749Z"
   },
   {
    "duration": 40,
    "start_time": "2023-06-08T16:28:47.123Z"
   },
   {
    "duration": 54,
    "start_time": "2023-06-08T16:29:05.877Z"
   },
   {
    "duration": 38,
    "start_time": "2023-06-08T16:30:00.569Z"
   },
   {
    "duration": 2,
    "start_time": "2023-06-08T16:30:14.351Z"
   },
   {
    "duration": 189,
    "start_time": "2023-06-08T16:30:14.355Z"
   },
   {
    "duration": 22,
    "start_time": "2023-06-08T16:30:14.545Z"
   },
   {
    "duration": 43,
    "start_time": "2023-06-08T16:33:42.671Z"
   },
   {
    "duration": 35,
    "start_time": "2023-06-08T16:35:09.863Z"
   },
   {
    "duration": 23,
    "start_time": "2023-06-08T16:35:22.139Z"
   },
   {
    "duration": 40,
    "start_time": "2023-06-08T16:35:30.666Z"
   },
   {
    "duration": 33,
    "start_time": "2023-06-08T16:36:17.306Z"
   },
   {
    "duration": 34,
    "start_time": "2023-06-08T16:36:30.307Z"
   },
   {
    "duration": 63,
    "start_time": "2023-06-08T16:37:07.514Z"
   },
   {
    "duration": 395,
    "start_time": "2023-06-08T16:37:15.115Z"
   },
   {
    "duration": 135,
    "start_time": "2023-06-08T16:37:15.512Z"
   },
   {
    "duration": 21,
    "start_time": "2023-06-08T16:37:15.649Z"
   },
   {
    "duration": 22,
    "start_time": "2023-06-08T16:37:34.823Z"
   },
   {
    "duration": 37,
    "start_time": "2023-06-08T17:33:38.911Z"
   },
   {
    "duration": 41,
    "start_time": "2023-06-08T17:36:11.777Z"
   },
   {
    "duration": 84,
    "start_time": "2023-06-08T17:36:23.480Z"
   },
   {
    "duration": 38,
    "start_time": "2023-06-08T17:38:01.232Z"
   },
   {
    "duration": 36,
    "start_time": "2023-06-08T17:38:08.047Z"
   },
   {
    "duration": 30,
    "start_time": "2023-06-08T17:39:16.142Z"
   },
   {
    "duration": 3,
    "start_time": "2023-06-08T17:40:34.625Z"
   },
   {
    "duration": 101,
    "start_time": "2023-06-08T17:40:34.630Z"
   },
   {
    "duration": 26,
    "start_time": "2023-06-08T17:40:34.733Z"
   },
   {
    "duration": 52,
    "start_time": "2023-06-08T17:40:34.760Z"
   },
   {
    "duration": 97,
    "start_time": "2023-06-08T17:43:59.776Z"
   },
   {
    "duration": 56,
    "start_time": "2023-06-08T17:43:59.874Z"
   },
   {
    "duration": 27,
    "start_time": "2023-06-08T17:43:59.932Z"
   },
   {
    "duration": 83,
    "start_time": "2023-06-08T17:47:14.081Z"
   },
   {
    "duration": 33,
    "start_time": "2023-06-08T17:47:14.165Z"
   },
   {
    "duration": 35,
    "start_time": "2023-06-08T17:47:14.201Z"
   },
   {
    "duration": 10,
    "start_time": "2023-06-08T17:47:14.238Z"
   },
   {
    "duration": 10,
    "start_time": "2023-06-08T17:47:14.250Z"
   },
   {
    "duration": 80,
    "start_time": "2023-06-08T17:48:47.114Z"
   },
   {
    "duration": 39,
    "start_time": "2023-06-08T17:48:47.196Z"
   },
   {
    "duration": 27,
    "start_time": "2023-06-08T17:48:47.237Z"
   },
   {
    "duration": 24,
    "start_time": "2023-06-08T17:48:47.266Z"
   },
   {
    "duration": 28,
    "start_time": "2023-06-08T17:48:47.302Z"
   },
   {
    "duration": 20,
    "start_time": "2023-06-08T17:49:08.014Z"
   },
   {
    "duration": 92,
    "start_time": "2023-06-08T18:31:10.941Z"
   },
   {
    "duration": 38,
    "start_time": "2023-06-08T18:31:11.036Z"
   },
   {
    "duration": 41,
    "start_time": "2023-06-08T18:31:11.076Z"
   },
   {
    "duration": 15,
    "start_time": "2023-06-08T18:31:11.119Z"
   },
   {
    "duration": 13,
    "start_time": "2023-06-08T18:31:11.138Z"
   },
   {
    "duration": 401,
    "start_time": "2023-06-08T18:31:11.152Z"
   },
   {
    "duration": 128,
    "start_time": "2023-06-08T18:31:50.431Z"
   },
   {
    "duration": 80,
    "start_time": "2023-06-08T18:31:56.075Z"
   },
   {
    "duration": 191,
    "start_time": "2023-06-08T18:32:44.746Z"
   },
   {
    "duration": 178,
    "start_time": "2023-06-08T18:33:10.024Z"
   },
   {
    "duration": 181,
    "start_time": "2023-06-08T18:33:30.775Z"
   },
   {
    "duration": 237,
    "start_time": "2023-06-08T18:33:56.643Z"
   },
   {
    "duration": 191,
    "start_time": "2023-06-08T18:34:19.274Z"
   },
   {
    "duration": 207,
    "start_time": "2023-06-08T18:34:28.648Z"
   },
   {
    "duration": 258,
    "start_time": "2023-06-08T18:34:52.699Z"
   },
   {
    "duration": 7,
    "start_time": "2023-06-08T18:51:00.010Z"
   },
   {
    "duration": 263,
    "start_time": "2023-06-08T18:51:17.220Z"
   },
   {
    "duration": 171,
    "start_time": "2023-06-08T18:52:03.111Z"
   },
   {
    "duration": 166,
    "start_time": "2023-06-08T20:33:36.330Z"
   },
   {
    "duration": 146,
    "start_time": "2023-06-08T20:33:40.110Z"
   },
   {
    "duration": 398,
    "start_time": "2023-06-08T20:34:26.232Z"
   },
   {
    "duration": 201,
    "start_time": "2023-06-08T20:34:37.448Z"
   },
   {
    "duration": 217,
    "start_time": "2023-06-08T20:34:41.827Z"
   },
   {
    "duration": 240,
    "start_time": "2023-06-08T20:34:47.311Z"
   },
   {
    "duration": 261,
    "start_time": "2023-06-08T20:35:13.758Z"
   },
   {
    "duration": 218,
    "start_time": "2023-06-08T20:35:45.803Z"
   },
   {
    "duration": 211,
    "start_time": "2023-06-08T20:36:12.553Z"
   },
   {
    "duration": 126,
    "start_time": "2023-06-08T20:36:17.210Z"
   },
   {
    "duration": 90,
    "start_time": "2023-06-08T20:36:50.860Z"
   },
   {
    "duration": 27,
    "start_time": "2023-06-08T20:36:50.951Z"
   },
   {
    "duration": 30,
    "start_time": "2023-06-08T20:36:50.980Z"
   },
   {
    "duration": 13,
    "start_time": "2023-06-08T20:36:51.015Z"
   },
   {
    "duration": 18,
    "start_time": "2023-06-08T20:36:51.029Z"
   },
   {
    "duration": 173,
    "start_time": "2023-06-08T20:36:51.048Z"
   },
   {
    "duration": 136,
    "start_time": "2023-06-08T20:36:51.223Z"
   },
   {
    "duration": 245,
    "start_time": "2023-06-08T20:36:51.361Z"
   },
   {
    "duration": 234,
    "start_time": "2023-06-08T20:37:02.556Z"
   },
   {
    "duration": 239,
    "start_time": "2023-06-08T20:40:22.055Z"
   },
   {
    "duration": 17,
    "start_time": "2023-06-08T20:42:47.726Z"
   },
   {
    "duration": 23,
    "start_time": "2023-06-08T20:43:00.473Z"
   },
   {
    "duration": 368,
    "start_time": "2023-06-08T20:46:23.500Z"
   },
   {
    "duration": 403,
    "start_time": "2023-06-08T20:46:38.703Z"
   },
   {
    "duration": 946,
    "start_time": "2023-06-08T20:47:04.078Z"
   },
   {
    "duration": 353,
    "start_time": "2023-06-08T20:47:10.971Z"
   },
   {
    "duration": 1094,
    "start_time": "2023-06-08T20:47:56.854Z"
   },
   {
    "duration": 225,
    "start_time": "2023-06-08T20:48:05.172Z"
   },
   {
    "duration": 237,
    "start_time": "2023-06-08T20:48:19.968Z"
   },
   {
    "duration": 454,
    "start_time": "2023-06-08T20:48:25.848Z"
   },
   {
    "duration": 251,
    "start_time": "2023-06-08T20:48:45.881Z"
   },
   {
    "duration": 64,
    "start_time": "2023-06-08T20:48:58.616Z"
   },
   {
    "duration": 33,
    "start_time": "2023-06-08T20:48:58.682Z"
   },
   {
    "duration": 17,
    "start_time": "2023-06-08T20:48:58.717Z"
   },
   {
    "duration": 8,
    "start_time": "2023-06-08T20:48:58.735Z"
   },
   {
    "duration": 10,
    "start_time": "2023-06-08T20:48:58.745Z"
   },
   {
    "duration": 179,
    "start_time": "2023-06-08T20:48:58.757Z"
   },
   {
    "duration": 136,
    "start_time": "2023-06-08T20:48:58.937Z"
   },
   {
    "duration": 227,
    "start_time": "2023-06-08T20:48:59.074Z"
   },
   {
    "duration": 247,
    "start_time": "2023-06-08T20:48:59.302Z"
   },
   {
    "duration": 239,
    "start_time": "2023-06-08T20:48:59.550Z"
   },
   {
    "duration": 65,
    "start_time": "2023-06-08T22:19:10.653Z"
   },
   {
    "duration": 28,
    "start_time": "2023-06-08T22:19:10.720Z"
   },
   {
    "duration": 17,
    "start_time": "2023-06-08T22:19:10.749Z"
   },
   {
    "duration": 9,
    "start_time": "2023-06-08T22:19:10.767Z"
   },
   {
    "duration": 24,
    "start_time": "2023-06-08T22:19:10.778Z"
   },
   {
    "duration": 136,
    "start_time": "2023-06-08T22:19:10.805Z"
   },
   {
    "duration": 243,
    "start_time": "2023-06-08T22:19:10.943Z"
   },
   {
    "duration": 212,
    "start_time": "2023-06-08T22:19:11.188Z"
   },
   {
    "duration": 253,
    "start_time": "2023-06-08T22:19:11.401Z"
   },
   {
    "duration": 272,
    "start_time": "2023-06-08T22:19:11.655Z"
   },
   {
    "duration": 20,
    "start_time": "2023-06-08T22:22:10.120Z"
   },
   {
    "duration": 20,
    "start_time": "2023-06-08T22:22:28.609Z"
   },
   {
    "duration": 13,
    "start_time": "2023-06-08T22:22:35.087Z"
   },
   {
    "duration": 12,
    "start_time": "2023-06-08T22:22:43.219Z"
   },
   {
    "duration": 17,
    "start_time": "2023-06-08T22:22:55.756Z"
   },
   {
    "duration": 18,
    "start_time": "2023-06-08T22:23:05.330Z"
   },
   {
    "duration": 30,
    "start_time": "2023-06-08T22:23:12.274Z"
   },
   {
    "duration": 11,
    "start_time": "2023-06-08T22:23:30.525Z"
   },
   {
    "duration": 30,
    "start_time": "2023-06-08T22:23:36.728Z"
   },
   {
    "duration": 27,
    "start_time": "2023-06-08T22:24:10.280Z"
   },
   {
    "duration": 14,
    "start_time": "2023-06-08T22:24:33.525Z"
   },
   {
    "duration": 25,
    "start_time": "2023-06-08T22:24:39.184Z"
   },
   {
    "duration": 26,
    "start_time": "2023-06-08T22:24:50.699Z"
   },
   {
    "duration": 23,
    "start_time": "2023-06-08T22:25:02.563Z"
   },
   {
    "duration": 28,
    "start_time": "2023-06-08T22:25:31.716Z"
   },
   {
    "duration": 17,
    "start_time": "2023-06-08T22:27:38.250Z"
   },
   {
    "duration": 30,
    "start_time": "2023-06-08T22:27:47.424Z"
   },
   {
    "duration": 29,
    "start_time": "2023-06-08T22:27:53.810Z"
   },
   {
    "duration": 522,
    "start_time": "2023-06-08T22:31:07.119Z"
   },
   {
    "duration": 646,
    "start_time": "2023-06-08T22:31:33.546Z"
   },
   {
    "duration": 527,
    "start_time": "2023-06-08T22:31:43.800Z"
   },
   {
    "duration": 332,
    "start_time": "2023-06-08T22:32:05.393Z"
   },
   {
    "duration": 581,
    "start_time": "2023-06-08T22:32:58.028Z"
   },
   {
    "duration": 385,
    "start_time": "2023-06-08T22:33:07.804Z"
   },
   {
    "duration": 576,
    "start_time": "2023-06-08T22:33:13.690Z"
   },
   {
    "duration": 372,
    "start_time": "2023-06-08T22:33:29.683Z"
   },
   {
    "duration": 337,
    "start_time": "2023-06-08T22:41:28.601Z"
   },
   {
    "duration": 620,
    "start_time": "2023-06-08T22:41:50.576Z"
   },
   {
    "duration": 399,
    "start_time": "2023-06-08T22:41:58.840Z"
   },
   {
    "duration": 417,
    "start_time": "2023-06-08T22:52:47.874Z"
   },
   {
    "duration": 96,
    "start_time": "2023-06-08T22:54:19.672Z"
   },
   {
    "duration": 8,
    "start_time": "2023-06-08T22:56:13.001Z"
   },
   {
    "duration": 530,
    "start_time": "2023-06-08T22:56:27.300Z"
   },
   {
    "duration": 419,
    "start_time": "2023-06-08T22:56:35.048Z"
   },
   {
    "duration": 495,
    "start_time": "2023-06-08T22:56:56.372Z"
   },
   {
    "duration": 83,
    "start_time": "2023-06-08T22:57:12.983Z"
   },
   {
    "duration": 69,
    "start_time": "2023-06-08T22:57:17.206Z"
   },
   {
    "duration": 43,
    "start_time": "2023-06-08T22:57:17.276Z"
   },
   {
    "duration": 16,
    "start_time": "2023-06-08T22:57:17.321Z"
   },
   {
    "duration": 8,
    "start_time": "2023-06-08T22:57:17.339Z"
   },
   {
    "duration": 8,
    "start_time": "2023-06-08T22:57:17.348Z"
   },
   {
    "duration": 173,
    "start_time": "2023-06-08T22:57:17.357Z"
   },
   {
    "duration": 137,
    "start_time": "2023-06-08T22:57:17.531Z"
   },
   {
    "duration": 469,
    "start_time": "2023-06-08T22:57:17.670Z"
   },
   {
    "duration": 270,
    "start_time": "2023-06-08T22:57:18.140Z"
   },
   {
    "duration": 234,
    "start_time": "2023-06-08T22:57:18.417Z"
   },
   {
    "duration": 449,
    "start_time": "2023-06-08T22:57:18.653Z"
   },
   {
    "duration": 411,
    "start_time": "2023-06-08T22:57:19.109Z"
   },
   {
    "duration": 434,
    "start_time": "2023-06-08T22:58:17.921Z"
   },
   {
    "duration": 426,
    "start_time": "2023-06-08T22:58:25.204Z"
   },
   {
    "duration": 271,
    "start_time": "2023-06-08T22:58:47.281Z"
   },
   {
    "duration": 452,
    "start_time": "2023-06-08T22:58:52.073Z"
   },
   {
    "duration": 671,
    "start_time": "2023-06-08T22:59:55.107Z"
   },
   {
    "duration": 70,
    "start_time": "2023-06-08T23:02:16.210Z"
   },
   {
    "duration": 35,
    "start_time": "2023-06-08T23:02:16.283Z"
   },
   {
    "duration": 18,
    "start_time": "2023-06-08T23:02:16.320Z"
   },
   {
    "duration": 9,
    "start_time": "2023-06-08T23:02:16.340Z"
   },
   {
    "duration": 25,
    "start_time": "2023-06-08T23:02:16.352Z"
   },
   {
    "duration": 186,
    "start_time": "2023-06-08T23:02:16.378Z"
   },
   {
    "duration": 146,
    "start_time": "2023-06-08T23:02:16.565Z"
   },
   {
    "duration": 226,
    "start_time": "2023-06-08T23:02:16.712Z"
   },
   {
    "duration": 287,
    "start_time": "2023-06-08T23:02:16.940Z"
   },
   {
    "duration": 282,
    "start_time": "2023-06-08T23:02:17.229Z"
   },
   {
    "duration": 15,
    "start_time": "2023-06-08T23:02:17.512Z"
   },
   {
    "duration": 8,
    "start_time": "2023-06-08T23:02:17.528Z"
   },
   {
    "duration": 430,
    "start_time": "2023-06-08T23:02:17.538Z"
   },
   {
    "duration": 439,
    "start_time": "2023-06-08T23:02:17.971Z"
   },
   {
    "duration": 79,
    "start_time": "2023-06-08T23:03:30.966Z"
   },
   {
    "duration": 65,
    "start_time": "2023-06-08T23:03:33.407Z"
   },
   {
    "duration": 44,
    "start_time": "2023-06-08T23:03:33.473Z"
   },
   {
    "duration": 25,
    "start_time": "2023-06-08T23:03:33.518Z"
   },
   {
    "duration": 12,
    "start_time": "2023-06-08T23:03:33.545Z"
   },
   {
    "duration": 70,
    "start_time": "2023-06-08T23:03:33.558Z"
   },
   {
    "duration": 146,
    "start_time": "2023-06-08T23:03:33.630Z"
   },
   {
    "duration": 138,
    "start_time": "2023-06-08T23:03:33.777Z"
   },
   {
    "duration": 226,
    "start_time": "2023-06-08T23:03:33.916Z"
   },
   {
    "duration": 277,
    "start_time": "2023-06-08T23:03:34.144Z"
   },
   {
    "duration": 254,
    "start_time": "2023-06-08T23:03:34.423Z"
   },
   {
    "duration": 27,
    "start_time": "2023-06-08T23:03:34.679Z"
   },
   {
    "duration": 26,
    "start_time": "2023-06-08T23:03:34.715Z"
   },
   {
    "duration": 414,
    "start_time": "2023-06-08T23:03:34.743Z"
   },
   {
    "duration": 776,
    "start_time": "2023-06-08T23:03:35.160Z"
   },
   {
    "duration": 3,
    "start_time": "2023-06-08T23:05:30.448Z"
   },
   {
    "duration": 19,
    "start_time": "2023-06-08T23:05:36.863Z"
   },
   {
    "duration": 19,
    "start_time": "2023-06-08T23:05:57.962Z"
   },
   {
    "duration": 16,
    "start_time": "2023-06-08T23:07:49.701Z"
   },
   {
    "duration": 9,
    "start_time": "2023-06-08T23:08:56.941Z"
   },
   {
    "duration": 18,
    "start_time": "2023-06-08T23:09:29.006Z"
   },
   {
    "duration": 11,
    "start_time": "2023-06-08T23:09:56.872Z"
   },
   {
    "duration": 12,
    "start_time": "2023-06-08T23:10:24.162Z"
   },
   {
    "duration": 13,
    "start_time": "2023-06-08T23:11:10.407Z"
   },
   {
    "duration": 9,
    "start_time": "2023-06-08T23:14:20.049Z"
   },
   {
    "duration": 16,
    "start_time": "2023-06-08T23:14:28.696Z"
   },
   {
    "duration": 19,
    "start_time": "2023-06-08T23:14:48.606Z"
   },
   {
    "duration": 21,
    "start_time": "2023-06-08T23:15:13.075Z"
   },
   {
    "duration": 12,
    "start_time": "2023-06-08T23:16:26.997Z"
   },
   {
    "duration": 21,
    "start_time": "2023-06-08T23:16:44.920Z"
   },
   {
    "duration": 22,
    "start_time": "2023-06-08T23:17:07.137Z"
   },
   {
    "duration": 16,
    "start_time": "2023-06-08T23:22:09.737Z"
   },
   {
    "duration": 17,
    "start_time": "2023-06-08T23:22:14.865Z"
   },
   {
    "duration": 6,
    "start_time": "2023-06-08T23:22:19.934Z"
   },
   {
    "duration": 69,
    "start_time": "2023-06-08T23:22:22.795Z"
   },
   {
    "duration": 26,
    "start_time": "2023-06-08T23:22:22.866Z"
   },
   {
    "duration": 19,
    "start_time": "2023-06-08T23:22:22.894Z"
   },
   {
    "duration": 15,
    "start_time": "2023-06-08T23:22:22.915Z"
   },
   {
    "duration": 8,
    "start_time": "2023-06-08T23:22:22.931Z"
   },
   {
    "duration": 163,
    "start_time": "2023-06-08T23:22:22.941Z"
   },
   {
    "duration": 124,
    "start_time": "2023-06-08T23:22:23.105Z"
   },
   {
    "duration": 217,
    "start_time": "2023-06-08T23:22:23.230Z"
   },
   {
    "duration": 250,
    "start_time": "2023-06-08T23:22:23.449Z"
   },
   {
    "duration": 236,
    "start_time": "2023-06-08T23:22:23.702Z"
   },
   {
    "duration": 13,
    "start_time": "2023-06-08T23:22:23.939Z"
   },
   {
    "duration": 7,
    "start_time": "2023-06-08T23:22:23.954Z"
   },
   {
    "duration": 432,
    "start_time": "2023-06-08T23:22:23.963Z"
   },
   {
    "duration": 404,
    "start_time": "2023-06-08T23:22:24.397Z"
   },
   {
    "duration": 7,
    "start_time": "2023-06-08T23:22:24.802Z"
   },
   {
    "duration": 14,
    "start_time": "2023-06-08T23:22:24.810Z"
   },
   {
    "duration": 71,
    "start_time": "2023-06-08T23:22:24.826Z"
   },
   {
    "duration": 410,
    "start_time": "2023-06-08T23:24:22.423Z"
   },
   {
    "duration": 484,
    "start_time": "2023-06-08T23:24:35.846Z"
   },
   {
    "duration": 399,
    "start_time": "2023-06-08T23:24:53.399Z"
   },
   {
    "duration": 26,
    "start_time": "2023-06-08T23:32:46.047Z"
   },
   {
    "duration": 22,
    "start_time": "2023-06-08T23:34:24.149Z"
   },
   {
    "duration": 22,
    "start_time": "2023-06-08T23:34:39.679Z"
   },
   {
    "duration": 29,
    "start_time": "2023-06-08T23:34:45.561Z"
   },
   {
    "duration": 14,
    "start_time": "2023-06-08T23:38:35.646Z"
   },
   {
    "duration": 24,
    "start_time": "2023-06-08T23:38:43.915Z"
   },
   {
    "duration": 72,
    "start_time": "2023-06-08T23:38:51.351Z"
   },
   {
    "duration": 26,
    "start_time": "2023-06-08T23:38:51.424Z"
   },
   {
    "duration": 16,
    "start_time": "2023-06-08T23:38:51.452Z"
   },
   {
    "duration": 28,
    "start_time": "2023-06-08T23:38:51.470Z"
   },
   {
    "duration": 16,
    "start_time": "2023-06-08T23:38:51.501Z"
   },
   {
    "duration": 146,
    "start_time": "2023-06-08T23:38:51.518Z"
   },
   {
    "duration": 152,
    "start_time": "2023-06-08T23:38:51.665Z"
   },
   {
    "duration": 216,
    "start_time": "2023-06-08T23:38:51.818Z"
   },
   {
    "duration": 244,
    "start_time": "2023-06-08T23:38:52.036Z"
   },
   {
    "duration": 260,
    "start_time": "2023-06-08T23:38:52.284Z"
   },
   {
    "duration": 14,
    "start_time": "2023-06-08T23:38:52.545Z"
   },
   {
    "duration": 10,
    "start_time": "2023-06-08T23:38:52.560Z"
   },
   {
    "duration": 464,
    "start_time": "2023-06-08T23:38:52.572Z"
   },
   {
    "duration": 796,
    "start_time": "2023-06-08T23:38:53.039Z"
   },
   {
    "duration": 5,
    "start_time": "2023-06-08T23:38:53.837Z"
   },
   {
    "duration": 30,
    "start_time": "2023-06-08T23:38:53.843Z"
   },
   {
    "duration": 57,
    "start_time": "2023-06-08T23:38:53.899Z"
   },
   {
    "duration": 17,
    "start_time": "2023-06-08T23:39:12.309Z"
   },
   {
    "duration": 6,
    "start_time": "2023-06-08T23:39:17.667Z"
   },
   {
    "duration": 18,
    "start_time": "2023-06-08T23:50:01.177Z"
   },
   {
    "duration": 6,
    "start_time": "2023-06-08T23:51:08.320Z"
   },
   {
    "duration": 7,
    "start_time": "2023-06-08T23:51:13.319Z"
   },
   {
    "duration": 16,
    "start_time": "2023-06-08T23:51:16.061Z"
   },
   {
    "duration": 641,
    "start_time": "2023-06-08T23:51:31.503Z"
   },
   {
    "duration": 27,
    "start_time": "2023-06-08T23:51:32.145Z"
   },
   {
    "duration": 17,
    "start_time": "2023-06-08T23:51:32.173Z"
   },
   {
    "duration": 8,
    "start_time": "2023-06-08T23:51:32.191Z"
   },
   {
    "duration": 14,
    "start_time": "2023-06-08T23:51:32.201Z"
   },
   {
    "duration": 160,
    "start_time": "2023-06-08T23:51:32.216Z"
   },
   {
    "duration": 126,
    "start_time": "2023-06-08T23:51:32.378Z"
   },
   {
    "duration": 207,
    "start_time": "2023-06-08T23:51:32.506Z"
   },
   {
    "duration": 275,
    "start_time": "2023-06-08T23:51:32.714Z"
   },
   {
    "duration": 225,
    "start_time": "2023-06-08T23:51:32.991Z"
   },
   {
    "duration": 76,
    "start_time": "2023-06-08T23:51:33.218Z"
   },
   {
    "duration": 0,
    "start_time": "2023-06-08T23:51:33.296Z"
   },
   {
    "duration": 0,
    "start_time": "2023-06-08T23:51:33.297Z"
   },
   {
    "duration": 0,
    "start_time": "2023-06-08T23:51:33.297Z"
   },
   {
    "duration": 0,
    "start_time": "2023-06-08T23:51:33.298Z"
   },
   {
    "duration": 0,
    "start_time": "2023-06-08T23:51:33.299Z"
   },
   {
    "duration": 0,
    "start_time": "2023-06-08T23:51:33.300Z"
   },
   {
    "duration": 7,
    "start_time": "2023-06-08T23:51:45.592Z"
   },
   {
    "duration": 67,
    "start_time": "2023-06-08T23:52:19.324Z"
   },
   {
    "duration": 25,
    "start_time": "2023-06-08T23:52:19.392Z"
   },
   {
    "duration": 15,
    "start_time": "2023-06-08T23:52:19.419Z"
   },
   {
    "duration": 10,
    "start_time": "2023-06-08T23:52:19.436Z"
   },
   {
    "duration": 8,
    "start_time": "2023-06-08T23:52:19.447Z"
   },
   {
    "duration": 156,
    "start_time": "2023-06-08T23:52:19.456Z"
   },
   {
    "duration": 128,
    "start_time": "2023-06-08T23:52:19.614Z"
   },
   {
    "duration": 211,
    "start_time": "2023-06-08T23:52:19.744Z"
   },
   {
    "duration": 242,
    "start_time": "2023-06-08T23:52:19.957Z"
   },
   {
    "duration": 290,
    "start_time": "2023-06-08T23:52:20.201Z"
   },
   {
    "duration": 16,
    "start_time": "2023-06-08T23:52:20.493Z"
   },
   {
    "duration": 7,
    "start_time": "2023-06-08T23:52:20.510Z"
   },
   {
    "duration": 404,
    "start_time": "2023-06-08T23:52:20.519Z"
   },
   {
    "duration": 393,
    "start_time": "2023-06-08T23:52:20.925Z"
   },
   {
    "duration": 5,
    "start_time": "2023-06-08T23:52:21.320Z"
   },
   {
    "duration": 37,
    "start_time": "2023-06-08T23:52:21.326Z"
   },
   {
    "duration": 56,
    "start_time": "2023-06-08T23:52:21.364Z"
   },
   {
    "duration": 23,
    "start_time": "2023-06-08T23:53:28.019Z"
   },
   {
    "duration": 14,
    "start_time": "2023-06-08T23:53:44.133Z"
   },
   {
    "duration": 27,
    "start_time": "2023-06-08T23:55:59.308Z"
   },
   {
    "duration": 22,
    "start_time": "2023-06-09T00:11:30.639Z"
   },
   {
    "duration": 95,
    "start_time": "2023-06-09T00:13:02.311Z"
   },
   {
    "duration": 99,
    "start_time": "2023-06-09T00:16:58.599Z"
   },
   {
    "duration": 23,
    "start_time": "2023-06-09T00:17:35.328Z"
   },
   {
    "duration": 21,
    "start_time": "2023-06-09T00:17:48.660Z"
   },
   {
    "duration": 14,
    "start_time": "2023-06-09T00:24:41.969Z"
   },
   {
    "duration": 27,
    "start_time": "2023-06-09T00:24:55.217Z"
   },
   {
    "duration": 14,
    "start_time": "2023-06-09T00:26:23.035Z"
   },
   {
    "duration": 664,
    "start_time": "2023-06-09T00:26:38.284Z"
   },
   {
    "duration": 29,
    "start_time": "2023-06-09T00:26:38.950Z"
   },
   {
    "duration": 20,
    "start_time": "2023-06-09T00:26:38.980Z"
   },
   {
    "duration": 18,
    "start_time": "2023-06-09T00:26:39.001Z"
   },
   {
    "duration": 8,
    "start_time": "2023-06-09T00:26:39.021Z"
   },
   {
    "duration": 168,
    "start_time": "2023-06-09T00:26:39.030Z"
   },
   {
    "duration": 127,
    "start_time": "2023-06-09T00:26:39.200Z"
   },
   {
    "duration": 207,
    "start_time": "2023-06-09T00:26:39.329Z"
   },
   {
    "duration": 276,
    "start_time": "2023-06-09T00:26:39.538Z"
   },
   {
    "duration": 234,
    "start_time": "2023-06-09T00:26:39.816Z"
   },
   {
    "duration": 14,
    "start_time": "2023-06-09T00:26:40.052Z"
   },
   {
    "duration": 32,
    "start_time": "2023-06-09T00:26:40.067Z"
   },
   {
    "duration": 404,
    "start_time": "2023-06-09T00:26:40.100Z"
   },
   {
    "duration": 402,
    "start_time": "2023-06-09T00:26:40.507Z"
   },
   {
    "duration": 6,
    "start_time": "2023-06-09T00:26:40.910Z"
   },
   {
    "duration": 20,
    "start_time": "2023-06-09T00:26:40.917Z"
   },
   {
    "duration": 73,
    "start_time": "2023-06-09T00:26:40.938Z"
   },
   {
    "duration": 28,
    "start_time": "2023-06-09T00:26:54.352Z"
   },
   {
    "duration": 19,
    "start_time": "2023-06-09T00:27:13.300Z"
   },
   {
    "duration": 18,
    "start_time": "2023-06-09T00:28:04.909Z"
   },
   {
    "duration": 22,
    "start_time": "2023-06-09T00:28:09.608Z"
   },
   {
    "duration": 24,
    "start_time": "2023-06-09T00:32:18.236Z"
   },
   {
    "duration": 23,
    "start_time": "2023-06-09T00:32:38.801Z"
   },
   {
    "duration": 27,
    "start_time": "2023-06-09T00:34:35.063Z"
   },
   {
    "duration": 1214,
    "start_time": "2023-06-09T13:01:40.086Z"
   },
   {
    "duration": 38,
    "start_time": "2023-06-09T13:01:41.302Z"
   },
   {
    "duration": 38,
    "start_time": "2023-06-09T13:01:41.342Z"
   },
   {
    "duration": 16,
    "start_time": "2023-06-09T13:01:41.382Z"
   },
   {
    "duration": 18,
    "start_time": "2023-06-09T13:01:41.401Z"
   },
   {
    "duration": 220,
    "start_time": "2023-06-09T13:01:41.421Z"
   },
   {
    "duration": 183,
    "start_time": "2023-06-09T13:01:41.643Z"
   },
   {
    "duration": 351,
    "start_time": "2023-06-09T13:01:41.828Z"
   },
   {
    "duration": 471,
    "start_time": "2023-06-09T13:01:42.181Z"
   },
   {
    "duration": 426,
    "start_time": "2023-06-09T13:01:42.654Z"
   },
   {
    "duration": 18,
    "start_time": "2023-06-09T13:01:43.092Z"
   },
   {
    "duration": 20,
    "start_time": "2023-06-09T13:01:43.112Z"
   },
   {
    "duration": 768,
    "start_time": "2023-06-09T13:01:43.134Z"
   },
   {
    "duration": 0,
    "start_time": "2023-06-09T13:01:43.904Z"
   },
   {
    "duration": 0,
    "start_time": "2023-06-09T13:01:43.906Z"
   },
   {
    "duration": 0,
    "start_time": "2023-06-09T13:01:43.908Z"
   },
   {
    "duration": 0,
    "start_time": "2023-06-09T13:01:43.909Z"
   },
   {
    "duration": 32,
    "start_time": "2023-06-09T13:13:56.826Z"
   },
   {
    "duration": 10,
    "start_time": "2023-06-09T13:20:00.470Z"
   },
   {
    "duration": 75,
    "start_time": "2023-06-09T13:20:06.686Z"
   },
   {
    "duration": 39,
    "start_time": "2023-06-09T13:20:06.764Z"
   },
   {
    "duration": 21,
    "start_time": "2023-06-09T13:20:06.805Z"
   },
   {
    "duration": 23,
    "start_time": "2023-06-09T13:20:06.828Z"
   },
   {
    "duration": 15,
    "start_time": "2023-06-09T13:20:06.853Z"
   },
   {
    "duration": 195,
    "start_time": "2023-06-09T13:20:06.870Z"
   },
   {
    "duration": 174,
    "start_time": "2023-06-09T13:20:07.068Z"
   },
   {
    "duration": 279,
    "start_time": "2023-06-09T13:20:07.245Z"
   },
   {
    "duration": 362,
    "start_time": "2023-06-09T13:20:07.526Z"
   },
   {
    "duration": 279,
    "start_time": "2023-06-09T13:20:07.890Z"
   },
   {
    "duration": 15,
    "start_time": "2023-06-09T13:20:08.170Z"
   },
   {
    "duration": 10,
    "start_time": "2023-06-09T13:20:08.186Z"
   },
   {
    "duration": 543,
    "start_time": "2023-06-09T13:20:08.197Z"
   },
   {
    "duration": 0,
    "start_time": "2023-06-09T13:20:08.745Z"
   },
   {
    "duration": 0,
    "start_time": "2023-06-09T13:20:08.746Z"
   },
   {
    "duration": 0,
    "start_time": "2023-06-09T13:20:08.747Z"
   },
   {
    "duration": 0,
    "start_time": "2023-06-09T13:20:08.748Z"
   },
   {
    "duration": 9,
    "start_time": "2023-06-09T13:20:15.368Z"
   },
   {
    "duration": 10,
    "start_time": "2023-06-09T13:21:13.700Z"
   },
   {
    "duration": 28,
    "start_time": "2023-06-09T13:21:34.106Z"
   },
   {
    "duration": 27,
    "start_time": "2023-06-09T13:22:00.022Z"
   },
   {
    "duration": 69,
    "start_time": "2023-06-09T13:22:47.605Z"
   },
   {
    "duration": 33,
    "start_time": "2023-06-09T13:22:47.676Z"
   },
   {
    "duration": 20,
    "start_time": "2023-06-09T13:22:47.711Z"
   },
   {
    "duration": 13,
    "start_time": "2023-06-09T13:22:47.745Z"
   },
   {
    "duration": 14,
    "start_time": "2023-06-09T13:22:47.761Z"
   },
   {
    "duration": 198,
    "start_time": "2023-06-09T13:22:47.777Z"
   },
   {
    "duration": 159,
    "start_time": "2023-06-09T13:22:47.976Z"
   },
   {
    "duration": 313,
    "start_time": "2023-06-09T13:22:48.145Z"
   },
   {
    "duration": 406,
    "start_time": "2023-06-09T13:22:48.460Z"
   },
   {
    "duration": 314,
    "start_time": "2023-06-09T13:22:48.869Z"
   },
   {
    "duration": 15,
    "start_time": "2023-06-09T13:22:49.185Z"
   },
   {
    "duration": 10,
    "start_time": "2023-06-09T13:22:49.202Z"
   },
   {
    "duration": 541,
    "start_time": "2023-06-09T13:22:49.214Z"
   },
   {
    "duration": 612,
    "start_time": "2023-06-09T13:22:49.757Z"
   },
   {
    "duration": 23,
    "start_time": "2023-06-09T13:22:50.371Z"
   },
   {
    "duration": 64,
    "start_time": "2023-06-09T13:22:50.396Z"
   },
   {
    "duration": 15,
    "start_time": "2023-06-09T13:22:50.462Z"
   },
   {
    "duration": 22,
    "start_time": "2023-06-09T13:24:32.398Z"
   },
   {
    "duration": 32,
    "start_time": "2023-06-09T13:24:40.875Z"
   },
   {
    "duration": 15,
    "start_time": "2023-06-09T13:24:49.602Z"
   },
   {
    "duration": 944,
    "start_time": "2023-06-09T13:25:31.653Z"
   },
   {
    "duration": 45,
    "start_time": "2023-06-09T13:29:52.935Z"
   },
   {
    "duration": 34,
    "start_time": "2023-06-09T13:30:02.239Z"
   },
   {
    "duration": 22,
    "start_time": "2023-06-09T13:32:00.767Z"
   },
   {
    "duration": 16,
    "start_time": "2023-06-09T13:34:24.118Z"
   },
   {
    "duration": 22,
    "start_time": "2023-06-09T13:34:33.151Z"
   },
   {
    "duration": 25,
    "start_time": "2023-06-09T13:35:13.823Z"
   },
   {
    "duration": 62,
    "start_time": "2023-06-09T13:37:31.568Z"
   },
   {
    "duration": 116,
    "start_time": "2023-06-09T13:38:14.996Z"
   },
   {
    "duration": 16,
    "start_time": "2023-06-09T13:39:17.151Z"
   },
   {
    "duration": 26,
    "start_time": "2023-06-09T13:39:29.854Z"
   },
   {
    "duration": 34,
    "start_time": "2023-06-09T13:41:45.863Z"
   },
   {
    "duration": 1699,
    "start_time": "2023-06-09T13:41:54.770Z"
   },
   {
    "duration": 27,
    "start_time": "2023-06-09T13:42:58.073Z"
   },
   {
    "duration": 33,
    "start_time": "2023-06-09T13:49:43.095Z"
   },
   {
    "duration": 32,
    "start_time": "2023-06-09T13:57:23.097Z"
   },
   {
    "duration": 2028,
    "start_time": "2023-06-09T13:57:46.183Z"
   },
   {
    "duration": 40,
    "start_time": "2023-06-09T13:59:49.838Z"
   },
   {
    "duration": 1642,
    "start_time": "2023-06-09T14:00:45.331Z"
   },
   {
    "duration": 3005,
    "start_time": "2023-06-09T14:00:59.113Z"
   },
   {
    "duration": 13,
    "start_time": "2023-06-09T14:02:52.809Z"
   },
   {
    "duration": 13,
    "start_time": "2023-06-09T14:03:10.296Z"
   },
   {
    "duration": 32,
    "start_time": "2023-06-09T14:03:49.225Z"
   },
   {
    "duration": 38,
    "start_time": "2023-06-09T14:05:33.920Z"
   },
   {
    "duration": 25,
    "start_time": "2023-06-09T14:05:48.625Z"
   },
   {
    "duration": 26,
    "start_time": "2023-06-09T14:06:08.419Z"
   },
   {
    "duration": 22,
    "start_time": "2023-06-09T14:06:19.073Z"
   },
   {
    "duration": 26,
    "start_time": "2023-06-09T14:07:53.692Z"
   },
   {
    "duration": 32,
    "start_time": "2023-06-09T14:08:10.025Z"
   },
   {
    "duration": 34,
    "start_time": "2023-06-09T14:09:04.029Z"
   },
   {
    "duration": 28,
    "start_time": "2023-06-09T14:12:10.762Z"
   },
   {
    "duration": 39,
    "start_time": "2023-06-09T14:12:42.145Z"
   },
   {
    "duration": 32,
    "start_time": "2023-06-09T14:12:57.085Z"
   },
   {
    "duration": 12,
    "start_time": "2023-06-09T14:38:05.192Z"
   },
   {
    "duration": 26,
    "start_time": "2023-06-09T14:44:41.634Z"
   },
   {
    "duration": 16847,
    "start_time": "2023-06-09T14:45:02.790Z"
   },
   {
    "duration": 1017,
    "start_time": "2023-06-09T14:49:50.965Z"
   },
   {
    "duration": 57,
    "start_time": "2023-06-09T14:49:51.985Z"
   },
   {
    "duration": 33,
    "start_time": "2023-06-09T14:49:52.044Z"
   },
   {
    "duration": 18,
    "start_time": "2023-06-09T14:49:52.080Z"
   },
   {
    "duration": 14,
    "start_time": "2023-06-09T14:49:52.102Z"
   },
   {
    "duration": 287,
    "start_time": "2023-06-09T14:49:52.118Z"
   },
   {
    "duration": 243,
    "start_time": "2023-06-09T14:49:52.408Z"
   },
   {
    "duration": 435,
    "start_time": "2023-06-09T14:49:52.654Z"
   },
   {
    "duration": 563,
    "start_time": "2023-06-09T14:49:53.097Z"
   },
   {
    "duration": 340,
    "start_time": "2023-06-09T14:49:53.664Z"
   },
   {
    "duration": 18,
    "start_time": "2023-06-09T14:49:54.007Z"
   },
   {
    "duration": 36,
    "start_time": "2023-06-09T14:49:54.027Z"
   },
   {
    "duration": 577,
    "start_time": "2023-06-09T14:49:54.065Z"
   },
   {
    "duration": 605,
    "start_time": "2023-06-09T14:49:54.648Z"
   },
   {
    "duration": 16,
    "start_time": "2023-06-09T14:49:55.258Z"
   },
   {
    "duration": 59,
    "start_time": "2023-06-09T14:49:55.277Z"
   },
   {
    "duration": 0,
    "start_time": "2023-06-09T14:50:09.707Z"
   },
   {
    "duration": 20,
    "start_time": "2023-06-09T14:55:10.263Z"
   },
   {
    "duration": 75,
    "start_time": "2023-06-09T14:59:46.561Z"
   },
   {
    "duration": 917,
    "start_time": "2023-06-09T15:00:27.196Z"
   },
   {
    "duration": 36,
    "start_time": "2023-06-09T15:00:28.115Z"
   },
   {
    "duration": 43,
    "start_time": "2023-06-09T15:00:28.152Z"
   },
   {
    "duration": 16,
    "start_time": "2023-06-09T15:00:28.197Z"
   },
   {
    "duration": 21,
    "start_time": "2023-06-09T15:00:28.216Z"
   },
   {
    "duration": 246,
    "start_time": "2023-06-09T15:00:28.240Z"
   },
   {
    "duration": 192,
    "start_time": "2023-06-09T15:00:28.488Z"
   },
   {
    "duration": 309,
    "start_time": "2023-06-09T15:00:28.682Z"
   },
   {
    "duration": 414,
    "start_time": "2023-06-09T15:00:28.993Z"
   },
   {
    "duration": 358,
    "start_time": "2023-06-09T15:00:29.410Z"
   },
   {
    "duration": 23,
    "start_time": "2023-06-09T15:00:29.770Z"
   },
   {
    "duration": 29,
    "start_time": "2023-06-09T15:00:29.796Z"
   },
   {
    "duration": 608,
    "start_time": "2023-06-09T15:00:29.827Z"
   },
   {
    "duration": 589,
    "start_time": "2023-06-09T15:00:30.446Z"
   },
   {
    "duration": 25,
    "start_time": "2023-06-09T15:00:31.037Z"
   },
   {
    "duration": 49,
    "start_time": "2023-06-09T15:00:31.064Z"
   },
   {
    "duration": 197,
    "start_time": "2023-06-09T15:00:31.116Z"
   },
   {
    "duration": 33,
    "start_time": "2023-06-09T15:13:08.843Z"
   },
   {
    "duration": 174,
    "start_time": "2023-06-09T15:13:17.762Z"
   },
   {
    "duration": 362,
    "start_time": "2023-06-09T15:14:06.603Z"
   },
   {
    "duration": 189,
    "start_time": "2023-06-09T15:14:18.150Z"
   },
   {
    "duration": 29,
    "start_time": "2023-06-09T15:14:33.433Z"
   },
   {
    "duration": 158,
    "start_time": "2023-06-09T15:14:37.405Z"
   },
   {
    "duration": 760,
    "start_time": "2023-06-09T15:14:49.968Z"
   },
   {
    "duration": 41,
    "start_time": "2023-06-09T15:14:50.731Z"
   },
   {
    "duration": 25,
    "start_time": "2023-06-09T15:14:50.774Z"
   },
   {
    "duration": 19,
    "start_time": "2023-06-09T15:14:50.801Z"
   },
   {
    "duration": 40,
    "start_time": "2023-06-09T15:14:50.822Z"
   },
   {
    "duration": 217,
    "start_time": "2023-06-09T15:14:50.865Z"
   },
   {
    "duration": 196,
    "start_time": "2023-06-09T15:14:51.084Z"
   },
   {
    "duration": 304,
    "start_time": "2023-06-09T15:14:51.282Z"
   },
   {
    "duration": 391,
    "start_time": "2023-06-09T15:14:51.588Z"
   },
   {
    "duration": 379,
    "start_time": "2023-06-09T15:14:51.981Z"
   },
   {
    "duration": 18,
    "start_time": "2023-06-09T15:14:52.362Z"
   },
   {
    "duration": 15,
    "start_time": "2023-06-09T15:14:52.382Z"
   },
   {
    "duration": 703,
    "start_time": "2023-06-09T15:14:52.400Z"
   },
   {
    "duration": 572,
    "start_time": "2023-06-09T15:14:53.105Z"
   },
   {
    "duration": 7,
    "start_time": "2023-06-09T15:14:53.679Z"
   },
   {
    "duration": 27,
    "start_time": "2023-06-09T15:14:53.688Z"
   },
   {
    "duration": 191,
    "start_time": "2023-06-09T15:14:53.717Z"
   },
   {
    "duration": 21,
    "start_time": "2023-06-09T15:15:08.208Z"
   },
   {
    "duration": 176,
    "start_time": "2023-06-09T15:15:10.745Z"
   },
   {
    "duration": 1153,
    "start_time": "2023-06-09T16:32:59.824Z"
   },
   {
    "duration": 42,
    "start_time": "2023-06-09T16:33:00.980Z"
   },
   {
    "duration": 24,
    "start_time": "2023-06-09T16:33:01.024Z"
   },
   {
    "duration": 34,
    "start_time": "2023-06-09T16:33:01.049Z"
   },
   {
    "duration": 29,
    "start_time": "2023-06-09T16:33:01.085Z"
   },
   {
    "duration": 258,
    "start_time": "2023-06-09T16:33:01.116Z"
   },
   {
    "duration": 166,
    "start_time": "2023-06-09T16:33:01.376Z"
   },
   {
    "duration": 341,
    "start_time": "2023-06-09T16:33:01.546Z"
   },
   {
    "duration": 409,
    "start_time": "2023-06-09T16:33:01.889Z"
   },
   {
    "duration": 457,
    "start_time": "2023-06-09T16:33:02.301Z"
   },
   {
    "duration": 25,
    "start_time": "2023-06-09T16:33:02.765Z"
   },
   {
    "duration": 13,
    "start_time": "2023-06-09T16:33:02.792Z"
   },
   {
    "duration": 628,
    "start_time": "2023-06-09T16:33:02.807Z"
   },
   {
    "duration": 575,
    "start_time": "2023-06-09T16:33:03.438Z"
   },
   {
    "duration": 7,
    "start_time": "2023-06-09T16:33:04.015Z"
   },
   {
    "duration": 42,
    "start_time": "2023-06-09T16:33:04.024Z"
   },
   {
    "duration": 170,
    "start_time": "2023-06-09T16:33:04.071Z"
   },
   {
    "duration": 1758,
    "start_time": "2023-06-09T19:16:23.503Z"
   },
   {
    "duration": 114,
    "start_time": "2023-06-09T19:27:36.822Z"
   },
   {
    "duration": 80,
    "start_time": "2023-06-09T19:27:41.301Z"
   },
   {
    "duration": 40,
    "start_time": "2023-06-09T19:27:41.383Z"
   },
   {
    "duration": 43,
    "start_time": "2023-06-09T19:27:41.425Z"
   },
   {
    "duration": 11,
    "start_time": "2023-06-09T19:27:41.470Z"
   },
   {
    "duration": 51,
    "start_time": "2023-06-09T19:27:41.483Z"
   },
   {
    "duration": 216,
    "start_time": "2023-06-09T19:27:41.536Z"
   },
   {
    "duration": 196,
    "start_time": "2023-06-09T19:27:41.754Z"
   },
   {
    "duration": 321,
    "start_time": "2023-06-09T19:27:41.952Z"
   },
   {
    "duration": 402,
    "start_time": "2023-06-09T19:27:42.275Z"
   },
   {
    "duration": 337,
    "start_time": "2023-06-09T19:27:42.679Z"
   },
   {
    "duration": 34,
    "start_time": "2023-06-09T19:27:43.026Z"
   },
   {
    "duration": 12,
    "start_time": "2023-06-09T19:27:43.063Z"
   },
   {
    "duration": 726,
    "start_time": "2023-06-09T19:27:43.077Z"
   },
   {
    "duration": 597,
    "start_time": "2023-06-09T19:27:43.806Z"
   },
   {
    "duration": 24,
    "start_time": "2023-06-09T19:27:44.406Z"
   },
   {
    "duration": 24,
    "start_time": "2023-06-09T19:27:44.435Z"
   },
   {
    "duration": 197,
    "start_time": "2023-06-09T19:27:44.461Z"
   },
   {
    "duration": 142,
    "start_time": "2023-06-09T19:27:44.660Z"
   },
   {
    "duration": 114,
    "start_time": "2023-06-09T19:28:19.831Z"
   },
   {
    "duration": 95,
    "start_time": "2023-06-09T19:28:31.251Z"
   },
   {
    "duration": 109,
    "start_time": "2023-06-09T19:28:36.570Z"
   },
   {
    "duration": 18,
    "start_time": "2023-06-09T19:28:41.679Z"
   },
   {
    "duration": 16,
    "start_time": "2023-06-09T19:28:51.590Z"
   },
   {
    "duration": 24,
    "start_time": "2023-06-09T19:29:28.787Z"
   },
   {
    "duration": 11,
    "start_time": "2023-06-09T19:30:04.967Z"
   },
   {
    "duration": 11,
    "start_time": "2023-06-09T19:30:44.640Z"
   },
   {
    "duration": 10,
    "start_time": "2023-06-09T19:30:53.814Z"
   },
   {
    "duration": 11,
    "start_time": "2023-06-09T19:34:08.577Z"
   },
   {
    "duration": 19,
    "start_time": "2023-06-09T19:36:00.426Z"
   },
   {
    "duration": 19,
    "start_time": "2023-06-09T19:36:05.412Z"
   },
   {
    "duration": 9,
    "start_time": "2023-06-09T19:36:44.780Z"
   },
   {
    "duration": 10,
    "start_time": "2023-06-09T19:36:50.987Z"
   },
   {
    "duration": 18,
    "start_time": "2023-06-09T19:38:13.811Z"
   },
   {
    "duration": 18,
    "start_time": "2023-06-09T19:38:18.504Z"
   },
   {
    "duration": 125,
    "start_time": "2023-06-09T20:02:16.875Z"
   },
   {
    "duration": 141,
    "start_time": "2023-06-09T20:02:46.540Z"
   },
   {
    "duration": 11,
    "start_time": "2023-06-09T20:03:05.676Z"
   },
   {
    "duration": 5,
    "start_time": "2023-06-09T20:03:38.271Z"
   },
   {
    "duration": 12,
    "start_time": "2023-06-09T20:03:58.414Z"
   },
   {
    "duration": 35,
    "start_time": "2023-06-09T20:08:18.750Z"
   },
   {
    "duration": 1917,
    "start_time": "2023-06-09T20:09:44.642Z"
   },
   {
    "duration": 55,
    "start_time": "2023-06-09T20:10:18.950Z"
   },
   {
    "duration": 27,
    "start_time": "2023-06-09T20:11:34.608Z"
   },
   {
    "duration": 32,
    "start_time": "2023-06-09T20:12:04.125Z"
   },
   {
    "duration": 21,
    "start_time": "2023-06-09T20:12:15.549Z"
   },
   {
    "duration": 18,
    "start_time": "2023-06-09T20:13:00.816Z"
   },
   {
    "duration": 14,
    "start_time": "2023-06-09T20:14:24.715Z"
   },
   {
    "duration": 11,
    "start_time": "2023-06-09T20:18:43.686Z"
   },
   {
    "duration": 9,
    "start_time": "2023-06-09T20:22:45.044Z"
   },
   {
    "duration": 10,
    "start_time": "2023-06-09T20:36:33.281Z"
   },
   {
    "duration": 148,
    "start_time": "2023-06-10T00:40:41.273Z"
   },
   {
    "duration": 193,
    "start_time": "2023-06-10T00:41:08.924Z"
   },
   {
    "duration": 9,
    "start_time": "2023-06-10T01:00:11.395Z"
   },
   {
    "duration": 96,
    "start_time": "2023-06-10T01:11:09.159Z"
   },
   {
    "duration": 36,
    "start_time": "2023-06-10T01:11:09.257Z"
   },
   {
    "duration": 21,
    "start_time": "2023-06-10T01:11:09.295Z"
   },
   {
    "duration": 16,
    "start_time": "2023-06-10T01:11:09.328Z"
   },
   {
    "duration": 15,
    "start_time": "2023-06-10T01:11:09.350Z"
   },
   {
    "duration": 218,
    "start_time": "2023-06-10T01:11:09.367Z"
   },
   {
    "duration": 205,
    "start_time": "2023-06-10T01:11:09.588Z"
   },
   {
    "duration": 315,
    "start_time": "2023-06-10T01:11:09.794Z"
   },
   {
    "duration": 466,
    "start_time": "2023-06-10T01:11:10.111Z"
   },
   {
    "duration": 338,
    "start_time": "2023-06-10T01:11:10.579Z"
   },
   {
    "duration": 37,
    "start_time": "2023-06-10T01:11:10.919Z"
   },
   {
    "duration": 11,
    "start_time": "2023-06-10T01:11:10.958Z"
   },
   {
    "duration": 608,
    "start_time": "2023-06-10T01:11:10.971Z"
   },
   {
    "duration": 584,
    "start_time": "2023-06-10T01:11:11.582Z"
   },
   {
    "duration": 8,
    "start_time": "2023-06-10T01:11:12.168Z"
   },
   {
    "duration": 22,
    "start_time": "2023-06-10T01:11:12.177Z"
   },
   {
    "duration": 194,
    "start_time": "2023-06-10T01:11:12.200Z"
   },
   {
    "duration": 11,
    "start_time": "2023-06-10T01:11:12.396Z"
   },
   {
    "duration": 36,
    "start_time": "2023-06-10T01:11:12.409Z"
   },
   {
    "duration": 14,
    "start_time": "2023-06-10T01:11:12.447Z"
   },
   {
    "duration": 90,
    "start_time": "2023-06-10T01:11:12.464Z"
   },
   {
    "duration": 97,
    "start_time": "2023-06-10T01:11:44.794Z"
   },
   {
    "duration": 99,
    "start_time": "2023-06-10T01:12:01.921Z"
   },
   {
    "duration": 98,
    "start_time": "2023-06-10T01:12:23.260Z"
   },
   {
    "duration": 38,
    "start_time": "2023-06-10T01:12:23.361Z"
   },
   {
    "duration": 47,
    "start_time": "2023-06-10T01:12:23.402Z"
   },
   {
    "duration": 24,
    "start_time": "2023-06-10T01:12:23.453Z"
   },
   {
    "duration": 81,
    "start_time": "2023-06-10T01:12:23.480Z"
   },
   {
    "duration": 201,
    "start_time": "2023-06-10T01:12:23.563Z"
   },
   {
    "duration": 185,
    "start_time": "2023-06-10T01:12:23.766Z"
   },
   {
    "duration": 458,
    "start_time": "2023-06-10T01:12:23.952Z"
   },
   {
    "duration": 353,
    "start_time": "2023-06-10T01:12:24.411Z"
   },
   {
    "duration": 348,
    "start_time": "2023-06-10T01:12:24.766Z"
   },
   {
    "duration": 35,
    "start_time": "2023-06-10T01:12:25.116Z"
   },
   {
    "duration": 10,
    "start_time": "2023-06-10T01:12:25.157Z"
   },
   {
    "duration": 581,
    "start_time": "2023-06-10T01:12:25.168Z"
   },
   {
    "duration": 749,
    "start_time": "2023-06-10T01:12:25.752Z"
   },
   {
    "duration": 9,
    "start_time": "2023-06-10T01:12:26.503Z"
   },
   {
    "duration": 31,
    "start_time": "2023-06-10T01:12:26.529Z"
   },
   {
    "duration": 181,
    "start_time": "2023-06-10T01:12:26.562Z"
   },
   {
    "duration": 13,
    "start_time": "2023-06-10T01:12:26.745Z"
   },
   {
    "duration": 11,
    "start_time": "2023-06-10T01:12:26.761Z"
   },
   {
    "duration": 19,
    "start_time": "2023-06-10T01:12:26.774Z"
   },
   {
    "duration": 206,
    "start_time": "2023-06-10T01:12:58.563Z"
   },
   {
    "duration": 92,
    "start_time": "2023-06-10T01:13:24.500Z"
   },
   {
    "duration": 197,
    "start_time": "2023-06-10T01:13:27.447Z"
   },
   {
    "duration": 90,
    "start_time": "2023-06-10T01:13:31.719Z"
   },
   {
    "duration": 109,
    "start_time": "2023-06-10T01:13:31.811Z"
   },
   {
    "duration": 41,
    "start_time": "2023-06-10T01:13:31.922Z"
   },
   {
    "duration": 34,
    "start_time": "2023-06-10T01:13:31.965Z"
   },
   {
    "duration": 62,
    "start_time": "2023-06-10T01:13:32.001Z"
   },
   {
    "duration": 222,
    "start_time": "2023-06-10T01:13:32.066Z"
   },
   {
    "duration": 179,
    "start_time": "2023-06-10T01:13:32.290Z"
   },
   {
    "duration": 303,
    "start_time": "2023-06-10T01:13:32.471Z"
   },
   {
    "duration": 342,
    "start_time": "2023-06-10T01:13:32.775Z"
   },
   {
    "duration": 346,
    "start_time": "2023-06-10T01:13:33.127Z"
   },
   {
    "duration": 18,
    "start_time": "2023-06-10T01:13:33.475Z"
   },
   {
    "duration": 12,
    "start_time": "2023-06-10T01:13:33.495Z"
   },
   {
    "duration": 596,
    "start_time": "2023-06-10T01:13:33.509Z"
   },
   {
    "duration": 786,
    "start_time": "2023-06-10T01:13:34.108Z"
   },
   {
    "duration": 8,
    "start_time": "2023-06-10T01:13:34.896Z"
   },
   {
    "duration": 52,
    "start_time": "2023-06-10T01:13:34.906Z"
   },
   {
    "duration": 187,
    "start_time": "2023-06-10T01:13:34.960Z"
   },
   {
    "duration": 12,
    "start_time": "2023-06-10T01:13:35.157Z"
   },
   {
    "duration": 16,
    "start_time": "2023-06-10T01:13:35.171Z"
   },
   {
    "duration": 9,
    "start_time": "2023-06-10T01:13:35.190Z"
   },
   {
    "duration": 1421,
    "start_time": "2023-06-10T14:39:44.082Z"
   },
   {
    "duration": 33,
    "start_time": "2023-06-10T14:39:45.505Z"
   },
   {
    "duration": 20,
    "start_time": "2023-06-10T14:39:45.540Z"
   },
   {
    "duration": 9,
    "start_time": "2023-06-10T14:39:45.562Z"
   },
   {
    "duration": 20,
    "start_time": "2023-06-10T14:39:45.572Z"
   },
   {
    "duration": 203,
    "start_time": "2023-06-10T14:39:45.593Z"
   },
   {
    "duration": 176,
    "start_time": "2023-06-10T14:39:45.797Z"
   },
   {
    "duration": 266,
    "start_time": "2023-06-10T14:39:45.975Z"
   },
   {
    "duration": 298,
    "start_time": "2023-06-10T14:39:46.243Z"
   },
   {
    "duration": 286,
    "start_time": "2023-06-10T14:39:46.544Z"
   },
   {
    "duration": 22,
    "start_time": "2023-06-10T14:39:46.832Z"
   },
   {
    "duration": 10,
    "start_time": "2023-06-10T14:39:46.856Z"
   },
   {
    "duration": 593,
    "start_time": "2023-06-10T14:39:46.868Z"
   },
   {
    "duration": 500,
    "start_time": "2023-06-10T14:39:47.462Z"
   },
   {
    "duration": 7,
    "start_time": "2023-06-10T14:39:47.964Z"
   },
   {
    "duration": 31,
    "start_time": "2023-06-10T14:39:47.972Z"
   },
   {
    "duration": 153,
    "start_time": "2023-06-10T14:39:48.005Z"
   },
   {
    "duration": 8,
    "start_time": "2023-06-10T14:39:48.160Z"
   },
   {
    "duration": 11,
    "start_time": "2023-06-10T14:39:48.170Z"
   },
   {
    "duration": 12,
    "start_time": "2023-06-10T14:39:48.182Z"
   },
   {
    "duration": 20,
    "start_time": "2023-06-10T14:53:14.742Z"
   },
   {
    "duration": 14,
    "start_time": "2023-06-10T15:00:52.808Z"
   },
   {
    "duration": 8,
    "start_time": "2023-06-10T15:01:37.965Z"
   },
   {
    "duration": 1186,
    "start_time": "2023-06-10T15:10:00.183Z"
   },
   {
    "duration": 36,
    "start_time": "2023-06-10T15:10:01.372Z"
   },
   {
    "duration": 23,
    "start_time": "2023-06-10T15:10:01.410Z"
   },
   {
    "duration": 38,
    "start_time": "2023-06-10T15:10:01.435Z"
   },
   {
    "duration": 61,
    "start_time": "2023-06-10T15:10:01.474Z"
   },
   {
    "duration": 227,
    "start_time": "2023-06-10T15:10:01.537Z"
   },
   {
    "duration": 204,
    "start_time": "2023-06-10T15:10:01.766Z"
   },
   {
    "duration": 311,
    "start_time": "2023-06-10T15:10:01.971Z"
   },
   {
    "duration": 298,
    "start_time": "2023-06-10T15:10:02.284Z"
   },
   {
    "duration": 289,
    "start_time": "2023-06-10T15:10:02.585Z"
   },
   {
    "duration": 16,
    "start_time": "2023-06-10T15:10:02.876Z"
   },
   {
    "duration": 34,
    "start_time": "2023-06-10T15:10:02.893Z"
   },
   {
    "duration": 620,
    "start_time": "2023-06-10T15:10:02.929Z"
   },
   {
    "duration": 488,
    "start_time": "2023-06-10T15:10:03.550Z"
   },
   {
    "duration": 8,
    "start_time": "2023-06-10T15:10:04.039Z"
   },
   {
    "duration": 35,
    "start_time": "2023-06-10T15:10:04.048Z"
   },
   {
    "duration": 194,
    "start_time": "2023-06-10T15:10:04.084Z"
   },
   {
    "duration": 10,
    "start_time": "2023-06-10T15:10:04.279Z"
   },
   {
    "duration": 55,
    "start_time": "2023-06-10T15:10:04.290Z"
   },
   {
    "duration": 10,
    "start_time": "2023-06-10T15:10:04.346Z"
   },
   {
    "duration": 1202,
    "start_time": "2023-06-10T15:10:14.929Z"
   },
   {
    "duration": 45,
    "start_time": "2023-06-10T15:10:16.133Z"
   },
   {
    "duration": 22,
    "start_time": "2023-06-10T15:10:16.180Z"
   },
   {
    "duration": 10,
    "start_time": "2023-06-10T15:10:16.205Z"
   },
   {
    "duration": 32,
    "start_time": "2023-06-10T15:10:16.218Z"
   },
   {
    "duration": 194,
    "start_time": "2023-06-10T15:10:16.252Z"
   },
   {
    "duration": 158,
    "start_time": "2023-06-10T15:10:16.448Z"
   },
   {
    "duration": 260,
    "start_time": "2023-06-10T15:10:16.608Z"
   },
   {
    "duration": 288,
    "start_time": "2023-06-10T15:10:16.870Z"
   },
   {
    "duration": 288,
    "start_time": "2023-06-10T15:10:17.160Z"
   },
   {
    "duration": 14,
    "start_time": "2023-06-10T15:10:17.450Z"
   },
   {
    "duration": 10,
    "start_time": "2023-06-10T15:10:17.466Z"
   },
   {
    "duration": 571,
    "start_time": "2023-06-10T15:10:17.477Z"
   },
   {
    "duration": 560,
    "start_time": "2023-06-10T15:10:18.051Z"
   },
   {
    "duration": 7,
    "start_time": "2023-06-10T15:10:18.613Z"
   },
   {
    "duration": 28,
    "start_time": "2023-06-10T15:10:18.622Z"
   },
   {
    "duration": 151,
    "start_time": "2023-06-10T15:10:18.652Z"
   },
   {
    "duration": 10,
    "start_time": "2023-06-10T15:10:18.804Z"
   },
   {
    "duration": 8,
    "start_time": "2023-06-10T15:10:18.816Z"
   },
   {
    "duration": 26,
    "start_time": "2023-06-10T15:10:18.826Z"
   },
   {
    "duration": 1266,
    "start_time": "2023-06-10T22:05:51.884Z"
   },
   {
    "duration": 316,
    "start_time": "2023-06-10T22:05:53.156Z"
   },
   {
    "duration": 49,
    "start_time": "2023-06-10T22:05:53.474Z"
   },
   {
    "duration": 19,
    "start_time": "2023-06-10T22:05:53.525Z"
   },
   {
    "duration": 10,
    "start_time": "2023-06-10T22:05:53.556Z"
   },
   {
    "duration": 8,
    "start_time": "2023-06-10T22:05:53.568Z"
   },
   {
    "duration": 205,
    "start_time": "2023-06-10T22:05:53.578Z"
   },
   {
    "duration": 155,
    "start_time": "2023-06-10T22:05:53.785Z"
   },
   {
    "duration": 291,
    "start_time": "2023-06-10T22:05:53.942Z"
   },
   {
    "duration": 315,
    "start_time": "2023-06-10T22:05:54.237Z"
   },
   {
    "duration": 292,
    "start_time": "2023-06-10T22:05:54.556Z"
   },
   {
    "duration": 18,
    "start_time": "2023-06-10T22:05:54.849Z"
   },
   {
    "duration": 9,
    "start_time": "2023-06-10T22:05:54.869Z"
   },
   {
    "duration": 613,
    "start_time": "2023-06-10T22:05:54.879Z"
   },
   {
    "duration": 562,
    "start_time": "2023-06-10T22:05:55.495Z"
   },
   {
    "duration": 9,
    "start_time": "2023-06-10T22:05:56.059Z"
   },
   {
    "duration": 27,
    "start_time": "2023-06-10T22:05:56.070Z"
   },
   {
    "duration": 178,
    "start_time": "2023-06-10T22:05:56.098Z"
   },
   {
    "duration": 9,
    "start_time": "2023-06-10T22:05:56.277Z"
   },
   {
    "duration": 21,
    "start_time": "2023-06-10T22:05:56.287Z"
   },
   {
    "duration": 27,
    "start_time": "2023-06-10T22:05:56.309Z"
   },
   {
    "duration": 26,
    "start_time": "2023-06-10T22:19:53.442Z"
   },
   {
    "duration": 19,
    "start_time": "2023-06-10T22:20:23.508Z"
   },
   {
    "duration": 47,
    "start_time": "2023-06-10T22:20:58.175Z"
   },
   {
    "duration": 1184,
    "start_time": "2023-06-10T22:21:04.948Z"
   },
   {
    "duration": 79,
    "start_time": "2023-06-10T22:21:06.134Z"
   },
   {
    "duration": 51,
    "start_time": "2023-06-10T22:21:06.215Z"
   },
   {
    "duration": 22,
    "start_time": "2023-06-10T22:21:06.269Z"
   },
   {
    "duration": 12,
    "start_time": "2023-06-10T22:21:06.293Z"
   },
   {
    "duration": 10,
    "start_time": "2023-06-10T22:21:06.307Z"
   },
   {
    "duration": 205,
    "start_time": "2023-06-10T22:21:06.319Z"
   },
   {
    "duration": 166,
    "start_time": "2023-06-10T22:21:06.526Z"
   },
   {
    "duration": 250,
    "start_time": "2023-06-10T22:21:06.694Z"
   },
   {
    "duration": 294,
    "start_time": "2023-06-10T22:21:06.948Z"
   },
   {
    "duration": 302,
    "start_time": "2023-06-10T22:21:07.244Z"
   },
   {
    "duration": 20,
    "start_time": "2023-06-10T22:21:07.548Z"
   },
   {
    "duration": 82,
    "start_time": "2023-06-10T22:21:07.570Z"
   },
   {
    "duration": 674,
    "start_time": "2023-06-10T22:21:07.654Z"
   },
   {
    "duration": 512,
    "start_time": "2023-06-10T22:21:08.330Z"
   },
   {
    "duration": 18,
    "start_time": "2023-06-10T22:21:08.844Z"
   },
   {
    "duration": 26,
    "start_time": "2023-06-10T22:21:08.864Z"
   },
   {
    "duration": 193,
    "start_time": "2023-06-10T22:21:08.893Z"
   },
   {
    "duration": 11,
    "start_time": "2023-06-10T22:21:09.088Z"
   },
   {
    "duration": 25,
    "start_time": "2023-06-10T22:21:09.101Z"
   },
   {
    "duration": 40,
    "start_time": "2023-06-10T22:21:09.129Z"
   },
   {
    "duration": 13,
    "start_time": "2023-06-10T22:23:03.034Z"
   },
   {
    "duration": 7,
    "start_time": "2023-06-10T22:23:04.921Z"
   },
   {
    "duration": 6,
    "start_time": "2023-06-10T22:23:07.526Z"
   },
   {
    "duration": 6,
    "start_time": "2023-06-10T22:23:10.136Z"
   },
   {
    "duration": 1122,
    "start_time": "2023-06-10T22:23:44.834Z"
   },
   {
    "duration": 73,
    "start_time": "2023-06-10T22:23:45.959Z"
   },
   {
    "duration": 51,
    "start_time": "2023-06-10T22:23:46.034Z"
   },
   {
    "duration": 12,
    "start_time": "2023-06-10T22:23:46.087Z"
   },
   {
    "duration": 5,
    "start_time": "2023-06-10T22:23:46.102Z"
   },
   {
    "duration": 17,
    "start_time": "2023-06-10T22:23:46.108Z"
   },
   {
    "duration": 7,
    "start_time": "2023-06-10T22:23:46.126Z"
   },
   {
    "duration": 38,
    "start_time": "2023-06-10T22:23:46.134Z"
   },
   {
    "duration": 21,
    "start_time": "2023-06-10T22:23:46.174Z"
   },
   {
    "duration": 181,
    "start_time": "2023-06-10T22:23:46.197Z"
   },
   {
    "duration": 145,
    "start_time": "2023-06-10T22:23:46.380Z"
   },
   {
    "duration": 253,
    "start_time": "2023-06-10T22:23:46.527Z"
   },
   {
    "duration": 284,
    "start_time": "2023-06-10T22:23:46.782Z"
   },
   {
    "duration": 304,
    "start_time": "2023-06-10T22:23:47.068Z"
   },
   {
    "duration": 20,
    "start_time": "2023-06-10T22:23:47.374Z"
   },
   {
    "duration": 11,
    "start_time": "2023-06-10T22:23:47.396Z"
   },
   {
    "duration": 589,
    "start_time": "2023-06-10T22:23:47.409Z"
   },
   {
    "duration": 506,
    "start_time": "2023-06-10T22:23:48.000Z"
   },
   {
    "duration": 8,
    "start_time": "2023-06-10T22:23:48.508Z"
   },
   {
    "duration": 38,
    "start_time": "2023-06-10T22:23:48.519Z"
   },
   {
    "duration": 142,
    "start_time": "2023-06-10T22:23:48.559Z"
   },
   {
    "duration": 10,
    "start_time": "2023-06-10T22:23:48.703Z"
   },
   {
    "duration": 12,
    "start_time": "2023-06-10T22:23:48.714Z"
   },
   {
    "duration": 10,
    "start_time": "2023-06-10T22:23:48.728Z"
   },
   {
    "duration": 29,
    "start_time": "2023-06-10T22:28:59.718Z"
   },
   {
    "duration": 14,
    "start_time": "2023-06-10T22:29:17.021Z"
   },
   {
    "duration": 102,
    "start_time": "2023-06-10T22:41:39.104Z"
   },
   {
    "duration": 104,
    "start_time": "2023-06-10T22:42:18.489Z"
   },
   {
    "duration": 136,
    "start_time": "2023-06-10T22:44:07.345Z"
   },
   {
    "duration": 175,
    "start_time": "2023-06-10T22:44:43.139Z"
   },
   {
    "duration": 347,
    "start_time": "2023-06-10T22:45:18.703Z"
   },
   {
    "duration": 174,
    "start_time": "2023-06-10T22:46:04.922Z"
   },
   {
    "duration": 201,
    "start_time": "2023-06-10T22:46:29.178Z"
   },
   {
    "duration": 174,
    "start_time": "2023-06-10T22:46:52.335Z"
   },
   {
    "duration": 195,
    "start_time": "2023-06-10T22:47:05.180Z"
   },
   {
    "duration": 223,
    "start_time": "2023-06-10T22:49:05.958Z"
   },
   {
    "duration": 197,
    "start_time": "2023-06-10T22:49:24.366Z"
   },
   {
    "duration": 193,
    "start_time": "2023-06-10T22:49:32.989Z"
   },
   {
    "duration": 200,
    "start_time": "2023-06-10T22:50:02.464Z"
   },
   {
    "duration": 173,
    "start_time": "2023-06-10T22:51:05.094Z"
   },
   {
    "duration": 239,
    "start_time": "2023-06-10T22:51:35.320Z"
   },
   {
    "duration": 38,
    "start_time": "2023-06-10T23:41:06.301Z"
   },
   {
    "duration": 13,
    "start_time": "2023-06-10T23:41:55.738Z"
   },
   {
    "duration": 3,
    "start_time": "2023-06-10T23:47:46.383Z"
   },
   {
    "duration": 70,
    "start_time": "2023-06-10T23:47:46.388Z"
   },
   {
    "duration": 41,
    "start_time": "2023-06-10T23:47:46.460Z"
   },
   {
    "duration": 13,
    "start_time": "2023-06-10T23:47:46.504Z"
   },
   {
    "duration": 5,
    "start_time": "2023-06-10T23:47:46.518Z"
   },
   {
    "duration": 6,
    "start_time": "2023-06-10T23:47:46.557Z"
   },
   {
    "duration": 6,
    "start_time": "2023-06-10T23:47:46.564Z"
   },
   {
    "duration": 11,
    "start_time": "2023-06-10T23:47:46.572Z"
   },
   {
    "duration": 10,
    "start_time": "2023-06-10T23:47:46.586Z"
   },
   {
    "duration": 242,
    "start_time": "2023-06-10T23:47:46.598Z"
   },
   {
    "duration": 178,
    "start_time": "2023-06-10T23:47:46.842Z"
   },
   {
    "duration": 485,
    "start_time": "2023-06-10T23:47:47.022Z"
   },
   {
    "duration": 0,
    "start_time": "2023-06-10T23:47:47.510Z"
   },
   {
    "duration": 0,
    "start_time": "2023-06-10T23:47:47.512Z"
   },
   {
    "duration": 0,
    "start_time": "2023-06-10T23:47:47.513Z"
   },
   {
    "duration": 0,
    "start_time": "2023-06-10T23:47:47.515Z"
   },
   {
    "duration": 0,
    "start_time": "2023-06-10T23:47:47.516Z"
   },
   {
    "duration": 0,
    "start_time": "2023-06-10T23:47:47.517Z"
   },
   {
    "duration": 0,
    "start_time": "2023-06-10T23:47:47.519Z"
   },
   {
    "duration": 0,
    "start_time": "2023-06-10T23:47:47.520Z"
   },
   {
    "duration": 0,
    "start_time": "2023-06-10T23:47:47.521Z"
   },
   {
    "duration": 0,
    "start_time": "2023-06-10T23:47:47.522Z"
   },
   {
    "duration": 0,
    "start_time": "2023-06-10T23:47:47.523Z"
   },
   {
    "duration": 0,
    "start_time": "2023-06-10T23:47:47.525Z"
   },
   {
    "duration": 0,
    "start_time": "2023-06-10T23:47:47.526Z"
   },
   {
    "duration": 0,
    "start_time": "2023-06-10T23:47:47.557Z"
   },
   {
    "duration": 371,
    "start_time": "2023-06-10T23:48:50.175Z"
   },
   {
    "duration": 321,
    "start_time": "2023-06-10T23:49:44.784Z"
   },
   {
    "duration": 361,
    "start_time": "2023-06-10T23:51:57.520Z"
   },
   {
    "duration": 3,
    "start_time": "2023-06-10T23:52:27.696Z"
   },
   {
    "duration": 71,
    "start_time": "2023-06-10T23:52:27.701Z"
   },
   {
    "duration": 50,
    "start_time": "2023-06-10T23:52:27.774Z"
   },
   {
    "duration": 35,
    "start_time": "2023-06-10T23:52:27.826Z"
   },
   {
    "duration": 7,
    "start_time": "2023-06-10T23:52:27.864Z"
   },
   {
    "duration": 12,
    "start_time": "2023-06-10T23:52:27.874Z"
   },
   {
    "duration": 5,
    "start_time": "2023-06-10T23:52:27.888Z"
   },
   {
    "duration": 19,
    "start_time": "2023-06-10T23:52:27.895Z"
   },
   {
    "duration": 12,
    "start_time": "2023-06-10T23:52:27.917Z"
   },
   {
    "duration": 241,
    "start_time": "2023-06-10T23:52:27.931Z"
   },
   {
    "duration": 190,
    "start_time": "2023-06-10T23:52:28.174Z"
   },
   {
    "duration": 387,
    "start_time": "2023-06-10T23:52:28.370Z"
   },
   {
    "duration": 605,
    "start_time": "2023-06-10T23:52:28.759Z"
   },
   {
    "duration": 362,
    "start_time": "2023-06-10T23:52:29.366Z"
   },
   {
    "duration": 30,
    "start_time": "2023-06-10T23:52:29.730Z"
   },
   {
    "duration": 19,
    "start_time": "2023-06-10T23:52:29.762Z"
   },
   {
    "duration": 66,
    "start_time": "2023-06-10T23:52:29.782Z"
   },
   {
    "duration": 19,
    "start_time": "2023-06-10T23:52:29.850Z"
   },
   {
    "duration": 556,
    "start_time": "2023-06-10T23:52:29.871Z"
   },
   {
    "duration": 531,
    "start_time": "2023-06-10T23:52:30.429Z"
   },
   {
    "duration": 8,
    "start_time": "2023-06-10T23:52:30.962Z"
   },
   {
    "duration": 58,
    "start_time": "2023-06-10T23:52:30.972Z"
   },
   {
    "duration": 246,
    "start_time": "2023-06-10T23:52:31.032Z"
   },
   {
    "duration": 10,
    "start_time": "2023-06-10T23:52:31.281Z"
   },
   {
    "duration": 78,
    "start_time": "2023-06-10T23:52:31.293Z"
   },
   {
    "duration": 36,
    "start_time": "2023-06-10T23:52:31.373Z"
   },
   {
    "duration": 91,
    "start_time": "2023-06-10T23:54:23.103Z"
   },
   {
    "duration": 500,
    "start_time": "2023-06-10T23:54:32.677Z"
   },
   {
    "duration": 723,
    "start_time": "2023-06-10T23:55:37.646Z"
   },
   {
    "duration": 488,
    "start_time": "2023-06-10T23:55:42.993Z"
   },
   {
    "duration": 3,
    "start_time": "2023-06-10T23:57:05.902Z"
   },
   {
    "duration": 79,
    "start_time": "2023-06-10T23:57:05.907Z"
   },
   {
    "duration": 50,
    "start_time": "2023-06-10T23:57:05.988Z"
   },
   {
    "duration": 27,
    "start_time": "2023-06-10T23:57:06.040Z"
   },
   {
    "duration": 5,
    "start_time": "2023-06-10T23:57:06.069Z"
   },
   {
    "duration": 5,
    "start_time": "2023-06-10T23:57:06.076Z"
   },
   {
    "duration": 8,
    "start_time": "2023-06-10T23:57:06.083Z"
   },
   {
    "duration": 11,
    "start_time": "2023-06-10T23:57:06.092Z"
   },
   {
    "duration": 24,
    "start_time": "2023-06-10T23:57:06.106Z"
   },
   {
    "duration": 223,
    "start_time": "2023-06-10T23:57:06.132Z"
   },
   {
    "duration": 167,
    "start_time": "2023-06-10T23:57:06.357Z"
   },
   {
    "duration": 344,
    "start_time": "2023-06-10T23:57:06.526Z"
   },
   {
    "duration": 345,
    "start_time": "2023-06-10T23:57:06.872Z"
   },
   {
    "duration": 356,
    "start_time": "2023-06-10T23:57:07.219Z"
   },
   {
    "duration": 16,
    "start_time": "2023-06-10T23:57:07.577Z"
   },
   {
    "duration": 14,
    "start_time": "2023-06-10T23:57:07.594Z"
   },
   {
    "duration": 15,
    "start_time": "2023-06-10T23:57:07.610Z"
   },
   {
    "duration": 36,
    "start_time": "2023-06-10T23:57:07.627Z"
   },
   {
    "duration": 779,
    "start_time": "2023-06-10T23:57:07.665Z"
   },
   {
    "duration": 547,
    "start_time": "2023-06-10T23:57:08.446Z"
   },
   {
    "duration": 9,
    "start_time": "2023-06-10T23:57:08.997Z"
   },
   {
    "duration": 23,
    "start_time": "2023-06-10T23:57:09.011Z"
   },
   {
    "duration": 164,
    "start_time": "2023-06-10T23:57:09.037Z"
   },
   {
    "duration": 11,
    "start_time": "2023-06-10T23:57:09.205Z"
   },
   {
    "duration": 24,
    "start_time": "2023-06-10T23:57:09.218Z"
   },
   {
    "duration": 23,
    "start_time": "2023-06-10T23:57:09.244Z"
   },
   {
    "duration": 3,
    "start_time": "2023-06-11T00:03:41.935Z"
   },
   {
    "duration": 69,
    "start_time": "2023-06-11T00:03:41.941Z"
   },
   {
    "duration": 45,
    "start_time": "2023-06-11T00:03:42.012Z"
   },
   {
    "duration": 13,
    "start_time": "2023-06-11T00:03:42.059Z"
   },
   {
    "duration": 5,
    "start_time": "2023-06-11T00:03:42.074Z"
   },
   {
    "duration": 10,
    "start_time": "2023-06-11T00:03:42.081Z"
   },
   {
    "duration": 5,
    "start_time": "2023-06-11T00:03:42.092Z"
   },
   {
    "duration": 18,
    "start_time": "2023-06-11T00:03:42.098Z"
   },
   {
    "duration": 9,
    "start_time": "2023-06-11T00:03:42.119Z"
   },
   {
    "duration": 223,
    "start_time": "2023-06-11T00:03:42.130Z"
   },
   {
    "duration": 175,
    "start_time": "2023-06-11T00:03:42.357Z"
   },
   {
    "duration": 330,
    "start_time": "2023-06-11T00:03:42.534Z"
   },
   {
    "duration": 353,
    "start_time": "2023-06-11T00:03:42.865Z"
   },
   {
    "duration": 347,
    "start_time": "2023-06-11T00:03:43.220Z"
   },
   {
    "duration": 16,
    "start_time": "2023-06-11T00:03:43.569Z"
   },
   {
    "duration": 13,
    "start_time": "2023-06-11T00:03:43.587Z"
   },
   {
    "duration": 14,
    "start_time": "2023-06-11T00:03:43.602Z"
   },
   {
    "duration": 15,
    "start_time": "2023-06-11T00:03:43.618Z"
   },
   {
    "duration": 504,
    "start_time": "2023-06-11T00:03:43.635Z"
   },
   {
    "duration": 828,
    "start_time": "2023-06-11T00:03:44.141Z"
   },
   {
    "duration": 6,
    "start_time": "2023-06-11T00:03:44.971Z"
   },
   {
    "duration": 24,
    "start_time": "2023-06-11T00:03:44.979Z"
   },
   {
    "duration": 163,
    "start_time": "2023-06-11T00:03:45.005Z"
   },
   {
    "duration": 10,
    "start_time": "2023-06-11T00:03:45.172Z"
   },
   {
    "duration": 11,
    "start_time": "2023-06-11T00:03:45.183Z"
   },
   {
    "duration": 10,
    "start_time": "2023-06-11T00:03:45.195Z"
   },
   {
    "duration": 3,
    "start_time": "2023-06-11T00:05:54.761Z"
   },
   {
    "duration": 74,
    "start_time": "2023-06-11T00:05:54.766Z"
   },
   {
    "duration": 43,
    "start_time": "2023-06-11T00:05:54.842Z"
   },
   {
    "duration": 12,
    "start_time": "2023-06-11T00:05:54.887Z"
   },
   {
    "duration": 5,
    "start_time": "2023-06-11T00:05:54.902Z"
   },
   {
    "duration": 7,
    "start_time": "2023-06-11T00:05:54.908Z"
   },
   {
    "duration": 6,
    "start_time": "2023-06-11T00:05:54.916Z"
   },
   {
    "duration": 40,
    "start_time": "2023-06-11T00:05:54.923Z"
   },
   {
    "duration": 9,
    "start_time": "2023-06-11T00:05:54.965Z"
   },
   {
    "duration": 216,
    "start_time": "2023-06-11T00:05:54.976Z"
   },
   {
    "duration": 185,
    "start_time": "2023-06-11T00:05:55.196Z"
   },
   {
    "duration": 338,
    "start_time": "2023-06-11T00:05:55.383Z"
   },
   {
    "duration": 342,
    "start_time": "2023-06-11T00:05:55.723Z"
   },
   {
    "duration": 329,
    "start_time": "2023-06-11T00:05:56.067Z"
   },
   {
    "duration": 15,
    "start_time": "2023-06-11T00:05:56.398Z"
   },
   {
    "duration": 13,
    "start_time": "2023-06-11T00:05:56.415Z"
   },
   {
    "duration": 40,
    "start_time": "2023-06-11T00:05:56.431Z"
   },
   {
    "duration": 9,
    "start_time": "2023-06-11T00:05:56.472Z"
   },
   {
    "duration": 510,
    "start_time": "2023-06-11T00:05:56.483Z"
   },
   {
    "duration": 537,
    "start_time": "2023-06-11T00:05:56.995Z"
   },
   {
    "duration": 6,
    "start_time": "2023-06-11T00:05:57.533Z"
   },
   {
    "duration": 23,
    "start_time": "2023-06-11T00:05:57.540Z"
   },
   {
    "duration": 5,
    "start_time": "2023-06-11T00:05:57.565Z"
   },
   {
    "duration": 14,
    "start_time": "2023-06-11T00:05:57.572Z"
   },
   {
    "duration": 13,
    "start_time": "2023-06-11T00:05:57.588Z"
   },
   {
    "duration": 143,
    "start_time": "2023-06-11T00:05:57.603Z"
   },
   {
    "duration": 14,
    "start_time": "2023-06-11T00:05:57.748Z"
   },
   {
    "duration": 8,
    "start_time": "2023-06-11T00:05:57.764Z"
   },
   {
    "duration": 12,
    "start_time": "2023-06-11T00:05:57.775Z"
   },
   {
    "duration": 3,
    "start_time": "2023-06-11T00:15:49.612Z"
   },
   {
    "duration": 82,
    "start_time": "2023-06-11T00:15:49.617Z"
   },
   {
    "duration": 54,
    "start_time": "2023-06-11T00:15:49.702Z"
   },
   {
    "duration": 14,
    "start_time": "2023-06-11T00:15:49.758Z"
   },
   {
    "duration": 6,
    "start_time": "2023-06-11T00:15:49.774Z"
   },
   {
    "duration": 12,
    "start_time": "2023-06-11T00:15:49.781Z"
   },
   {
    "duration": 9,
    "start_time": "2023-06-11T00:15:49.794Z"
   },
   {
    "duration": 14,
    "start_time": "2023-06-11T00:15:49.805Z"
   },
   {
    "duration": 37,
    "start_time": "2023-06-11T00:15:49.820Z"
   },
   {
    "duration": 210,
    "start_time": "2023-06-11T00:15:49.858Z"
   },
   {
    "duration": 170,
    "start_time": "2023-06-11T00:15:50.071Z"
   },
   {
    "duration": 322,
    "start_time": "2023-06-11T00:15:50.243Z"
   },
   {
    "duration": 352,
    "start_time": "2023-06-11T00:15:50.567Z"
   },
   {
    "duration": 325,
    "start_time": "2023-06-11T00:15:50.921Z"
   },
   {
    "duration": 20,
    "start_time": "2023-06-11T00:15:51.248Z"
   },
   {
    "duration": 22,
    "start_time": "2023-06-11T00:15:51.270Z"
   },
   {
    "duration": 17,
    "start_time": "2023-06-11T00:15:51.294Z"
   },
   {
    "duration": 9,
    "start_time": "2023-06-11T00:15:51.313Z"
   },
   {
    "duration": 932,
    "start_time": "2023-06-11T00:15:51.324Z"
   },
   {
    "duration": 488,
    "start_time": "2023-06-11T00:15:52.259Z"
   },
   {
    "duration": 11,
    "start_time": "2023-06-11T00:15:52.749Z"
   },
   {
    "duration": 19,
    "start_time": "2023-06-11T00:15:52.762Z"
   },
   {
    "duration": 6,
    "start_time": "2023-06-11T00:15:52.783Z"
   },
   {
    "duration": 16,
    "start_time": "2023-06-11T00:15:52.791Z"
   },
   {
    "duration": 5,
    "start_time": "2023-06-11T00:15:52.810Z"
   },
   {
    "duration": 196,
    "start_time": "2023-06-11T00:15:52.817Z"
   },
   {
    "duration": 1205,
    "start_time": "2023-06-11T00:15:53.015Z"
   },
   {
    "duration": 0,
    "start_time": "2023-06-11T00:15:54.222Z"
   },
   {
    "duration": 0,
    "start_time": "2023-06-11T00:15:54.223Z"
   },
   {
    "duration": 4,
    "start_time": "2023-06-11T00:16:20.450Z"
   },
   {
    "duration": 73,
    "start_time": "2023-06-11T00:16:20.456Z"
   },
   {
    "duration": 44,
    "start_time": "2023-06-11T00:16:20.531Z"
   },
   {
    "duration": 14,
    "start_time": "2023-06-11T00:16:20.577Z"
   },
   {
    "duration": 5,
    "start_time": "2023-06-11T00:16:20.593Z"
   },
   {
    "duration": 25,
    "start_time": "2023-06-11T00:16:20.600Z"
   },
   {
    "duration": 10,
    "start_time": "2023-06-11T00:16:20.627Z"
   },
   {
    "duration": 48,
    "start_time": "2023-06-11T00:16:20.639Z"
   },
   {
    "duration": 37,
    "start_time": "2023-06-11T00:16:20.690Z"
   },
   {
    "duration": 238,
    "start_time": "2023-06-11T00:16:20.729Z"
   },
   {
    "duration": 185,
    "start_time": "2023-06-11T00:16:20.970Z"
   },
   {
    "duration": 348,
    "start_time": "2023-06-11T00:16:21.157Z"
   },
   {
    "duration": 341,
    "start_time": "2023-06-11T00:16:21.507Z"
   },
   {
    "duration": 327,
    "start_time": "2023-06-11T00:16:21.850Z"
   },
   {
    "duration": 15,
    "start_time": "2023-06-11T00:16:22.180Z"
   },
   {
    "duration": 14,
    "start_time": "2023-06-11T00:16:22.196Z"
   },
   {
    "duration": 18,
    "start_time": "2023-06-11T00:16:22.211Z"
   },
   {
    "duration": 31,
    "start_time": "2023-06-11T00:16:22.230Z"
   },
   {
    "duration": 510,
    "start_time": "2023-06-11T00:16:22.263Z"
   },
   {
    "duration": 482,
    "start_time": "2023-06-11T00:16:22.775Z"
   },
   {
    "duration": 5,
    "start_time": "2023-06-11T00:16:23.261Z"
   },
   {
    "duration": 13,
    "start_time": "2023-06-11T00:16:23.268Z"
   },
   {
    "duration": 6,
    "start_time": "2023-06-11T00:16:23.283Z"
   },
   {
    "duration": 9,
    "start_time": "2023-06-11T00:16:23.293Z"
   },
   {
    "duration": 4,
    "start_time": "2023-06-11T00:16:23.304Z"
   },
   {
    "duration": 168,
    "start_time": "2023-06-11T00:16:23.310Z"
   },
   {
    "duration": 5,
    "start_time": "2023-06-11T00:16:23.480Z"
   },
   {
    "duration": 12,
    "start_time": "2023-06-11T00:16:23.487Z"
   },
   {
    "duration": 13,
    "start_time": "2023-06-11T00:16:23.500Z"
   },
   {
    "duration": 942,
    "start_time": "2023-06-11T12:23:47.357Z"
   },
   {
    "duration": 79,
    "start_time": "2023-06-11T12:23:48.301Z"
   },
   {
    "duration": 54,
    "start_time": "2023-06-11T12:23:48.382Z"
   },
   {
    "duration": 11,
    "start_time": "2023-06-11T12:23:48.437Z"
   },
   {
    "duration": 5,
    "start_time": "2023-06-11T12:23:48.451Z"
   },
   {
    "duration": 51,
    "start_time": "2023-06-11T12:23:48.457Z"
   },
   {
    "duration": 41,
    "start_time": "2023-06-11T12:23:48.510Z"
   },
   {
    "duration": 15,
    "start_time": "2023-06-11T12:23:48.553Z"
   },
   {
    "duration": 16,
    "start_time": "2023-06-11T12:23:48.570Z"
   },
   {
    "duration": 266,
    "start_time": "2023-06-11T12:23:48.588Z"
   },
   {
    "duration": 155,
    "start_time": "2023-06-11T12:23:48.856Z"
   },
   {
    "duration": 315,
    "start_time": "2023-06-11T12:23:49.013Z"
   },
   {
    "duration": 323,
    "start_time": "2023-06-11T12:23:49.330Z"
   },
   {
    "duration": 318,
    "start_time": "2023-06-11T12:23:49.656Z"
   },
   {
    "duration": 19,
    "start_time": "2023-06-11T12:23:49.976Z"
   },
   {
    "duration": 29,
    "start_time": "2023-06-11T12:23:49.997Z"
   },
   {
    "duration": 15,
    "start_time": "2023-06-11T12:23:50.028Z"
   },
   {
    "duration": 27,
    "start_time": "2023-06-11T12:23:50.044Z"
   },
   {
    "duration": 504,
    "start_time": "2023-06-11T12:23:50.072Z"
   },
   {
    "duration": 451,
    "start_time": "2023-06-11T12:23:50.578Z"
   },
   {
    "duration": 4,
    "start_time": "2023-06-11T12:23:51.031Z"
   },
   {
    "duration": 14,
    "start_time": "2023-06-11T12:23:51.036Z"
   },
   {
    "duration": 5,
    "start_time": "2023-06-11T12:23:51.052Z"
   },
   {
    "duration": 10,
    "start_time": "2023-06-11T12:23:51.059Z"
   },
   {
    "duration": 14,
    "start_time": "2023-06-11T12:23:51.070Z"
   },
   {
    "duration": 159,
    "start_time": "2023-06-11T12:23:51.086Z"
   },
   {
    "duration": 5,
    "start_time": "2023-06-11T12:23:51.247Z"
   },
   {
    "duration": 7,
    "start_time": "2023-06-11T12:23:51.254Z"
   },
   {
    "duration": 12,
    "start_time": "2023-06-11T12:23:51.262Z"
   },
   {
    "duration": 2,
    "start_time": "2023-06-11T12:44:09.669Z"
   },
   {
    "duration": 88,
    "start_time": "2023-06-11T12:44:09.674Z"
   },
   {
    "duration": 46,
    "start_time": "2023-06-11T12:44:09.764Z"
   },
   {
    "duration": 14,
    "start_time": "2023-06-11T12:44:09.812Z"
   },
   {
    "duration": 5,
    "start_time": "2023-06-11T12:44:09.829Z"
   },
   {
    "duration": 6,
    "start_time": "2023-06-11T12:44:09.835Z"
   },
   {
    "duration": 8,
    "start_time": "2023-06-11T12:44:09.843Z"
   },
   {
    "duration": 10,
    "start_time": "2023-06-11T12:44:09.852Z"
   },
   {
    "duration": 30,
    "start_time": "2023-06-11T12:44:09.863Z"
   },
   {
    "duration": 224,
    "start_time": "2023-06-11T12:44:09.895Z"
   },
   {
    "duration": 147,
    "start_time": "2023-06-11T12:44:10.121Z"
   },
   {
    "duration": 311,
    "start_time": "2023-06-11T12:44:10.269Z"
   },
   {
    "duration": 347,
    "start_time": "2023-06-11T12:44:10.584Z"
   },
   {
    "duration": 416,
    "start_time": "2023-06-11T12:44:10.932Z"
   },
   {
    "duration": 13,
    "start_time": "2023-06-11T12:44:11.349Z"
   },
   {
    "duration": 28,
    "start_time": "2023-06-11T12:44:11.364Z"
   },
   {
    "duration": 44,
    "start_time": "2023-06-11T12:44:11.394Z"
   },
   {
    "duration": 10,
    "start_time": "2023-06-11T12:44:11.440Z"
   },
   {
    "duration": 559,
    "start_time": "2023-06-11T12:44:11.452Z"
   },
   {
    "duration": 494,
    "start_time": "2023-06-11T12:44:12.012Z"
   },
   {
    "duration": 6,
    "start_time": "2023-06-11T12:44:12.508Z"
   },
   {
    "duration": 23,
    "start_time": "2023-06-11T12:44:12.517Z"
   },
   {
    "duration": 5,
    "start_time": "2023-06-11T12:44:12.542Z"
   },
   {
    "duration": 22,
    "start_time": "2023-06-11T12:44:12.549Z"
   },
   {
    "duration": 6,
    "start_time": "2023-06-11T12:44:12.573Z"
   },
   {
    "duration": 170,
    "start_time": "2023-06-11T12:44:12.581Z"
   },
   {
    "duration": 5,
    "start_time": "2023-06-11T12:44:12.753Z"
   },
   {
    "duration": 13,
    "start_time": "2023-06-11T12:44:12.760Z"
   },
   {
    "duration": 35,
    "start_time": "2023-06-11T12:44:12.775Z"
   },
   {
    "duration": 11,
    "start_time": "2023-06-11T12:57:21.143Z"
   },
   {
    "duration": 12,
    "start_time": "2023-06-11T12:57:34.263Z"
   },
   {
    "duration": 16,
    "start_time": "2023-06-11T12:58:26.649Z"
   },
   {
    "duration": 18,
    "start_time": "2023-06-11T12:58:43.456Z"
   },
   {
    "duration": 14,
    "start_time": "2023-06-11T12:59:08.229Z"
   },
   {
    "duration": 9,
    "start_time": "2023-06-11T13:01:35.145Z"
   },
   {
    "duration": 10,
    "start_time": "2023-06-11T13:01:54.246Z"
   },
   {
    "duration": 7,
    "start_time": "2023-06-11T13:02:27.808Z"
   },
   {
    "duration": 3,
    "start_time": "2023-06-11T13:35:18.879Z"
   },
   {
    "duration": 191,
    "start_time": "2023-06-11T13:35:18.884Z"
   },
   {
    "duration": 76,
    "start_time": "2023-06-11T13:35:19.076Z"
   },
   {
    "duration": 41,
    "start_time": "2023-06-11T13:35:19.154Z"
   },
   {
    "duration": 17,
    "start_time": "2023-06-11T13:35:19.198Z"
   },
   {
    "duration": 53,
    "start_time": "2023-06-11T13:35:19.217Z"
   },
   {
    "duration": 9,
    "start_time": "2023-06-11T13:35:19.272Z"
   },
   {
    "duration": 91,
    "start_time": "2023-06-11T13:35:19.283Z"
   },
   {
    "duration": 23,
    "start_time": "2023-06-11T13:35:19.376Z"
   },
   {
    "duration": 309,
    "start_time": "2023-06-11T13:35:19.400Z"
   },
   {
    "duration": 245,
    "start_time": "2023-06-11T13:35:19.712Z"
   },
   {
    "duration": 551,
    "start_time": "2023-06-11T13:35:19.959Z"
   },
   {
    "duration": 418,
    "start_time": "2023-06-11T13:35:20.512Z"
   },
   {
    "duration": 349,
    "start_time": "2023-06-11T13:35:20.932Z"
   },
   {
    "duration": 29,
    "start_time": "2023-06-11T13:35:21.290Z"
   },
   {
    "duration": 43,
    "start_time": "2023-06-11T13:35:21.321Z"
   },
   {
    "duration": 59,
    "start_time": "2023-06-11T13:35:21.366Z"
   },
   {
    "duration": 47,
    "start_time": "2023-06-11T13:35:21.427Z"
   },
   {
    "duration": 662,
    "start_time": "2023-06-11T13:35:21.476Z"
   },
   {
    "duration": 597,
    "start_time": "2023-06-11T13:35:22.143Z"
   },
   {
    "duration": 11,
    "start_time": "2023-06-11T13:35:22.762Z"
   },
   {
    "duration": 92,
    "start_time": "2023-06-11T13:35:22.775Z"
   },
   {
    "duration": 9,
    "start_time": "2023-06-11T13:35:22.872Z"
   },
   {
    "duration": 66,
    "start_time": "2023-06-11T13:35:22.883Z"
   },
   {
    "duration": 16,
    "start_time": "2023-06-11T13:35:22.951Z"
   },
   {
    "duration": 285,
    "start_time": "2023-06-11T13:35:22.969Z"
   },
   {
    "duration": 10,
    "start_time": "2023-06-11T13:35:23.256Z"
   },
   {
    "duration": 6,
    "start_time": "2023-06-11T13:35:23.268Z"
   },
   {
    "duration": 15,
    "start_time": "2023-06-11T13:35:23.277Z"
   },
   {
    "duration": 1344,
    "start_time": "2023-06-11T14:15:54.469Z"
   },
   {
    "duration": 203,
    "start_time": "2023-06-11T14:15:55.815Z"
   },
   {
    "duration": 50,
    "start_time": "2023-06-11T14:15:56.021Z"
   },
   {
    "duration": 14,
    "start_time": "2023-06-11T14:15:56.072Z"
   },
   {
    "duration": 7,
    "start_time": "2023-06-11T14:15:56.090Z"
   },
   {
    "duration": 20,
    "start_time": "2023-06-11T14:15:56.099Z"
   },
   {
    "duration": 7,
    "start_time": "2023-06-11T14:15:56.122Z"
   },
   {
    "duration": 14,
    "start_time": "2023-06-11T14:15:56.130Z"
   },
   {
    "duration": 32,
    "start_time": "2023-06-11T14:15:56.146Z"
   },
   {
    "duration": 229,
    "start_time": "2023-06-11T14:15:56.181Z"
   },
   {
    "duration": 190,
    "start_time": "2023-06-11T14:15:56.412Z"
   },
   {
    "duration": 381,
    "start_time": "2023-06-11T14:15:56.604Z"
   },
   {
    "duration": 390,
    "start_time": "2023-06-11T14:15:56.986Z"
   },
   {
    "duration": 435,
    "start_time": "2023-06-11T14:15:57.379Z"
   },
   {
    "duration": 15,
    "start_time": "2023-06-11T14:15:57.816Z"
   },
   {
    "duration": 12,
    "start_time": "2023-06-11T14:15:57.833Z"
   },
   {
    "duration": 32,
    "start_time": "2023-06-11T14:15:57.847Z"
   },
   {
    "duration": 10,
    "start_time": "2023-06-11T14:15:57.881Z"
   },
   {
    "duration": 654,
    "start_time": "2023-06-11T14:15:57.893Z"
   },
   {
    "duration": 531,
    "start_time": "2023-06-11T14:15:58.549Z"
   },
   {
    "duration": 6,
    "start_time": "2023-06-11T14:15:59.082Z"
   },
   {
    "duration": 14,
    "start_time": "2023-06-11T14:15:59.090Z"
   },
   {
    "duration": 6,
    "start_time": "2023-06-11T14:15:59.106Z"
   },
   {
    "duration": 11,
    "start_time": "2023-06-11T14:15:59.114Z"
   },
   {
    "duration": 5,
    "start_time": "2023-06-11T14:15:59.126Z"
   },
   {
    "duration": 175,
    "start_time": "2023-06-11T14:15:59.133Z"
   },
   {
    "duration": 11,
    "start_time": "2023-06-11T14:15:59.310Z"
   },
   {
    "duration": 12,
    "start_time": "2023-06-11T14:15:59.323Z"
   },
   {
    "duration": 16,
    "start_time": "2023-06-11T14:15:59.337Z"
   },
   {
    "duration": 17,
    "start_time": "2023-06-11T14:20:06.801Z"
   },
   {
    "duration": 22,
    "start_time": "2023-06-11T14:20:21.773Z"
   },
   {
    "duration": 47,
    "start_time": "2023-06-11T16:27:35.371Z"
   },
   {
    "duration": 1386,
    "start_time": "2023-06-11T16:27:39.509Z"
   },
   {
    "duration": 201,
    "start_time": "2023-06-11T16:27:40.898Z"
   },
   {
    "duration": 50,
    "start_time": "2023-06-11T16:27:41.100Z"
   },
   {
    "duration": 13,
    "start_time": "2023-06-11T16:27:41.152Z"
   },
   {
    "duration": 5,
    "start_time": "2023-06-11T16:27:41.167Z"
   },
   {
    "duration": 16,
    "start_time": "2023-06-11T16:27:41.174Z"
   },
   {
    "duration": 7,
    "start_time": "2023-06-11T16:27:41.192Z"
   },
   {
    "duration": 40,
    "start_time": "2023-06-11T16:27:41.200Z"
   },
   {
    "duration": 23,
    "start_time": "2023-06-11T16:27:41.242Z"
   },
   {
    "duration": 257,
    "start_time": "2023-06-11T16:27:41.269Z"
   },
   {
    "duration": 140,
    "start_time": "2023-06-11T16:27:41.529Z"
   },
   {
    "duration": 378,
    "start_time": "2023-06-11T16:27:41.671Z"
   },
   {
    "duration": 424,
    "start_time": "2023-06-11T16:27:42.051Z"
   },
   {
    "duration": 385,
    "start_time": "2023-06-11T16:27:42.477Z"
   },
   {
    "duration": 17,
    "start_time": "2023-06-11T16:27:42.864Z"
   },
   {
    "duration": 20,
    "start_time": "2023-06-11T16:27:42.883Z"
   },
   {
    "duration": 33,
    "start_time": "2023-06-11T16:27:42.904Z"
   },
   {
    "duration": 29,
    "start_time": "2023-06-11T16:27:42.941Z"
   },
   {
    "duration": 91,
    "start_time": "2023-06-11T16:27:42.972Z"
   },
   {
    "duration": 586,
    "start_time": "2023-06-11T16:27:43.065Z"
   },
   {
    "duration": 608,
    "start_time": "2023-06-11T16:27:43.653Z"
   },
   {
    "duration": 5,
    "start_time": "2023-06-11T16:27:44.264Z"
   },
   {
    "duration": 25,
    "start_time": "2023-06-11T16:27:44.271Z"
   },
   {
    "duration": 6,
    "start_time": "2023-06-11T16:27:44.298Z"
   },
   {
    "duration": 31,
    "start_time": "2023-06-11T16:27:44.305Z"
   },
   {
    "duration": 18,
    "start_time": "2023-06-11T16:27:44.338Z"
   },
   {
    "duration": 166,
    "start_time": "2023-06-11T16:27:44.358Z"
   },
   {
    "duration": 11,
    "start_time": "2023-06-11T16:27:44.527Z"
   },
   {
    "duration": 37,
    "start_time": "2023-06-11T16:27:44.540Z"
   },
   {
    "duration": 25,
    "start_time": "2023-06-11T16:27:44.578Z"
   },
   {
    "duration": 45,
    "start_time": "2023-06-11T20:29:36.431Z"
   },
   {
    "duration": 1229,
    "start_time": "2023-06-11T20:29:42.210Z"
   },
   {
    "duration": 288,
    "start_time": "2023-06-11T20:29:43.442Z"
   },
   {
    "duration": 44,
    "start_time": "2023-06-11T20:29:43.731Z"
   },
   {
    "duration": 12,
    "start_time": "2023-06-11T20:29:43.776Z"
   },
   {
    "duration": 4,
    "start_time": "2023-06-11T20:29:43.790Z"
   },
   {
    "duration": 6,
    "start_time": "2023-06-11T20:29:43.796Z"
   },
   {
    "duration": 9,
    "start_time": "2023-06-11T20:29:43.803Z"
   },
   {
    "duration": 10,
    "start_time": "2023-06-11T20:29:43.814Z"
   },
   {
    "duration": 12,
    "start_time": "2023-06-11T20:29:43.826Z"
   },
   {
    "duration": 268,
    "start_time": "2023-06-11T20:29:43.840Z"
   },
   {
    "duration": 149,
    "start_time": "2023-06-11T20:29:44.110Z"
   },
   {
    "duration": 317,
    "start_time": "2023-06-11T20:29:44.260Z"
   },
   {
    "duration": 359,
    "start_time": "2023-06-11T20:29:44.578Z"
   },
   {
    "duration": 327,
    "start_time": "2023-06-11T20:29:44.940Z"
   },
   {
    "duration": 18,
    "start_time": "2023-06-11T20:29:45.268Z"
   },
   {
    "duration": 13,
    "start_time": "2023-06-11T20:29:45.288Z"
   },
   {
    "duration": 11,
    "start_time": "2023-06-11T20:29:45.302Z"
   },
   {
    "duration": 12,
    "start_time": "2023-06-11T20:29:45.315Z"
   },
   {
    "duration": 8,
    "start_time": "2023-06-11T20:29:45.329Z"
   },
   {
    "duration": 562,
    "start_time": "2023-06-11T20:29:45.339Z"
   },
   {
    "duration": 496,
    "start_time": "2023-06-11T20:29:45.903Z"
   },
   {
    "duration": 5,
    "start_time": "2023-06-11T20:29:46.400Z"
   },
   {
    "duration": 11,
    "start_time": "2023-06-11T20:29:46.407Z"
   },
   {
    "duration": 4,
    "start_time": "2023-06-11T20:29:46.420Z"
   },
   {
    "duration": 14,
    "start_time": "2023-06-11T20:29:46.426Z"
   },
   {
    "duration": 4,
    "start_time": "2023-06-11T20:29:46.442Z"
   },
   {
    "duration": 155,
    "start_time": "2023-06-11T20:29:46.447Z"
   },
   {
    "duration": 8,
    "start_time": "2023-06-11T20:29:46.604Z"
   },
   {
    "duration": 6,
    "start_time": "2023-06-11T20:29:46.613Z"
   },
   {
    "duration": 11,
    "start_time": "2023-06-11T20:29:46.621Z"
   },
   {
    "duration": 1191,
    "start_time": "2023-06-11T22:54:02.423Z"
   },
   {
    "duration": 196,
    "start_time": "2023-06-11T22:54:03.616Z"
   },
   {
    "duration": 41,
    "start_time": "2023-06-11T22:54:03.813Z"
   },
   {
    "duration": 11,
    "start_time": "2023-06-11T22:54:03.855Z"
   },
   {
    "duration": 5,
    "start_time": "2023-06-11T22:54:03.868Z"
   },
   {
    "duration": 6,
    "start_time": "2023-06-11T22:54:03.874Z"
   },
   {
    "duration": 13,
    "start_time": "2023-06-11T22:54:03.882Z"
   },
   {
    "duration": 17,
    "start_time": "2023-06-11T22:54:03.896Z"
   },
   {
    "duration": 10,
    "start_time": "2023-06-11T22:54:03.916Z"
   },
   {
    "duration": 192,
    "start_time": "2023-06-11T22:54:03.927Z"
   },
   {
    "duration": 123,
    "start_time": "2023-06-11T22:54:04.121Z"
   },
   {
    "duration": 306,
    "start_time": "2023-06-11T22:54:04.246Z"
   },
   {
    "duration": 301,
    "start_time": "2023-06-11T22:54:04.553Z"
   },
   {
    "duration": 308,
    "start_time": "2023-06-11T22:54:04.857Z"
   },
   {
    "duration": 16,
    "start_time": "2023-06-11T22:54:05.166Z"
   },
   {
    "duration": 38,
    "start_time": "2023-06-11T22:54:05.184Z"
   },
   {
    "duration": 39,
    "start_time": "2023-06-11T22:54:05.224Z"
   },
   {
    "duration": 28,
    "start_time": "2023-06-11T22:54:05.265Z"
   },
   {
    "duration": 16,
    "start_time": "2023-06-11T22:54:05.295Z"
   },
   {
    "duration": 502,
    "start_time": "2023-06-11T22:54:05.312Z"
   },
   {
    "duration": 462,
    "start_time": "2023-06-11T22:54:05.816Z"
   },
   {
    "duration": 5,
    "start_time": "2023-06-11T22:54:06.280Z"
   },
   {
    "duration": 20,
    "start_time": "2023-06-11T22:54:06.286Z"
   },
   {
    "duration": 15,
    "start_time": "2023-06-11T22:54:06.307Z"
   },
   {
    "duration": 25,
    "start_time": "2023-06-11T22:54:06.324Z"
   },
   {
    "duration": 18,
    "start_time": "2023-06-11T22:54:06.350Z"
   },
   {
    "duration": 150,
    "start_time": "2023-06-11T22:54:06.369Z"
   },
   {
    "duration": 9,
    "start_time": "2023-06-11T22:54:06.520Z"
   },
   {
    "duration": 6,
    "start_time": "2023-06-11T22:54:06.530Z"
   },
   {
    "duration": 20,
    "start_time": "2023-06-11T22:54:06.537Z"
   },
   {
    "duration": 15,
    "start_time": "2023-06-11T22:54:31.309Z"
   },
   {
    "duration": 161,
    "start_time": "2023-06-11T22:55:55.676Z"
   },
   {
    "duration": 1176,
    "start_time": "2023-06-12T07:16:40.202Z"
   },
   {
    "duration": 272,
    "start_time": "2023-06-12T07:16:41.380Z"
   },
   {
    "duration": 68,
    "start_time": "2023-06-12T07:16:41.655Z"
   },
   {
    "duration": 16,
    "start_time": "2023-06-12T07:16:41.725Z"
   },
   {
    "duration": 33,
    "start_time": "2023-06-12T07:16:41.743Z"
   },
   {
    "duration": 10,
    "start_time": "2023-06-12T07:16:41.777Z"
   },
   {
    "duration": 13,
    "start_time": "2023-06-12T07:16:41.789Z"
   },
   {
    "duration": 18,
    "start_time": "2023-06-12T07:16:41.804Z"
   },
   {
    "duration": 49,
    "start_time": "2023-06-12T07:16:41.823Z"
   },
   {
    "duration": 378,
    "start_time": "2023-06-12T07:16:41.876Z"
   },
   {
    "duration": 138,
    "start_time": "2023-06-12T07:16:42.256Z"
   },
   {
    "duration": 350,
    "start_time": "2023-06-12T07:16:42.395Z"
   },
   {
    "duration": 516,
    "start_time": "2023-06-12T07:16:42.748Z"
   },
   {
    "duration": 443,
    "start_time": "2023-06-12T07:16:43.266Z"
   },
   {
    "duration": 18,
    "start_time": "2023-06-12T07:16:43.711Z"
   },
   {
    "duration": 42,
    "start_time": "2023-06-12T07:16:43.731Z"
   },
   {
    "duration": 18,
    "start_time": "2023-06-12T07:16:43.775Z"
   },
   {
    "duration": 25,
    "start_time": "2023-06-12T07:16:43.795Z"
   },
   {
    "duration": 39,
    "start_time": "2023-06-12T07:16:43.822Z"
   },
   {
    "duration": 717,
    "start_time": "2023-06-12T07:16:43.864Z"
   },
   {
    "duration": 614,
    "start_time": "2023-06-12T07:16:44.583Z"
   },
   {
    "duration": 5,
    "start_time": "2023-06-12T07:16:45.201Z"
   },
   {
    "duration": 65,
    "start_time": "2023-06-12T07:16:45.208Z"
   },
   {
    "duration": 32,
    "start_time": "2023-06-12T07:16:45.276Z"
   },
   {
    "duration": 52,
    "start_time": "2023-06-12T07:16:45.310Z"
   },
   {
    "duration": 285,
    "start_time": "2023-06-12T07:16:45.367Z"
   },
   {
    "duration": 24,
    "start_time": "2023-06-12T07:16:45.655Z"
   },
   {
    "duration": 58,
    "start_time": "2023-06-12T07:16:45.684Z"
   },
   {
    "duration": 63,
    "start_time": "2023-06-12T07:16:45.744Z"
   },
   {
    "duration": 11,
    "start_time": "2023-06-12T07:19:29.203Z"
   },
   {
    "duration": 1211,
    "start_time": "2023-06-12T07:25:52.428Z"
   },
   {
    "duration": 67,
    "start_time": "2023-06-12T07:25:53.641Z"
   },
   {
    "duration": 65,
    "start_time": "2023-06-12T07:25:53.710Z"
   },
   {
    "duration": 38,
    "start_time": "2023-06-12T07:25:53.778Z"
   },
   {
    "duration": 6,
    "start_time": "2023-06-12T07:25:53.818Z"
   },
   {
    "duration": 17,
    "start_time": "2023-06-12T07:25:53.825Z"
   },
   {
    "duration": 12,
    "start_time": "2023-06-12T07:25:53.844Z"
   },
   {
    "duration": 14,
    "start_time": "2023-06-12T07:25:53.860Z"
   },
   {
    "duration": 12,
    "start_time": "2023-06-12T07:25:53.876Z"
   },
   {
    "duration": 443,
    "start_time": "2023-06-12T07:25:53.896Z"
   },
   {
    "duration": 131,
    "start_time": "2023-06-12T07:25:54.341Z"
   },
   {
    "duration": 338,
    "start_time": "2023-06-12T07:25:54.474Z"
   },
   {
    "duration": 333,
    "start_time": "2023-06-12T07:25:54.817Z"
   },
   {
    "duration": 447,
    "start_time": "2023-06-12T07:25:55.152Z"
   },
   {
    "duration": 22,
    "start_time": "2023-06-12T07:25:55.602Z"
   },
   {
    "duration": 28,
    "start_time": "2023-06-12T07:25:55.626Z"
   },
   {
    "duration": 17,
    "start_time": "2023-06-12T07:25:55.656Z"
   },
   {
    "duration": 17,
    "start_time": "2023-06-12T07:25:55.675Z"
   },
   {
    "duration": 30,
    "start_time": "2023-06-12T07:25:55.694Z"
   },
   {
    "duration": 589,
    "start_time": "2023-06-12T07:25:55.726Z"
   },
   {
    "duration": 504,
    "start_time": "2023-06-12T07:25:56.317Z"
   },
   {
    "duration": 6,
    "start_time": "2023-06-12T07:25:56.823Z"
   },
   {
    "duration": 24,
    "start_time": "2023-06-12T07:25:56.830Z"
   },
   {
    "duration": 9,
    "start_time": "2023-06-12T07:25:56.856Z"
   },
   {
    "duration": 17,
    "start_time": "2023-06-12T07:25:56.866Z"
   },
   {
    "duration": 162,
    "start_time": "2023-06-12T07:25:56.886Z"
   },
   {
    "duration": 11,
    "start_time": "2023-06-12T07:25:57.050Z"
   },
   {
    "duration": 8,
    "start_time": "2023-06-12T07:25:57.065Z"
   },
   {
    "duration": 42,
    "start_time": "2023-06-12T07:25:57.074Z"
   },
   {
    "duration": 1274,
    "start_time": "2023-06-12T11:26:36.578Z"
   },
   {
    "duration": 220,
    "start_time": "2023-06-12T11:26:37.854Z"
   },
   {
    "duration": 42,
    "start_time": "2023-06-12T11:26:38.075Z"
   },
   {
    "duration": 19,
    "start_time": "2023-06-12T11:26:38.118Z"
   },
   {
    "duration": 36,
    "start_time": "2023-06-12T11:26:38.142Z"
   },
   {
    "duration": 39,
    "start_time": "2023-06-12T11:26:38.180Z"
   },
   {
    "duration": 56,
    "start_time": "2023-06-12T11:26:38.220Z"
   },
   {
    "duration": 44,
    "start_time": "2023-06-12T11:26:38.278Z"
   },
   {
    "duration": 43,
    "start_time": "2023-06-12T11:26:38.326Z"
   },
   {
    "duration": 281,
    "start_time": "2023-06-12T11:26:38.372Z"
   },
   {
    "duration": 129,
    "start_time": "2023-06-12T11:26:38.654Z"
   },
   {
    "duration": 376,
    "start_time": "2023-06-12T11:26:38.785Z"
   },
   {
    "duration": 364,
    "start_time": "2023-06-12T11:26:39.162Z"
   },
   {
    "duration": 384,
    "start_time": "2023-06-12T11:26:39.527Z"
   },
   {
    "duration": 33,
    "start_time": "2023-06-12T11:26:39.913Z"
   },
   {
    "duration": 25,
    "start_time": "2023-06-12T11:26:39.947Z"
   },
   {
    "duration": 13,
    "start_time": "2023-06-12T11:26:39.973Z"
   },
   {
    "duration": 28,
    "start_time": "2023-06-12T11:26:39.987Z"
   },
   {
    "duration": 56,
    "start_time": "2023-06-12T11:26:40.017Z"
   },
   {
    "duration": 644,
    "start_time": "2023-06-12T11:26:40.075Z"
   },
   {
    "duration": 651,
    "start_time": "2023-06-12T11:26:40.727Z"
   },
   {
    "duration": 7,
    "start_time": "2023-06-12T11:26:41.379Z"
   },
   {
    "duration": 16,
    "start_time": "2023-06-12T11:26:41.388Z"
   },
   {
    "duration": 20,
    "start_time": "2023-06-12T11:26:41.405Z"
   },
   {
    "duration": 21,
    "start_time": "2023-06-12T11:26:41.432Z"
   },
   {
    "duration": 230,
    "start_time": "2023-06-12T11:26:41.454Z"
   },
   {
    "duration": 10,
    "start_time": "2023-06-12T11:26:41.686Z"
   },
   {
    "duration": 7,
    "start_time": "2023-06-12T11:26:41.698Z"
   },
   {
    "duration": 21,
    "start_time": "2023-06-12T11:26:41.725Z"
   },
   {
    "duration": 184,
    "start_time": "2023-06-12T11:28:37.103Z"
   },
   {
    "duration": 228,
    "start_time": "2023-06-12T11:28:45.047Z"
   },
   {
    "duration": 3,
    "start_time": "2023-06-12T11:28:48.613Z"
   },
   {
    "duration": 85,
    "start_time": "2023-06-12T11:28:48.618Z"
   },
   {
    "duration": 50,
    "start_time": "2023-06-12T11:28:48.705Z"
   },
   {
    "duration": 12,
    "start_time": "2023-06-12T11:28:48.756Z"
   },
   {
    "duration": 11,
    "start_time": "2023-06-12T11:28:48.770Z"
   },
   {
    "duration": 14,
    "start_time": "2023-06-12T11:28:48.783Z"
   },
   {
    "duration": 28,
    "start_time": "2023-06-12T11:28:48.798Z"
   },
   {
    "duration": 42,
    "start_time": "2023-06-12T11:28:48.827Z"
   },
   {
    "duration": 24,
    "start_time": "2023-06-12T11:28:48.871Z"
   },
   {
    "duration": 222,
    "start_time": "2023-06-12T11:28:48.897Z"
   },
   {
    "duration": 144,
    "start_time": "2023-06-12T11:28:49.126Z"
   },
   {
    "duration": 419,
    "start_time": "2023-06-12T11:28:49.272Z"
   },
   {
    "duration": 449,
    "start_time": "2023-06-12T11:28:49.694Z"
   },
   {
    "duration": 529,
    "start_time": "2023-06-12T11:28:50.144Z"
   },
   {
    "duration": 16,
    "start_time": "2023-06-12T11:28:50.675Z"
   },
   {
    "duration": 35,
    "start_time": "2023-06-12T11:28:50.693Z"
   },
   {
    "duration": 30,
    "start_time": "2023-06-12T11:28:50.729Z"
   },
   {
    "duration": 27,
    "start_time": "2023-06-12T11:28:50.760Z"
   },
   {
    "duration": 26,
    "start_time": "2023-06-12T11:28:50.789Z"
   },
   {
    "duration": 650,
    "start_time": "2023-06-12T11:28:50.817Z"
   },
   {
    "duration": 610,
    "start_time": "2023-06-12T11:28:51.469Z"
   },
   {
    "duration": 7,
    "start_time": "2023-06-12T11:28:52.082Z"
   },
   {
    "duration": 53,
    "start_time": "2023-06-12T11:28:52.092Z"
   },
   {
    "duration": 41,
    "start_time": "2023-06-12T11:28:52.151Z"
   },
   {
    "duration": 85,
    "start_time": "2023-06-12T11:28:52.193Z"
   },
   {
    "duration": 308,
    "start_time": "2023-06-12T11:28:52.280Z"
   },
   {
    "duration": 11,
    "start_time": "2023-06-12T11:28:52.590Z"
   },
   {
    "duration": 58,
    "start_time": "2023-06-12T11:28:52.603Z"
   },
   {
    "duration": 33,
    "start_time": "2023-06-12T11:28:52.664Z"
   },
   {
    "duration": 2664,
    "start_time": "2023-06-12T15:31:50.358Z"
   },
   {
    "duration": 1244,
    "start_time": "2023-06-12T15:31:53.025Z"
   },
   {
    "duration": 198,
    "start_time": "2023-06-12T15:31:54.271Z"
   },
   {
    "duration": 45,
    "start_time": "2023-06-12T15:31:54.472Z"
   },
   {
    "duration": 24,
    "start_time": "2023-06-12T15:31:54.519Z"
   },
   {
    "duration": 36,
    "start_time": "2023-06-12T15:31:54.549Z"
   },
   {
    "duration": 35,
    "start_time": "2023-06-12T15:31:54.589Z"
   },
   {
    "duration": 41,
    "start_time": "2023-06-12T15:31:54.636Z"
   },
   {
    "duration": 33,
    "start_time": "2023-06-12T15:31:54.686Z"
   },
   {
    "duration": 524,
    "start_time": "2023-06-12T15:31:54.733Z"
   },
   {
    "duration": 246,
    "start_time": "2023-06-12T15:31:55.274Z"
   },
   {
    "duration": 658,
    "start_time": "2023-06-12T15:31:55.522Z"
   },
   {
    "duration": 721,
    "start_time": "2023-06-12T15:31:56.193Z"
   },
   {
    "duration": 669,
    "start_time": "2023-06-12T15:31:56.922Z"
   },
   {
    "duration": 27,
    "start_time": "2023-06-12T15:31:57.598Z"
   },
   {
    "duration": 53,
    "start_time": "2023-06-12T15:31:57.634Z"
   },
   {
    "duration": 58,
    "start_time": "2023-06-12T15:31:57.699Z"
   },
   {
    "duration": 76,
    "start_time": "2023-06-12T15:31:57.762Z"
   },
   {
    "duration": 61,
    "start_time": "2023-06-12T15:31:57.854Z"
   },
   {
    "duration": 1026,
    "start_time": "2023-06-12T15:31:57.926Z"
   },
   {
    "duration": 1418,
    "start_time": "2023-06-12T15:31:58.955Z"
   },
   {
    "duration": 22,
    "start_time": "2023-06-12T15:32:00.394Z"
   },
   {
    "duration": 79,
    "start_time": "2023-06-12T15:32:00.434Z"
   },
   {
    "duration": 28,
    "start_time": "2023-06-12T15:32:00.528Z"
   },
   {
    "duration": 43,
    "start_time": "2023-06-12T15:32:00.568Z"
   },
   {
    "duration": 663,
    "start_time": "2023-06-12T15:32:00.619Z"
   },
   {
    "duration": 35,
    "start_time": "2023-06-12T15:32:01.290Z"
   },
   {
    "duration": 63,
    "start_time": "2023-06-12T15:32:01.344Z"
   },
   {
    "duration": 102,
    "start_time": "2023-06-12T15:32:01.423Z"
   },
   {
    "duration": 16,
    "start_time": "2023-06-12T15:33:24.221Z"
   }
  ],
  "kernelspec": {
   "display_name": "Python 3 (ipykernel)",
   "language": "python",
   "name": "python3"
  },
  "language_info": {
   "codemirror_mode": {
    "name": "ipython",
    "version": 3
   },
   "file_extension": ".py",
   "mimetype": "text/x-python",
   "name": "python",
   "nbconvert_exporter": "python",
   "pygments_lexer": "ipython3",
   "version": "3.9.5"
  },
  "toc": {
   "base_numbering": 1,
   "nav_menu": {},
   "number_sections": true,
   "sideBar": true,
   "skip_h1_title": true,
   "title_cell": "Table of Contents",
   "title_sidebar": "Contents",
   "toc_cell": false,
   "toc_position": {},
   "toc_section_display": true,
   "toc_window_display": false
  }
 },
 "nbformat": 4,
 "nbformat_minor": 5
}
