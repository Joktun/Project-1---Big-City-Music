{
 "cells": [
  {
   "cell_type": "markdown",
   "metadata": {
    "toc": true
   },
   "source": [
    "<h1>Содержание<span class=\"tocSkip\"></span></h1>\n",
    "<div class=\"toc\"><ul class=\"toc-item\"><li><span><a href=\"#Подготовка-данных\" data-toc-modified-id=\"Подготовка-данных-1\"><span class=\"toc-item-num\">1&nbsp;&nbsp;</span>Подготовка данных</a></span><ul class=\"toc-item\"><li><span><a href=\"#Вывод\" data-toc-modified-id=\"Вывод-1.1\"><span class=\"toc-item-num\">1.1&nbsp;&nbsp;</span>Вывод</a></span></li></ul></li><li><span><a href=\"#Исследование-задачи\" data-toc-modified-id=\"Исследование-задачи-2\"><span class=\"toc-item-num\">2&nbsp;&nbsp;</span>Исследование задачи</a></span><ul class=\"toc-item\"><li><span><a href=\"#Вывод\" data-toc-modified-id=\"Вывод-2.1\"><span class=\"toc-item-num\">2.1&nbsp;&nbsp;</span>Вывод</a></span></li></ul></li><li><span><a href=\"#Борьба-с-дисбалансом\" data-toc-modified-id=\"Борьба-с-дисбалансом-3\"><span class=\"toc-item-num\">3&nbsp;&nbsp;</span>Борьба с дисбалансом</a></span><ul class=\"toc-item\"><li><span><a href=\"#Вывод\" data-toc-modified-id=\"Вывод-3.1\"><span class=\"toc-item-num\">3.1&nbsp;&nbsp;</span>Вывод</a></span></li></ul></li><li><span><a href=\"#Тестирование-модели\" data-toc-modified-id=\"Тестирование-модели-4\"><span class=\"toc-item-num\">4&nbsp;&nbsp;</span>Тестирование модели</a></span><ul class=\"toc-item\"><li><span><a href=\"#Вывод\" data-toc-modified-id=\"Вывод-4.1\"><span class=\"toc-item-num\">4.1&nbsp;&nbsp;</span>Вывод</a></span></li></ul></li><li><span><a href=\"#Общий-вывод\" data-toc-modified-id=\"Общий-вывод-5\"><span class=\"toc-item-num\">5&nbsp;&nbsp;</span>Общий вывод</a></span></li><li><span><a href=\"#Чек-лист-готовности-проекта\" data-toc-modified-id=\"Чек-лист-готовности-проекта-6\"><span class=\"toc-item-num\">6&nbsp;&nbsp;</span>Чек-лист готовности проекта</a></span></li></ul></div>"
   ]
  },
  {
   "cell_type": "markdown",
   "metadata": {},
   "source": [
    "# Отток клиентов"
   ]
  },
  {
   "cell_type": "markdown",
   "metadata": {},
   "source": [
    "Из «Бета-Банка» стали уходить клиенты. Каждый месяц. Немного, но заметно. Банковские маркетологи посчитали: сохранять текущих клиентов дешевле, чем привлекать новых.\n",
    "\n",
    "Нужно спрогнозировать, уйдёт клиент из банка в ближайшее время или нет. Вам предоставлены исторические данные о поведении клиентов и расторжении договоров с банком. \n",
    "\n",
    "Постройте модель с предельно большим значением *F1*-меры. Чтобы сдать проект успешно, нужно довести метрику до 0.59. Проверьте *F1*-меру на тестовой выборке самостоятельно.\n",
    "\n",
    "Дополнительно измеряйте *AUC-ROC*, сравнивайте её значение с *F1*-мерой.\n",
    "\n",
    "Источник данных: [https://www.kaggle.com/barelydedicated/bank-customer-churn-modeling](https://www.kaggle.com/barelydedicated/bank-customer-churn-modeling)"
   ]
  },
  {
   "cell_type": "markdown",
   "metadata": {},
   "source": [
    "## Подготовка данных"
   ]
  },
  {
   "cell_type": "markdown",
   "metadata": {},
   "source": [
    "Добавляем нужные нам библиотеки"
   ]
  },
  {
   "cell_type": "code",
   "execution_count": 97,
   "metadata": {},
   "outputs": [],
   "source": [
    "import pandas as pd\n",
    "import numpy as np\n",
    "import matplotlib.pyplot as plt\n",
    "from sklearn.preprocessing import StandardScaler\n",
    "from sklearn.naive_bayes import GaussianNB\n",
    "from sklearn.tree import DecisionTreeClassifier\n",
    "from sklearn.ensemble import RandomForestClassifier\n",
    "from sklearn.neighbors import KNeighborsClassifier\n",
    "from sklearn.model_selection import train_test_split\n",
    "from sklearn.metrics import accuracy_score, f1_score, roc_auc_score, r2_score\n",
    "from sklearn.utils import shuffle\n",
    "from warnings import simplefilter"
   ]
  },
  {
   "cell_type": "markdown",
   "metadata": {},
   "source": [
    "Считываем csv-файл и сохраняем в датафрейм"
   ]
  },
  {
   "cell_type": "code",
   "execution_count": 64,
   "metadata": {},
   "outputs": [],
   "source": [
    "df = pd.read_csv('/datasets/Churn.csv', index_col='RowNumber')"
   ]
  },
  {
   "cell_type": "markdown",
   "metadata": {},
   "source": [
    "Выводим общую информацию о датафрейме"
   ]
  },
  {
   "cell_type": "code",
   "execution_count": 65,
   "metadata": {},
   "outputs": [
    {
     "name": "stdout",
     "output_type": "stream",
     "text": [
      "<class 'pandas.core.frame.DataFrame'>\n",
      "Int64Index: 10000 entries, 1 to 10000\n",
      "Data columns (total 13 columns):\n",
      " #   Column           Non-Null Count  Dtype  \n",
      "---  ------           --------------  -----  \n",
      " 0   CustomerId       10000 non-null  int64  \n",
      " 1   Surname          10000 non-null  object \n",
      " 2   CreditScore      10000 non-null  int64  \n",
      " 3   Geography        10000 non-null  object \n",
      " 4   Gender           10000 non-null  object \n",
      " 5   Age              10000 non-null  int64  \n",
      " 6   Tenure           9091 non-null   float64\n",
      " 7   Balance          10000 non-null  float64\n",
      " 8   NumOfProducts    10000 non-null  int64  \n",
      " 9   HasCrCard        10000 non-null  int64  \n",
      " 10  IsActiveMember   10000 non-null  int64  \n",
      " 11  EstimatedSalary  10000 non-null  float64\n",
      " 12  Exited           10000 non-null  int64  \n",
      "dtypes: float64(3), int64(7), object(3)\n",
      "memory usage: 1.1+ MB\n"
     ]
    }
   ],
   "source": [
    "df.info()"
   ]
  },
  {
   "cell_type": "code",
   "execution_count": 66,
   "metadata": {},
   "outputs": [
    {
     "data": {
      "text/html": [
       "<div>\n",
       "<style scoped>\n",
       "    .dataframe tbody tr th:only-of-type {\n",
       "        vertical-align: middle;\n",
       "    }\n",
       "\n",
       "    .dataframe tbody tr th {\n",
       "        vertical-align: top;\n",
       "    }\n",
       "\n",
       "    .dataframe thead th {\n",
       "        text-align: right;\n",
       "    }\n",
       "</style>\n",
       "<table border=\"1\" class=\"dataframe\">\n",
       "  <thead>\n",
       "    <tr style=\"text-align: right;\">\n",
       "      <th></th>\n",
       "      <th>CustomerId</th>\n",
       "      <th>CreditScore</th>\n",
       "      <th>Age</th>\n",
       "      <th>Tenure</th>\n",
       "      <th>Balance</th>\n",
       "      <th>NumOfProducts</th>\n",
       "      <th>HasCrCard</th>\n",
       "      <th>IsActiveMember</th>\n",
       "      <th>EstimatedSalary</th>\n",
       "      <th>Exited</th>\n",
       "    </tr>\n",
       "  </thead>\n",
       "  <tbody>\n",
       "    <tr>\n",
       "      <th>count</th>\n",
       "      <td>1.000000e+04</td>\n",
       "      <td>10000.000000</td>\n",
       "      <td>10000.000000</td>\n",
       "      <td>9091.000000</td>\n",
       "      <td>10000.000000</td>\n",
       "      <td>10000.000000</td>\n",
       "      <td>10000.00000</td>\n",
       "      <td>10000.000000</td>\n",
       "      <td>10000.000000</td>\n",
       "      <td>10000.000000</td>\n",
       "    </tr>\n",
       "    <tr>\n",
       "      <th>mean</th>\n",
       "      <td>1.569094e+07</td>\n",
       "      <td>650.528800</td>\n",
       "      <td>38.921800</td>\n",
       "      <td>4.997690</td>\n",
       "      <td>76485.889288</td>\n",
       "      <td>1.530200</td>\n",
       "      <td>0.70550</td>\n",
       "      <td>0.515100</td>\n",
       "      <td>100090.239881</td>\n",
       "      <td>0.203700</td>\n",
       "    </tr>\n",
       "    <tr>\n",
       "      <th>std</th>\n",
       "      <td>7.193619e+04</td>\n",
       "      <td>96.653299</td>\n",
       "      <td>10.487806</td>\n",
       "      <td>2.894723</td>\n",
       "      <td>62397.405202</td>\n",
       "      <td>0.581654</td>\n",
       "      <td>0.45584</td>\n",
       "      <td>0.499797</td>\n",
       "      <td>57510.492818</td>\n",
       "      <td>0.402769</td>\n",
       "    </tr>\n",
       "    <tr>\n",
       "      <th>min</th>\n",
       "      <td>1.556570e+07</td>\n",
       "      <td>350.000000</td>\n",
       "      <td>18.000000</td>\n",
       "      <td>0.000000</td>\n",
       "      <td>0.000000</td>\n",
       "      <td>1.000000</td>\n",
       "      <td>0.00000</td>\n",
       "      <td>0.000000</td>\n",
       "      <td>11.580000</td>\n",
       "      <td>0.000000</td>\n",
       "    </tr>\n",
       "    <tr>\n",
       "      <th>25%</th>\n",
       "      <td>1.562853e+07</td>\n",
       "      <td>584.000000</td>\n",
       "      <td>32.000000</td>\n",
       "      <td>2.000000</td>\n",
       "      <td>0.000000</td>\n",
       "      <td>1.000000</td>\n",
       "      <td>0.00000</td>\n",
       "      <td>0.000000</td>\n",
       "      <td>51002.110000</td>\n",
       "      <td>0.000000</td>\n",
       "    </tr>\n",
       "    <tr>\n",
       "      <th>50%</th>\n",
       "      <td>1.569074e+07</td>\n",
       "      <td>652.000000</td>\n",
       "      <td>37.000000</td>\n",
       "      <td>5.000000</td>\n",
       "      <td>97198.540000</td>\n",
       "      <td>1.000000</td>\n",
       "      <td>1.00000</td>\n",
       "      <td>1.000000</td>\n",
       "      <td>100193.915000</td>\n",
       "      <td>0.000000</td>\n",
       "    </tr>\n",
       "    <tr>\n",
       "      <th>75%</th>\n",
       "      <td>1.575323e+07</td>\n",
       "      <td>718.000000</td>\n",
       "      <td>44.000000</td>\n",
       "      <td>7.000000</td>\n",
       "      <td>127644.240000</td>\n",
       "      <td>2.000000</td>\n",
       "      <td>1.00000</td>\n",
       "      <td>1.000000</td>\n",
       "      <td>149388.247500</td>\n",
       "      <td>0.000000</td>\n",
       "    </tr>\n",
       "    <tr>\n",
       "      <th>max</th>\n",
       "      <td>1.581569e+07</td>\n",
       "      <td>850.000000</td>\n",
       "      <td>92.000000</td>\n",
       "      <td>10.000000</td>\n",
       "      <td>250898.090000</td>\n",
       "      <td>4.000000</td>\n",
       "      <td>1.00000</td>\n",
       "      <td>1.000000</td>\n",
       "      <td>199992.480000</td>\n",
       "      <td>1.000000</td>\n",
       "    </tr>\n",
       "  </tbody>\n",
       "</table>\n",
       "</div>"
      ],
      "text/plain": [
       "         CustomerId   CreditScore           Age       Tenure        Balance  \\\n",
       "count  1.000000e+04  10000.000000  10000.000000  9091.000000   10000.000000   \n",
       "mean   1.569094e+07    650.528800     38.921800     4.997690   76485.889288   \n",
       "std    7.193619e+04     96.653299     10.487806     2.894723   62397.405202   \n",
       "min    1.556570e+07    350.000000     18.000000     0.000000       0.000000   \n",
       "25%    1.562853e+07    584.000000     32.000000     2.000000       0.000000   \n",
       "50%    1.569074e+07    652.000000     37.000000     5.000000   97198.540000   \n",
       "75%    1.575323e+07    718.000000     44.000000     7.000000  127644.240000   \n",
       "max    1.581569e+07    850.000000     92.000000    10.000000  250898.090000   \n",
       "\n",
       "       NumOfProducts    HasCrCard  IsActiveMember  EstimatedSalary  \\\n",
       "count   10000.000000  10000.00000    10000.000000     10000.000000   \n",
       "mean        1.530200      0.70550        0.515100    100090.239881   \n",
       "std         0.581654      0.45584        0.499797     57510.492818   \n",
       "min         1.000000      0.00000        0.000000        11.580000   \n",
       "25%         1.000000      0.00000        0.000000     51002.110000   \n",
       "50%         1.000000      1.00000        1.000000    100193.915000   \n",
       "75%         2.000000      1.00000        1.000000    149388.247500   \n",
       "max         4.000000      1.00000        1.000000    199992.480000   \n",
       "\n",
       "             Exited  \n",
       "count  10000.000000  \n",
       "mean       0.203700  \n",
       "std        0.402769  \n",
       "min        0.000000  \n",
       "25%        0.000000  \n",
       "50%        0.000000  \n",
       "75%        0.000000  \n",
       "max        1.000000  "
      ]
     },
     "execution_count": 66,
     "metadata": {},
     "output_type": "execute_result"
    }
   ],
   "source": [
    "df.describe()"
   ]
  },
  {
   "cell_type": "markdown",
   "metadata": {},
   "source": [
    "Выводим сам датафрейм"
   ]
  },
  {
   "cell_type": "code",
   "execution_count": 67,
   "metadata": {},
   "outputs": [
    {
     "data": {
      "text/html": [
       "<div>\n",
       "<style scoped>\n",
       "    .dataframe tbody tr th:only-of-type {\n",
       "        vertical-align: middle;\n",
       "    }\n",
       "\n",
       "    .dataframe tbody tr th {\n",
       "        vertical-align: top;\n",
       "    }\n",
       "\n",
       "    .dataframe thead th {\n",
       "        text-align: right;\n",
       "    }\n",
       "</style>\n",
       "<table border=\"1\" class=\"dataframe\">\n",
       "  <thead>\n",
       "    <tr style=\"text-align: right;\">\n",
       "      <th></th>\n",
       "      <th>CustomerId</th>\n",
       "      <th>Surname</th>\n",
       "      <th>CreditScore</th>\n",
       "      <th>Geography</th>\n",
       "      <th>Gender</th>\n",
       "      <th>Age</th>\n",
       "      <th>Tenure</th>\n",
       "      <th>Balance</th>\n",
       "      <th>NumOfProducts</th>\n",
       "      <th>HasCrCard</th>\n",
       "      <th>IsActiveMember</th>\n",
       "      <th>EstimatedSalary</th>\n",
       "      <th>Exited</th>\n",
       "    </tr>\n",
       "    <tr>\n",
       "      <th>RowNumber</th>\n",
       "      <th></th>\n",
       "      <th></th>\n",
       "      <th></th>\n",
       "      <th></th>\n",
       "      <th></th>\n",
       "      <th></th>\n",
       "      <th></th>\n",
       "      <th></th>\n",
       "      <th></th>\n",
       "      <th></th>\n",
       "      <th></th>\n",
       "      <th></th>\n",
       "      <th></th>\n",
       "    </tr>\n",
       "  </thead>\n",
       "  <tbody>\n",
       "    <tr>\n",
       "      <th>1</th>\n",
       "      <td>15634602</td>\n",
       "      <td>Hargrave</td>\n",
       "      <td>619</td>\n",
       "      <td>France</td>\n",
       "      <td>Female</td>\n",
       "      <td>42</td>\n",
       "      <td>2.0</td>\n",
       "      <td>0.00</td>\n",
       "      <td>1</td>\n",
       "      <td>1</td>\n",
       "      <td>1</td>\n",
       "      <td>101348.88</td>\n",
       "      <td>1</td>\n",
       "    </tr>\n",
       "    <tr>\n",
       "      <th>2</th>\n",
       "      <td>15647311</td>\n",
       "      <td>Hill</td>\n",
       "      <td>608</td>\n",
       "      <td>Spain</td>\n",
       "      <td>Female</td>\n",
       "      <td>41</td>\n",
       "      <td>1.0</td>\n",
       "      <td>83807.86</td>\n",
       "      <td>1</td>\n",
       "      <td>0</td>\n",
       "      <td>1</td>\n",
       "      <td>112542.58</td>\n",
       "      <td>0</td>\n",
       "    </tr>\n",
       "    <tr>\n",
       "      <th>3</th>\n",
       "      <td>15619304</td>\n",
       "      <td>Onio</td>\n",
       "      <td>502</td>\n",
       "      <td>France</td>\n",
       "      <td>Female</td>\n",
       "      <td>42</td>\n",
       "      <td>8.0</td>\n",
       "      <td>159660.80</td>\n",
       "      <td>3</td>\n",
       "      <td>1</td>\n",
       "      <td>0</td>\n",
       "      <td>113931.57</td>\n",
       "      <td>1</td>\n",
       "    </tr>\n",
       "    <tr>\n",
       "      <th>4</th>\n",
       "      <td>15701354</td>\n",
       "      <td>Boni</td>\n",
       "      <td>699</td>\n",
       "      <td>France</td>\n",
       "      <td>Female</td>\n",
       "      <td>39</td>\n",
       "      <td>1.0</td>\n",
       "      <td>0.00</td>\n",
       "      <td>2</td>\n",
       "      <td>0</td>\n",
       "      <td>0</td>\n",
       "      <td>93826.63</td>\n",
       "      <td>0</td>\n",
       "    </tr>\n",
       "    <tr>\n",
       "      <th>5</th>\n",
       "      <td>15737888</td>\n",
       "      <td>Mitchell</td>\n",
       "      <td>850</td>\n",
       "      <td>Spain</td>\n",
       "      <td>Female</td>\n",
       "      <td>43</td>\n",
       "      <td>2.0</td>\n",
       "      <td>125510.82</td>\n",
       "      <td>1</td>\n",
       "      <td>1</td>\n",
       "      <td>1</td>\n",
       "      <td>79084.10</td>\n",
       "      <td>0</td>\n",
       "    </tr>\n",
       "    <tr>\n",
       "      <th>6</th>\n",
       "      <td>15574012</td>\n",
       "      <td>Chu</td>\n",
       "      <td>645</td>\n",
       "      <td>Spain</td>\n",
       "      <td>Male</td>\n",
       "      <td>44</td>\n",
       "      <td>8.0</td>\n",
       "      <td>113755.78</td>\n",
       "      <td>2</td>\n",
       "      <td>1</td>\n",
       "      <td>0</td>\n",
       "      <td>149756.71</td>\n",
       "      <td>1</td>\n",
       "    </tr>\n",
       "    <tr>\n",
       "      <th>7</th>\n",
       "      <td>15592531</td>\n",
       "      <td>Bartlett</td>\n",
       "      <td>822</td>\n",
       "      <td>France</td>\n",
       "      <td>Male</td>\n",
       "      <td>50</td>\n",
       "      <td>7.0</td>\n",
       "      <td>0.00</td>\n",
       "      <td>2</td>\n",
       "      <td>1</td>\n",
       "      <td>1</td>\n",
       "      <td>10062.80</td>\n",
       "      <td>0</td>\n",
       "    </tr>\n",
       "    <tr>\n",
       "      <th>8</th>\n",
       "      <td>15656148</td>\n",
       "      <td>Obinna</td>\n",
       "      <td>376</td>\n",
       "      <td>Germany</td>\n",
       "      <td>Female</td>\n",
       "      <td>29</td>\n",
       "      <td>4.0</td>\n",
       "      <td>115046.74</td>\n",
       "      <td>4</td>\n",
       "      <td>1</td>\n",
       "      <td>0</td>\n",
       "      <td>119346.88</td>\n",
       "      <td>1</td>\n",
       "    </tr>\n",
       "    <tr>\n",
       "      <th>9</th>\n",
       "      <td>15792365</td>\n",
       "      <td>He</td>\n",
       "      <td>501</td>\n",
       "      <td>France</td>\n",
       "      <td>Male</td>\n",
       "      <td>44</td>\n",
       "      <td>4.0</td>\n",
       "      <td>142051.07</td>\n",
       "      <td>2</td>\n",
       "      <td>0</td>\n",
       "      <td>1</td>\n",
       "      <td>74940.50</td>\n",
       "      <td>0</td>\n",
       "    </tr>\n",
       "    <tr>\n",
       "      <th>10</th>\n",
       "      <td>15592389</td>\n",
       "      <td>H?</td>\n",
       "      <td>684</td>\n",
       "      <td>France</td>\n",
       "      <td>Male</td>\n",
       "      <td>27</td>\n",
       "      <td>2.0</td>\n",
       "      <td>134603.88</td>\n",
       "      <td>1</td>\n",
       "      <td>1</td>\n",
       "      <td>1</td>\n",
       "      <td>71725.73</td>\n",
       "      <td>0</td>\n",
       "    </tr>\n",
       "  </tbody>\n",
       "</table>\n",
       "</div>"
      ],
      "text/plain": [
       "           CustomerId   Surname  CreditScore Geography  Gender  Age  Tenure  \\\n",
       "RowNumber                                                                     \n",
       "1            15634602  Hargrave          619    France  Female   42     2.0   \n",
       "2            15647311      Hill          608     Spain  Female   41     1.0   \n",
       "3            15619304      Onio          502    France  Female   42     8.0   \n",
       "4            15701354      Boni          699    France  Female   39     1.0   \n",
       "5            15737888  Mitchell          850     Spain  Female   43     2.0   \n",
       "6            15574012       Chu          645     Spain    Male   44     8.0   \n",
       "7            15592531  Bartlett          822    France    Male   50     7.0   \n",
       "8            15656148    Obinna          376   Germany  Female   29     4.0   \n",
       "9            15792365        He          501    France    Male   44     4.0   \n",
       "10           15592389        H?          684    France    Male   27     2.0   \n",
       "\n",
       "             Balance  NumOfProducts  HasCrCard  IsActiveMember  \\\n",
       "RowNumber                                                        \n",
       "1               0.00              1          1               1   \n",
       "2           83807.86              1          0               1   \n",
       "3          159660.80              3          1               0   \n",
       "4               0.00              2          0               0   \n",
       "5          125510.82              1          1               1   \n",
       "6          113755.78              2          1               0   \n",
       "7               0.00              2          1               1   \n",
       "8          115046.74              4          1               0   \n",
       "9          142051.07              2          0               1   \n",
       "10         134603.88              1          1               1   \n",
       "\n",
       "           EstimatedSalary  Exited  \n",
       "RowNumber                           \n",
       "1                101348.88       1  \n",
       "2                112542.58       0  \n",
       "3                113931.57       1  \n",
       "4                 93826.63       0  \n",
       "5                 79084.10       0  \n",
       "6                149756.71       1  \n",
       "7                 10062.80       0  \n",
       "8                119346.88       1  \n",
       "9                 74940.50       0  \n",
       "10                71725.73       0  "
      ]
     },
     "metadata": {},
     "output_type": "display_data"
    }
   ],
   "source": [
    "display(df.head(10))"
   ]
  },
  {
   "cell_type": "markdown",
   "metadata": {},
   "source": [
    "Приведем к нижнему регистру"
   ]
  },
  {
   "cell_type": "code",
   "execution_count": 68,
   "metadata": {},
   "outputs": [
    {
     "data": {
      "text/plain": [
       "Index(['customer_id', 'surname', 'credit_score', 'geography', 'gender', 'age',\n",
       "       'tenure', 'balance', 'num_of_products', 'has_crcard', 'isactive_member',\n",
       "       'estimated_salary', 'exited'],\n",
       "      dtype='object')"
      ]
     },
     "execution_count": 68,
     "metadata": {},
     "output_type": "execute_result"
    }
   ],
   "source": [
    "df.columns = df.columns.str.lower()\n",
    "df.columns = ['customer_id', 'surname', 'credit_score', 'geography','gender', 'age', 'tenure', 'balance', 'num_of_products', 'has_crcard','isactive_member', 'estimated_salary', 'exited']\n",
    "df.columns"
   ]
  },
  {
   "cell_type": "markdown",
   "metadata": {},
   "source": [
    "Ищем строки дубликаты"
   ]
  },
  {
   "cell_type": "code",
   "execution_count": 69,
   "metadata": {},
   "outputs": [
    {
     "data": {
      "text/plain": [
       "customer_id         0\n",
       "surname             0\n",
       "credit_score        0\n",
       "geography           0\n",
       "gender              0\n",
       "age                 0\n",
       "tenure              0\n",
       "balance             0\n",
       "num_of_products     0\n",
       "has_crcard          0\n",
       "isactive_member     0\n",
       "estimated_salary    0\n",
       "exited              0\n",
       "dtype: int64"
      ]
     },
     "execution_count": 69,
     "metadata": {},
     "output_type": "execute_result"
    }
   ],
   "source": [
    "duplicate_row = df[df.duplicated()].count()\n",
    "duplicate_row"
   ]
  },
  {
   "cell_type": "markdown",
   "metadata": {},
   "source": [
    "Cмотрим кол-во пропущенных значений по всем столбцам"
   ]
  },
  {
   "cell_type": "code",
   "execution_count": 70,
   "metadata": {},
   "outputs": [
    {
     "name": "stdout",
     "output_type": "stream",
     "text": [
      "customer_id           0\n",
      "surname               0\n",
      "credit_score          0\n",
      "geography             0\n",
      "gender                0\n",
      "age                   0\n",
      "tenure              909\n",
      "balance               0\n",
      "num_of_products       0\n",
      "has_crcard            0\n",
      "isactive_member       0\n",
      "estimated_salary      0\n",
      "exited                0\n",
      "dtype: int64\n"
     ]
    }
   ],
   "source": [
    "print(df.isna().sum())"
   ]
  },
  {
   "cell_type": "markdown",
   "metadata": {},
   "source": [
    "Пропущенные значения можно заполнить линейным методом интерполяции (их не очень много - чуть меньше 10%), тем не менее нельзя исключать вероятности, что в столбце записано кол-во полных лет и человек является клиентом меньше года - следовательно пропущенные значения могут быть нулем "
   ]
  },
  {
   "cell_type": "code",
   "execution_count": 71,
   "metadata": {},
   "outputs": [],
   "source": [
    "df['tenure'] = df['tenure'].interpolate(method = 'linear')"
   ]
  },
  {
   "cell_type": "markdown",
   "metadata": {},
   "source": [
    "Взглянем на распределение признаков"
   ]
  },
  {
   "cell_type": "code",
   "execution_count": 72,
   "metadata": {},
   "outputs": [
    {
     "data": {
      "image/png": "[encoded data removed]",
      "text/plain": [
       "<Figure size 1440x1440 with 12 Axes>"
      ]
     },
     "metadata": {
      "needs_background": "light"
     },
     "output_type": "display_data"
    }
   ],
   "source": [
    "df.hist(bins=30, figsize=(20,20), legend = True)\n",
    "plt.show()"
   ]
  },
  {
   "cell_type": "code",
   "execution_count": 73,
   "metadata": {},
   "outputs": [
    {
     "data": {
      "text/plain": [
       "<AxesSubplot:>"
      ]
     },
     "execution_count": 73,
     "metadata": {},
     "output_type": "execute_result"
    },
    {
     "data": {
      "image/png": "[encoded data removed]",
      "text/plain": [
       "<Figure size 1440x288 with 1 Axes>"
      ]
     },
     "metadata": {
      "needs_background": "light"
     },
     "output_type": "display_data"
    }
   ],
   "source": [
    "df['gender'].value_counts().plot(kind = 'bar', grid=True, figsize=(20,4), legend = True)"
   ]
  },
  {
   "cell_type": "code",
   "execution_count": 74,
   "metadata": {},
   "outputs": [
    {
     "data": {
      "text/plain": [
       "<AxesSubplot:>"
      ]
     },
     "execution_count": 74,
     "metadata": {},
     "output_type": "execute_result"
    },
    {
     "data": {
      "image/png": "[encoded data removed]",
      "text/plain": [
       "<Figure size 1440x288 with 1 Axes>"
      ]
     },
     "metadata": {
      "needs_background": "light"
     },
     "output_type": "display_data"
    }
   ],
   "source": [
    "df['geography'].value_counts().plot(kind = 'bar', grid=True, figsize=(20,4), legend = True)"
   ]
  },
  {
   "cell_type": "markdown",
   "metadata": {},
   "source": [
    "В данных не присутсвует каких-нибудь заметных выбросов. Распределение в столбце целевого признака exited 1:4 - это может повлиять на качество моделей. \n",
    "Столбцы gender и geography можно преобразовать с помощью OHE, т.к. в них не очень много категорий."
   ]
  },
  {
   "cell_type": "markdown",
   "metadata": {},
   "source": [
    "Удаляем признаки, которые не нужны для дальнейшей классификации"
   ]
  },
  {
   "cell_type": "code",
   "execution_count": 75,
   "metadata": {},
   "outputs": [],
   "source": [
    "df = df.drop(['customer_id', 'surname'], axis=1)"
   ]
  },
  {
   "cell_type": "markdown",
   "metadata": {},
   "source": [
    "Преобразовываем столбцы (drop_first=True удаляет лишние/избыточные данные) и смотрим что получилось"
   ]
  },
  {
   "cell_type": "code",
   "execution_count": 76,
   "metadata": {},
   "outputs": [
    {
     "name": "stdout",
     "output_type": "stream",
     "text": [
      "<class 'pandas.core.frame.DataFrame'>\n",
      "Int64Index: 10000 entries, 1 to 10000\n",
      "Data columns (total 12 columns):\n",
      " #   Column             Non-Null Count  Dtype  \n",
      "---  ------             --------------  -----  \n",
      " 0   credit_score       10000 non-null  int64  \n",
      " 1   age                10000 non-null  int64  \n",
      " 2   tenure             10000 non-null  float64\n",
      " 3   balance            10000 non-null  float64\n",
      " 4   num_of_products    10000 non-null  int64  \n",
      " 5   has_crcard         10000 non-null  int64  \n",
      " 6   isactive_member    10000 non-null  int64  \n",
      " 7   estimated_salary   10000 non-null  float64\n",
      " 8   exited             10000 non-null  int64  \n",
      " 9   geography_Germany  10000 non-null  uint8  \n",
      " 10  geography_Spain    10000 non-null  uint8  \n",
      " 11  gender_Male        10000 non-null  uint8  \n",
      "dtypes: float64(3), int64(6), uint8(3)\n",
      "memory usage: 810.5 KB\n",
      "None\n"
     ]
    },
    {
     "data": {
      "text/html": [
       "<div>\n",
       "<style scoped>\n",
       "    .dataframe tbody tr th:only-of-type {\n",
       "        vertical-align: middle;\n",
       "    }\n",
       "\n",
       "    .dataframe tbody tr th {\n",
       "        vertical-align: top;\n",
       "    }\n",
       "\n",
       "    .dataframe thead th {\n",
       "        text-align: right;\n",
       "    }\n",
       "</style>\n",
       "<table border=\"1\" class=\"dataframe\">\n",
       "  <thead>\n",
       "    <tr style=\"text-align: right;\">\n",
       "      <th></th>\n",
       "      <th>credit_score</th>\n",
       "      <th>age</th>\n",
       "      <th>tenure</th>\n",
       "      <th>balance</th>\n",
       "      <th>num_of_products</th>\n",
       "      <th>has_crcard</th>\n",
       "      <th>isactive_member</th>\n",
       "      <th>estimated_salary</th>\n",
       "      <th>exited</th>\n",
       "      <th>geography_Germany</th>\n",
       "      <th>geography_Spain</th>\n",
       "      <th>gender_Male</th>\n",
       "    </tr>\n",
       "    <tr>\n",
       "      <th>RowNumber</th>\n",
       "      <th></th>\n",
       "      <th></th>\n",
       "      <th></th>\n",
       "      <th></th>\n",
       "      <th></th>\n",
       "      <th></th>\n",
       "      <th></th>\n",
       "      <th></th>\n",
       "      <th></th>\n",
       "      <th></th>\n",
       "      <th></th>\n",
       "      <th></th>\n",
       "    </tr>\n",
       "  </thead>\n",
       "  <tbody>\n",
       "    <tr>\n",
       "      <th>1</th>\n",
       "      <td>619</td>\n",
       "      <td>42</td>\n",
       "      <td>2.0</td>\n",
       "      <td>0.00</td>\n",
       "      <td>1</td>\n",
       "      <td>1</td>\n",
       "      <td>1</td>\n",
       "      <td>101348.88</td>\n",
       "      <td>1</td>\n",
       "      <td>0</td>\n",
       "      <td>0</td>\n",
       "      <td>0</td>\n",
       "    </tr>\n",
       "    <tr>\n",
       "      <th>2</th>\n",
       "      <td>608</td>\n",
       "      <td>41</td>\n",
       "      <td>1.0</td>\n",
       "      <td>83807.86</td>\n",
       "      <td>1</td>\n",
       "      <td>0</td>\n",
       "      <td>1</td>\n",
       "      <td>112542.58</td>\n",
       "      <td>0</td>\n",
       "      <td>0</td>\n",
       "      <td>1</td>\n",
       "      <td>0</td>\n",
       "    </tr>\n",
       "    <tr>\n",
       "      <th>3</th>\n",
       "      <td>502</td>\n",
       "      <td>42</td>\n",
       "      <td>8.0</td>\n",
       "      <td>159660.80</td>\n",
       "      <td>3</td>\n",
       "      <td>1</td>\n",
       "      <td>0</td>\n",
       "      <td>113931.57</td>\n",
       "      <td>1</td>\n",
       "      <td>0</td>\n",
       "      <td>0</td>\n",
       "      <td>0</td>\n",
       "    </tr>\n",
       "    <tr>\n",
       "      <th>4</th>\n",
       "      <td>699</td>\n",
       "      <td>39</td>\n",
       "      <td>1.0</td>\n",
       "      <td>0.00</td>\n",
       "      <td>2</td>\n",
       "      <td>0</td>\n",
       "      <td>0</td>\n",
       "      <td>93826.63</td>\n",
       "      <td>0</td>\n",
       "      <td>0</td>\n",
       "      <td>0</td>\n",
       "      <td>0</td>\n",
       "    </tr>\n",
       "    <tr>\n",
       "      <th>5</th>\n",
       "      <td>850</td>\n",
       "      <td>43</td>\n",
       "      <td>2.0</td>\n",
       "      <td>125510.82</td>\n",
       "      <td>1</td>\n",
       "      <td>1</td>\n",
       "      <td>1</td>\n",
       "      <td>79084.10</td>\n",
       "      <td>0</td>\n",
       "      <td>0</td>\n",
       "      <td>1</td>\n",
       "      <td>0</td>\n",
       "    </tr>\n",
       "    <tr>\n",
       "      <th>...</th>\n",
       "      <td>...</td>\n",
       "      <td>...</td>\n",
       "      <td>...</td>\n",
       "      <td>...</td>\n",
       "      <td>...</td>\n",
       "      <td>...</td>\n",
       "      <td>...</td>\n",
       "      <td>...</td>\n",
       "      <td>...</td>\n",
       "      <td>...</td>\n",
       "      <td>...</td>\n",
       "      <td>...</td>\n",
       "    </tr>\n",
       "    <tr>\n",
       "      <th>9996</th>\n",
       "      <td>771</td>\n",
       "      <td>39</td>\n",
       "      <td>5.0</td>\n",
       "      <td>0.00</td>\n",
       "      <td>2</td>\n",
       "      <td>1</td>\n",
       "      <td>0</td>\n",
       "      <td>96270.64</td>\n",
       "      <td>0</td>\n",
       "      <td>0</td>\n",
       "      <td>0</td>\n",
       "      <td>1</td>\n",
       "    </tr>\n",
       "    <tr>\n",
       "      <th>9997</th>\n",
       "      <td>516</td>\n",
       "      <td>35</td>\n",
       "      <td>10.0</td>\n",
       "      <td>57369.61</td>\n",
       "      <td>1</td>\n",
       "      <td>1</td>\n",
       "      <td>1</td>\n",
       "      <td>101699.77</td>\n",
       "      <td>0</td>\n",
       "      <td>0</td>\n",
       "      <td>0</td>\n",
       "      <td>1</td>\n",
       "    </tr>\n",
       "    <tr>\n",
       "      <th>9998</th>\n",
       "      <td>709</td>\n",
       "      <td>36</td>\n",
       "      <td>7.0</td>\n",
       "      <td>0.00</td>\n",
       "      <td>1</td>\n",
       "      <td>0</td>\n",
       "      <td>1</td>\n",
       "      <td>42085.58</td>\n",
       "      <td>1</td>\n",
       "      <td>0</td>\n",
       "      <td>0</td>\n",
       "      <td>0</td>\n",
       "    </tr>\n",
       "    <tr>\n",
       "      <th>9999</th>\n",
       "      <td>772</td>\n",
       "      <td>42</td>\n",
       "      <td>3.0</td>\n",
       "      <td>75075.31</td>\n",
       "      <td>2</td>\n",
       "      <td>1</td>\n",
       "      <td>0</td>\n",
       "      <td>92888.52</td>\n",
       "      <td>1</td>\n",
       "      <td>1</td>\n",
       "      <td>0</td>\n",
       "      <td>1</td>\n",
       "    </tr>\n",
       "    <tr>\n",
       "      <th>10000</th>\n",
       "      <td>792</td>\n",
       "      <td>28</td>\n",
       "      <td>3.0</td>\n",
       "      <td>130142.79</td>\n",
       "      <td>1</td>\n",
       "      <td>1</td>\n",
       "      <td>0</td>\n",
       "      <td>38190.78</td>\n",
       "      <td>0</td>\n",
       "      <td>0</td>\n",
       "      <td>0</td>\n",
       "      <td>0</td>\n",
       "    </tr>\n",
       "  </tbody>\n",
       "</table>\n",
       "<p>10000 rows × 12 columns</p>\n",
       "</div>"
      ],
      "text/plain": [
       "           credit_score  age  tenure    balance  num_of_products  has_crcard  \\\n",
       "RowNumber                                                                      \n",
       "1                   619   42     2.0       0.00                1           1   \n",
       "2                   608   41     1.0   83807.86                1           0   \n",
       "3                   502   42     8.0  159660.80                3           1   \n",
       "4                   699   39     1.0       0.00                2           0   \n",
       "5                   850   43     2.0  125510.82                1           1   \n",
       "...                 ...  ...     ...        ...              ...         ...   \n",
       "9996                771   39     5.0       0.00                2           1   \n",
       "9997                516   35    10.0   57369.61                1           1   \n",
       "9998                709   36     7.0       0.00                1           0   \n",
       "9999                772   42     3.0   75075.31                2           1   \n",
       "10000               792   28     3.0  130142.79                1           1   \n",
       "\n",
       "           isactive_member  estimated_salary  exited  geography_Germany  \\\n",
       "RowNumber                                                                 \n",
       "1                        1         101348.88       1                  0   \n",
       "2                        1         112542.58       0                  0   \n",
       "3                        0         113931.57       1                  0   \n",
       "4                        0          93826.63       0                  0   \n",
       "5                        1          79084.10       0                  0   \n",
       "...                    ...               ...     ...                ...   \n",
       "9996                     0          96270.64       0                  0   \n",
       "9997                     1         101699.77       0                  0   \n",
       "9998                     1          42085.58       1                  0   \n",
       "9999                     0          92888.52       1                  1   \n",
       "10000                    0          38190.78       0                  0   \n",
       "\n",
       "           geography_Spain  gender_Male  \n",
       "RowNumber                                \n",
       "1                        0            0  \n",
       "2                        1            0  \n",
       "3                        0            0  \n",
       "4                        0            0  \n",
       "5                        1            0  \n",
       "...                    ...          ...  \n",
       "9996                     0            1  \n",
       "9997                     0            1  \n",
       "9998                     0            0  \n",
       "9999                     0            1  \n",
       "10000                    0            0  \n",
       "\n",
       "[10000 rows x 12 columns]"
      ]
     },
     "metadata": {},
     "output_type": "display_data"
    }
   ],
   "source": [
    "df = pd.get_dummies(df, drop_first=True)\n",
    "print(df.info())\n",
    "display(df)"
   ]
  },
  {
   "cell_type": "markdown",
   "metadata": {},
   "source": [
    "### Вывод\n",
    "- Данные загружены. \n",
    "- Дубликатов нет. \n",
    "- Названия столбцов приведены к нижнему регистру.\n",
    "- Признаки `row_number`, `customer_id` и `surname` удалены, так как целевой признак от них никак не зависит.\n",
    "- Были рассмотрены распределения признаков.\n",
    "- Числовые признаки приведены к стандартному виду\n",
    "- Категориальные признаки преобразованы методом OHE.\n",
    "- Целевой признак распределён в сооотношении 1:4\n",
    "- В признаке `tenure` заполнены пропущенные значения линейным методом интерполяции "
   ]
  },
  {
   "cell_type": "markdown",
   "metadata": {},
   "source": [
    "## Исследование задачи"
   ]
  },
  {
   "cell_type": "markdown",
   "metadata": {},
   "source": [
    "Делим данные на features и target"
   ]
  },
  {
   "cell_type": "code",
   "execution_count": 77,
   "metadata": {},
   "outputs": [],
   "source": [
    "features = df.drop('exited', axis=1)\n",
    "target = df['exited']"
   ]
  },
  {
   "cell_type": "markdown",
   "metadata": {},
   "source": [
    "Разбиваем данные на 3 выборки: обучающую, валидацию и тестовую. И проверяем сколько строк у нас в каждой."
   ]
  },
  {
   "cell_type": "code",
   "execution_count": 78,
   "metadata": {},
   "outputs": [
    {
     "name": "stdout",
     "output_type": "stream",
     "text": [
      "Кол-во строк в обучающей: 6000\n",
      "Кол-во строк в валидации: 2000\n",
      "Кол-во строк в тестовой: 2000\n"
     ]
    }
   ],
   "source": [
    "train, valid, test = np.split(df.sample(frac=1, random_state=12345), [int(.6*len(df)), int(.8*len(df))])\n",
    "print('Кол-во строк в обучающей:', train.shape[0])\n",
    "print('Кол-во строк в валидации:', valid.shape[0])\n",
    "print('Кол-во строк в тестовой:', test.shape[0])"
   ]
  },
  {
   "cell_type": "code",
   "execution_count": 79,
   "metadata": {},
   "outputs": [],
   "source": [
    "features_train = train.drop(['exited'], axis=1)\n",
    "target_train = train['exited']\n",
    "features_valid = valid.drop(['exited'], axis=1)\n",
    "target_valid = valid['exited']\n",
    "features_test = test.drop(['exited'], axis=1)\n",
    "target_test = test['exited']"
   ]
  },
  {
   "cell_type": "markdown",
   "metadata": {},
   "source": [
    "Масштабируем численные признаки"
   ]
  },
  {
   "cell_type": "code",
   "execution_count": 80,
   "metadata": {},
   "outputs": [],
   "source": [
    "numerics = ['credit_score', 'age', 'balance', 'estimated_salary']\n",
    "scaler = StandardScaler()\n",
    "df[numerics] = scaler.fit_transform(df[numerics])"
   ]
  },
  {
   "cell_type": "markdown",
   "metadata": {},
   "source": [
    "Написал эту строчку специально, чтобы не выскакивали FutureWarning."
   ]
  },
  {
   "cell_type": "code",
   "execution_count": 81,
   "metadata": {},
   "outputs": [],
   "source": [
    "simplefilter(action='ignore', category=FutureWarning)"
   ]
  },
  {
   "cell_type": "markdown",
   "metadata": {},
   "source": [
    "Согласно заданию попробуем обучить модели несмотря на дисбаланс в exited."
   ]
  },
  {
   "cell_type": "markdown",
   "metadata": {},
   "source": [
    "Исследуем модель метода наивного байесовского классификатора, проверяем на тестовой и на валидной выборках"
   ]
  },
  {
   "cell_type": "code",
   "execution_count": 98,
   "metadata": {},
   "outputs": [
    {
     "name": "stdout",
     "output_type": "stream",
     "text": [
      "f1_score модели метода наивного байесовского классификатора: 0.13698630136986303 AUC-ROC: 0.7286562371308134\n"
     ]
    }
   ],
   "source": [
    "model = GaussianNB()\n",
    "model.fit(features_train, target_train)\n",
    "predicted_valid = model.predict(features_valid)\n",
    "f1_metr = f1_score(target_valid, predicted_valid)\n",
    "probabilities_valid = model.predict_proba(features_valid)\n",
    "probabilities_one_valid = probabilities_valid[:, 1]\n",
    "auc = roc_auc_score(target_valid,probabilities_one_valid)\n",
    "print('f1_score модели метода наивного байесовского классификатора:', f1_metr, 'AUC-ROC:', auc)"
   ]
  },
  {
   "cell_type": "markdown",
   "metadata": {},
   "source": [
    "Исследуем модель метода k-ближайших соседей, проверяем на тестовой и на валидной выборках"
   ]
  },
  {
   "cell_type": "code",
   "execution_count": 82,
   "metadata": {},
   "outputs": [
    {
     "name": "stdout",
     "output_type": "stream",
     "text": [
      "f1_score наилучшей модели метода k-ближайших соседей на валидационной выборке: 0.23067484662576687 , Кол-во соседей: 1         AUC-ROC: 0.5169229321771694\n"
     ]
    }
   ],
   "source": [
    "best_model = None\n",
    "best_f1 = 0\n",
    "best_neighb = 0\n",
    "for neighb in range(1, 10):\n",
    "    model = KNeighborsClassifier(n_neighbors=neighb)\n",
    "    model.fit(features_train, target_train)\n",
    "    predicted_valid = model.predict(features_valid)\n",
    "    f1_metr = f1_score(target_valid, predicted_valid)\n",
    "    probabilities_valid = model.predict_proba(features_valid)\n",
    "    probabilities_one_valid = probabilities_valid[:, 1]\n",
    "    auc_roc = roc_auc_score(target_valid,probabilities_one_valid)\n",
    "    if f1_metr > best_f1:\n",
    "        best_model = model\n",
    "        best_neighb = neighb\n",
    "        best_f1 = f1_metr\n",
    "        auc = auc_roc\n",
    "print('f1_score наилучшей модели метода k-ближайших соседей на валидационной выборке:', best_f1, \", Кол-во соседей:\", best_neighb, \n",
    "      '        AUC-ROC:', auc)"
   ]
  },
  {
   "cell_type": "markdown",
   "metadata": {},
   "source": [
    "Исследуем модель классификатора дерева решений, проверяем на тестовой и на валидной выборках"
   ]
  },
  {
   "cell_type": "code",
   "execution_count": 83,
   "metadata": {},
   "outputs": [
    {
     "name": "stdout",
     "output_type": "stream",
     "text": [
      "f1_score наилучшей модели классификатора дерева решений на валидационной выборке: 0.5379939209726443 , Глубина: 7              AUC-ROC: 0.8047477369511267\n"
     ]
    }
   ],
   "source": [
    "best_model = None\n",
    "best_f1 = 0\n",
    "best_depth = 0\n",
    "for depth in range(1, 10):\n",
    "    model = DecisionTreeClassifier(random_state=12345,max_depth=depth)\n",
    "    model.fit(features_train, target_train)\n",
    "    predicted_valid = model.predict(features_valid) \n",
    "    f1_metr = f1_score(target_valid, predicted_valid)\n",
    "    probabilities_valid = model.predict_proba(features_valid)\n",
    "    probabilities_one_valid = probabilities_valid[:, 1]\n",
    "    auc_roc = roc_auc_score(target_valid,probabilities_one_valid)\n",
    "    if f1_metr > best_f1:\n",
    "        best_model = model\n",
    "        best_f1 = f1_metr\n",
    "        best_depth = depth\n",
    "        auc = auc_roc\n",
    "print('f1_score наилучшей модели классификатора дерева решений на валидационной выборке:', best_f1, \", Глубина:\", best_depth, \n",
    "      '             AUC-ROC:', auc)"
   ]
  },
  {
   "cell_type": "markdown",
   "metadata": {},
   "source": [
    "Исследуем модель классификатора случайного леса, проверяем на обучающей и на валидной выборках"
   ]
  },
  {
   "cell_type": "code",
   "execution_count": 84,
   "metadata": {},
   "outputs": [
    {
     "name": "stdout",
     "output_type": "stream",
     "text": [
      "f1_score наилучшей модели классификатора случайного леса на валидационной выборке: 0.5466034755134281 , Глубина: 13 , Деревья: 50     AUC-ROC: 0.8302385590521184\n"
     ]
    }
   ],
   "source": [
    "best_model = None\n",
    "best_f1 = 0\n",
    "best_depth = 0\n",
    "best_est = 0\n",
    "for est in range(10, 101, 10):\n",
    "    for depth in range (1, 20):\n",
    "        model = RandomForestClassifier(random_state=12345, n_estimators=est, max_depth=depth)\n",
    "        model.fit(features_train,target_train)\n",
    "        predicted_valid = model.predict(features_valid)\n",
    "        f1_metr = f1_score(target_valid, predicted_valid)\n",
    "        probabilities_valid = model.predict_proba(features_valid)\n",
    "        probabilities_one_valid = probabilities_valid[:, 1]\n",
    "        auc_roc = roc_auc_score(target_valid,probabilities_one_valid)\n",
    "        if f1_metr > best_f1:\n",
    "            best_model = model\n",
    "            best_f1 = f1_metr\n",
    "            best_est = est\n",
    "            best_depth = depth\n",
    "            auc = auc_roc\n",
    "print('f1_score наилучшей модели классификатора случайного леса на валидационной выборке:', best_f1, \", Глубина:\", best_depth, ', Деревья:', best_est, \n",
    "      '    AUC-ROC:', auc)"
   ]
  },
  {
   "cell_type": "markdown",
   "metadata": {},
   "source": [
    "### Вывод\n",
    "- Исходные данные разделены на обучающую, валидационную и тестовую выборки в соотношении 3:1:1\n",
    "- Числовые признаки были промасштабированы.\n",
    "- Обучены модели \"Решающее Дерево\", \"Случайный лес\", \"k-ближайших соседей\" без учёта дисбаланса классов. Максимальное значение метрики `f1` = 0.55 получено при обучении модели случайного леса. Модель не удовлетворяет условию задания.\n",
    "- Качество моделей также оценено по метрике `roc_auc`. Максимальное значение метрики `roc_auc` = 0.83 достигнуто при обучении модели случайного леса."
   ]
  },
  {
   "cell_type": "markdown",
   "metadata": {},
   "source": [
    "## Борьба с дисбалансом"
   ]
  },
  {
   "cell_type": "markdown",
   "metadata": {},
   "source": [
    "Для того, чтобы убрать дисбаланс в 1:4 d exited - попробуем сначала class_weight = 'balanced'"
   ]
  },
  {
   "cell_type": "markdown",
   "metadata": {},
   "source": [
    "Исследуем модель классификатора дерева решений, проверяем на тестовой и на валидной выборках с использованием class_weight = 'balanced'"
   ]
  },
  {
   "cell_type": "code",
   "execution_count": 85,
   "metadata": {},
   "outputs": [
    {
     "name": "stdout",
     "output_type": "stream",
     "text": [
      "f1_score наилучшей модели классификатора дерева решений на валидационной выборке: 0.5418994413407822 , Глубина: 8              AUC-ROC: 0.7928822505093691\n"
     ]
    }
   ],
   "source": [
    "best_model = None\n",
    "best_f1 = 0\n",
    "best_depth = 0\n",
    "for depth in range(1, 10):\n",
    "    model = DecisionTreeClassifier(random_state=12345,max_depth=depth, class_weight = 'balanced')\n",
    "    model.fit(features_train, target_train)\n",
    "    predicted_valid = model.predict(features_valid) \n",
    "    f1_metr = f1_score(target_valid, predicted_valid)\n",
    "    probabilities_valid = model.predict_proba(features_valid)\n",
    "    probabilities_one_valid = probabilities_valid[:, 1]\n",
    "    auc_roc = roc_auc_score(target_valid,probabilities_one_valid)\n",
    "    if f1_metr > best_f1:\n",
    "        best_model = model\n",
    "        best_f1 = f1_metr\n",
    "        best_depth = depth\n",
    "        auc = auc_roc\n",
    "print('f1_score наилучшей модели классификатора дерева решений на валидационной выборке:', best_f1, \", Глубина:\", best_depth, \n",
    "      '             AUC-ROC:', auc)"
   ]
  },
  {
   "cell_type": "markdown",
   "metadata": {},
   "source": [
    "Исследуем модель классификатора случайного леса, проверяем на обучающей и на валидной выборках с использованием class_weight = 'balanced'"
   ]
  },
  {
   "cell_type": "code",
   "execution_count": 86,
   "metadata": {},
   "outputs": [
    {
     "name": "stdout",
     "output_type": "stream",
     "text": [
      "f1_score наилучшей модели классификатора случайного леса на валидационной выборке: 0.6039119804400979 , Глубина: 10 , Деревья: 100     AUC-ROC: 0.8398460093375348\n"
     ]
    }
   ],
   "source": [
    "best_model = None\n",
    "best_f1 = 0\n",
    "best_depth = 0\n",
    "best_est = 0\n",
    "for est in range(10, 101, 10):\n",
    "    for depth in range (1, 20):\n",
    "        model = RandomForestClassifier(random_state=12345, n_estimators=est, max_depth=depth, class_weight = 'balanced')\n",
    "        model.fit(features_train,target_train)\n",
    "        predicted_valid = model.predict(features_valid)\n",
    "        f1_metr = f1_score(target_valid, predicted_valid)\n",
    "        probabilities_valid = model.predict_proba(features_valid)\n",
    "        probabilities_one_valid = probabilities_valid[:, 1]\n",
    "        auc_roc = roc_auc_score(target_valid,probabilities_one_valid)\n",
    "        if f1_metr > best_f1:\n",
    "            best_model = model\n",
    "            best_f1 = f1_metr\n",
    "            best_est = est\n",
    "            best_depth = depth\n",
    "            auc = auc_roc\n",
    "print('f1_score наилучшей модели классификатора случайного леса на валидационной выборке:', best_f1, \", Глубина:\", best_depth, ', Деревья:', best_est, \n",
    "      '    AUC-ROC:', auc)"
   ]
  },
  {
   "cell_type": "markdown",
   "metadata": {},
   "source": [
    "Модель случайного леса добилась нужного нам результата всего лишь с помощью class_weight = 'balanced' - проверим на тестовой выборке (в следующей главе)! СПОЙЛЕР: она прошла тестовую выборку. Но так как это не очень интересно, то попробуем улучшить результат еще лучше, и заодно попробуем довести другие модели до успеха (если получится)."
   ]
  },
  {
   "cell_type": "markdown",
   "metadata": {},
   "source": [
    "Создадим функции для увеличения и уменьшения выборок, и сразу же применим их"
   ]
  },
  {
   "cell_type": "code",
   "execution_count": 87,
   "metadata": {},
   "outputs": [],
   "source": [
    "def upsample(features, target, repeat):\n",
    "    features_zeros = features[target == 0]\n",
    "    features_ones = features[target == 1]\n",
    "    target_zeros = target[target == 0]\n",
    "    target_ones = target[target == 1]\n",
    "\n",
    "    features_upsampled = pd.concat([features_zeros] + [features_ones] * repeat)\n",
    "    target_upsampled = pd.concat([target_zeros] + [target_ones] * repeat)\n",
    "    \n",
    "    features_upsampled, target_upsampled = shuffle(\n",
    "        features_upsampled, target_upsampled, random_state=12345)\n",
    "    \n",
    "    return features_upsampled, target_upsampled\n",
    "\n",
    "features_upsampled, target_upsampled = upsample(features_train, target_train, 4)"
   ]
  },
  {
   "cell_type": "code",
   "execution_count": 88,
   "metadata": {},
   "outputs": [],
   "source": [
    "def downsample(features, target, fraction):\n",
    "    features_zeros = features[target == 0]\n",
    "    features_ones = features[target == 1]\n",
    "    target_zeros = target[target == 0]\n",
    "    target_ones = target[target == 1]\n",
    "\n",
    "    features_downsampled = pd.concat(\n",
    "        [features_zeros.sample(frac=fraction, random_state=12345)] + [features_ones])\n",
    "    target_downsampled = pd.concat(\n",
    "        [target_zeros.sample(frac=fraction, random_state=12345)] + [target_ones])\n",
    "    \n",
    "    features_downsampled, target_downsampled = shuffle(\n",
    "        features_downsampled, target_downsampled, random_state=12345)\n",
    "    \n",
    "    return features_downsampled, target_downsampled\n",
    "\n",
    "features_downsampled, target_downsampled = downsample(features_train, target_train, 0.25)"
   ]
  },
  {
   "cell_type": "markdown",
   "metadata": {},
   "source": [
    "Я применяю class_weight = 'balanced' и сбалансированные выборки вместе. Да, они нужны для достижения одной и той же цели, но делают это по-разному, поэтому в некоторых случаях это может дать более точный результат."
   ]
  },
  {
   "cell_type": "markdown",
   "metadata": {},
   "source": [
    "Теперь попробуем обучить модель k-ближайших соседей (учитывая, что class_weight у нее нет) на upsample"
   ]
  },
  {
   "cell_type": "code",
   "execution_count": 89,
   "metadata": {},
   "outputs": [
    {
     "name": "stdout",
     "output_type": "stream",
     "text": [
      "f1_score наилучшей модели метода k-ближайших соседей на валидационной выборке с upsample: 0.30414746543778803 Кол-во соседей: 7         AUC-ROC: 0.5198989436277572\n"
     ]
    }
   ],
   "source": [
    "best_model = None\n",
    "best_f1 = 0\n",
    "best_neighb = 0\n",
    "for neighb in range(1, 10):\n",
    "    model = KNeighborsClassifier(n_neighbors=neighb)\n",
    "    model.fit(features_upsampled, target_upsampled)\n",
    "    predicted_valid = model.predict(features_valid)\n",
    "    f1_metr = f1_score(target_valid, predicted_valid)\n",
    "    probabilities_valid = model.predict_proba(features_valid)\n",
    "    probabilities_one_valid = probabilities_valid[:, 1]\n",
    "    auc_roc = roc_auc_score(target_valid,probabilities_one_valid)\n",
    "    if f1_metr > best_f1:\n",
    "        best_model = model\n",
    "        best_neighb = neighb\n",
    "        best_f1 = f1_metr\n",
    "        auc = auc_roc\n",
    "print('f1_score наилучшей модели метода k-ближайших соседей на валидационной выборке с upsample:',best_f1, \"Кол-во соседей:\", best_neighb, \n",
    "      '        AUC-ROC:', auc)"
   ]
  },
  {
   "cell_type": "markdown",
   "metadata": {},
   "source": [
    "Теперь попробуем обучить модель k-ближайших соседей (учитывая, что class_weight у нее нет) на downsample"
   ]
  },
  {
   "cell_type": "code",
   "execution_count": 90,
   "metadata": {},
   "outputs": [
    {
     "name": "stdout",
     "output_type": "stream",
     "text": [
      "f1_score наилучшей модели метода k-ближайших соседей на валидационной выборке с downsampl: 0.3229166666666667 Кол-во соседей: 7         AUC-ROC: 0.5504317877199233\n"
     ]
    }
   ],
   "source": [
    "best_model = None\n",
    "best_f1 = 0\n",
    "best_neighb = 0\n",
    "for neighb in range(1, 10):\n",
    "    model = KNeighborsClassifier(n_neighbors=neighb)\n",
    "    model.fit(features_downsampled, target_downsampled)\n",
    "    predicted_valid = model.predict(features_valid)\n",
    "    f1_metr = f1_score(target_valid, predicted_valid)\n",
    "    probabilities_valid = model.predict_proba(features_valid)\n",
    "    probabilities_one_valid = probabilities_valid[:, 1]\n",
    "    auc_roc = roc_auc_score(target_valid,probabilities_one_valid)\n",
    "    if f1_metr > best_f1:\n",
    "        best_model = model\n",
    "        best_neighb = neighb\n",
    "        best_f1 = f1_metr\n",
    "        auc = auc_roc\n",
    "print('f1_score наилучшей модели метода k-ближайших соседей на валидационной выборке с downsampl:',best_f1, \"Кол-во соседей:\", best_neighb, \n",
    "      '        AUC-ROC:', auc)"
   ]
  },
  {
   "cell_type": "markdown",
   "metadata": {},
   "source": [
    "Стало слегка лучше, но этого все еще не достаточно. Видимо метод k-ближайших соседей просто не подходит для решения наших задач."
   ]
  },
  {
   "cell_type": "markdown",
   "metadata": {},
   "source": [
    "Попробуем с деревом решений."
   ]
  },
  {
   "cell_type": "code",
   "execution_count": 91,
   "metadata": {},
   "outputs": [
    {
     "name": "stdout",
     "output_type": "stream",
     "text": [
      "f1_score наилучшей модели классификатора дерева решений на валидационной выборке с downsampl: 0.5456521739130434 , Глубина: 4              AUC-ROC: 0.7966032288066186\n"
     ]
    }
   ],
   "source": [
    "best_model = None\n",
    "best_f1 = 0\n",
    "best_depth = 0\n",
    "for depth in range(1, 10):\n",
    "    model = DecisionTreeClassifier(random_state=12345,max_depth=depth, class_weight = 'balanced')\n",
    "    model.fit(features_downsampled, target_downsampled)\n",
    "    predicted_valid = model.predict(features_valid) \n",
    "    f1_metr = f1_score(target_valid, predicted_valid)\n",
    "    probabilities_valid = model.predict_proba(features_valid)\n",
    "    probabilities_one_valid = probabilities_valid[:, 1]\n",
    "    auc_roc = roc_auc_score(target_valid,probabilities_one_valid)\n",
    "    if f1_metr > best_f1:\n",
    "        best_model = model\n",
    "        best_f1 = f1_metr\n",
    "        best_depth = depth\n",
    "        auc = auc_roc\n",
    "print('f1_score наилучшей модели классификатора дерева решений на валидационной выборке с downsampl:', best_f1, \", Глубина:\", best_depth, \n",
    "      '             AUC-ROC:', auc)"
   ]
  },
  {
   "cell_type": "code",
   "execution_count": 92,
   "metadata": {},
   "outputs": [
    {
     "name": "stdout",
     "output_type": "stream",
     "text": [
      "f1_score наилучшей модели классификатора дерева решений на валидационной выборке с upsample: 0.5424044734389561 , Глубина: 8              AUC-ROC: 0.7946390149779982\n"
     ]
    }
   ],
   "source": [
    "best_model = None\n",
    "best_f1 = 0\n",
    "best_depth = 0\n",
    "for depth in range(1, 10):\n",
    "    model = DecisionTreeClassifier(random_state=12345,max_depth=depth, class_weight = 'balanced')\n",
    "    model.fit(features_upsampled, target_upsampled)\n",
    "    predicted_valid = model.predict(features_valid) \n",
    "    f1_metr = f1_score(target_valid, predicted_valid)\n",
    "    probabilities_valid = model.predict_proba(features_valid)\n",
    "    probabilities_one_valid = probabilities_valid[:, 1]\n",
    "    auc_roc = roc_auc_score(target_valid,probabilities_one_valid)\n",
    "    if f1_metr > best_f1:\n",
    "        best_model = model\n",
    "        best_f1 = f1_metr\n",
    "        best_depth = depth\n",
    "        auc = auc_roc\n",
    "print('f1_score наилучшей модели классификатора дерева решений на валидационной выборке с upsample:', best_f1, \", Глубина:\", best_depth, \n",
    "      '             AUC-ROC:', auc)"
   ]
  },
  {
   "cell_type": "markdown",
   "metadata": {},
   "source": [
    "Ему тоже не особо помогло."
   ]
  },
  {
   "cell_type": "markdown",
   "metadata": {},
   "source": [
    "Теперь пришло время для случайного леса."
   ]
  },
  {
   "cell_type": "code",
   "execution_count": 93,
   "metadata": {},
   "outputs": [
    {
     "name": "stdout",
     "output_type": "stream",
     "text": [
      "f1_score наилучшей модели классификатора случайного леса на валидационной выборке с upsample: 0.6026785714285715 , Глубина: 10 , Деревья: 40     AUC-ROC: 0.834799360223089\n"
     ]
    }
   ],
   "source": [
    "best_model = None\n",
    "best_f1 = 0\n",
    "best_depth = 0\n",
    "best_est = 0\n",
    "for est in range(10, 101, 10):\n",
    "    for depth in range (1, 20):\n",
    "        model = RandomForestClassifier(random_state=12345, n_estimators=est, max_depth=depth, class_weight = 'balanced')\n",
    "        model.fit(features_upsampled, target_upsampled)\n",
    "        predicted_valid = model.predict(features_valid)\n",
    "        f1_metr = f1_score(target_valid, predicted_valid)\n",
    "        probabilities_valid = model.predict_proba(features_valid)\n",
    "        probabilities_one_valid = probabilities_valid[:, 1]\n",
    "        auc_roc = roc_auc_score(target_valid,probabilities_one_valid)\n",
    "        if f1_metr > best_f1:\n",
    "            best_model = model\n",
    "            best_f1 = f1_metr\n",
    "            best_est = est\n",
    "            best_depth = depth\n",
    "            auc = auc_roc\n",
    "print('f1_score наилучшей модели классификатора случайного леса на валидационной выборке с upsample:', best_f1, \", Глубина:\", best_depth, ', Деревья:', best_est, \n",
    "      '    AUC-ROC:', auc)"
   ]
  },
  {
   "cell_type": "code",
   "execution_count": 94,
   "metadata": {},
   "outputs": [
    {
     "name": "stdout",
     "output_type": "stream",
     "text": [
      "f1_score наилучшей модели классификатора случайного леса на валидационной выборке с downsampl: 0.573076923076923 , Глубина: 12 , Деревья: 30     AUC-ROC: 0.8320130608266201\n"
     ]
    }
   ],
   "source": [
    "best_model = None\n",
    "best_f1 = 0\n",
    "best_depth = 0\n",
    "best_est = 0\n",
    "for est in range(10, 101, 10):\n",
    "    for depth in range (1, 20):\n",
    "        model = RandomForestClassifier(random_state=12345, n_estimators=est, max_depth=depth, class_weight = 'balanced')\n",
    "        model.fit(features_downsampled, target_downsampled)\n",
    "        predicted_valid = model.predict(features_valid)\n",
    "        f1_metr = f1_score(target_valid, predicted_valid)\n",
    "        probabilities_valid = model.predict_proba(features_valid)\n",
    "        probabilities_one_valid = probabilities_valid[:, 1]\n",
    "        auc_roc = roc_auc_score(target_valid,probabilities_one_valid)\n",
    "        if f1_metr > best_f1:\n",
    "            best_model = model\n",
    "            best_f1 = f1_metr\n",
    "            best_est = est\n",
    "            best_depth = depth\n",
    "            auc = auc_roc\n",
    "print('f1_score наилучшей модели классификатора случайного леса на валидационной выборке с downsampl:', best_f1, \", Глубина:\", best_depth, ', Деревья:', best_est, \n",
    "      '    AUC-ROC:', auc)"
   ]
  },
  {
   "cell_type": "markdown",
   "metadata": {},
   "source": [
    "Результаты особо не изменились (а в случае с downsample даже стали не удовлетворять условию задания), тем не менее давайте их протестируем."
   ]
  },
  {
   "cell_type": "markdown",
   "metadata": {},
   "source": [
    "Попробуем с моделью наивного байесовского классификатора"
   ]
  },
  {
   "cell_type": "code",
   "execution_count": 101,
   "metadata": {},
   "outputs": [
    {
     "name": "stdout",
     "output_type": "stream",
     "text": [
      "f1_score модели метода наивного байесовского классификатора: 0.46357615894039733 AUC-ROC: 0.7282166604200502\n"
     ]
    }
   ],
   "source": [
    "model = GaussianNB()\n",
    "model.fit(features_downsampled, target_downsampled)\n",
    "predicted_valid = model.predict(features_valid)\n",
    "f1_metr = f1_score(target_valid, predicted_valid)\n",
    "probabilities_valid = model.predict_proba(features_valid)\n",
    "probabilities_one_valid = probabilities_valid[:, 1]\n",
    "auc = roc_auc_score(target_valid,probabilities_one_valid)\n",
    "print('f1_score модели метода наивного байесовского классификатора:', f1_metr, 'AUC-ROC:', auc)"
   ]
  },
  {
   "cell_type": "code",
   "execution_count": 102,
   "metadata": {},
   "outputs": [
    {
     "name": "stdout",
     "output_type": "stream",
     "text": [
      "f1_score модели метода наивного байесовского классификатора: 0.4680451127819549 AUC-ROC: 0.7288151016964577\n"
     ]
    }
   ],
   "source": [
    "model = GaussianNB()\n",
    "model.fit(features_upsampled, target_upsampled)\n",
    "predicted_valid = model.predict(features_valid)\n",
    "f1_metr = f1_score(target_valid, predicted_valid)\n",
    "probabilities_valid = model.predict_proba(features_valid)\n",
    "probabilities_one_valid = probabilities_valid[:, 1]\n",
    "auc = roc_auc_score(target_valid,probabilities_one_valid)\n",
    "print('f1_score модели метода наивного байесовского классификатора:', f1_metr, 'AUC-ROC:', auc)"
   ]
  },
  {
   "cell_type": "markdown",
   "metadata": {},
   "source": [
    "Стало в разы лучше, чем когда был дисбаланс, но к сожалению нам это не подходит."
   ]
  },
  {
   "cell_type": "markdown",
   "metadata": {},
   "source": [
    "### Вывод\n",
    "- Взвешивание классов с помощью class_weight дало необходимый результат с моделью случайного леса:\n",
    "f1_score = 0.6\n",
    "auc_roc = 0.84\n",
    "- Upsampling положительного класса дал необходимый результат с моделью случайного леса:\n",
    "f1_score = 0.6\n",
    "auc_roc = 0.83"
   ]
  },
  {
   "cell_type": "markdown",
   "metadata": {},
   "source": [
    "## Тестирование модели"
   ]
  },
  {
   "cell_type": "markdown",
   "metadata": {},
   "source": [
    "Тестируем модель классификатора случайного леса с использованием class_weight = 'balanced'"
   ]
  },
  {
   "cell_type": "code",
   "execution_count": 95,
   "metadata": {},
   "outputs": [
    {
     "name": "stdout",
     "output_type": "stream",
     "text": [
      "f1_score наилучшей модели классификатора случайного леса на тестовой выборке: 0.6566473988439306 AUC-ROC: 0.869557897079342\n"
     ]
    }
   ],
   "source": [
    "model = RandomForestClassifier(random_state=12345, n_estimators=100, max_depth=10, class_weight = 'balanced')\n",
    "model.fit(features_train,target_train)\n",
    "predicted_test = model.predict(features_test)\n",
    "f1_metr = f1_score(target_test, predicted_test)\n",
    "probabilities_test = model.predict_proba(features_test)\n",
    "probabilities_one_test = probabilities_test[:, 1]\n",
    "auc_roc = roc_auc_score(target_test,probabilities_one_test)\n",
    "print('f1_score наилучшей модели классификатора случайного леса на тестовой выборке:', f1_metr, 'AUC-ROC:', auc_roc)"
   ]
  },
  {
   "cell_type": "markdown",
   "metadata": {},
   "source": [
    "Тестируем модель классификатора случайного леса с использованием class_weight = 'balanced' и с сбалансированной обучающей выборкой на upsample"
   ]
  },
  {
   "cell_type": "code",
   "execution_count": 96,
   "metadata": {},
   "outputs": [
    {
     "name": "stdout",
     "output_type": "stream",
     "text": [
      "f1_score наилучшей модели классификатора случайного леса на тестовой выборке с upsample: 0.6417112299465242 AUC-ROC: 0.8667688582216618\n"
     ]
    }
   ],
   "source": [
    "model = RandomForestClassifier(random_state=12345, n_estimators=40, max_depth=10, class_weight = 'balanced')\n",
    "model.fit(features_upsampled, target_upsampled)\n",
    "predicted_test = model.predict(features_test)\n",
    "f1_metr = f1_score(target_test, predicted_test)\n",
    "probabilities_test = model.predict_proba(features_test)\n",
    "probabilities_one_test = probabilities_test[:, 1]\n",
    "auc_roc = roc_auc_score(target_test,probabilities_one_test)\n",
    "print('f1_score наилучшей модели классификатора случайного леса на тестовой выборке с upsample:', f1_metr, 'AUC-ROC:', auc_roc)"
   ]
  },
  {
   "cell_type": "markdown",
   "metadata": {},
   "source": [
    "### Вывод\n",
    "Удовлетворяющее заданию значение метрики f1 (на тестовой выборке) удалось получить только на модели случайного леса:\n",
    "c class_weight:\n",
    "f1_score = 0.66\n",
    "auc-roc = 0.87\n",
    "c upsampling:\n",
    "f1_score = 0.64\n",
    "auc-roc = 0.87"
   ]
  },
  {
   "cell_type": "markdown",
   "metadata": {},
   "source": [
    "## Общий вывод\n",
    "* Произведена обработка данных, которая дала следующие результаты:\n",
    "** Дубликатов нет. \n",
    "** Названия столбцов приведены к нижнему регистру.\n",
    "** Признаки `row_number`, `customer_id` и `surname` удалены, так как целевой признак от них никак не зависит.\n",
    "** Числовые признаки приведены к стандартному виду\n",
    "** Категориальные признаки преобразованы методом OHE.\n",
    "** Целевой признак распределён в сооотношении 1:4.\n",
    "** В признаке `tenure` заполнены пропущенные значения линейным методом интерполяции.\n",
    "* Произведена попытка построения моделей без балансировки классов и она дала следующие результаты:\n",
    "** Обучены модели \"Решающее Дерево\", \"Случайный лес\", \"k-ближайших соседей\" без учёта дисбаланса классов. Максимальное значение метрики `f1` = 0.55 получено при обучении модели случайного леса. Модель не удовлетворяет условию задания.\n",
    "** Качество моделей также оценено по метрике `roc_auc`. Максимальное значение метрики `roc_auc` = 0.83 достигнуто при обучении модели случайного леса.\n",
    "* Произведено обучение моделей с учетом балансировки классов различными методами:\n",
    "** Взвешивание классов с помощью class_weight дало необходимый результат с моделью случайного леса:\n",
    "f1_score = 0.6\n",
    "auc_roc = 0.84\n",
    "** Upsampling положительного класса дал необходимый результат с моделью случайного леса:\n",
    "f1_score = 0.6\n",
    "auc_roc = 0.83\n",
    "* Произведено финальное тестирование наиболее успешных моделей:\n",
    "** Удовлетворяющее заданию значение метрики f1 (на тестовой выборке) удалось получить только на модели случайного леса:\n",
    "* c class_weight:\n",
    "* f1_score = 0.66\n",
    "* auc-roc = 0.87\n",
    "* c upsampling:\n",
    "* f1_score = 0.64\n",
    "* auc-roc = 0.87"
   ]
  },
  {
   "cell_type": "markdown",
   "metadata": {},
   "source": [
    "## Чек-лист готовности проекта"
   ]
  },
  {
   "cell_type": "markdown",
   "metadata": {},
   "source": [
    "Поставьте 'x' в выполненных пунктах. Далее нажмите Shift+Enter."
   ]
  },
  {
   "cell_type": "markdown",
   "metadata": {},
   "source": [
    "- [x]  Jupyter Notebook открыт\n",
    "- [x]  Весь код выполняется без ошибок\n",
    "- [x]  Ячейки с кодом расположены в порядке исполнения\n",
    "- [x]  Выполнен шаг 1: данные подготовлены\n",
    "- [x]  Выполнен шаг 2: задача исследована\n",
    "    - [x]  Исследован баланс классов\n",
    "    - [x]  Изучены модели без учёта дисбаланса\n",
    "    - [x]  Написаны выводы по результатам исследования\n",
    "- [x]  Выполнен шаг 3: учтён дисбаланс\n",
    "    - [x]  Применено несколько способов борьбы с дисбалансом\n",
    "    - [x]  Написаны выводы по результатам исследования\n",
    "- [x]  Выполнен шаг 4: проведено тестирование\n",
    "- [x]  Удалось достичь *F1*-меры не менее 0.59\n",
    "- [x]  Исследована метрика *AUC-ROC*"
   ]
  }
 ],
 "metadata": {
  "ExecuteTimeLog": [
   {
    "duration": 1252,
    "start_time": "2023-07-21T05:46:23.849Z"
   },
   {
    "duration": 82,
    "start_time": "2023-07-21T05:46:25.102Z"
   },
   {
    "duration": 13,
    "start_time": "2023-07-21T05:46:25.185Z"
   },
   {
    "duration": 20,
    "start_time": "2023-07-21T05:46:25.418Z"
   },
   {
    "duration": 12,
    "start_time": "2023-07-21T05:46:26.333Z"
   },
   {
    "duration": 6,
    "start_time": "2023-07-21T05:46:30.898Z"
   },
   {
    "duration": 290,
    "start_time": "2023-07-21T05:49:20.944Z"
   },
   {
    "duration": 3,
    "start_time": "2023-07-21T05:52:15.049Z"
   },
   {
    "duration": 67,
    "start_time": "2023-07-21T05:52:15.068Z"
   },
   {
    "duration": 11,
    "start_time": "2023-07-21T05:52:15.137Z"
   },
   {
    "duration": 32,
    "start_time": "2023-07-21T05:52:15.149Z"
   },
   {
    "duration": 35,
    "start_time": "2023-07-21T05:52:15.183Z"
   },
   {
    "duration": 25,
    "start_time": "2023-07-21T05:52:15.220Z"
   },
   {
    "duration": 92,
    "start_time": "2023-07-21T05:52:15.250Z"
   },
   {
    "duration": 1575,
    "start_time": "2023-07-23T13:06:56.403Z"
   },
   {
    "duration": 96,
    "start_time": "2023-07-23T13:06:57.981Z"
   },
   {
    "duration": 14,
    "start_time": "2023-07-23T13:06:58.079Z"
   },
   {
    "duration": 43,
    "start_time": "2023-07-23T13:06:58.095Z"
   },
   {
    "duration": 536,
    "start_time": "2023-07-23T13:06:58.140Z"
   },
   {
    "duration": 329,
    "start_time": "2023-07-23T13:06:58.678Z"
   },
   {
    "duration": 24,
    "start_time": "2023-07-23T13:06:59.009Z"
   },
   {
    "duration": 1071,
    "start_time": "2023-07-24T06:10:24.770Z"
   },
   {
    "duration": 85,
    "start_time": "2023-07-24T06:10:25.843Z"
   },
   {
    "duration": 13,
    "start_time": "2023-07-24T06:10:25.930Z"
   },
   {
    "duration": 23,
    "start_time": "2023-07-24T06:10:25.945Z"
   },
   {
    "duration": 31,
    "start_time": "2023-07-24T06:10:25.970Z"
   },
   {
    "duration": 23,
    "start_time": "2023-07-24T06:10:26.003Z"
   },
   {
    "duration": 8,
    "start_time": "2023-07-24T06:10:26.028Z"
   },
   {
    "duration": 133,
    "start_time": "2023-07-24T06:10:26.038Z"
   },
   {
    "duration": 0,
    "start_time": "2023-07-24T06:10:26.173Z"
   },
   {
    "duration": 8,
    "start_time": "2023-07-24T06:10:52.855Z"
   },
   {
    "duration": 3,
    "start_time": "2023-07-24T06:11:49.382Z"
   },
   {
    "duration": 63,
    "start_time": "2023-07-24T06:11:49.387Z"
   },
   {
    "duration": 10,
    "start_time": "2023-07-24T06:11:49.451Z"
   },
   {
    "duration": 44,
    "start_time": "2023-07-24T06:11:49.462Z"
   },
   {
    "duration": 33,
    "start_time": "2023-07-24T06:11:49.508Z"
   },
   {
    "duration": 35,
    "start_time": "2023-07-24T06:11:49.543Z"
   },
   {
    "duration": 34,
    "start_time": "2023-07-24T06:11:49.580Z"
   },
   {
    "duration": 0,
    "start_time": "2023-07-24T06:11:49.615Z"
   },
   {
    "duration": 14,
    "start_time": "2023-07-24T06:12:12.221Z"
   },
   {
    "duration": 11,
    "start_time": "2023-07-24T06:12:28.322Z"
   },
   {
    "duration": 1063,
    "start_time": "2023-07-24T06:12:40.741Z"
   },
   {
    "duration": 39,
    "start_time": "2023-07-24T06:12:41.806Z"
   },
   {
    "duration": 10,
    "start_time": "2023-07-24T06:12:41.846Z"
   },
   {
    "duration": 22,
    "start_time": "2023-07-24T06:12:41.857Z"
   },
   {
    "duration": 10,
    "start_time": "2023-07-24T06:12:41.881Z"
   },
   {
    "duration": 5,
    "start_time": "2023-07-24T06:12:41.892Z"
   },
   {
    "duration": 104,
    "start_time": "2023-07-24T06:12:41.898Z"
   },
   {
    "duration": 0,
    "start_time": "2023-07-24T06:12:42.004Z"
   },
   {
    "duration": 3,
    "start_time": "2023-07-24T06:12:59.822Z"
   },
   {
    "duration": 5,
    "start_time": "2023-07-24T06:14:45.367Z"
   },
   {
    "duration": 66,
    "start_time": "2023-07-24T06:14:45.374Z"
   },
   {
    "duration": 10,
    "start_time": "2023-07-24T06:14:45.441Z"
   },
   {
    "duration": 41,
    "start_time": "2023-07-24T06:14:45.453Z"
   },
   {
    "duration": 359,
    "start_time": "2023-07-24T06:14:45.496Z"
   },
   {
    "duration": 0,
    "start_time": "2023-07-24T06:14:45.856Z"
   },
   {
    "duration": 0,
    "start_time": "2023-07-24T06:14:45.858Z"
   },
   {
    "duration": 0,
    "start_time": "2023-07-24T06:14:45.859Z"
   },
   {
    "duration": 0,
    "start_time": "2023-07-24T06:14:45.860Z"
   },
   {
    "duration": 6,
    "start_time": "2023-07-24T06:15:11.690Z"
   },
   {
    "duration": 4,
    "start_time": "2023-07-24T06:15:16.119Z"
   },
   {
    "duration": 1081,
    "start_time": "2023-07-24T06:15:25.448Z"
   },
   {
    "duration": 39,
    "start_time": "2023-07-24T06:15:26.531Z"
   },
   {
    "duration": 12,
    "start_time": "2023-07-24T06:15:26.571Z"
   },
   {
    "duration": 19,
    "start_time": "2023-07-24T06:15:26.584Z"
   },
   {
    "duration": 24,
    "start_time": "2023-07-24T06:15:26.605Z"
   },
   {
    "duration": 32,
    "start_time": "2023-07-24T06:15:26.630Z"
   },
   {
    "duration": 6,
    "start_time": "2023-07-24T06:15:26.663Z"
   },
   {
    "duration": 5,
    "start_time": "2023-07-24T06:15:26.670Z"
   },
   {
    "duration": 20,
    "start_time": "2023-07-24T06:15:26.676Z"
   },
   {
    "duration": 4,
    "start_time": "2023-07-24T06:19:23.207Z"
   },
   {
    "duration": 4,
    "start_time": "2023-07-24T06:19:33.916Z"
   },
   {
    "duration": 7,
    "start_time": "2023-07-24T06:19:37.323Z"
   },
   {
    "duration": 28,
    "start_time": "2023-07-24T06:23:17.818Z"
   },
   {
    "duration": 2017,
    "start_time": "2023-07-24T06:28:19.330Z"
   },
   {
    "duration": 4,
    "start_time": "2023-07-24T06:29:21.326Z"
   },
   {
    "duration": 1463,
    "start_time": "2023-07-24T06:29:26.777Z"
   },
   {
    "duration": 60,
    "start_time": "2023-07-25T11:03:31.686Z"
   },
   {
    "duration": 1898,
    "start_time": "2023-07-25T11:03:34.006Z"
   },
   {
    "duration": 126,
    "start_time": "2023-07-25T11:03:35.907Z"
   },
   {
    "duration": 19,
    "start_time": "2023-07-25T11:03:36.038Z"
   },
   {
    "duration": 74,
    "start_time": "2023-07-25T11:03:36.059Z"
   },
   {
    "duration": 17,
    "start_time": "2023-07-25T11:03:36.139Z"
   },
   {
    "duration": 11,
    "start_time": "2023-07-25T11:03:36.157Z"
   },
   {
    "duration": 19,
    "start_time": "2023-07-25T11:03:36.169Z"
   },
   {
    "duration": 7,
    "start_time": "2023-07-25T11:03:36.189Z"
   },
   {
    "duration": 40,
    "start_time": "2023-07-25T11:03:36.198Z"
   },
   {
    "duration": 3007,
    "start_time": "2023-07-25T11:03:36.240Z"
   },
   {
    "duration": 98,
    "start_time": "2023-07-25T11:03:39.250Z"
   },
   {
    "duration": 0,
    "start_time": "2023-07-25T11:03:39.349Z"
   },
   {
    "duration": 0,
    "start_time": "2023-07-25T11:03:39.352Z"
   },
   {
    "duration": 2377,
    "start_time": "2023-07-25T11:03:54.154Z"
   },
   {
    "duration": 1867,
    "start_time": "2023-07-25T11:04:10.434Z"
   },
   {
    "duration": 1943,
    "start_time": "2023-07-25T11:04:17.736Z"
   },
   {
    "duration": 2135,
    "start_time": "2023-07-25T11:04:23.697Z"
   },
   {
    "duration": 2172,
    "start_time": "2023-07-25T11:04:44.330Z"
   },
   {
    "duration": 148,
    "start_time": "2023-07-25T11:30:22.252Z"
   },
   {
    "duration": 23,
    "start_time": "2023-07-25T11:30:27.936Z"
   },
   {
    "duration": 140,
    "start_time": "2023-07-25T11:30:42.540Z"
   },
   {
    "duration": 1446,
    "start_time": "2023-07-25T11:31:16.240Z"
   },
   {
    "duration": 32,
    "start_time": "2023-07-25T11:31:28.509Z"
   },
   {
    "duration": 2772,
    "start_time": "2023-07-25T11:31:38.168Z"
   },
   {
    "duration": 2397,
    "start_time": "2023-07-25T11:31:52.149Z"
   },
   {
    "duration": 6,
    "start_time": "2023-07-25T13:47:14.150Z"
   },
   {
    "duration": 45,
    "start_time": "2023-07-25T13:47:14.159Z"
   },
   {
    "duration": 20,
    "start_time": "2023-07-25T13:47:14.207Z"
   },
   {
    "duration": 79,
    "start_time": "2023-07-25T13:47:14.229Z"
   },
   {
    "duration": 21,
    "start_time": "2023-07-25T13:47:14.313Z"
   },
   {
    "duration": 31,
    "start_time": "2023-07-25T13:47:14.338Z"
   },
   {
    "duration": 47,
    "start_time": "2023-07-25T13:47:14.371Z"
   },
   {
    "duration": 49,
    "start_time": "2023-07-25T13:47:14.423Z"
   },
   {
    "duration": 57,
    "start_time": "2023-07-25T13:47:14.474Z"
   },
   {
    "duration": 2677,
    "start_time": "2023-07-25T13:47:14.535Z"
   },
   {
    "duration": 2489,
    "start_time": "2023-07-25T13:47:17.218Z"
   },
   {
    "duration": 0,
    "start_time": "2023-07-25T13:47:19.717Z"
   },
   {
    "duration": 0,
    "start_time": "2023-07-25T13:47:19.718Z"
   },
   {
    "duration": 195,
    "start_time": "2023-07-25T13:47:59.034Z"
   },
   {
    "duration": 151,
    "start_time": "2023-07-25T13:48:13.035Z"
   },
   {
    "duration": 171,
    "start_time": "2023-07-25T13:48:28.331Z"
   },
   {
    "duration": 174,
    "start_time": "2023-07-25T13:48:43.603Z"
   },
   {
    "duration": 4,
    "start_time": "2023-07-25T13:50:31.948Z"
   },
   {
    "duration": 158,
    "start_time": "2023-07-25T13:50:31.955Z"
   },
   {
    "duration": 50,
    "start_time": "2023-07-25T13:50:32.114Z"
   },
   {
    "duration": 135,
    "start_time": "2023-07-25T13:50:32.168Z"
   },
   {
    "duration": 41,
    "start_time": "2023-07-25T13:50:32.305Z"
   },
   {
    "duration": 27,
    "start_time": "2023-07-25T13:50:32.348Z"
   },
   {
    "duration": 64,
    "start_time": "2023-07-25T13:50:32.377Z"
   },
   {
    "duration": 28,
    "start_time": "2023-07-25T13:50:32.446Z"
   },
   {
    "duration": 18,
    "start_time": "2023-07-25T13:50:32.477Z"
   },
   {
    "duration": 2593,
    "start_time": "2023-07-25T13:50:32.498Z"
   },
   {
    "duration": 187,
    "start_time": "2023-07-25T13:50:35.093Z"
   },
   {
    "duration": 195,
    "start_time": "2023-07-25T13:50:35.282Z"
   },
   {
    "duration": 5,
    "start_time": "2023-07-25T13:50:35.479Z"
   },
   {
    "duration": 14,
    "start_time": "2023-07-25T13:50:35.486Z"
   },
   {
    "duration": 153,
    "start_time": "2023-07-25T13:58:36.810Z"
   },
   {
    "duration": 153,
    "start_time": "2023-07-25T13:58:46.924Z"
   },
   {
    "duration": 162,
    "start_time": "2023-07-25T13:59:01.039Z"
   },
   {
    "duration": 173,
    "start_time": "2023-07-25T13:59:06.858Z"
   },
   {
    "duration": 2120,
    "start_time": "2023-07-25T14:00:12.042Z"
   },
   {
    "duration": 2263,
    "start_time": "2023-07-25T14:01:23.136Z"
   },
   {
    "duration": 14,
    "start_time": "2023-07-25T14:03:22.860Z"
   },
   {
    "duration": 4,
    "start_time": "2023-07-25T14:04:14.632Z"
   },
   {
    "duration": 64,
    "start_time": "2023-07-25T14:04:14.639Z"
   },
   {
    "duration": 23,
    "start_time": "2023-07-25T14:04:14.704Z"
   },
   {
    "duration": 62,
    "start_time": "2023-07-25T14:04:14.732Z"
   },
   {
    "duration": 41,
    "start_time": "2023-07-25T14:04:14.797Z"
   },
   {
    "duration": 44,
    "start_time": "2023-07-25T14:04:14.840Z"
   },
   {
    "duration": 80,
    "start_time": "2023-07-25T14:04:14.885Z"
   },
   {
    "duration": 7,
    "start_time": "2023-07-25T14:04:14.967Z"
   },
   {
    "duration": 10,
    "start_time": "2023-07-25T14:04:14.975Z"
   },
   {
    "duration": 2465,
    "start_time": "2023-07-25T14:04:14.987Z"
   },
   {
    "duration": 429,
    "start_time": "2023-07-25T14:04:17.454Z"
   },
   {
    "duration": 199,
    "start_time": "2023-07-25T14:04:17.885Z"
   },
   {
    "duration": 5,
    "start_time": "2023-07-25T14:04:18.086Z"
   },
   {
    "duration": 59,
    "start_time": "2023-07-25T14:04:18.108Z"
   },
   {
    "duration": 16,
    "start_time": "2023-07-25T14:05:55.954Z"
   },
   {
    "duration": 26,
    "start_time": "2023-07-25T14:06:09.518Z"
   },
   {
    "duration": 16,
    "start_time": "2023-07-25T14:06:12.854Z"
   },
   {
    "duration": 18,
    "start_time": "2023-07-25T14:06:18.403Z"
   },
   {
    "duration": 38,
    "start_time": "2023-07-25T14:06:25.103Z"
   },
   {
    "duration": 65,
    "start_time": "2023-07-25T14:09:09.499Z"
   },
   {
    "duration": 1703,
    "start_time": "2023-07-25T14:26:51.871Z"
   },
   {
    "duration": 49,
    "start_time": "2023-07-25T14:26:53.576Z"
   },
   {
    "duration": 15,
    "start_time": "2023-07-25T14:26:53.627Z"
   },
   {
    "duration": 99,
    "start_time": "2023-07-25T14:26:53.644Z"
   },
   {
    "duration": 17,
    "start_time": "2023-07-25T14:26:53.746Z"
   },
   {
    "duration": 37,
    "start_time": "2023-07-25T14:26:53.765Z"
   },
   {
    "duration": 55,
    "start_time": "2023-07-25T14:26:53.804Z"
   },
   {
    "duration": 21,
    "start_time": "2023-07-25T14:26:53.861Z"
   },
   {
    "duration": 47,
    "start_time": "2023-07-25T14:26:53.884Z"
   },
   {
    "duration": 2598,
    "start_time": "2023-07-25T14:26:53.933Z"
   },
   {
    "duration": 149,
    "start_time": "2023-07-25T14:26:56.532Z"
   },
   {
    "duration": 172,
    "start_time": "2023-07-25T14:26:56.683Z"
   },
   {
    "duration": 362,
    "start_time": "2023-07-25T14:26:56.857Z"
   },
   {
    "duration": 130,
    "start_time": "2023-07-25T14:26:57.223Z"
   },
   {
    "duration": 0,
    "start_time": "2023-07-25T14:26:57.355Z"
   },
   {
    "duration": 0,
    "start_time": "2023-07-25T14:26:57.356Z"
   },
   {
    "duration": 1459,
    "start_time": "2023-07-25T14:27:36.335Z"
   },
   {
    "duration": 54,
    "start_time": "2023-07-25T14:27:37.796Z"
   },
   {
    "duration": 18,
    "start_time": "2023-07-25T14:27:37.852Z"
   },
   {
    "duration": 52,
    "start_time": "2023-07-25T14:27:37.871Z"
   },
   {
    "duration": 15,
    "start_time": "2023-07-25T14:27:37.926Z"
   },
   {
    "duration": 33,
    "start_time": "2023-07-25T14:27:37.943Z"
   },
   {
    "duration": 40,
    "start_time": "2023-07-25T14:27:37.978Z"
   },
   {
    "duration": 11,
    "start_time": "2023-07-25T14:27:38.023Z"
   },
   {
    "duration": 25,
    "start_time": "2023-07-25T14:27:38.035Z"
   },
   {
    "duration": 2333,
    "start_time": "2023-07-25T14:27:38.062Z"
   },
   {
    "duration": 163,
    "start_time": "2023-07-25T14:27:40.397Z"
   },
   {
    "duration": 172,
    "start_time": "2023-07-25T14:27:40.562Z"
   },
   {
    "duration": 5,
    "start_time": "2023-07-25T14:27:40.736Z"
   },
   {
    "duration": 79,
    "start_time": "2023-07-25T14:27:40.743Z"
   },
   {
    "duration": 5,
    "start_time": "2023-07-25T14:27:40.824Z"
   },
   {
    "duration": 37,
    "start_time": "2023-07-25T14:27:40.830Z"
   },
   {
    "duration": 14,
    "start_time": "2023-07-25T14:30:30.602Z"
   },
   {
    "duration": 4,
    "start_time": "2023-07-25T15:22:47.242Z"
   },
   {
    "duration": 45,
    "start_time": "2023-07-25T15:22:47.249Z"
   },
   {
    "duration": 15,
    "start_time": "2023-07-25T15:22:47.296Z"
   },
   {
    "duration": 43,
    "start_time": "2023-07-25T15:22:47.312Z"
   },
   {
    "duration": 15,
    "start_time": "2023-07-25T15:22:47.357Z"
   },
   {
    "duration": 11,
    "start_time": "2023-07-25T15:22:47.373Z"
   },
   {
    "duration": 33,
    "start_time": "2023-07-25T15:22:47.386Z"
   },
   {
    "duration": 16,
    "start_time": "2023-07-25T15:22:47.421Z"
   },
   {
    "duration": 7,
    "start_time": "2023-07-25T15:22:47.439Z"
   },
   {
    "duration": 2197,
    "start_time": "2023-07-25T15:22:47.448Z"
   },
   {
    "duration": 163,
    "start_time": "2023-07-25T15:22:49.647Z"
   },
   {
    "duration": 184,
    "start_time": "2023-07-25T15:22:49.812Z"
   },
   {
    "duration": 13,
    "start_time": "2023-07-25T15:22:49.998Z"
   },
   {
    "duration": 75,
    "start_time": "2023-07-25T15:22:50.014Z"
   },
   {
    "duration": 5,
    "start_time": "2023-07-25T15:22:50.091Z"
   },
   {
    "duration": 26,
    "start_time": "2023-07-25T15:22:50.098Z"
   },
   {
    "duration": 22,
    "start_time": "2023-07-25T15:22:50.126Z"
   },
   {
    "duration": 133,
    "start_time": "2023-07-25T15:22:50.150Z"
   },
   {
    "duration": 0,
    "start_time": "2023-07-25T15:22:50.285Z"
   },
   {
    "duration": 0,
    "start_time": "2023-07-25T15:22:50.287Z"
   },
   {
    "duration": 0,
    "start_time": "2023-07-25T15:22:50.288Z"
   },
   {
    "duration": 4,
    "start_time": "2023-07-25T15:23:22.149Z"
   },
   {
    "duration": 14,
    "start_time": "2023-07-25T15:23:30.004Z"
   },
   {
    "duration": 16,
    "start_time": "2023-07-25T15:28:51.828Z"
   },
   {
    "duration": 14,
    "start_time": "2023-07-25T15:29:14.069Z"
   },
   {
    "duration": 14,
    "start_time": "2023-07-25T15:29:34.531Z"
   },
   {
    "duration": 15,
    "start_time": "2023-07-25T15:30:26.863Z"
   },
   {
    "duration": 11,
    "start_time": "2023-07-25T15:32:27.812Z"
   },
   {
    "duration": 12,
    "start_time": "2023-07-25T15:33:55.504Z"
   },
   {
    "duration": 15,
    "start_time": "2023-07-25T15:34:12.615Z"
   },
   {
    "duration": 1542,
    "start_time": "2023-07-25T15:34:25.970Z"
   },
   {
    "duration": 47,
    "start_time": "2023-07-25T15:34:27.514Z"
   },
   {
    "duration": 14,
    "start_time": "2023-07-25T15:34:27.563Z"
   },
   {
    "duration": 69,
    "start_time": "2023-07-25T15:34:27.579Z"
   },
   {
    "duration": 16,
    "start_time": "2023-07-25T15:34:27.651Z"
   },
   {
    "duration": 16,
    "start_time": "2023-07-25T15:34:27.669Z"
   },
   {
    "duration": 28,
    "start_time": "2023-07-25T15:34:27.687Z"
   },
   {
    "duration": 8,
    "start_time": "2023-07-25T15:34:27.717Z"
   },
   {
    "duration": 9,
    "start_time": "2023-07-25T15:34:27.727Z"
   },
   {
    "duration": 2270,
    "start_time": "2023-07-25T15:34:27.737Z"
   },
   {
    "duration": 163,
    "start_time": "2023-07-25T15:34:30.009Z"
   },
   {
    "duration": 205,
    "start_time": "2023-07-25T15:34:30.174Z"
   },
   {
    "duration": 109,
    "start_time": "2023-07-25T15:34:30.381Z"
   },
   {
    "duration": 205,
    "start_time": "2023-07-25T15:34:30.493Z"
   },
   {
    "duration": 76,
    "start_time": "2023-07-25T15:34:30.700Z"
   },
   {
    "duration": 45,
    "start_time": "2023-07-25T15:34:30.778Z"
   },
   {
    "duration": 55,
    "start_time": "2023-07-25T15:34:30.825Z"
   },
   {
    "duration": 303,
    "start_time": "2023-07-25T15:34:30.882Z"
   },
   {
    "duration": 0,
    "start_time": "2023-07-25T15:34:31.187Z"
   },
   {
    "duration": 0,
    "start_time": "2023-07-25T15:34:31.188Z"
   },
   {
    "duration": 0,
    "start_time": "2023-07-25T15:34:31.190Z"
   },
   {
    "duration": 6,
    "start_time": "2023-07-25T17:15:58.636Z"
   },
   {
    "duration": 56,
    "start_time": "2023-07-25T17:15:58.644Z"
   },
   {
    "duration": 21,
    "start_time": "2023-07-25T17:15:58.702Z"
   },
   {
    "duration": 61,
    "start_time": "2023-07-25T17:15:58.726Z"
   },
   {
    "duration": 15,
    "start_time": "2023-07-25T17:15:58.790Z"
   },
   {
    "duration": 40,
    "start_time": "2023-07-25T17:15:58.806Z"
   },
   {
    "duration": 23,
    "start_time": "2023-07-25T17:15:58.848Z"
   },
   {
    "duration": 7,
    "start_time": "2023-07-25T17:15:58.873Z"
   },
   {
    "duration": 10,
    "start_time": "2023-07-25T17:15:58.882Z"
   },
   {
    "duration": 2552,
    "start_time": "2023-07-25T17:15:58.894Z"
   },
   {
    "duration": 190,
    "start_time": "2023-07-25T17:16:01.448Z"
   },
   {
    "duration": 193,
    "start_time": "2023-07-25T17:16:01.640Z"
   },
   {
    "duration": 4,
    "start_time": "2023-07-25T17:16:01.836Z"
   },
   {
    "duration": 93,
    "start_time": "2023-07-25T17:16:01.844Z"
   },
   {
    "duration": 45,
    "start_time": "2023-07-25T17:16:01.942Z"
   },
   {
    "duration": 28,
    "start_time": "2023-07-25T17:16:01.989Z"
   },
   {
    "duration": 51,
    "start_time": "2023-07-25T17:16:02.023Z"
   },
   {
    "duration": 99,
    "start_time": "2023-07-25T17:16:02.076Z"
   },
   {
    "duration": 0,
    "start_time": "2023-07-25T17:16:02.178Z"
   },
   {
    "duration": 0,
    "start_time": "2023-07-25T17:16:02.179Z"
   },
   {
    "duration": 0,
    "start_time": "2023-07-25T17:16:02.181Z"
   },
   {
    "duration": 14,
    "start_time": "2023-07-25T17:21:32.556Z"
   },
   {
    "duration": 20,
    "start_time": "2023-07-25T17:40:08.535Z"
   },
   {
    "duration": 6,
    "start_time": "2023-07-25T17:41:13.417Z"
   },
   {
    "duration": 56,
    "start_time": "2023-07-25T17:41:13.426Z"
   },
   {
    "duration": 14,
    "start_time": "2023-07-25T17:41:13.484Z"
   },
   {
    "duration": 62,
    "start_time": "2023-07-25T17:41:13.501Z"
   },
   {
    "duration": 14,
    "start_time": "2023-07-25T17:41:13.565Z"
   },
   {
    "duration": 7,
    "start_time": "2023-07-25T17:41:13.581Z"
   },
   {
    "duration": 22,
    "start_time": "2023-07-25T17:41:13.590Z"
   },
   {
    "duration": 10,
    "start_time": "2023-07-25T17:41:13.613Z"
   },
   {
    "duration": 8,
    "start_time": "2023-07-25T17:41:13.625Z"
   },
   {
    "duration": 2336,
    "start_time": "2023-07-25T17:41:13.636Z"
   },
   {
    "duration": 176,
    "start_time": "2023-07-25T17:41:15.975Z"
   },
   {
    "duration": 175,
    "start_time": "2023-07-25T17:41:16.154Z"
   },
   {
    "duration": 5,
    "start_time": "2023-07-25T17:41:16.331Z"
   },
   {
    "duration": 43,
    "start_time": "2023-07-25T17:41:16.338Z"
   },
   {
    "duration": 7,
    "start_time": "2023-07-25T17:41:16.382Z"
   },
   {
    "duration": 33,
    "start_time": "2023-07-25T17:41:16.391Z"
   },
   {
    "duration": 18,
    "start_time": "2023-07-25T17:41:16.426Z"
   },
   {
    "duration": 21,
    "start_time": "2023-07-25T17:41:16.446Z"
   },
   {
    "duration": 0,
    "start_time": "2023-07-25T17:41:16.469Z"
   },
   {
    "duration": 0,
    "start_time": "2023-07-25T17:41:16.471Z"
   },
   {
    "duration": 0,
    "start_time": "2023-07-25T17:41:16.472Z"
   },
   {
    "duration": 4,
    "start_time": "2023-07-25T17:46:51.398Z"
   },
   {
    "duration": 16,
    "start_time": "2023-07-25T17:47:09.538Z"
   },
   {
    "duration": 4,
    "start_time": "2023-07-25T17:47:39.747Z"
   },
   {
    "duration": 63,
    "start_time": "2023-07-25T17:47:39.753Z"
   },
   {
    "duration": 14,
    "start_time": "2023-07-25T17:47:39.818Z"
   },
   {
    "duration": 67,
    "start_time": "2023-07-25T17:47:39.833Z"
   },
   {
    "duration": 44,
    "start_time": "2023-07-25T17:47:39.902Z"
   },
   {
    "duration": 13,
    "start_time": "2023-07-25T17:47:39.948Z"
   },
   {
    "duration": 37,
    "start_time": "2023-07-25T17:47:39.963Z"
   },
   {
    "duration": 11,
    "start_time": "2023-07-25T17:47:40.002Z"
   },
   {
    "duration": 36,
    "start_time": "2023-07-25T17:47:40.014Z"
   },
   {
    "duration": 2344,
    "start_time": "2023-07-25T17:47:40.052Z"
   },
   {
    "duration": 170,
    "start_time": "2023-07-25T17:47:42.397Z"
   },
   {
    "duration": 169,
    "start_time": "2023-07-25T17:47:42.569Z"
   },
   {
    "duration": 4,
    "start_time": "2023-07-25T17:47:42.740Z"
   },
   {
    "duration": 96,
    "start_time": "2023-07-25T17:47:42.747Z"
   },
   {
    "duration": 8,
    "start_time": "2023-07-25T17:47:42.845Z"
   },
   {
    "duration": 19,
    "start_time": "2023-07-25T17:47:42.855Z"
   },
   {
    "duration": 19,
    "start_time": "2023-07-25T17:47:42.876Z"
   },
   {
    "duration": 43,
    "start_time": "2023-07-25T17:47:42.896Z"
   },
   {
    "duration": 83,
    "start_time": "2023-07-25T17:47:42.941Z"
   },
   {
    "duration": 0,
    "start_time": "2023-07-25T17:47:43.026Z"
   },
   {
    "duration": 0,
    "start_time": "2023-07-25T17:47:43.028Z"
   },
   {
    "duration": 4,
    "start_time": "2023-07-25T17:48:19.455Z"
   },
   {
    "duration": 69,
    "start_time": "2023-07-25T17:48:19.462Z"
   },
   {
    "duration": 14,
    "start_time": "2023-07-25T17:48:19.533Z"
   },
   {
    "duration": 41,
    "start_time": "2023-07-25T17:48:19.549Z"
   },
   {
    "duration": 20,
    "start_time": "2023-07-25T17:48:19.608Z"
   },
   {
    "duration": 17,
    "start_time": "2023-07-25T17:48:19.630Z"
   },
   {
    "duration": 30,
    "start_time": "2023-07-25T17:48:19.649Z"
   },
   {
    "duration": 13,
    "start_time": "2023-07-25T17:48:19.681Z"
   },
   {
    "duration": 36,
    "start_time": "2023-07-25T17:48:19.696Z"
   },
   {
    "duration": 2439,
    "start_time": "2023-07-25T17:48:19.735Z"
   },
   {
    "duration": 180,
    "start_time": "2023-07-25T17:48:22.176Z"
   },
   {
    "duration": 179,
    "start_time": "2023-07-25T17:48:22.358Z"
   },
   {
    "duration": 5,
    "start_time": "2023-07-25T17:48:22.540Z"
   },
   {
    "duration": 55,
    "start_time": "2023-07-25T17:48:22.549Z"
   },
   {
    "duration": 13,
    "start_time": "2023-07-25T17:48:22.615Z"
   },
   {
    "duration": 11,
    "start_time": "2023-07-25T17:48:22.630Z"
   },
   {
    "duration": 10,
    "start_time": "2023-07-25T17:48:22.644Z"
   },
   {
    "duration": 26,
    "start_time": "2023-07-25T17:48:22.656Z"
   },
   {
    "duration": 2108,
    "start_time": "2023-07-25T17:48:22.684Z"
   },
   {
    "duration": 831,
    "start_time": "2023-07-25T17:48:24.793Z"
   },
   {
    "duration": 1736,
    "start_time": "2023-07-25T17:49:52.028Z"
   },
   {
    "duration": 52,
    "start_time": "2023-07-25T17:49:53.766Z"
   },
   {
    "duration": 37,
    "start_time": "2023-07-25T17:49:53.821Z"
   },
   {
    "duration": 64,
    "start_time": "2023-07-25T17:49:53.861Z"
   },
   {
    "duration": 32,
    "start_time": "2023-07-25T17:49:53.928Z"
   },
   {
    "duration": 33,
    "start_time": "2023-07-25T17:49:53.962Z"
   },
   {
    "duration": 58,
    "start_time": "2023-07-25T17:49:53.997Z"
   },
   {
    "duration": 14,
    "start_time": "2023-07-25T17:49:54.057Z"
   },
   {
    "duration": 14,
    "start_time": "2023-07-25T17:49:54.073Z"
   },
   {
    "duration": 2475,
    "start_time": "2023-07-25T17:49:54.088Z"
   },
   {
    "duration": 170,
    "start_time": "2023-07-25T17:49:56.565Z"
   },
   {
    "duration": 182,
    "start_time": "2023-07-25T17:49:56.737Z"
   },
   {
    "duration": 7,
    "start_time": "2023-07-25T17:49:56.921Z"
   },
   {
    "duration": 60,
    "start_time": "2023-07-25T17:49:56.931Z"
   },
   {
    "duration": 6,
    "start_time": "2023-07-25T17:49:56.993Z"
   },
   {
    "duration": 44,
    "start_time": "2023-07-25T17:49:57.001Z"
   },
   {
    "duration": 16,
    "start_time": "2023-07-25T17:49:57.047Z"
   },
   {
    "duration": 18,
    "start_time": "2023-07-25T17:49:57.068Z"
   },
   {
    "duration": 3,
    "start_time": "2023-07-25T17:49:57.088Z"
   },
   {
    "duration": 2078,
    "start_time": "2023-07-25T17:49:57.092Z"
   },
   {
    "duration": 886,
    "start_time": "2023-07-25T17:49:59.172Z"
   },
   {
    "duration": 1618,
    "start_time": "2023-07-25T17:52:15.456Z"
   },
   {
    "duration": 49,
    "start_time": "2023-07-25T17:52:17.076Z"
   },
   {
    "duration": 19,
    "start_time": "2023-07-25T17:52:17.134Z"
   },
   {
    "duration": 44,
    "start_time": "2023-07-25T17:52:17.155Z"
   },
   {
    "duration": 24,
    "start_time": "2023-07-25T17:52:17.202Z"
   },
   {
    "duration": 22,
    "start_time": "2023-07-25T17:52:17.229Z"
   },
   {
    "duration": 33,
    "start_time": "2023-07-25T17:52:17.253Z"
   },
   {
    "duration": 9,
    "start_time": "2023-07-25T17:52:17.288Z"
   },
   {
    "duration": 11,
    "start_time": "2023-07-25T17:52:17.299Z"
   },
   {
    "duration": 2323,
    "start_time": "2023-07-25T17:52:17.312Z"
   },
   {
    "duration": 159,
    "start_time": "2023-07-25T17:52:19.637Z"
   },
   {
    "duration": 164,
    "start_time": "2023-07-25T17:52:19.798Z"
   },
   {
    "duration": 5,
    "start_time": "2023-07-25T17:52:19.964Z"
   },
   {
    "duration": 66,
    "start_time": "2023-07-25T17:52:19.972Z"
   },
   {
    "duration": 8,
    "start_time": "2023-07-25T17:52:20.042Z"
   },
   {
    "duration": 26,
    "start_time": "2023-07-25T17:52:20.051Z"
   },
   {
    "duration": 29,
    "start_time": "2023-07-25T17:52:20.078Z"
   },
   {
    "duration": 46,
    "start_time": "2023-07-25T17:52:20.109Z"
   },
   {
    "duration": 4,
    "start_time": "2023-07-25T17:52:20.156Z"
   },
   {
    "duration": 624,
    "start_time": "2023-07-25T17:52:20.162Z"
   },
   {
    "duration": 177,
    "start_time": "2023-07-25T17:52:20.788Z"
   },
   {
    "duration": 61836,
    "start_time": "2023-07-25T17:52:20.967Z"
   },
   {
    "duration": 790,
    "start_time": "2023-07-25T18:00:21.203Z"
   },
   {
    "duration": 193,
    "start_time": "2023-07-25T18:00:25.056Z"
   },
   {
    "duration": 751,
    "start_time": "2023-07-25T18:00:55.533Z"
   },
   {
    "duration": 731,
    "start_time": "2023-07-25T18:01:17.340Z"
   },
   {
    "duration": 68761,
    "start_time": "2023-07-25T18:01:28.031Z"
   },
   {
    "duration": 199,
    "start_time": "2023-07-25T18:03:19.539Z"
   },
   {
    "duration": 180,
    "start_time": "2023-07-25T18:13:38.695Z"
   },
   {
    "duration": 188,
    "start_time": "2023-07-25T18:13:44.488Z"
   },
   {
    "duration": 188,
    "start_time": "2023-07-25T18:13:54.899Z"
   },
   {
    "duration": 189,
    "start_time": "2023-07-25T18:14:02.954Z"
   },
   {
    "duration": 65592,
    "start_time": "2023-07-25T18:14:14.003Z"
   },
   {
    "duration": 724,
    "start_time": "2023-07-25T18:15:19.597Z"
   },
   {
    "duration": 2322,
    "start_time": "2023-07-25T21:59:16.917Z"
   },
   {
    "duration": 642,
    "start_time": "2023-07-25T21:59:19.247Z"
   },
   {
    "duration": 35,
    "start_time": "2023-07-25T21:59:19.894Z"
   },
   {
    "duration": 57,
    "start_time": "2023-07-25T21:59:19.931Z"
   },
   {
    "duration": 31,
    "start_time": "2023-07-25T21:59:19.993Z"
   },
   {
    "duration": 11,
    "start_time": "2023-07-25T21:59:20.030Z"
   },
   {
    "duration": 37,
    "start_time": "2023-07-25T21:59:20.049Z"
   },
   {
    "duration": 13,
    "start_time": "2023-07-25T21:59:20.092Z"
   },
   {
    "duration": 10,
    "start_time": "2023-07-25T21:59:20.111Z"
   },
   {
    "duration": 3013,
    "start_time": "2023-07-25T21:59:20.130Z"
   },
   {
    "duration": 286,
    "start_time": "2023-07-25T21:59:23.150Z"
   },
   {
    "duration": 224,
    "start_time": "2023-07-25T21:59:23.438Z"
   },
   {
    "duration": 14,
    "start_time": "2023-07-25T21:59:23.665Z"
   },
   {
    "duration": 59,
    "start_time": "2023-07-25T21:59:23.691Z"
   },
   {
    "duration": 7,
    "start_time": "2023-07-25T21:59:23.752Z"
   },
   {
    "duration": 9,
    "start_time": "2023-07-25T21:59:23.760Z"
   },
   {
    "duration": 13,
    "start_time": "2023-07-25T21:59:23.771Z"
   },
   {
    "duration": 22,
    "start_time": "2023-07-25T21:59:23.786Z"
   },
   {
    "duration": 3,
    "start_time": "2023-07-25T21:59:23.809Z"
   },
   {
    "duration": 1098,
    "start_time": "2023-07-25T21:59:23.814Z"
   },
   {
    "duration": 275,
    "start_time": "2023-07-25T21:59:24.916Z"
   },
   {
    "duration": 82085,
    "start_time": "2023-07-25T21:59:25.195Z"
   },
   {
    "duration": 260,
    "start_time": "2023-07-25T22:00:47.289Z"
   },
   {
    "duration": 80980,
    "start_time": "2023-07-25T22:00:47.551Z"
   },
   {
    "duration": 3882,
    "start_time": "2023-07-26T06:55:01.022Z"
   },
   {
    "duration": 264,
    "start_time": "2023-07-26T06:55:04.910Z"
   },
   {
    "duration": 20,
    "start_time": "2023-07-26T06:55:05.176Z"
   },
   {
    "duration": 167,
    "start_time": "2023-07-26T06:55:05.199Z"
   },
   {
    "duration": 43,
    "start_time": "2023-07-26T06:55:05.374Z"
   },
   {
    "duration": 25,
    "start_time": "2023-07-26T06:55:05.429Z"
   },
   {
    "duration": 46,
    "start_time": "2023-07-26T06:55:05.456Z"
   },
   {
    "duration": 194,
    "start_time": "2023-07-26T06:55:05.504Z"
   },
   {
    "duration": 294,
    "start_time": "2023-07-26T06:55:05.701Z"
   },
   {
    "duration": 3815,
    "start_time": "2023-07-26T06:55:05.999Z"
   },
   {
    "duration": 386,
    "start_time": "2023-07-26T06:55:09.820Z"
   },
   {
    "duration": 500,
    "start_time": "2023-07-26T06:55:10.210Z"
   },
   {
    "duration": 9,
    "start_time": "2023-07-26T06:55:10.717Z"
   },
   {
    "duration": 135,
    "start_time": "2023-07-26T06:55:10.728Z"
   },
   {
    "duration": 12,
    "start_time": "2023-07-26T06:55:10.865Z"
   },
   {
    "duration": 32,
    "start_time": "2023-07-26T06:55:10.881Z"
   },
   {
    "duration": 53,
    "start_time": "2023-07-26T06:55:10.916Z"
   },
   {
    "duration": 36,
    "start_time": "2023-07-26T06:55:10.972Z"
   },
   {
    "duration": 3,
    "start_time": "2023-07-26T06:55:11.012Z"
   },
   {
    "duration": 1238,
    "start_time": "2023-07-26T06:55:11.017Z"
   },
   {
    "duration": 242,
    "start_time": "2023-07-26T06:55:12.262Z"
   },
   {
    "duration": 79610,
    "start_time": "2023-07-26T06:55:12.506Z"
   },
   {
    "duration": 249,
    "start_time": "2023-07-26T06:56:32.119Z"
   },
   {
    "duration": 74885,
    "start_time": "2023-07-26T06:56:32.383Z"
   },
   {
    "duration": 992,
    "start_time": "2023-07-26T07:12:15.080Z"
   },
   {
    "duration": 925,
    "start_time": "2023-07-26T07:12:42.214Z"
   },
   {
    "duration": 1904,
    "start_time": "2023-07-26T07:15:39.729Z"
   },
   {
    "duration": 52,
    "start_time": "2023-07-26T07:15:41.635Z"
   },
   {
    "duration": 27,
    "start_time": "2023-07-26T07:15:41.689Z"
   },
   {
    "duration": 58,
    "start_time": "2023-07-26T07:15:41.718Z"
   },
   {
    "duration": 25,
    "start_time": "2023-07-26T07:15:41.781Z"
   },
   {
    "duration": 109,
    "start_time": "2023-07-26T07:15:41.811Z"
   },
   {
    "duration": 18,
    "start_time": "2023-07-26T07:15:41.924Z"
   },
   {
    "duration": 7,
    "start_time": "2023-07-26T07:15:41.945Z"
   },
   {
    "duration": 37,
    "start_time": "2023-07-26T07:15:41.954Z"
   },
   {
    "duration": 2921,
    "start_time": "2023-07-26T07:15:41.996Z"
   },
   {
    "duration": 266,
    "start_time": "2023-07-26T07:15:44.920Z"
   },
   {
    "duration": 245,
    "start_time": "2023-07-26T07:15:45.194Z"
   },
   {
    "duration": 7,
    "start_time": "2023-07-26T07:15:45.448Z"
   },
   {
    "duration": 85,
    "start_time": "2023-07-26T07:15:45.462Z"
   },
   {
    "duration": 8,
    "start_time": "2023-07-26T07:15:45.549Z"
   },
   {
    "duration": 19,
    "start_time": "2023-07-26T07:15:45.559Z"
   },
   {
    "duration": 18,
    "start_time": "2023-07-26T07:15:45.581Z"
   },
   {
    "duration": 36,
    "start_time": "2023-07-26T07:15:45.601Z"
   },
   {
    "duration": 8,
    "start_time": "2023-07-26T07:15:45.639Z"
   },
   {
    "duration": 968,
    "start_time": "2023-07-26T07:15:45.651Z"
   },
   {
    "duration": 226,
    "start_time": "2023-07-26T07:15:46.621Z"
   },
   {
    "duration": 78699,
    "start_time": "2023-07-26T07:15:46.849Z"
   },
   {
    "duration": 277,
    "start_time": "2023-07-26T07:17:05.550Z"
   },
   {
    "duration": 77724,
    "start_time": "2023-07-26T07:17:05.829Z"
   },
   {
    "duration": 1027,
    "start_time": "2023-07-26T07:18:23.559Z"
   },
   {
    "duration": 906,
    "start_time": "2023-07-26T07:18:48.239Z"
   },
   {
    "duration": 881,
    "start_time": "2023-07-26T07:26:29.860Z"
   },
   {
    "duration": 28,
    "start_time": "2023-07-26T07:53:23.041Z"
   },
   {
    "duration": 17,
    "start_time": "2023-07-26T07:53:27.116Z"
   },
   {
    "duration": 27,
    "start_time": "2023-07-26T07:53:28.892Z"
   },
   {
    "duration": 1127,
    "start_time": "2023-07-26T07:53:31.025Z"
   },
   {
    "duration": 1183,
    "start_time": "2023-07-26T07:54:15.077Z"
   },
   {
    "duration": 1152,
    "start_time": "2023-07-26T07:54:27.114Z"
   },
   {
    "duration": 1205,
    "start_time": "2023-07-26T07:54:38.084Z"
   },
   {
    "duration": 900,
    "start_time": "2023-07-26T07:55:39.284Z"
   },
   {
    "duration": 47,
    "start_time": "2023-07-26T07:56:14.016Z"
   },
   {
    "duration": 16,
    "start_time": "2023-07-26T07:56:20.125Z"
   },
   {
    "duration": 30,
    "start_time": "2023-07-26T07:56:26.746Z"
   },
   {
    "duration": 971,
    "start_time": "2023-07-26T07:56:30.496Z"
   },
   {
    "duration": 883,
    "start_time": "2023-07-26T07:56:34.416Z"
   },
   {
    "duration": 26,
    "start_time": "2023-07-26T07:56:48.943Z"
   },
   {
    "duration": 32,
    "start_time": "2023-07-26T07:56:50.451Z"
   },
   {
    "duration": 1200,
    "start_time": "2023-07-26T07:56:52.803Z"
   },
   {
    "duration": 707,
    "start_time": "2023-07-26T07:56:54.565Z"
   },
   {
    "duration": 31,
    "start_time": "2023-07-26T07:57:13.140Z"
   },
   {
    "duration": 23,
    "start_time": "2023-07-26T07:57:14.613Z"
   },
   {
    "duration": 960,
    "start_time": "2023-07-26T07:57:19.892Z"
   },
   {
    "duration": 795,
    "start_time": "2023-07-26T07:57:21.876Z"
   },
   {
    "duration": 294,
    "start_time": "2023-07-26T07:59:41.044Z"
   },
   {
    "duration": 305,
    "start_time": "2023-07-26T07:59:42.902Z"
   },
   {
    "duration": 207,
    "start_time": "2023-07-26T08:00:33.212Z"
   },
   {
    "duration": 325,
    "start_time": "2023-07-26T08:00:36.694Z"
   },
   {
    "duration": 1366,
    "start_time": "2023-07-26T08:02:43.445Z"
   },
   {
    "duration": 942,
    "start_time": "2023-07-26T08:03:06.604Z"
   },
   {
    "duration": 118409,
    "start_time": "2023-07-26T08:05:04.075Z"
   },
   {
    "duration": 52364,
    "start_time": "2023-07-26T08:07:02.499Z"
   },
   {
    "duration": 542,
    "start_time": "2023-07-26T08:13:40.440Z"
   },
   {
    "duration": 228,
    "start_time": "2023-07-26T08:13:42.721Z"
   },
   {
    "duration": 53,
    "start_time": "2023-07-26T08:18:30.385Z"
   },
   {
    "duration": 27,
    "start_time": "2023-07-26T08:18:33.184Z"
   },
   {
    "duration": 44,
    "start_time": "2023-07-26T08:18:52.802Z"
   },
   {
    "duration": 44,
    "start_time": "2023-07-26T08:18:54.679Z"
   },
   {
    "duration": 6,
    "start_time": "2023-07-26T08:46:55.288Z"
   },
   {
    "duration": 60,
    "start_time": "2023-07-26T08:46:55.297Z"
   },
   {
    "duration": 19,
    "start_time": "2023-07-26T08:46:55.360Z"
   },
   {
    "duration": 57,
    "start_time": "2023-07-26T08:46:55.381Z"
   },
   {
    "duration": 37,
    "start_time": "2023-07-26T08:46:55.441Z"
   },
   {
    "duration": 9,
    "start_time": "2023-07-26T08:46:55.481Z"
   },
   {
    "duration": 32,
    "start_time": "2023-07-26T08:46:55.492Z"
   },
   {
    "duration": 9,
    "start_time": "2023-07-26T08:46:55.526Z"
   },
   {
    "duration": 18,
    "start_time": "2023-07-26T08:46:55.537Z"
   },
   {
    "duration": 2511,
    "start_time": "2023-07-26T08:46:55.557Z"
   },
   {
    "duration": 169,
    "start_time": "2023-07-26T08:46:58.070Z"
   },
   {
    "duration": 192,
    "start_time": "2023-07-26T08:46:58.241Z"
   },
   {
    "duration": 8,
    "start_time": "2023-07-26T08:46:58.435Z"
   },
   {
    "duration": 53,
    "start_time": "2023-07-26T08:46:58.445Z"
   },
   {
    "duration": 5,
    "start_time": "2023-07-26T08:46:58.500Z"
   },
   {
    "duration": 9,
    "start_time": "2023-07-26T08:46:58.507Z"
   },
   {
    "duration": 15,
    "start_time": "2023-07-26T08:46:58.517Z"
   },
   {
    "duration": 43,
    "start_time": "2023-07-26T08:46:58.534Z"
   },
   {
    "duration": 15,
    "start_time": "2023-07-26T08:46:58.580Z"
   },
   {
    "duration": 748,
    "start_time": "2023-07-26T08:46:58.598Z"
   },
   {
    "duration": 206,
    "start_time": "2023-07-26T08:46:59.348Z"
   },
   {
    "duration": 73082,
    "start_time": "2023-07-26T08:46:59.559Z"
   },
   {
    "duration": 223,
    "start_time": "2023-07-26T08:48:12.643Z"
   },
   {
    "duration": 73117,
    "start_time": "2023-07-26T08:48:12.868Z"
   },
   {
    "duration": 17,
    "start_time": "2023-07-26T08:49:25.987Z"
   },
   {
    "duration": 14,
    "start_time": "2023-07-26T08:49:26.006Z"
   },
   {
    "duration": 925,
    "start_time": "2023-07-26T08:49:26.022Z"
   },
   {
    "duration": 711,
    "start_time": "2023-07-26T08:49:26.950Z"
   },
   {
    "duration": 153,
    "start_time": "2023-07-26T08:49:27.670Z"
   },
   {
    "duration": 362,
    "start_time": "2023-07-26T08:49:27.826Z"
   },
   {
    "duration": 98437,
    "start_time": "2023-07-26T08:49:28.190Z"
   },
   {
    "duration": 42479,
    "start_time": "2023-07-26T08:51:06.630Z"
   },
   {
    "duration": 797,
    "start_time": "2023-07-26T08:51:49.111Z"
   },
   {
    "duration": 501,
    "start_time": "2023-07-26T08:51:49.910Z"
   },
   {
    "duration": 6,
    "start_time": "2023-07-26T08:57:12.944Z"
   },
   {
    "duration": 32,
    "start_time": "2023-07-26T08:59:58.349Z"
   },
   {
    "duration": 19,
    "start_time": "2023-07-26T09:01:01.845Z"
   },
   {
    "duration": 20,
    "start_time": "2023-07-26T09:01:14.520Z"
   },
   {
    "duration": 18,
    "start_time": "2023-07-26T09:03:46.724Z"
   },
   {
    "duration": 30,
    "start_time": "2023-07-26T09:03:48.473Z"
   }
  ],
  "kernelspec": {
   "display_name": "Python 3 (ipykernel)",
   "language": "python",
   "name": "python3"
  },
  "language_info": {
   "codemirror_mode": {
    "name": "ipython",
    "version": 3
   },
   "file_extension": ".py",
   "mimetype": "text/x-python",
   "name": "python",
   "nbconvert_exporter": "python",
   "pygments_lexer": "ipython3",
   "version": "3.9.5"
  },
  "toc": {
   "base_numbering": 1,
   "nav_menu": {},
   "number_sections": true,
   "sideBar": true,
   "skip_h1_title": true,
   "title_cell": "Содержание",
   "title_sidebar": "Contents",
   "toc_cell": true,
   "toc_position": {
    "height": "calc(100% - 180px)",
    "left": "10px",
    "top": "150px",
    "width": "327.083px"
   },
   "toc_section_display": true,
   "toc_window_display": true
  }
 },
 "nbformat": 4,
 "nbformat_minor": 2
}
